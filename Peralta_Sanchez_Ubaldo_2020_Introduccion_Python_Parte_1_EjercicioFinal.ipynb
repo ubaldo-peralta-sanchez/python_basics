{
 "cells": [
  {
   "cell_type": "markdown",
   "metadata": {},
   "source": [
    "----\n",
    "# Entregable 1 - 2020/21\n",
    "----"
   ]
  },
  {
   "cell_type": "markdown",
   "metadata": {},
   "source": [
    "# Instrucciones\n",
    "\n",
    "* Introduce tu nombre y tus apellidos en la siguiente celda (reemplaza los que pone por el tuyo y tu email).\n",
    "* Renombra el fichero agregando tus apellidos y nombre (en ese orden) al principio para su entrega. Por ejemplo, Martinez_Garcia_Juan_2019_Introduccion_Python_Parte_1_EjercicioFinal.\n",
    "* Lee atentamente las instrucciones de cada bloque, completa los ejercicios y sube el notebook a ADI."
   ]
  },
  {
   "cell_type": "markdown",
   "metadata": {},
   "source": [
    "**Nombre:** Ubaldo  \n",
    "**Apellidos:** Peralta Sánchez  \n",
    "**Email:** uperaltasan@alumni.unav.es "
   ]
  },
  {
   "cell_type": "markdown",
   "metadata": {},
   "source": [
    "En este un ejercicio revisaremos los conceptos de Python que hemos visto en las sesiones 1 a 4. Se evaluará la correcta ejecución, así como la originalidad y enfoques utilizados para la resolución de los ejercicio.\n",
    "\n",
    "Responde a las preguntas formuladas o completa las tareas indicadas en negrita debajo, utilizar el método indicado si aplica.\n"
   ]
  },
  {
   "cell_type": "markdown",
   "metadata": {},
   "source": [
    "# Ejercicios\n",
    "\n",
    " \n",
    "   \n",
    "    \n",
    "\n",
    "**Evalúa con Python cuánto es 7 elevado a 4 (0.25 puntos)**"
   ]
  },
  {
   "cell_type": "code",
   "execution_count": 84,
   "metadata": {},
   "outputs": [],
   "source": [
    "\"\"\"\n",
    "@author: Ubaldo Peralta Sánchez\n",
    "\"\"\"\n",
    "\n",
    "# import used libraries in this notebook\n",
    "import pandas as pd\n",
    "import unicodedata as uc"
   ]
  },
  {
   "cell_type": "code",
   "execution_count": 113,
   "metadata": {},
   "outputs": [],
   "source": [
    "\"\"\"Defining control functions\"\"\"\n",
    "\n",
    "\n",
    "def prove_numeric(n,*args):\n",
    "    \"\"\"¿are params numeric values? let's see\n",
    "\n",
    "    Parameters\n",
    "    ----------\n",
    "    n : integer\n",
    "        value compared to int and float\n",
    "        \n",
    "    *args : integer, optional\n",
    "        optionals values to be compared to int and float\n",
    "    \"\"\"\n",
    "    numbers = list(args)\n",
    "    numbers.append(n)\n",
    "    for n in numbers:\n",
    "        if not isinstance(n, (int,float)):\n",
    "            raise TypeError(f'Expected numeric value. Recieved {type(n)}')\n",
    "\n",
    "\n",
    "def prove_boolean(n):\n",
    "    if not isinstance(n, bool):\n",
    "        raise TypeError(f'Expected boolean value. Recieved {type(n)}')\n",
    "\n",
    "\n",
    "def prove_string(n,*args):\n",
    "    \"\"\"¿are params strings? let's see\n",
    "\n",
    "    Parameters\n",
    "    ----------\n",
    "    n : str\n",
    "        value compared to str\n",
    "        \n",
    "    *args : str, optional\n",
    "        optionals values to be compared to str\n",
    "    \"\"\"\n",
    "    numbers = list(args)\n",
    "    numbers.append(n)\n",
    "    for n in numbers:\n",
    "        if not isinstance(n, str):\n",
    "            raise TypeError(f'Expected string value. Recieved {type(n)}')\n"
   ]
  },
  {
   "cell_type": "code",
   "execution_count": 112,
   "metadata": {},
   "outputs": [
    {
     "name": "stdout",
     "output_type": "stream",
     "text": [
      "2401\n"
     ]
    }
   ],
   "source": [
    "def fourthpower(n):\n",
    "    \"\"\"returning fourth power of a number.\n",
    "\n",
    "    Parameters\n",
    "    ----------\n",
    "    n : integer\n",
    "        The integer that is going to be raised fourth\n",
    "\n",
    "    Returns\n",
    "    -------\n",
    "    n : integer\n",
    "        number raised fourth\n",
    "    \"\"\"\n",
    "    prove_numeric(n)\n",
    "    return n ** 4\n",
    "\n",
    "\n",
    "print(fourthpower(7))\n"
   ]
  },
  {
   "cell_type": "markdown",
   "metadata": {},
   "source": [
    "**Convierte el string** s = \"Hola, Pedro ¿que tal?\" **en una lista. (0.25 puntos)**"
   ]
  },
  {
   "cell_type": "code",
   "execution_count": 4,
   "metadata": {},
   "outputs": [
    {
     "name": "stdout",
     "output_type": "stream",
     "text": [
      "['H', 'o', 'l', 'a', ',', ' ', 'P', 'e', 'd', 'r', 'o', ' ', '¿', 'q', 'u', 'e', ' ', 't', 'a', 'l', '?']\n"
     ]
    }
   ],
   "source": [
    "s = \"Hola, Pedro ¿que tal?\"\n",
    "\n",
    "\n",
    "def list_generato(chain):\n",
    "    prove_string(chain)\n",
    "    return list(s)\n",
    "\n",
    "\n",
    "print(list_generato(s))\n"
   ]
  },
  {
   "cell_type": "markdown",
   "metadata": {},
   "source": [
    "**Dadas las variables:** planeta = \"Tierra\" **y** diametro = 12742 **, usa tres métodos diferentes (ej. .format(), una f'string, etc) para obtener el siguiente string:**  *El diametro de la Tierra es 12742 kilometros.* **(0.5 puntos)**"
   ]
  },
  {
   "cell_type": "code",
   "execution_count": 6,
   "metadata": {},
   "outputs": [
    {
     "name": "stdout",
     "output_type": "stream",
     "text": [
      "el diametro de la Tierra es 12742 km\n",
      "el diametro de la Tierra es 12742 km\n",
      "el diametro de la Tierra es 12742 km\n"
     ]
    }
   ],
   "source": [
    "planeta = 'Tierra'\n",
    "diametro = 12742\n",
    "print(f'el diametro de la {planeta} es {diametro} km')\n",
    "print(\"el diametro de la {} es {} km\".format(planeta,diametro))\n",
    "print(\"el diametro de la \"+ planeta + \" es \" + str(diametro) + \" km\")\n"
   ]
  },
  {
   "cell_type": "markdown",
   "metadata": {},
   "source": [
    "**Dada la lista** *lst,* **utiliza la indexación para obtener la palabra \"hola\" (0.25 puntos) y cambia el valor** *23* **por 25 (0.25 puntos)**"
   ]
  },
  {
   "cell_type": "code",
   "execution_count": 6,
   "metadata": {},
   "outputs": [],
   "source": [
    "lst = [1,2,[3,4],[5,[100,200,['hola']],23,11],1,7]"
   ]
  },
  {
   "cell_type": "code",
   "execution_count": 7,
   "metadata": {},
   "outputs": [
    {
     "name": "stdout",
     "output_type": "stream",
     "text": [
      "hola\n"
     ]
    }
   ],
   "source": [
    "hola_str = lst[3][1][2][0]\n",
    "print(hola_str)\n"
   ]
  },
  {
   "cell_type": "code",
   "execution_count": 8,
   "metadata": {},
   "outputs": [
    {
     "data": {
      "text/plain": [
       "[1, 2, [3, 4], [5, [100, 200, ['hola']], 25, 11], 1, 7]"
      ]
     },
     "execution_count": 8,
     "metadata": {},
     "output_type": "execute_result"
    }
   ],
   "source": [
    "lst[3][2] = 25  # accessing to 23 value position and setting 25\n",
    "lst\n"
   ]
  },
  {
   "cell_type": "markdown",
   "metadata": {},
   "source": [
    "**Dado el siguiente diccionario anidado, obtener la palabra \"hola\" (0.25 puntos) y cambia** *mentira* **por** *verdad* **(0.25 puntos)**"
   ]
  },
  {
   "cell_type": "code",
   "execution_count": 9,
   "metadata": {},
   "outputs": [],
   "source": [
    "d = {'k1':[1,2,3,{'gracioso':['oh','no','mentira',{'destino':[1,2,3,'hola']}]}]}"
   ]
  },
  {
   "cell_type": "code",
   "execution_count": 10,
   "metadata": {},
   "outputs": [
    {
     "data": {
      "text/plain": [
       "'hola'"
      ]
     },
     "execution_count": 10,
     "metadata": {},
     "output_type": "execute_result"
    }
   ],
   "source": [
    "d['k1'][3][\"gracioso\"][3][\"destino\"][3]"
   ]
  },
  {
   "cell_type": "code",
   "execution_count": 11,
   "metadata": {},
   "outputs": [
    {
     "data": {
      "text/plain": [
       "{'k1': [1,\n",
       "  2,\n",
       "  3,\n",
       "  {'gracioso': ['oh', 'no', 'verdad', {'destino': [1, 2, 3, 'hola']}]}]}"
      ]
     },
     "execution_count": 11,
     "metadata": {},
     "output_type": "execute_result"
    }
   ],
   "source": [
    "d['k1'][3][\"gracioso\"][2] = \"verdad\"\n",
    "d\n"
   ]
  },
  {
   "cell_type": "markdown",
   "metadata": {},
   "source": [
    "**¿Cúales son las principales diferencias entre una tupla, una lista y un set? (0.25 puntos). Pon un ejemplo de cada uno de ellos (0.25 puntos)**"
   ]
  },
  {
   "cell_type": "code",
   "execution_count": 40,
   "metadata": {},
   "outputs": [
    {
     "name": "stdout",
     "output_type": "stream",
     "text": [
      "<class 'tuple'>\n",
      "<class 'list'>\n",
      "<class 'set'>\n"
     ]
    }
   ],
   "source": [
    "\"\"\"\n",
    "Las tuplas son inmutables, permiten duplicados y ordenadas\n",
    "Las listas son mutables, permiten diplicados y ordenadas\n",
    "Los sets son mutables, no permiten duplicados y no están ordenados\n",
    "\"\"\"\n",
    "tupla = (1,2)\n",
    "lista = [1,2]\n",
    "conjunto = {1,2}\n",
    "\n",
    "print(type(tupla))  # tupla\n",
    "print(type(lista))  # lista\n",
    "print(type(conjunto))  # sets\n"
   ]
  },
  {
   "cell_type": "code",
   "execution_count": 41,
   "metadata": {},
   "outputs": [
    {
     "name": "stdout",
     "output_type": "stream",
     "text": [
      "(1, 2) Las\u001b[1m Tuplas\u001b[0m son inmutables\n",
      "[1, 2, 3] Las\u001b[1m Listas\u001b[0m son inmutables\n",
      "{1, 2, 3} Los\u001b[1m Sets\u001b[0m son inmutables\n"
     ]
    }
   ],
   "source": [
    "\"\"\"No existe un método para \n",
    "agregar elementos a la tupla ya que es inmutable\"\"\"\n",
    "lista.append(3)  # las listas son mutables\n",
    "conjunto.add(3)  # los sets son mutables\n",
    "\n",
    "\n",
    "print(f\"{tupla} Las\" + bon + \" Tuplas\" + boff + \" son inmutables\")\n",
    "print(f\"{lista} Las\" + bon + \" Listas\" + boff + \" son inmutables\")\n",
    "print(f\"{conjunto} Los\" + bon + \" Sets\" + boff + \" son inmutables\")"
   ]
  },
  {
   "cell_type": "code",
   "execution_count": 34,
   "metadata": {},
   "outputs": [
    {
     "name": "stdout",
     "output_type": "stream",
     "text": [
      "(1, 2, 1) Las\u001b[1m Tuplas\u001b[0m soportan duplicados\n",
      "[1, 2, 1] Las\u001b[1m Listas\u001b[0m soportan duplicados\n",
      "{1, 2}    Los\u001b[1m Sets\u001b[0m no permiten duplicados\n"
     ]
    }
   ],
   "source": [
    "tupla = (1,2,1)\n",
    "lista = [1,2,1]\n",
    "conjunto = {1,2,1}\n",
    "\n",
    "bon = \"\\033[1m\"\n",
    "boff = \"\\033[0m\"\n",
    "\n",
    "print(f\"{tupla} Las\" + bon + \" Tuplas\" + boff + \" soportan duplicados\")  # soportan duplicados\n",
    "print(f\"{lista} Las\" + bon + \" Listas\" + boff + \" soportan duplicados\")  # soportan duplicados\n",
    "print(f\"{conjunto}    Los\" + bon + \" Sets\" + boff + \" no permiten duplicados\")  # no permiten duplicados\n"
   ]
  },
  {
   "cell_type": "code",
   "execution_count": 35,
   "metadata": {},
   "outputs": [
    {
     "name": "stdout",
     "output_type": "stream",
     "text": [
      "False\n",
      "False\n",
      "True\n"
     ]
    }
   ],
   "source": [
    "print((1,2) == (2,1))  # Las tuplas están ordenadas\n",
    "print([1,2] == [2,1])  # Las listas están ordenadas\n",
    "print({1, 2} == {2, 1})  # Los sets no están ordenadas\n"
   ]
  },
  {
   "cell_type": "markdown",
   "metadata": {},
   "source": [
    "**Crear una función que obtenga el dominio de una dirección de correo electrónico, por ejemplo, pasando** *user@domain.com* **debería devolver**  *domain.com* **(0.5 puntos)**"
   ]
  },
  {
   "cell_type": "code",
   "execution_count": 49,
   "metadata": {},
   "outputs": [
    {
     "data": {
      "text/plain": [
       "'alumni.unav.es'"
      ]
     },
     "execution_count": 49,
     "metadata": {},
     "output_type": "execute_result"
    }
   ],
   "source": [
    "def domain(email):\n",
    "    \"\"\"returns the domain of an email\n",
    "\n",
    "    Parameters\n",
    "    ----------\n",
    "    email : str\n",
    "        An email\n",
    "\n",
    "    Returns\n",
    "    -------\n",
    "    domain : str \n",
    "        the domain of the email\n",
    "    \"\"\"\n",
    "    prove_string(email)\n",
    "    return email[email.find('@') + 1:]\n",
    "\n",
    "\n",
    "domain(\"uperaltasan@alumni.unav.es\")\n"
   ]
  },
  {
   "cell_type": "markdown",
   "metadata": {},
   "source": [
    "**Escribir una función que devuelva** *True* **si la palabra** *'perro'* **se encuentra contenida dentro del string suministrado (Ten en cuenta también que puede estar en mayúsculas y/o minúsculas) (0.5 puntos)**"
   ]
  },
  {
   "cell_type": "code",
   "execution_count": 50,
   "metadata": {},
   "outputs": [
    {
     "name": "stdout",
     "output_type": "stream",
     "text": [
      "True\n",
      "True\n",
      "False\n"
     ]
    }
   ],
   "source": [
    "def contains_perro(chain):\n",
    "    \"\"\"returns true if the input string contains 'Perro'\n",
    "\n",
    "    Parameters\n",
    "    ----------\n",
    "    chain : str\n",
    "        a string\n",
    "\n",
    "    Returns\n",
    "    -------\n",
    "    boolean : boolean\n",
    "    \"\"\"\n",
    "    prove_string(chain)\n",
    "    if \"perro\" in chain.lower():\n",
    "        return True\n",
    "    else:\n",
    "        return False\n",
    "\n",
    "\n",
    "print(contains_perro(\"El Perro se escapó de casa\"))\n",
    "print(contains_perro(\"El perro se escapó de casa\"))\n",
    "print(contains_perro(\"El gato se escapó de casa\"))\n"
   ]
  },
  {
   "cell_type": "markdown",
   "metadata": {},
   "source": [
    "**Utilizar una expersión lambda y el método filter() para filtrar las palabras de una lista que no comienzen con la letra 's'. Por ejemplo:** *secuencia = ['sarten', 'silla', 'gato', 'genial', 'pastilla'],*  **debería filtrarse a:** *['sarten', 'silla']* **(1 puntos)**"
   ]
  },
  {
   "cell_type": "code",
   "execution_count": 83,
   "metadata": {},
   "outputs": [
    {
     "name": "stdout",
     "output_type": "stream",
     "text": [
      "['sarten', 'silla']\n",
      "['Sarten', 'silla', 'gato', 'genial', 'pastilla']\n"
     ]
    }
   ],
   "source": [
    "secuencia = ['Sarten', 'silla', 'gato', 'genial', 'pastilla']\n",
    "\n",
    "\n",
    "def prove_single_letter(letter):\n",
    "    if not isinstance(letter, str):\n",
    "        raise TypeError(f'Expected string value. Recieved {type(letter)}')\n",
    "\n",
    "    if len(letter) > 1:\n",
    "        raise ValueError(f'Expected length of 1. Recieved {len(letter)}')\n",
    "\n",
    "    if letter.isdigit():\n",
    "        raise ValueError(f'Expected a letter. Recieved \"{letter}\"')\n",
    "\n",
    "\n",
    "def s_ini_words(words, letter):\n",
    "    \"\"\"Return the starting words with s\n",
    "\n",
    "    Parameters\n",
    "    ----------\n",
    "    words : list\n",
    "        list of words\n",
    "\n",
    "    Returns\n",
    "    -------\n",
    "    s_words : list of starting s words\n",
    "    \"\"\"\n",
    "    prove_single_letter(letter)\n",
    "\n",
    "    for word in words:\n",
    "        prove_string(word)  # are all values in array str?\n",
    "\n",
    "    s_words = list(word for word in filter(lambda x: x.startswith(\n",
    "        letter.lower()), map(lambda x: x.lower(), words)))\n",
    "    return s_words\n",
    "\n",
    "\n",
    "print(s_ini_words(secuencia, \"S\"))  # getting words starting with s\n"
   ]
  },
  {
   "cell_type": "markdown",
   "metadata": {},
   "source": [
    "**Escribe un programa que pida al usuario introducir una palabra por teclado y que genere un diccionario con a cantidad de apariciones de cada caracter en la palabra. Por ejemplo, si recibe:** *Pamplona* **deberia devolver:** *'p': 2, 'a': 2, 'm': 1, 'l': 1, 'o': 1, 'n': 1* **(1 punto)**"
   ]
  },
  {
   "cell_type": "code",
   "execution_count": 109,
   "metadata": {},
   "outputs": [
    {
     "name": "stdout",
     "output_type": "stream",
     "text": [
      "Enter a word: fefe efgege\n",
      "{'f': 3, 'e': 5, ' ': 1, 'g': 2}\n"
     ]
    }
   ],
   "source": [
    "text = input(\"Enter a word: \")\n",
    "\n",
    "\n",
    "def dict_counter(text):\n",
    "    \"\"\"Returns the letter concurrence in a word\n",
    "\n",
    "    Parameters\n",
    "    ----------\n",
    "    word : str\n",
    "        a string\n",
    "\n",
    "    Returns\n",
    "    -------\n",
    "    dic : a dictionary structure\n",
    "    \"\"\"\n",
    "    prove_string(text)\n",
    "    if any(char.isdigit() for char in text):\n",
    "        raise ValueError(\"The string can not contain numbers\")\n",
    "\n",
    "    text = text.lower()  # lowercase\n",
    "    text = ''.join((c for c in uc.normalize(\n",
    "        'NFD', text) if uc.category(c) != 'Mn'))\n",
    "    dic = {}\n",
    "\n",
    "    for char in text:\n",
    "        dic[char] = text.count(char)\n",
    "\n",
    "    return dic\n",
    "\n",
    "\n",
    "print(dict_counter(text))\n"
   ]
  },
  {
   "cell_type": "markdown",
   "metadata": {},
   "source": [
    "**Crea un fichero de texto plano y guárdalo en un lugar accesible (0.25 puntos) por una función función que 1) extraiga el número de líneas que hay en el fichero (0.5 puntos). 2) Cuente el número de palabras que hay en el fichero (0.5 puntos). 3) Cuente el número de letras que hay en el fichero y 4) contabilize el número de veces que aparece la letra** *'a'.* **(0.25 puntos)**"
   ]
  },
  {
   "cell_type": "code",
   "execution_count": 110,
   "metadata": {},
   "outputs": [
    {
     "name": "stdout",
     "output_type": "stream",
     "text": [
      "[607, 6658, 34696, 3891]\n"
     ]
    }
   ],
   "source": [
    "def file_details(path):\n",
    "    \"\"\"Count lines, words, letters and \"a\" letters\n",
    "\n",
    "    Parameters\n",
    "    ----------\n",
    "    path : str\n",
    "        path where file is stored\n",
    "\n",
    "    Returns\n",
    "    -------\n",
    "    details : array\n",
    "        lines number, words number, letter number, 'a' letter number\n",
    "    \"\"\"\n",
    "    details = []\n",
    "    lines = 0\n",
    "    words = 0\n",
    "    letters = 0\n",
    "    n_a = 0\n",
    "\n",
    "    is_are_string(path)\n",
    "    with open(file=path, mode=\"r\") as f:       \n",
    "\n",
    "        for line in f:\n",
    "            lines += 1\n",
    "            words += len(line.split())\n",
    "            letters += len(line) - line.count(\" \")\n",
    "            n_a += line.count(\"a\")\n",
    "\n",
    "    details.extend([lines, words, letters,n_a])\n",
    "    return details\n",
    "\n",
    "\n",
    "print(file_details(\"Final_datos/memorias-de-idhun.txt\"))\n"
   ]
  },
  {
   "cell_type": "markdown",
   "metadata": {},
   "source": [
    "**Elementos comunes (1 puntos)\n",
    "Genera un programa que a partir de dos listas, digamos, por ejemplo:**\n",
    "\n",
    ">  a = [1, 1, 2, 3, 5, 8, 13, 21, 34, 55, 89]  \n",
    ">  b = [1, 2, 3, 4, 5, 6, 7, 8, 9, 10, 11, 12, 13]\n",
    "  \n",
    "**devuelva una lista que contenga sólo los elementos que son comunes entre las listas (sin duplicados). Asegúrate de que el programa funcione en dos listas de diferentes tamaños.**"
   ]
  },
  {
   "cell_type": "code",
   "execution_count": 166,
   "metadata": {},
   "outputs": [
    {
     "ename": "ValueError",
     "evalue": "Expected input parameter > 0",
     "output_type": "error",
     "traceback": [
      "\u001b[1;31m---------------------------------------------------------------------------\u001b[0m",
      "\u001b[1;31mValueError\u001b[0m                                Traceback (most recent call last)",
      "\u001b[1;32m<ipython-input-166-0647caec9737>\u001b[0m in \u001b[0;36m<module>\u001b[1;34m\u001b[0m\n\u001b[0;32m     38\u001b[0m \u001b[1;33m\u001b[0m\u001b[0m\n\u001b[0;32m     39\u001b[0m \u001b[1;33m\u001b[0m\u001b[0m\n\u001b[1;32m---> 40\u001b[1;33m \u001b[0mprint\u001b[0m\u001b[1;33m(\u001b[0m\u001b[1;34mf\"The intersection between lists a and b is {common_values()}\"\u001b[0m\u001b[1;33m)\u001b[0m\u001b[1;33m\u001b[0m\u001b[1;33m\u001b[0m\u001b[0m\n\u001b[0m\u001b[0;32m     41\u001b[0m \u001b[1;31m# print(common_values(a, b, c))\u001b[0m\u001b[1;33m\u001b[0m\u001b[1;33m\u001b[0m\u001b[1;33m\u001b[0m\u001b[0m\n",
      "\u001b[1;32m<ipython-input-166-0647caec9737>\u001b[0m in \u001b[0;36mcommon_values\u001b[1;34m(*lists)\u001b[0m\n\u001b[0;32m     25\u001b[0m     \"\"\"\n\u001b[0;32m     26\u001b[0m     \u001b[1;32mif\u001b[0m \u001b[0mlen\u001b[0m\u001b[1;33m(\u001b[0m\u001b[0mlists\u001b[0m\u001b[1;33m)\u001b[0m \u001b[1;33m<\u001b[0m \u001b[1;36m1\u001b[0m\u001b[1;33m:\u001b[0m\u001b[1;33m\u001b[0m\u001b[1;33m\u001b[0m\u001b[0m\n\u001b[1;32m---> 27\u001b[1;33m         \u001b[1;32mraise\u001b[0m \u001b[0mValueError\u001b[0m\u001b[1;33m(\u001b[0m\u001b[1;34m\"Expected input parameter > 0\"\u001b[0m\u001b[1;33m)\u001b[0m\u001b[1;33m\u001b[0m\u001b[1;33m\u001b[0m\u001b[0m\n\u001b[0m\u001b[0;32m     28\u001b[0m \u001b[1;33m\u001b[0m\u001b[0m\n\u001b[0;32m     29\u001b[0m     \u001b[1;32mfor\u001b[0m \u001b[0mitem\u001b[0m \u001b[1;32min\u001b[0m \u001b[0mlists\u001b[0m\u001b[1;33m:\u001b[0m\u001b[1;33m\u001b[0m\u001b[1;33m\u001b[0m\u001b[0m\n",
      "\u001b[1;31mValueError\u001b[0m: Expected input parameter > 0"
     ]
    }
   ],
   "source": [
    "a = [1, 1, 2, 3, 5, 8, 13, 21, 34, 55, 89]\n",
    "b = [1, 2, 3, 4, 5, 6, 7, 8, 9, 10, 11, 12, 13]\n",
    "#c = [1, 2, 3]\n",
    "\n",
    "def prove_numeric_list(lis):\n",
    "    if not isinstance(lis, list):\n",
    "        raise TypeError(f\"Expected list. Recieved {type(lis)}\")\n",
    "\n",
    "    for item in lis:\n",
    "        prove_numeric(item)\n",
    "\n",
    "\n",
    "def common_values(*lists):\n",
    "    \"\"\"Seeking for the intersection between lists\n",
    "\n",
    "    Parameters\n",
    "    ----------\n",
    "    lists : 1 needed, optional more than 1\n",
    "        lists to intersect\n",
    "\n",
    "    Returns\n",
    "    -------\n",
    "    list : list\n",
    "        a list with the intersected values\n",
    "    \"\"\"\n",
    "    if len(lists) < 1:\n",
    "        raise ValueError(\"Expected input parameter len > 0\")\n",
    "\n",
    "    for item in lists:\n",
    "        prove_numeric_list(item)\n",
    "\n",
    "    final_set = {}\n",
    "\n",
    "    for item in lists:\n",
    "        final_set = set(lists[0]).intersection(item)\n",
    "\n",
    "    return list(final_set)\n",
    "\n",
    "\n",
    "print(f\"The intersection between lists a and b is {common_values(a, b)}\")\n",
    "# print(common_values(a, b, c))"
   ]
  },
  {
   "cell_type": "code",
   "execution_count": 146,
   "metadata": {},
   "outputs": [
    {
     "name": "stdout",
     "output_type": "stream",
     "text": [
      "This is a try\n"
     ]
    }
   ],
   "source": [
    "def test(*args):\n",
    "    print(\"This is a try\")\n",
    "\n",
    "\n",
    "test()"
   ]
  },
  {
   "cell_type": "markdown",
   "metadata": {},
   "source": [
    "**Vas conduciendo y te pasas un poco de velocidad, un agente te detiene. Escribe una función que devuelva uno de los 3 posibles resultados que nos dará el agente: si la velocidad es 60km/h o menos, el resultado es:** *sin multa,* **si la velocidad se encuentra entre 61 y 80 ambos inclusive, el resultado es:** *multa pequeña,* **para velocidades superiores a 81 el resultado siempre es:** *multa grande.* \n",
    "**Si resulta que hoy es tu cumpleaños, el agente hace la vista gorda y permite un incremento de 5km/h en el limite normal (este valor se pasa como un boolean a la función) (1 punto)**"
   ]
  },
  {
   "cell_type": "code",
   "execution_count": 114,
   "metadata": {},
   "outputs": [
    {
     "name": "stdout",
     "output_type": "stream",
     "text": [
      "multa grande\n",
      "multa pequeña\n",
      "sin multa\n"
     ]
    }
   ],
   "source": [
    "def multado(speed, is_birthday):\n",
    "    \"\"\"Depending of the speed, you get a ticket\n",
    "\n",
    "    Parameters\n",
    "    ----------\n",
    "    speed : str\n",
    "        string to count chars and digits\n",
    "\n",
    "    speed : str\n",
    "        string to count chars and digits\n",
    "\n",
    "    Returns\n",
    "    -------\n",
    "    \"\" : string\n",
    "        : 'Letras: 9, Dígitos: 3'\n",
    "    \"\"\"\n",
    "    prove_numeric(speed)\n",
    "    prove_boolean(is_birthday)\n",
    "\n",
    "    if is_birthday:\n",
    "        speed -= 5\n",
    "\n",
    "    if speed <= 60:\n",
    "        return \"sin multa\"\n",
    "    elif speed > 60 and speed <= 80:\n",
    "        return \"multa pequeña\"\n",
    "    elif speed > 80:\n",
    "        return \"multa grande\"\n",
    "\n",
    "\n",
    "print(multado(85, False))  # multa grande\n",
    "print(multado(85, True))  # multa pequeña\n",
    "print(multado(60, False))  # sin multa\n"
   ]
  },
  {
   "cell_type": "markdown",
   "metadata": {},
   "source": [
    "**Escribe un programa que acepta una frase como entrada y calcula el número de letras y dígitos contenidos en ésta. Por simpleza, no considerar espacios en blanco ni carácteres especiales. Por ejemplo, si recibimos:** *'Hola Mundo, 123!'* **La salida deberia ser:** *Letras: 9, Dígitos: 3* **. (1 punto)**"
   ]
  },
  {
   "cell_type": "code",
   "execution_count": 116,
   "metadata": {},
   "outputs": [
    {
     "name": "stdout",
     "output_type": "stream",
     "text": [
      "Enter a word: á\n",
      "Letras: 1, Dígitos: 0\n"
     ]
    }
   ],
   "source": [
    "word = input(\"Enter a word: \")\n",
    "\n",
    "\n",
    "def letters_digits(word):\n",
    "    \"\"\"Count the digits and chars of a string\n",
    "\n",
    "    Parameters\n",
    "    ----------\n",
    "    word : str\n",
    "        string to count chars and digits\n",
    "\n",
    "    Returns\n",
    "    -------\n",
    "    \"\" : string\n",
    "        sample: 'Letras: 9, Dígitos: 3'\n",
    "    \"\"\"\n",
    "    chars = 0\n",
    "    digits = 0\n",
    "    prove_string(word)\n",
    "    word_list = list(word)\n",
    "\n",
    "    for char in word_list:\n",
    "        if char.isdigit():\n",
    "            digits += 1\n",
    "        elif not char.isdigit() and char != \" \":\n",
    "            chars += 1\n",
    "\n",
    "    return f\"Letras: {str(chars)}, Dígitos: {str(digits)}\"\n",
    "\n",
    "\n",
    "print(letters_digits(word))\n"
   ]
  },
  {
   "cell_type": "markdown",
   "metadata": {},
   "source": [
    "**Números divisibles por 7 pero no múltiplos de 5 (1 punto extra). Escribe un programa que encuentre todos los números entre 2000 y 3200 (ambos incluidos) que son divisibles por 7 pero no son múltiplos de 5.**"
   ]
  },
  {
   "cell_type": "code",
   "execution_count": 187,
   "metadata": {},
   "outputs": [
    {
     "name": "stdout",
     "output_type": "stream",
     "text": [
      "---------------------- List of numbers between [2000] and [3200], divisible by 7 and not multiple of 5 ----------------------\n",
      "\n",
      "[2002, 2009, 2016, 2023, 2037, 2044, 2051, 2058, 2072, 2079, 2086, 2093, 2107, 2114, 2121, 2128, 2142, 2149, 2156, 2163, 2177, 2184, 2191, 2198, 2212, 2219, 2226, 2233, 2247, 2254, 2261, 2268, 2282, 2289, 2296, 2303, 2317, 2324, 2331, 2338, 2352, 2359, 2366, 2373, 2387, 2394, 2401, 2408, 2422, 2429, 2436, 2443, 2457, 2464, 2471, 2478, 2492, 2499, 2506, 2513, 2527, 2534, 2541, 2548, 2562, 2569, 2576, 2583, 2597, 2604, 2611, 2618, 2632, 2639, 2646, 2653, 2667, 2674, 2681, 2688, 2702, 2709, 2716, 2723, 2737, 2744, 2751, 2758, 2772, 2779, 2786, 2793, 2807, 2814, 2821, 2828, 2842, 2849, 2856, 2863, 2877, 2884, 2891, 2898, 2912, 2919, 2926, 2933, 2947, 2954, 2961, 2968, 2982, 2989, 2996, 3003, 3017, 3024, 3031, 3038, 3052, 3059, 3066, 3073, 3087, 3094, 3101, 3108, 3122, 3129, 3136, 3143, 3157, 3164, 3171, 3178, 3192, 3199]\n"
     ]
    }
   ],
   "source": [
    "def divisible_7_not_multiple_5(ini, end):\n",
    "    \"\"\"divisible 7 and not 5 multiple numbers between a range\n",
    "\n",
    "    Parameters\n",
    "    ----------\n",
    "    ini : int\n",
    "        lower number of the range\n",
    "\n",
    "    end : int\n",
    "        higher number of the range\n",
    "\n",
    "    Returns\n",
    "    -------\n",
    "    numbers : array\n",
    "        contains the numbers\n",
    "    \"\"\"\n",
    "    if ini < end:\n",
    "        prove_numeric(ini, end)  # defined at the beginning\n",
    "        numbers = []\n",
    "        for i in range(ini, end):\n",
    "            if not i % 7 and i % 5:\n",
    "                numbers.append(i)\n",
    "\n",
    "        return numbers\n",
    "    else:\n",
    "        raise ValueError(\"The ini value can't be higher than the end value\")\n",
    "\n",
    "\n",
    "text = \" List of numbers between [2000] and [3200], divisible by 7 and not multiple of 5 \"\n",
    "x = text.center(125, \"-\")\n",
    "print(x + \"\\n\")\n",
    "print(divisible_7_not_multiple_5(2000, 3200))\n"
   ]
  }
 ],
 "metadata": {
  "celltoolbar": "Hide code",
  "kernelspec": {
   "display_name": "Python 3",
   "language": "python",
   "name": "python3"
  },
  "language_info": {
   "codemirror_mode": {
    "name": "ipython",
    "version": 3
   },
   "file_extension": ".py",
   "mimetype": "text/x-python",
   "name": "python",
   "nbconvert_exporter": "python",
   "pygments_lexer": "ipython3",
   "version": "3.8.3"
  }
 },
 "nbformat": 4,
 "nbformat_minor": 1
}
