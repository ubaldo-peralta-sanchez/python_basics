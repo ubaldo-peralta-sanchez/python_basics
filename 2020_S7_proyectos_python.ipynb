{
 "cells": [
  {
   "cell_type": "markdown",
   "metadata": {},
   "source": [
    "# Python para el análisis de datos -  UNAV 2020-2021\n",
    "---\n",
    "\n",
    "# Notebook 7: Desarrollo de proyectos en Python"
   ]
  },
  {
   "cell_type": "markdown",
   "metadata": {},
   "source": [
    "En esta sesión vamos a tratar varios temas importantes para el desarrollo de proyectos en Python en particular, pero es aplicable a otros lenguajes de programación. Como ya hemos comentado durante el curso, el desarrollo de librerías en Python requiere algo más que Jupyter Notebooks, de hecho, es necesario familiarze con varias tecnologías y conceptos del ciclo de vida del desarrollo de proyecto.\n",
    "\n",
    "A diferencia de otras sesiones, en ésta no se incluye un material extenso, pero sí referencias a varios temas que podéis utilizar como guía para consultas. El objetivo es presentar, comentar cada uno de los temas y resolver dudas."
   ]
  },
  {
   "cell_type": "markdown",
   "metadata": {},
   "source": [
    "## Índice  <a name=\"indice\"></a>\n",
    "\n",
    "- [Editores de desarrollo (IDE)](#ide)\n",
    "- [Estructura librería](#estructura_libreria)\n",
    "- [Control de versiones](#versiones)\n",
    "    - [Git/GitHub](#git_github)\n",
    "- [Documentación](#documentacion)\n",
    "    - [Docstrings](#docstrings)\n",
    "    - [Sphinx](#sphinx)\n",
    "    - [Otros](#doc_otros)\n",
    "- [Pruebas unitarias](#unittest)\n",
    "    - [Librerías disponibles](#unittest_librerias)\n",
    "    - [Coverage](#unittest_coverage)\n",
    "    - [Pruebas de calidad](#pruebas_calidad)\n",
    "- [Integración continua (CI)](#ci)\n",
    "- [Despliegue de librería](#depliegue_libreria)\n",
    "- [Entrega continua](#cd_1)\n",
    "- [Despliegue continuo (CD)](#cd_2)\n",
    "- [Metodologías de trabajo](#metodologias)\n",
    "    - [Agile](#agile)\n",
    "        - [Scrum](#scrum)\n",
    "        - [Kanban](#kanban)\n",
    "    - [DevOps](#devops)"
   ]
  },
  {
   "cell_type": "markdown",
   "metadata": {},
   "source": [
    "## Editores de desarrollo (IDE)<a name=\"ide\"></a> \n",
    "[Volver al índice](#indice)"
   ]
  },
  {
   "cell_type": "markdown",
   "metadata": {},
   "source": [
    "El uso de un buen editor de texto y/o Integrated Development Environment (IDE) es importante. Trabajar con las herramientas adecuadas acelera el trabajo y facilita el uso de buenas prácticas. Hay varios editores recomendables en Python:"
   ]
  },
  {
   "cell_type": "markdown",
   "metadata": {},
   "source": [
    "#### Sublime Text: https://www.sublimetext.com/"
   ]
  },
  {
   "cell_type": "markdown",
   "metadata": {},
   "source": [
    "No es gratuito ($80), pero no limita su uso. Muy potente, capaz de gestionar archivos grandes y con muchas funcionalidades por defecto. La comunidad de sublime (package control), ha desarrollado multidud de plugins para varios lenguajes, que os pueden resultar útiles: https://packagecontrol.io/"
   ]
  },
  {
   "cell_type": "markdown",
   "metadata": {},
   "source": [
    "#### Visual Studio Code: https://code.visualstudio.com/"
   ]
  },
  {
   "cell_type": "markdown",
   "metadata": {},
   "source": [
    "Gratuito, con funcionalidades similares a Sublime Text. Una buena alternativa con una comunidad creciente."
   ]
  },
  {
   "cell_type": "markdown",
   "metadata": {},
   "source": [
    "#### PyCharm: https://www.jetbrains.com/es-es/pycharm/"
   ]
  },
  {
   "cell_type": "markdown",
   "metadata": {},
   "source": [
    "PyCharm Professional Edition es gratuito e incorpora las herramientas esenciales.\n",
    "\n",
    "La empresa detrás de PyCharm es JetBrains, un referente en el desarrollo de herramientas para desarrolladores de software. Este IDE es posiblemente el más completo del mercado, incluyendo herramientas avanzadas de debugging, integración con GitHub y herramientas para comprobar la calidad del código, entre muchas otras. Es una buena opción, especialmente si no estáis familiarizados con el uso del intérprete Python."
   ]
  },
  {
   "cell_type": "markdown",
   "metadata": {},
   "source": [
    "**Mi recomendación**: es muy útil familiarizarse con el intérprete y el uso de líneas de comandos, en particular, si váis a trabajar en Linux u otro sistema UNIX. Si domináis la línea de comandos podéis ahorrar mucho tiempo."
   ]
  },
  {
   "cell_type": "markdown",
   "metadata": {},
   "source": [
    "## Estructura librería<a name=\"estructura_libreria\"></a> \n",
    "[Volver al índice](#indice)"
   ]
  },
  {
   "cell_type": "markdown",
   "metadata": {},
   "source": [
    "No \"existe\" un estándar para estructurar un proyecto en Python, pero sí hay ciertas prácticas habituales que podéis encontrar en muchos proyectos en GitHub. La estructura de un proyecto/librería podría ser así:"
   ]
  },
  {
   "cell_type": "markdown",
   "metadata": {},
   "source": [
    "<pre>\n",
    "project_name\n",
    "├── LICENSE\n",
    "├── doc\n",
    "│   ├── make.bat\n",
    "│   ├── Makefile\n",
    "│   ├── source\n",
    "│   │   ├── _static\n",
    "│   │   ├── _templates\n",
    "│   │   ├── *files*.rst\n",
    "│   │   └── conf.py\n",
    "├── project_name\n",
    "│   ├── __init__.py\n",
    "│   ├── module_1\n",
    "│   │   ├── __init__.py\n",
    "│   │   ├── *files*.py\n",
    "│   ├── module_2\n",
    "│   │   ├── __init__.py\n",
    "│   │   ├── *files*.py\n",
    "│   ├── module_3\n",
    "│   │   ├── __init__.py\n",
    "│   │   ├── *files*.py\n",
    "├── tests\n",
    "│   ├── *test_files*.py\n",
    "├── setup.py\n",
    "└── README.rst\n",
    "</pre>"
   ]
  },
  {
   "cell_type": "markdown",
   "metadata": {},
   "source": [
    "*files* indica múltiples archivos *.py. Los elementos principales son:\n",
    "\n",
    "* LICENSE: https://choosealicense.com\n",
    "* README\n",
    "* project_name/\n",
    "* tests/\n",
    "* setup.py\n",
    "\n",
    "Otras referencias sobre estructuras: https://docs.python-guide.org/writing/structure/"
   ]
  },
  {
   "cell_type": "markdown",
   "metadata": {},
   "source": [
    "## Control de versiones<a name=\"versiones\"></a> \n",
    "[Volver al índice](#indice)"
   ]
  },
  {
   "cell_type": "markdown",
   "metadata": {},
   "source": [
    "Cuando trabajamos en proyectos realizamos muchos cambios a los archivos. La forma de tener control sobre los cambios producidos en un proyecto en mediante un control de versiones. No es razonable tener archivos del estilo archivo_v1, archivo_v2, ..., archivo_final_v10.\n",
    "\n",
    "Un control de versiones nos permite volver a una revisión anterior. Esto es importante por varios motivos, algunos de ellos son:\n",
    "\n",
    "* Poder realizar varios desarrollos en paralelo desde una revisión estable.\n",
    "* Control de colisiones cuando trabajamos en múltiples revisiones.\n",
    "* Backup en caso de pérdida/eliminación de archivos.\n",
    "* Restaurar revisión estable cuando encontramos un bug con un número de implicaciones relevante."
   ]
  },
  {
   "cell_type": "markdown",
   "metadata": {},
   "source": [
    "### Git/GitHub<a name=\"git_github\"></a> \n",
    "[Volver al índice](#indice)"
   ]
  },
  {
   "cell_type": "markdown",
   "metadata": {},
   "source": [
    "Hay sistemas de control de versiones disponibles, el más común es Git, popularizado gracias a GitHub. Otros sistemas interesantes son Apache Subversion (SVN) y Mercurial."
   ]
  },
  {
   "cell_type": "markdown",
   "metadata": {},
   "source": [
    "Los comandos más habituales en Git son:\n",
    "    \n",
    "* git add: añadir archivos a la \"zona de espera\" de Git. Es necesario añadir antes de realizar commit.\n",
    "* git commit: guarda las modificaciones en los archivos en un repositorio local. Opcional incluir mensaje (recomendado).\n",
    "* git status: estado de los archivos en la rama de trabajo.\n",
    "* git branch: cambiar, añadir o eliminar ramas de trabajo.\n",
    "* git checkout: empieza a trabajar en una rama distinta.\n",
    "* git merge: integrar ramas.\n",
    "* git clone: crear una copia de un directorio remoto en el local.\n",
    "* git push: enviar cambios locales a un repositorio remoto.\n",
    "* git pull: obtener la última versión de un repositorio."
   ]
  },
  {
   "cell_type": "markdown",
   "metadata": {},
   "source": [
    "GitHub es una plataforma para el mantenimiento y desarrollo colaborativo de código. La interfaz de GitHub permite realizar las operaciones que normalmente se harían con Git, pero de una manera más \"amigable\"."
   ]
  },
  {
   "cell_type": "markdown",
   "metadata": {},
   "source": [
    "Veamos algunos archivos comunes en un proyecto en GitHub:"
   ]
  },
  {
   "cell_type": "markdown",
   "metadata": {},
   "source": [
    "* license: https://docs.github.com/en/free-pro-team@latest/github/creating-cloning-and-archiving-repositories/licensing-a-repository\n",
    "* .gitignore: https://docs.github.com/en/free-pro-team@latest/github/using-git/ignoring-files"
   ]
  },
  {
   "cell_type": "markdown",
   "metadata": {},
   "source": [
    "Veamos algunos ejemplos de repositorios en GitHub:\n",
    "\n",
    "* scikit-learn: https://github.com/scikit-learn/scikit-learn\n",
    "* CPrior: https://github.com/guillermo-navas-palencia/cprior"
   ]
  },
  {
   "cell_type": "markdown",
   "metadata": {},
   "source": [
    "## Documentación<a name=\"documentacion\"></a> \n",
    "[Volver al índice](#indice)"
   ]
  },
  {
   "cell_type": "markdown",
   "metadata": {},
   "source": [
    "Una parte fundamental del desarrollo de una librería es la creación de buena documentación. Una librería de calidad, que pretenda ser empleada por un número importante de desarrolladores y/o organizaciones, requiere una documentación completa y comprensible.\n",
    "\n",
    "Muchos desarrolladores dan poca importancia a la creación de documentación, pero eso es un error por varios motivos:\n",
    "\n",
    "* Si el número de usuarios incrementa, una documentación de mala calidad aumenta el número de preguntas, y por lo tanto, la necesidad de soporte.\n",
    "* En muchas ocasiones un desarrollador trabaja en varias librerías a la vez, es díficil recordar todo el código, o incluso recordar el funcionamiento de algunos métodos."
   ]
  },
  {
   "cell_type": "markdown",
   "metadata": {},
   "source": [
    "### Docstrings<a name=\"docstrings\"></a> \n",
    "[Volver al índice](#indice)"
   ]
  },
  {
   "cell_type": "markdown",
   "metadata": {},
   "source": [
    "Hay varios formatos disponibles para la creación de docstrings:\n",
    "    \n",
    "* Epytext: http://epydoc.sourceforge.net/\n",
    "* resT: https://www.sphinx-doc.org/en/master/\n",
    "* Google: https://github.com/google/styleguide/blob/gh-pages/pyguide.md#38-comments-and-docstrings\n",
    "* Numpydoc: https://numpydoc.readthedocs.io/en/latest/\n",
    "\n",
    "Sphinx requiere la extension Napoleon para utilizar los formatos Google y Numpydoc https://sphinxcontrib-napoleon.readthedocs.io/en/latest/"
   ]
  },
  {
   "cell_type": "markdown",
   "metadata": {},
   "source": [
    "**Mi opinión**: Google y Numpydoc son los dos formatos más elegantes y legibles."
   ]
  },
  {
   "cell_type": "markdown",
   "metadata": {},
   "source": [
    "### Sphinx<a name=\"sphinx\"></a> \n",
    "[Volver al índice](#indice)"
   ]
  },
  {
   "cell_type": "markdown",
   "metadata": {},
   "source": [
    "Sphinx https://www.sphinx-doc.org/en/master/ es la herramienta de generación de documentación automática más empleada.\n",
    "\n",
    "Configurar sphinx dentro de una librería es relativamente sencillo gracias a *sphinx-quickstart* https://www.sphinx-doc.org/en/master/usage/quickstart.html. Como resultado obtenemos un archivo conf.py que podremos modificar más adelante. Por ejemplo: https://github.com/guillermo-navas-palencia/cprior/blob/master/doc/source/conf.py."
   ]
  },
  {
   "cell_type": "markdown",
   "metadata": {},
   "source": [
    "Los comandos más comunes con sphinx son:\n",
    "<pre>\n",
    "make clean\n",
    "make html -j4\n",
    "</pre>"
   ]
  },
  {
   "cell_type": "markdown",
   "metadata": {},
   "source": [
    "Para generar documentación los dos formatos de archivo más utilizados son reStructuredText (.rst) y Markdown (.md):\n",
    "    \n",
    "* reStructuredText: https://www.sphinx-doc.org/es/master/usage/restructuredtext/index.html\n",
    "* Markdown: https://www.markdownguide.org/"
   ]
  },
  {
   "cell_type": "markdown",
   "metadata": {},
   "source": [
    "Sphinx ofrece la opción de convertir Notebooks a HTML mediante nbsphinx https://nbsphinx.readthedocs.io/en/0.8.0/. Esto es muy útil para añadir tutoriales en la documentación."
   ]
  },
  {
   "cell_type": "markdown",
   "metadata": {},
   "source": [
    "### Otros<a name=\"doc_otros\"></a> \n",
    "[Volver al índice](#indice)"
   ]
  },
  {
   "cell_type": "markdown",
   "metadata": {},
   "source": [
    "#### Guía de instalación"
   ]
  },
  {
   "cell_type": "markdown",
   "metadata": {},
   "source": [
    "Toda buena documentación incluye una sección con indicaciones para una correcta instalación. En ocasiones, las librerías contienen archivos en otros lenguajes de programación, o tienen dependencias que complejizan la instalación. En el caso de dar soporte a diferentes sistemas operativos, la dificultad puede ser aún mayor."
   ]
  },
  {
   "cell_type": "markdown",
   "metadata": {},
   "source": [
    "#### Ejemplos/tutoriales"
   ]
  },
  {
   "cell_type": "markdown",
   "metadata": {},
   "source": [
    "Si una librería está destinada al \"gran público\", es casi obligatorio incluir el máximo número posible de tutoriales y ejemplos sencillos. Estos tutoriales deben cubrir todas las funcionalidades presentes en la librería."
   ]
  },
  {
   "cell_type": "markdown",
   "metadata": {},
   "source": [
    "Crear ejemplos puede ser costoso inicialmente, pero también puede ahorrar mucho tiempo de soporte, ya que podéis dirigir muchos usuarios a la documentación."
   ]
  },
  {
   "cell_type": "markdown",
   "metadata": {},
   "source": [
    "#### Release notes"
   ]
  },
  {
   "cell_type": "markdown",
   "metadata": {},
   "source": [
    "Release notes son una forma de documentar los cambios que han ocurrido entre versiones. Estos resultan útiles para especificar si los nuevos cambios hacen que un código utilizando la antigua versión sea ahora incompatible. Las release notes de Scikit-Learn son una referencia en términos de detalle y calidad: https://scikit-learn.org/stable/whats_new.html"
   ]
  },
  {
   "cell_type": "markdown",
   "metadata": {},
   "source": [
    "## Pruebas unitarias (unit testing)<a name=\"unittest\"></a> \n",
    "[Volver al índice](#indice)"
   ]
  },
  {
   "cell_type": "markdown",
   "metadata": {},
   "source": [
    "La creación de pruebas unitarias es la parte más crítica del desarrollo de software. Las pruebas unitarias permiten comprobar que el código funciona correctamente, es decir, el comportamiento es el esperado. El objetivo es crear pruebas pequeñas que aislen las funcionalidades del código, de forma que se puedan detectar errores de forma rápida.\n",
    "\n",
    "No realizar pruebas unitarias durante el desarrollo puede tener consecuencias:\n",
    "\n",
    "* Encontrar errores en las fases posteriores de puesta en producción, retrasando la planificación de forma inesperada.\n",
    "* Los usuarios pueden encontrar bugs. Un gran número de bugs produce desconfianza sobre la calidad del código.\n",
    "* Dificultades para comprobar que después de un refactoring el código se comporta de la misma manera."
   ]
  },
  {
   "cell_type": "markdown",
   "metadata": {},
   "source": [
    "El test driven development (TDD) implica desarrollar las pruebas unitarias necesarias antes de escribir el software. Es una metodología para escribir el código atendiendo a los requisitos implementados en las pruebas unitarias. El objetivo es implementar el código más sencillo posible que haga pasar la prueba, más adelante éste se modificará para mejorar eficiencia y calidad."
   ]
  },
  {
   "cell_type": "markdown",
   "metadata": {},
   "source": [
    "### Librerías disponibles<a name=\"unittest_librerias\"></a> \n",
    "[Volver al índice](#indice)"
   ]
  },
  {
   "cell_type": "markdown",
   "metadata": {},
   "source": [
    "Los dos librerías predominantes para pruebas unitarias son unittest y pytest, siendo pytest la más utilizada por el momento. Unittest es uno de los módulos nativos de Python."
   ]
  },
  {
   "cell_type": "markdown",
   "metadata": {},
   "source": [
    "* unittest: https://docs.python.org/3/library/unittest.html\n",
    "* pytest: https://docs.pytest.org/en/stable/"
   ]
  },
  {
   "cell_type": "markdown",
   "metadata": {},
   "source": [
    "Probar todos los archivos de test:\n",
    "<pre>coverage run -m pytest --cov-report html --cov-report annotate --cov=myproject tests/</pre>"
   ]
  },
  {
   "cell_type": "markdown",
   "metadata": {},
   "source": [
    "Probar todas las funciones en un archivo de test:\n",
    "<pre>coverage run -m pytest --cov-report html --cov-report annotate --cov=myproject tests/test_1.py</pre>"
   ]
  },
  {
   "cell_type": "markdown",
   "metadata": {},
   "source": [
    "Probar una función de un archivo de test:\n",
    "<pre>coverage run -m pytest --cov-report html --cov-report annotate --cov=myproject tests/test_1.py -k test_function_1</pre>"
   ]
  },
  {
   "cell_type": "markdown",
   "metadata": {},
   "source": [
    "Ver todos los comandos disponibles en pytest: <pre>pytest --help</pre>"
   ]
  },
  {
   "cell_type": "markdown",
   "metadata": {},
   "source": [
    "### Coverage <a name=\"unittest_coverage\"></a> \n",
    "[Volver al índice](#indice)"
   ]
  },
  {
   "cell_type": "markdown",
   "metadata": {},
   "source": [
    "Una vez hemos implementado las pruebas unitarias, es importante saber si realmente se están probando las líneas de código que nos interesan. Las herramientas de cobertura sirven para determinar el porcentaje de líneas que han sido probadas. Este porcentaje es relevante ya que algunos sistemas no permiten subir código con un valor por debajo del 80%."
   ]
  },
  {
   "cell_type": "markdown",
   "metadata": {},
   "source": [
    "* Codecov: https://codecov.io/\n",
    "* Coveralls: https://coveralls.io/"
   ]
  },
  {
   "cell_type": "markdown",
   "metadata": {},
   "source": [
    "**Mi opinión**: Codecov es más completo que Coveralls."
   ]
  },
  {
   "cell_type": "markdown",
   "metadata": {},
   "source": [
    "### Pruebas de calidad<a name=\"pruebas_calidad\"></a> \n",
    "[Volver al índice](#indice)"
   ]
  },
  {
   "cell_type": "markdown",
   "metadata": {},
   "source": [
    "Otro de los aspectos importantes antes de productivizar una librería es comprobar ciertas métricas de calidad. Lo más habitual es comprobar que satisface el estándar de Python PEP-8. Algunas herramientas disponibles son:\n",
    "\n",
    "* flake8: https://flake8.pycqa.org/en/latest/#\n",
    "* pylint: https://www.pylint.org/\n",
    "* sonarqube: https://www.sonarqube.org/ (más avanzada que las anteriores)."
   ]
  },
  {
   "cell_type": "markdown",
   "metadata": {},
   "source": [
    "Con flake8 podemos comprobar todo nuestro proyecto utilizando:\n",
    "<pre>flake8 myproject/</pre>"
   ]
  },
  {
   "cell_type": "markdown",
   "metadata": {},
   "source": [
    "## Integración continua (CI)<a name=\"ci\"></a> \n",
    "[Volver al índice](#indice)"
   ]
  },
  {
   "cell_type": "markdown",
   "metadata": {},
   "source": [
    "La integración continua (continuous integration, CI) es una metodología de desarrollo de software que consiste en integrar, valga la redundancia, es decir, realizar la ejecución de las pruebas unitarias y de calidad de forma rutinaria, para poder detectar fallos lo antes posible. Es necesario acostumbrarse a esta práctica para desarrollar software de forma ágil."
   ]
  },
  {
   "cell_type": "markdown",
   "metadata": {},
   "source": [
    "Algunos de los servicios de integración más extendidos son:\n",
    "\n",
    "* https://www.jenkins.io/\n",
    "* https://travis-ci.org/\n",
    "* https://circleci.com/\n",
    "\n",
    "Más información: https://djangostars.com/blog/continuous-integration-circleci-vs-travisci-vs-jenkins/"
   ]
  },
  {
   "cell_type": "markdown",
   "metadata": {},
   "source": [
    "#### .travis.yml"
   ]
  },
  {
   "cell_type": "markdown",
   "metadata": {},
   "source": [
    "Travis CI es el servicio de integración más popular en GitHub debido a su facilidad de puesta a punto, especialmente si lo comparamos con Jenkins. La configuración de Travis CI se realiza a través del archivo .travis.yml."
   ]
  },
  {
   "cell_type": "markdown",
   "metadata": {},
   "source": [
    "Veamos algunos ejemplos:\n",
    "\n",
    "* https://github.com/guillermo-navas-palencia/optbinning/blob/master/.travis.yml\n",
    "* https://github.com/numpy/numpy/blob/master/.travis.yml"
   ]
  },
  {
   "cell_type": "markdown",
   "metadata": {},
   "source": [
    "## Despliegue de librería<a name=\"depliegue_libreria\"></a> \n",
    "[Volver al índice](#indice)"
   ]
  },
  {
   "cell_type": "markdown",
   "metadata": {},
   "source": [
    "En la actualdiad hay varias formas de desplegar una librería. La más habitual sigue siendo la subida al repositorio PyPI, pero otras formas que están auge son mediante el uso de contenedores. Docker https://www.docker.com/ ha desarrollado contenedores estándar de software para facilitar la distribución de librerías junto al software necesario para su correcta ejecución."
   ]
  },
  {
   "cell_type": "markdown",
   "metadata": {},
   "source": [
    "#### PyPI (https://pypi.org/)"
   ]
  },
  {
   "cell_type": "markdown",
   "metadata": {},
   "source": [
    "PyPI es el repositorio de software oficial de Python. "
   ]
  },
  {
   "cell_type": "markdown",
   "metadata": {},
   "source": [
    "#### setup.py"
   ]
  },
  {
   "cell_type": "markdown",
   "metadata": {},
   "source": [
    "El script setup.py es el elemento central para la distribución e instalación de librerías en Python. La estructura de código en setup.py puede variar, aquí tenemos un ejemplo:"
   ]
  },
  {
   "cell_type": "markdown",
   "metadata": {},
   "source": [
    "<pre>\n",
    "from setuptools import find_packages, setup\n",
    "\n",
    "# install requirements\n",
    "install_requires = [\n",
    "    'matplotlib',\n",
    "    'numpy>=1.16.1',\n",
    "    'pandas',\n",
    "    'scipy',\n",
    "    'scikit-learn>=0.22.0',\n",
    "]\n",
    "\n",
    "# test requirements\n",
    "tests_require = [\n",
    "    'pytest',\n",
    "    'coverage'\n",
    "]\n",
    "\n",
    "setup(\n",
    "    name=\"project_name\",\n",
    "    version=\"0.1.0\",\n",
    "    description=\"Project Name: description\",\n",
    "    long_description=\"Project Name: long description\",\n",
    "    author=\"myname\",\n",
    "    author_email=\"myemail\",\n",
    "    packages=find_packages(),\n",
    "    platforms=\"any\",\n",
    "    include_package_data=True,\n",
    "    license=\"Apache Licence 2.0\",\n",
    "    url=\"https://github.com/github_username/project_name\",\n",
    "    python_requires='>=3.6',\n",
    "    install_requires=install_requires,\n",
    "    tests_require=tests_require,\n",
    "    classifiers=[\n",
    "        'Topic :: Scientific/Engineering :: Mathematics',\n",
    "        'Topic :: Software Development :: Libraries',\n",
    "        'Topic :: Software Development :: Libraries :: Python Modules',\n",
    "        'Intended Audience :: Developers',\n",
    "        'Intended Audience :: Education',\n",
    "        'Intended Audience :: Science/Research',\n",
    "        'License :: OSI Approved :: Apache Software License',\n",
    "        'Programming Language :: Python :: 3',\n",
    "        'Programming Language :: Python :: 3.6',\n",
    "        'Programming Language :: Python :: 3.7']\n",
    "    )\n",
    "</pre>"
   ]
  },
  {
   "cell_type": "markdown",
   "metadata": {},
   "source": [
    "Instrucciones para subir librería a PyPI:\n",
    "\n",
    "<pre>\n",
    "python setup.py sdist bdist_wheel\n",
    "twine upload dist/*\n",
    "</pre>"
   ]
  },
  {
   "cell_type": "markdown",
   "metadata": {},
   "source": [
    "twine: https://twine.readthedocs.io/en/latest/"
   ]
  },
  {
   "cell_type": "markdown",
   "metadata": {},
   "source": [
    "Más información: https://packaging.python.org/tutorials/packaging-projects/"
   ]
  },
  {
   "cell_type": "markdown",
   "metadata": {},
   "source": [
    "## Entrega continua<a name=\"cd_1\"></a> \n",
    "[Volver al índice](#indice)"
   ]
  },
  {
   "cell_type": "markdown",
   "metadata": {},
   "source": [
    "Es una práctica de desarrollo de software que entrega el código directamente preparado para producción, una vez se realizan cambios y pasan las pruebas requeridas en los procesos de integración continua. Esto no implica que un producto de entregue al público tras cada cambio, sino que permite a los desarrolladores disponer de una versión testada para la puesta en producción cuando sea necesario."
   ]
  },
  {
   "cell_type": "markdown",
   "metadata": {},
   "source": [
    "## Despliegue continuo (CD)<a name=\"cd_2\"></a> \n",
    "[Volver al índice](#indice)"
   ]
  },
  {
   "cell_type": "markdown",
   "metadata": {},
   "source": [
    "Despligue continuo (continuous deployment, CD) se diferencia de entrega continua en que cada versión testada para producción es desplegada. Esto es más habitual en negocios que realizan varias cambios diarios (webs y apps)."
   ]
  },
  {
   "cell_type": "markdown",
   "metadata": {},
   "source": [
    "## Metodologías de trabajo<a name=\"metodologias\"></a> \n",
    "[Volver al índice](#indice)"
   ]
  },
  {
   "cell_type": "markdown",
   "metadata": {},
   "source": [
    "En esta última sección vamos a presentar las metodologías Agile (Scrum y Kanban) y DevOps por ser las más extendidas en el campo del desarrollo de software."
   ]
  },
  {
   "cell_type": "markdown",
   "metadata": {},
   "source": [
    "### Agile<a name=\"agile\"></a> \n",
    "[Volver al índice](#indice)"
   ]
  },
  {
   "cell_type": "markdown",
   "metadata": {},
   "source": [
    "Manifiesto Agile:\n",
    "\n",
    "* Valorar a los individuos y sus interacciones frente a procesos y herramientas.\n",
    "* Valorar más el software que funciona, que una documentación exhaustiva.\n",
    "* Valorar más la colaboración con el cliente que la negociación de un contrato.\n",
    "* Valorar más la respuesta al cambio que el seguimiento de un plan."
   ]
  },
  {
   "cell_type": "markdown",
   "metadata": {},
   "source": [
    "Vamos a mirar con más detalle dos métodos ágiles muy utilizados: Scrum y Kanban."
   ]
  },
  {
   "cell_type": "markdown",
   "metadata": {},
   "source": [
    "#### Scrum<a name=\"scrum\"></a> \n",
    "[Volver al índice](#indice)"
   ]
  },
  {
   "cell_type": "markdown",
   "metadata": {},
   "source": [
    "Principios de Scrum:\n",
    "    \n",
    "* Inspección y adaptación: sprint (1 - 4 semanas).\n",
    "* Auto-organización y colaboración.\n",
    "* Priorización.\n",
    "* Mantener el latido."
   ]
  },
  {
   "cell_type": "code",
   "execution_count": 2,
   "metadata": {},
   "outputs": [
    {
     "data": {
      "text/html": [
       "<img src=\"https://www.visual-paradigm.com/servlet/editor-content/scrum/what-are-scrum-time-boxed-events/sites/7/2018/12/five-scrum-events.png\"/>"
      ],
      "text/plain": [
       "<IPython.core.display.Image object>"
      ]
     },
     "execution_count": 2,
     "metadata": {},
     "output_type": "execute_result"
    }
   ],
   "source": [
    "from IPython.display import Image\n",
    "from IPython.core.display import HTML \n",
    "Image(url= \"https://www.visual-paradigm.com/servlet/editor-content/scrum/what-are-scrum-time-boxed-events/sites/7/2018/12/five-scrum-events.png\")"
   ]
  },
  {
   "cell_type": "markdown",
   "metadata": {},
   "source": [
    "Un poco más de detalle: https://www.anayamultimedia.es/libro.php?id=4724069"
   ]
  },
  {
   "cell_type": "markdown",
   "metadata": {},
   "source": [
    "#### Kanban<a name=\"kanban\"></a> \n",
    "[Volver al índice](#indice)"
   ]
  },
  {
   "cell_type": "markdown",
   "metadata": {},
   "source": [
    "Principios Kanban:\n",
    "\n",
    "* Visualizar el flujo de todo el trabajo.\n",
    "* Divida el trabajo en ítems pequeños.\n",
    "* Limite el trabajo en curso.\n",
    "* Mida el tiempo empleado en completar un ciclo completo."
   ]
  },
  {
   "cell_type": "markdown",
   "metadata": {},
   "source": [
    "### DevOps<a name=\"devops\"></a> \n",
    "[Volver al índice](#indice)"
   ]
  },
  {
   "cell_type": "markdown",
   "metadata": {},
   "source": [
    "DevOps (Development + Operations) tiene el objetivo de maximizar la colaboración e integración entre el equipo de desarrollo y los equipos de operaciones (IT, producción, gestión). Estos dos departamentos, que tradicionalmente se han considerado silos, deben comunicarse de forma efectiva para mejorar el ciclo de producto. \n",
    "\n",
    "Algunos links para saber más:\n",
    "\n",
    "* https://devops.com/\n",
    "* https://ml-ops.org/"
   ]
  }
 ],
 "metadata": {
  "kernelspec": {
   "display_name": "Python 3",
   "language": "python",
   "name": "python3"
  },
  "language_info": {
   "codemirror_mode": {
    "name": "ipython",
    "version": 3
   },
   "file_extension": ".py",
   "mimetype": "text/x-python",
   "name": "python",
   "nbconvert_exporter": "python",
   "pygments_lexer": "ipython3",
   "version": "3.8.3"
  }
 },
 "nbformat": 4,
 "nbformat_minor": 2
}
