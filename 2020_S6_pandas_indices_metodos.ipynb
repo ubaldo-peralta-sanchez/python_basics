{
 "cells": [
  {
   "cell_type": "markdown",
   "metadata": {},
   "source": [
    "# Python para el análisis de datos -  UNAV 2020-2021\n",
    "---\n",
    "\n",
    "# Notebook 6: Pandas, índices y métodos"
   ]
  },
  {
   "cell_type": "markdown",
   "metadata": {},
   "source": [
    "## Índice  <a name=\"indice\"></a>\n",
    "\n",
    "- [Índices](#pandas_indices)\n",
    "  - [Indexar con *.loc[]* y *iloc[]*](#indexar_loc_iloc)\n",
    "  - [Renombrar etiquetas de índices y columnas](#renombrar_etiquetas)\n",
    "- [Métodos avanzados](#pandas_metodos_avanzados)\n",
    "  - [Métodos *.apply()* y *.map()*](#metodos_apply_map)\n",
    "  - [Método *.copy()*](#metodo_copy)\n",
    "  - [Método *.groupby()*](#metodo_groupby)\n",
    "  - [Método *.agg()*](#metodo_agg)\n",
    "  \n",
    "- [Multi-índices](#pandas_multiindices)\n",
    "  - [Método *.set_index()*](#pandas_multiindices_set_index)\n",
    "  - [Método *.get_level_values()*](#pandas_multiindices_get_level_values)\n",
    "  - [Método *.set_names()*](#pandas_multiindices_set_names)\n",
    "  - [Indexar con *.loc()*](#pandas_multiindices_loc)\n",
    "  \n",
    "- [Ejercicios](#ejercicios)"
   ]
  },
  {
   "cell_type": "markdown",
   "metadata": {},
   "source": [
    "## Índices<a name=\"pandas_indices\"></a> \n",
    "[Volver al índice](#indice)"
   ]
  },
  {
   "cell_type": "markdown",
   "metadata": {},
   "source": [
    "En la primera sección de esta sesión nos vamos a centrar en diferentes métodos para indexar _DataFrames_. Para mostrar estos métodos vamos a emplear el dataset de películas de James Bond, que contiene la siguiente información:\n",
    "\n",
    "- Film: nombre de la película.\n",
    "- Year: año.\n",
    "- Actor: actor protagonista.\n",
    "- Director: director de la película.\n",
    "- Box Office: recaudación en millones de dólares.\n",
    "- Budget: presupuesto en millones de dólares.\n",
    "- Bond Actor Salary: salario del actor en millones de dólares."
   ]
  },
  {
   "cell_type": "code",
   "execution_count": null,
   "metadata": {},
   "outputs": [],
   "source": [
    "import pandas as pd\n",
    "import numpy as np\n",
    "\n",
    "df_bond = pd.read_csv(\"S6_datos/jamesbond.csv\")\n",
    "df_bond.head()"
   ]
  },
  {
   "cell_type": "markdown",
   "metadata": {},
   "source": [
    "### Métodos *.set_index()* y *.reset_index()*"
   ]
  },
  {
   "cell_type": "markdown",
   "metadata": {},
   "source": [
    "Por defecto el índice que se nos crea en un _DataFrame_ es numérico y va desde $0$ hasta $n-1$ filas. Podemos cambiar esto y poner nuestro propio índice utilizando el método *.set_index()*. El parámetro *inplace=True* realiza los cambios en el mismo _DataFrame_, y es equivalente a reasignar el resultado de *.set_index()* a la variable *df_bond*."
   ]
  },
  {
   "cell_type": "code",
   "execution_count": null,
   "metadata": {},
   "outputs": [],
   "source": [
    "df_bond.set_index(\"Film\", inplace=True)\n",
    "df_bond.head()"
   ]
  },
  {
   "cell_type": "markdown",
   "metadata": {},
   "source": [
    "Podemos observar que nuestro índice ahora es la columna Film. Si queremos volver al estado anterior de nuestro _DataFrame_ podemos resetear el índice con el método *.reset_index()*."
   ]
  },
  {
   "cell_type": "code",
   "execution_count": null,
   "metadata": {},
   "outputs": [],
   "source": [
    "df_bond.reset_index(drop=False).head()"
   ]
  },
  {
   "cell_type": "markdown",
   "metadata": {},
   "source": [
    "El parámetro *drop* le indica al método que el índice que se resetea, debe ser incluido de nuevo en el _DataFrame_. Por defecto *drop=False*."
   ]
  },
  {
   "cell_type": "code",
   "execution_count": null,
   "metadata": {},
   "outputs": [],
   "source": [
    "df_bond.sort_values('Budget', ascending=False).reset_index(drop=True).head()"
   ]
  },
  {
   "cell_type": "code",
   "execution_count": null,
   "metadata": {},
   "outputs": [],
   "source": [
    "df_bond.reset_index(drop=False, inplace=False)\n",
    "df_bond.head()"
   ]
  },
  {
   "cell_type": "markdown",
   "metadata": {},
   "source": [
    "Podemos realizar el cambio de un índice a otro:"
   ]
  },
  {
   "cell_type": "code",
   "execution_count": null,
   "metadata": {},
   "outputs": [],
   "source": [
    "df_bond.set_index(\"Film\", inplace=True)\n",
    "df_bond.head()"
   ]
  },
  {
   "cell_type": "markdown",
   "metadata": {},
   "source": [
    "Es muy importante resetear el índice antes de volver realizar un *._set_index()* de otro índice."
   ]
  },
  {
   "cell_type": "code",
   "execution_count": null,
   "metadata": {},
   "outputs": [],
   "source": [
    "df_bond.reset_index(inplace=True)\n",
    "df_bond.set_index(\"Year\", inplace=True)\n",
    "df_bond.head()"
   ]
  },
  {
   "cell_type": "markdown",
   "metadata": {},
   "source": [
    "### Indexar con *.loc[]* y *iloc[]*<a name=\"indexar_loc_iloc\"></a> \n",
    "[Volver al índice](#indice)"
   ]
  },
  {
   "cell_type": "markdown",
   "metadata": {},
   "source": [
    "#### Indexar con *.loc[]* a través de etiqueta"
   ]
  },
  {
   "cell_type": "markdown",
   "metadata": {},
   "source": [
    "Cargamos de nuevo el dataset indicando a pandas que utilice la columan \"Film\" como índice."
   ]
  },
  {
   "cell_type": "code",
   "execution_count": null,
   "metadata": {},
   "outputs": [],
   "source": [
    "df_bond = pd.read_csv(\"S6_datos/jamesbond.csv\", index_col=\"Film\")\n",
    "\n",
    "df_bond.sort_index(inplace=True)\n",
    "df_bond.head()"
   ]
  },
  {
   "cell_type": "markdown",
   "metadata": {},
   "source": [
    "Podemos preguntar si un elemento está en el índice de forma análoga a como lo hacíamos con las listas:"
   ]
  },
  {
   "cell_type": "code",
   "execution_count": null,
   "metadata": {},
   "outputs": [],
   "source": [
    "'Goldfinger' in df_bond.index"
   ]
  },
  {
   "cell_type": "markdown",
   "metadata": {},
   "source": [
    "Podemos realizar un acceso a las filas del _DataFrame_ a través del índice, usando el indexador *_loc_*. Por ejemplo, esto nos va a permitir extraer información correspondiente a una película. El resultado de la extracción es un objeto _Series_, cuyos índices son los nombres de las columnas del _DataFrame_."
   ]
  },
  {
   "cell_type": "code",
   "execution_count": null,
   "metadata": {},
   "outputs": [],
   "source": [
    "s_bond_goldfinger = df_bond.loc[\"Goldfinger\"]  #si quieres buscar algo por índice usas loc\n",
    "\n",
    "print(type(s_bond_goldfinger))\n",
    "s_bond_goldfinger"
   ]
  },
  {
   "cell_type": "markdown",
   "metadata": {},
   "source": [
    "También podemos realizar el acceso a esos elementos como hacíamos en el apartado de _Series_:"
   ]
  },
  {
   "cell_type": "code",
   "execution_count": null,
   "metadata": {},
   "outputs": [],
   "source": [
    "df_bond.loc[\"Goldfinger\"][\"Year\"], df_bond.loc[\"Goldfinger\"][\"Budget\"]"
   ]
  },
  {
   "cell_type": "code",
   "execution_count": null,
   "metadata": {},
   "outputs": [],
   "source": [
    "df_bond.loc[\"Goldfinger\"][[\"Year\", \"Budget\"]]"
   ]
  },
  {
   "cell_type": "markdown",
   "metadata": {},
   "source": [
    "Podemos extraer dos o más filas, incluso un rango de filas. En este caso, cuando el resultado es mayor de una fila, el objeto devuelto es un _DataFrame_ con la información a la que accedemos."
   ]
  },
  {
   "cell_type": "code",
   "execution_count": null,
   "metadata": {},
   "outputs": [],
   "source": [
    "df_bond_films = df_bond.loc[[\"Octopussy\", \"Moonraker\", \"Casino Royale\"]]  #accediendo por índice\n",
    "\n",
    "print(type(df_bond_films))\n",
    "df_bond_films"
   ]
  },
  {
   "cell_type": "code",
   "execution_count": null,
   "metadata": {},
   "outputs": [],
   "source": [
    "df_bond.loc[:\"Dr. No\"]"
   ]
  },
  {
   "cell_type": "markdown",
   "metadata": {},
   "source": [
    "**¡Cuidado! Porque esto último funciona bien porque tenemos el _DataFrame_ ordenado alfabéticamente, si no lo estuviese el comportamiento puede ser inesperado.**"
   ]
  },
  {
   "cell_type": "markdown",
   "metadata": {},
   "source": [
    "#### Indexar con *.iloc[]* a través de posición"
   ]
  },
  {
   "cell_type": "code",
   "execution_count": null,
   "metadata": {},
   "outputs": [],
   "source": [
    "df_bond = pd.read_csv(\"S6_datos/jamesbond.csv\")\n",
    "df_bond.head()"
   ]
  },
  {
   "cell_type": "markdown",
   "metadata": {},
   "source": [
    "De forma similar al acceso a través del índice, podemos acceder a un número de fila utilizando de *._iloc_[]*. De nuevo al acceder a una fila obtenemos un objeto _Series_."
   ]
  },
  {
   "cell_type": "code",
   "execution_count": null,
   "metadata": {},
   "outputs": [],
   "source": [
    "print(type(df_bond.iloc[0]))\n",
    "df_bond.iloc[0]"
   ]
  },
  {
   "cell_type": "code",
   "execution_count": null,
   "metadata": {},
   "outputs": [],
   "source": []
  },
  {
   "cell_type": "code",
   "execution_count": null,
   "metadata": {},
   "outputs": [],
   "source": [
    "df_bond.iloc[-5:]  # coges las últimas 5 películas"
   ]
  },
  {
   "cell_type": "markdown",
   "metadata": {},
   "source": [
    "El indexado funciona de forma análoga a una lista y podemos hacer _slicing_ y obtener rangos de datos."
   ]
  },
  {
   "cell_type": "code",
   "execution_count": null,
   "metadata": {},
   "outputs": [],
   "source": [
    "df_bond.iloc[10:15]"
   ]
  },
  {
   "cell_type": "code",
   "execution_count": null,
   "metadata": {},
   "outputs": [],
   "source": [
    "df_bond.iloc[-5:]"
   ]
  },
  {
   "cell_type": "markdown",
   "metadata": {},
   "source": [
    "¿Cuándo usar _loc_ o _iloc_? Las reglas básicas son:\n",
    "* _.loc[]_ para indexado con etiqueta de índice.\n",
    "* _.iloc[]_ para para indexado por posición de fila."
   ]
  },
  {
   "cell_type": "markdown",
   "metadata": {},
   "source": [
    "Estos métodos se pueden utilizar para acceder específicamente a una fila y una columna a la vez. Podemos imaginar que estamos accediendo a una celda de Excel (o un rango de celdas)."
   ]
  },
  {
   "cell_type": "code",
   "execution_count": null,
   "metadata": {},
   "outputs": [],
   "source": [
    "df_bond.set_index('Film', inplace=True)\n",
    "df_bond.head()"
   ]
  },
  {
   "cell_type": "markdown",
   "metadata": {},
   "source": [
    "Para acceder al año y actor de una película:"
   ]
  },
  {
   "cell_type": "code",
   "execution_count": null,
   "metadata": {},
   "outputs": [],
   "source": [
    "df_bond.loc['Dr. No', ['Year', 'Actor']]"
   ]
  },
  {
   "cell_type": "code",
   "execution_count": null,
   "metadata": {},
   "outputs": [],
   "source": [
    "df_bond.iloc[0, :2]"
   ]
  },
  {
   "cell_type": "markdown",
   "metadata": {},
   "source": [
    "Acceder a las películas 10 y 11, y las columnas (Director, Box Office, Budget):"
   ]
  },
  {
   "cell_type": "code",
   "execution_count": null,
   "metadata": {},
   "outputs": [],
   "source": [
    "df_bond.iloc[10:12, 2:5]"
   ]
  },
  {
   "cell_type": "markdown",
   "metadata": {},
   "source": [
    "También podemos modificar elementos de nuestro _DataFrame_ mediante el operador de asignación."
   ]
  },
  {
   "cell_type": "code",
   "execution_count": null,
   "metadata": {},
   "outputs": [],
   "source": [
    "df_bond.loc['A View to a Kill', 'Director'] = 'Juan Fernandez'\n",
    "print(df_bond.loc['A View to a Kill'])  # te devuelve una serie \n",
    "df_bond[df_bond.index == 'A View to a Kill']  #te devuelve un dataset"
   ]
  },
  {
   "cell_type": "code",
   "execution_count": null,
   "metadata": {},
   "outputs": [],
   "source": [
    "df_bond.iloc[1, 4] = 350\n",
    "df_bond.head()"
   ]
  },
  {
   "cell_type": "markdown",
   "metadata": {},
   "source": [
    "Se pueden realizar varios cambios a la vez:"
   ]
  },
  {
   "cell_type": "code",
   "execution_count": null,
   "metadata": {},
   "outputs": [],
   "source": [
    "df_bond.loc[\"Dr. No\", [\"Box Office\", \"Budget\", \"Bond Actor Salary\"]] = [448800000, 7000000, 600000]\n",
    "df_bond.head()"
   ]
  },
  {
   "cell_type": "markdown",
   "metadata": {},
   "source": [
    "Podemos realizar cambios a varias celdas a la vez utilizando el indexado booleano. Por ejemplo, vamos a actualizar el título nobiliario a Sean Connery:"
   ]
  },
  {
   "cell_type": "code",
   "execution_count": null,
   "metadata": {},
   "outputs": [],
   "source": [
    "df_bond = pd.read_csv(\"S6_datos/jamesbond.csv\")\n",
    "\n",
    "\n",
    "mask = df_bond[\"Actor\"] == \"Sean Connery\"\n",
    "df_bond.loc[mask, \"Actor\"] = \"Sir Sean Connery\"\n",
    "\n",
    "df_bond.loc[mask]"
   ]
  },
  {
   "cell_type": "markdown",
   "metadata": {},
   "source": [
    "**¡Cuidado! Esto modifica el _DataFrame_, no devuelve una copia. Al indexar con _.loc[]_ no se devuelve un nuevo _Dataframe_, por el contrario, cuando realizamos _slicing_ sí devuelve una copia.**"
   ]
  },
  {
   "cell_type": "code",
   "execution_count": null,
   "metadata": {},
   "outputs": [],
   "source": [
    "df_bond[df_bond['Actor'] == 'Sir Sean Connery']"
   ]
  },
  {
   "cell_type": "markdown",
   "metadata": {},
   "source": [
    "### Renombrar etiquetas de índices y columnas<a name=\"renombrar_etiquetas\"></a> \n",
    "[Volver al índice](#indice)"
   ]
  },
  {
   "cell_type": "code",
   "execution_count": null,
   "metadata": {},
   "outputs": [],
   "source": [
    "df_bond = pd.read_csv(\"S6_datos/jamesbond.csv\", index_col=\"Film\")\n",
    "\n",
    "df_bond.sort_index(inplace=True)\n",
    "df_bond.head()"
   ]
  },
  {
   "cell_type": "markdown",
   "metadata": {},
   "source": [
    "Podemos renombrar de forma sencilla una columna usando el metodo _.rename()_:"
   ]
  },
  {
   "cell_type": "code",
   "execution_count": null,
   "metadata": {},
   "outputs": [],
   "source": [
    "df_bond.rename(columns={\"Year\" : \"Release Date\", \"Box Office\" : \"Revenue\"}, inplace=True)\n",
    "df_bond.head()"
   ]
  },
  {
   "cell_type": "code",
   "execution_count": null,
   "metadata": {},
   "outputs": [],
   "source": [
    "df_bond.rename(index={\"Dr. No\" : \"Doctor No\", \n",
    "                      \"GoldenEye\" : \"Golden Eye\",\n",
    "                      \"The World Is Not Enough\" : \"Best Bond Movie Ever\"},\n",
    "               inplace=True)\n",
    "\n",
    "df_bond"
   ]
  },
  {
   "cell_type": "markdown",
   "metadata": {},
   "source": [
    "El atributo *.columns* devuelve las columnas del _DataFrame_. Estas columnas pueden renombrarse:"
   ]
  },
  {
   "cell_type": "code",
   "execution_count": null,
   "metadata": {},
   "outputs": [],
   "source": [
    "df_bond.columns"
   ]
  },
  {
   "cell_type": "code",
   "execution_count": null,
   "metadata": {},
   "outputs": [],
   "source": [
    "df_bond.columns = [\"Year of Release\", \"Director\", \"Gross Revenue\", \"Cost\", \"Actor\", \"Salary\"]\n",
    "df_bond.head()"
   ]
  },
  {
   "cell_type": "markdown",
   "metadata": {},
   "source": [
    "## Métodos avanzados<a name=\"pandas_metodos_avanzados\"></a> \n",
    "[Volver al índice](#indice)"
   ]
  },
  {
   "cell_type": "markdown",
   "metadata": {},
   "source": [
    "### Métodos *.apply()* y *.map()*<a name=\"metodos_apply_map\"></a> \n",
    "[Volver al índice](#indice)"
   ]
  },
  {
   "cell_type": "code",
   "execution_count": null,
   "metadata": {},
   "outputs": [],
   "source": [
    "df_bond = pd.read_csv(\"S6_datos/jamesbond.csv\", index_col=\"Film\")\n",
    "\n",
    "df_bond.sort_index(inplace=True)\n",
    "df_bond.head()"
   ]
  },
  {
   "cell_type": "markdown",
   "metadata": {},
   "source": [
    "Como vimos en los objetos _Series_, podemos utilizar el metodo _.map()_ para  mapear una función. Esto en _DataFrame_ podemos aprovecharlo y crear una nueva columna. Similar a la función *map()*, ésta nos permite utilizar funciones lambda o funciones definidas."
   ]
  },
  {
   "cell_type": "code",
   "execution_count": null,
   "metadata": {},
   "outputs": [],
   "source": [
    "df_bond['above_5M'] = df_bond['Bond Actor Salary'].map(lambda x: True if x > 5 else False)\n",
    "df_bond.head()"
   ]
  },
  {
   "cell_type": "markdown",
   "metadata": {},
   "source": [
    "Para _DataFrames_ existe un método llamado _.apply()_ que nos va a permitir actuar a nivel de fila. El concepto es similar a _.map()_ solo que ahora podemos acceder a todos los registros de la fila."
   ]
  },
  {
   "cell_type": "code",
   "execution_count": null,
   "metadata": {},
   "outputs": [],
   "source": [
    "def film_review(row):\n",
    "    actor = row['Actor']\n",
    "    budget = row['Budget']\n",
    "    \n",
    "    if actor == \"Pierce Brosnan\":\n",
    "        return \"Cool!\"\n",
    "    elif actor == \"Roger Moore\" and budget > 40:\n",
    "        return \"Okish\"\n",
    "    else:\n",
    "        return \"No idea\""
   ]
  },
  {
   "cell_type": "code",
   "execution_count": null,
   "metadata": {},
   "outputs": [],
   "source": [
    "df_bond[\"film_review\"] = df_bond.apply(film_review, axis=\"columns\")"
   ]
  },
  {
   "cell_type": "code",
   "execution_count": null,
   "metadata": {},
   "outputs": [],
   "source": [
    "df_bond.head()"
   ]
  },
  {
   "cell_type": "markdown",
   "metadata": {},
   "source": [
    "Con este nuevo método hemos aumentado la versatilidad significativamente. La regla general sería:\n",
    "- _.map()_ para aplicar una función en una columna.\n",
    "- _.apply()_ para aplicar una función en una fila.\n",
    "\n",
    "\n",
    "*.apply()* también se puede aplicar en columnas, aunque *.map()* es generalmente más rápido."
   ]
  },
  {
   "cell_type": "markdown",
   "metadata": {},
   "source": [
    "### Método *.copy()*<a name=\"metodo_copy\"></a> \n",
    "[Volver al índice](#indice)"
   ]
  },
  {
   "cell_type": "code",
   "execution_count": null,
   "metadata": {},
   "outputs": [],
   "source": [
    "df_bond = pd.read_csv(\"S6_datos/jamesbond.csv\", index_col=\"Film\")\n",
    "\n",
    "df_bond.sort_index(inplace=True)\n",
    "df_bond.head()"
   ]
  },
  {
   "cell_type": "markdown",
   "metadata": {},
   "source": [
    "Como hemos visto en muchas ocasiones, para hacer un uso de memoria eficiente, Python no copia los valores del _DataFrame_, sino que produce una referencia al mismo. En ocasiones nos puede interesar realizar una copia del _DataFrame_, esto se hace con el método _.copy()_."
   ]
  },
  {
   "cell_type": "code",
   "execution_count": null,
   "metadata": {},
   "outputs": [],
   "source": [
    "df_bond_copied = df_bond.copy()"
   ]
  },
  {
   "cell_type": "markdown",
   "metadata": {},
   "source": [
    "Ahora si modificamos algo, sólo se ve afectado uno de los _DataFrame_."
   ]
  },
  {
   "cell_type": "code",
   "execution_count": null,
   "metadata": {},
   "outputs": [],
   "source": [
    "df_bond.loc[df_bond['Actor'] == 'Roger Moore', 'Actor'] = 'Jeremy Irons'\n",
    "df_bond.head()"
   ]
  },
  {
   "cell_type": "code",
   "execution_count": null,
   "metadata": {},
   "outputs": [],
   "source": [
    "df_bond_copied.head()"
   ]
  },
  {
   "cell_type": "markdown",
   "metadata": {},
   "source": [
    "### Método *.groupby()*<a name=\"metodo_groupby\"></a> \n",
    "[Volver al índice](#indice)"
   ]
  },
  {
   "cell_type": "markdown",
   "metadata": {},
   "source": [
    "Pandas radica en su sencillez a la hora de dividir, aplicar funciones y combinar de nuevo. Esto se conoce como la metodología _split-apply-combine_. Vamos a estudiar cómo aplicar todo esto con un _DataFrame_ de empresas americanas. El dataset es:\n",
    "\n",
    "- Rank: posición de la compañía en la lista Fortune 1000.\n",
    "- Company: nombre de la compañía.\n",
    "- Sector: sector de la compañía.\n",
    "- Industry: industria de la compañía.\n",
    "- Location: ciudad donde se localizan los HQ.\n",
    "- Revenue: ingresos en millones de dólares.\n",
    "- Profits: beneficios en millones de dólares.\n",
    "- Empleados: número de empleados."
   ]
  },
  {
   "cell_type": "code",
   "execution_count": null,
   "metadata": {},
   "outputs": [],
   "source": [
    "df_fortune = pd.read_csv(\"S6_datos/fortune1000.csv\", index_col=\"Rank\")\n",
    "\n",
    "df_fortune.head()"
   ]
  },
  {
   "cell_type": "code",
   "execution_count": null,
   "metadata": {},
   "outputs": [],
   "source": [
    "df_fortune.shape"
   ]
  },
  {
   "cell_type": "markdown",
   "metadata": {},
   "source": [
    "Agrupamos por sectores y obtenemos un objeto *groupby*:"
   ]
  },
  {
   "cell_type": "code",
   "execution_count": null,
   "metadata": {},
   "outputs": [],
   "source": [
    "sectors = df_fortune.groupby(\"Sector\")\n",
    "\n",
    "type(sectors)"
   ]
  },
  {
   "cell_type": "markdown",
   "metadata": {},
   "source": [
    "Ahora de una forma muy sencilla se pueden aplicar funciones de cálculo a cada uno de los grupos."
   ]
  },
  {
   "cell_type": "code",
   "execution_count": null,
   "metadata": {},
   "outputs": [],
   "source": [
    "sectors.sum()"
   ]
  },
  {
   "cell_type": "markdown",
   "metadata": {},
   "source": [
    "Se aplica la función _.sum()_ a cada uno de los grupos para todas las columnas numéricas, por eso obtenemos las tres de arriba."
   ]
  },
  {
   "cell_type": "code",
   "execution_count": null,
   "metadata": {},
   "outputs": [],
   "source": [
    "sectors[\"Revenue\"].sum().head()"
   ]
  },
  {
   "cell_type": "code",
   "execution_count": null,
   "metadata": {},
   "outputs": [],
   "source": [
    "sectors.describe()"
   ]
  },
  {
   "cell_type": "markdown",
   "metadata": {},
   "source": [
    "Si queremos saber cuáles son los 5 que tienen la media mas alta, podemos simplemente ordenar el _DataFrame_ y sacar el resultado."
   ]
  },
  {
   "cell_type": "code",
   "execution_count": null,
   "metadata": {},
   "outputs": [],
   "source": [
    "sectors['Revenue'].sum().sort_values(ascending=False).head()"
   ]
  },
  {
   "cell_type": "markdown",
   "metadata": {},
   "source": [
    "Las funciones _.head()_ y _.tail()_ son interesantes de aplicar, porque nos permiten acceder a los primeros/últimos $n$ registros de cada grupo. Si ordenamos el _DataFrame_ por ingresos y luego aplicamos una de estas funciones, después de agrupar podemos obtener, de forma sencilla, las empresas de cada sector que más ingresos tienen."
   ]
  },
  {
   "cell_type": "code",
   "execution_count": null,
   "metadata": {},
   "outputs": [],
   "source": [
    "sectors = df_fortune.sort_values('Revenue', ascending=False).groupby(\"Sector\")\n",
    "sectors.head(1).sort_values(\"Sector\")"
   ]
  },
  {
   "cell_type": "markdown",
   "metadata": {},
   "source": [
    "Podemos agrupar por más de un campo y realizar los cálculos de la misma forma."
   ]
  },
  {
   "cell_type": "code",
   "execution_count": null,
   "metadata": {},
   "outputs": [],
   "source": [
    "sectors = df_fortune.groupby(['Sector','Industry'])\n",
    "sectors.median()"
   ]
  },
  {
   "cell_type": "markdown",
   "metadata": {},
   "source": [
    "Si uno quiere transformar el objeto _groupby_ en un _DataFrame_, es tan sencillo como resetear el índice y ya tenemos un _DataFrame_ con nuestros cálculos."
   ]
  },
  {
   "cell_type": "code",
   "execution_count": null,
   "metadata": {},
   "outputs": [],
   "source": [
    "sectors.median().reset_index()"
   ]
  },
  {
   "cell_type": "markdown",
   "metadata": {},
   "source": [
    "### Método *.agg()*<a name=\"metodo_agg\"></a> \n",
    "[Volver al índice](#indice)"
   ]
  },
  {
   "cell_type": "code",
   "execution_count": 184,
   "metadata": {},
   "outputs": [
    {
     "data": {
      "text/html": [
       "<div>\n",
       "<style scoped>\n",
       "    .dataframe tbody tr th:only-of-type {\n",
       "        vertical-align: middle;\n",
       "    }\n",
       "\n",
       "    .dataframe tbody tr th {\n",
       "        vertical-align: top;\n",
       "    }\n",
       "\n",
       "    .dataframe thead th {\n",
       "        text-align: right;\n",
       "    }\n",
       "</style>\n",
       "<table border=\"1\" class=\"dataframe\">\n",
       "  <thead>\n",
       "    <tr style=\"text-align: right;\">\n",
       "      <th></th>\n",
       "      <th>Company</th>\n",
       "      <th>Sector</th>\n",
       "      <th>Industry</th>\n",
       "      <th>Location</th>\n",
       "      <th>Revenue</th>\n",
       "      <th>Profits</th>\n",
       "      <th>Employees</th>\n",
       "    </tr>\n",
       "    <tr>\n",
       "      <th>Rank</th>\n",
       "      <th></th>\n",
       "      <th></th>\n",
       "      <th></th>\n",
       "      <th></th>\n",
       "      <th></th>\n",
       "      <th></th>\n",
       "      <th></th>\n",
       "    </tr>\n",
       "  </thead>\n",
       "  <tbody>\n",
       "    <tr>\n",
       "      <th>1</th>\n",
       "      <td>Walmart</td>\n",
       "      <td>Retailing</td>\n",
       "      <td>General Merchandisers</td>\n",
       "      <td>Bentonville, AR</td>\n",
       "      <td>482130</td>\n",
       "      <td>14694</td>\n",
       "      <td>2300000</td>\n",
       "    </tr>\n",
       "    <tr>\n",
       "      <th>2</th>\n",
       "      <td>Exxon Mobil</td>\n",
       "      <td>Energy</td>\n",
       "      <td>Petroleum Refining</td>\n",
       "      <td>Irving, TX</td>\n",
       "      <td>246204</td>\n",
       "      <td>16150</td>\n",
       "      <td>75600</td>\n",
       "    </tr>\n",
       "    <tr>\n",
       "      <th>3</th>\n",
       "      <td>Apple</td>\n",
       "      <td>Technology</td>\n",
       "      <td>Computers, Office Equipment</td>\n",
       "      <td>Cupertino, CA</td>\n",
       "      <td>233715</td>\n",
       "      <td>53394</td>\n",
       "      <td>110000</td>\n",
       "    </tr>\n",
       "    <tr>\n",
       "      <th>4</th>\n",
       "      <td>Berkshire Hathaway</td>\n",
       "      <td>Financials</td>\n",
       "      <td>Insurance: Property and Casualty (Stock)</td>\n",
       "      <td>Omaha, NE</td>\n",
       "      <td>210821</td>\n",
       "      <td>24083</td>\n",
       "      <td>331000</td>\n",
       "    </tr>\n",
       "    <tr>\n",
       "      <th>5</th>\n",
       "      <td>McKesson</td>\n",
       "      <td>Health Care</td>\n",
       "      <td>Wholesalers: Health Care</td>\n",
       "      <td>San Francisco, CA</td>\n",
       "      <td>181241</td>\n",
       "      <td>1476</td>\n",
       "      <td>70400</td>\n",
       "    </tr>\n",
       "  </tbody>\n",
       "</table>\n",
       "</div>"
      ],
      "text/plain": [
       "                 Company       Sector  \\\n",
       "Rank                                    \n",
       "1                Walmart    Retailing   \n",
       "2            Exxon Mobil       Energy   \n",
       "3                  Apple   Technology   \n",
       "4     Berkshire Hathaway   Financials   \n",
       "5               McKesson  Health Care   \n",
       "\n",
       "                                      Industry           Location  Revenue  \\\n",
       "Rank                                                                         \n",
       "1                        General Merchandisers    Bentonville, AR   482130   \n",
       "2                           Petroleum Refining         Irving, TX   246204   \n",
       "3                  Computers, Office Equipment      Cupertino, CA   233715   \n",
       "4     Insurance: Property and Casualty (Stock)          Omaha, NE   210821   \n",
       "5                     Wholesalers: Health Care  San Francisco, CA   181241   \n",
       "\n",
       "      Profits  Employees  \n",
       "Rank                      \n",
       "1       14694    2300000  \n",
       "2       16150      75600  \n",
       "3       53394     110000  \n",
       "4       24083     331000  \n",
       "5        1476      70400  "
      ]
     },
     "execution_count": 184,
     "metadata": {},
     "output_type": "execute_result"
    }
   ],
   "source": [
    "df_fortune = pd.read_csv(\"S6_datos/fortune1000.csv\")\n",
    "df_fortune = df_fortune.set_index(\"Rank\", drop = True)\n",
    "sectors = df_fortune.groupby(\"Rank\")\n",
    "df_fortune.head()"
   ]
  },
  {
   "cell_type": "markdown",
   "metadata": {},
   "source": [
    "El método *.agg()* nos va a permitir aplicar varios cálculos sobre diferentes columnas:"
   ]
  },
  {
   "cell_type": "code",
   "execution_count": null,
   "metadata": {},
   "outputs": [],
   "source": [
    "sectors.agg({\"Revenue\" : [\"sum\", \"mean\"],\n",
    "             \"Profits\" : \"sum\",\n",
    "             \"Employees\" : \"mean\"})"
   ]
  },
  {
   "cell_type": "markdown",
   "metadata": {},
   "source": [
    "Podemos aplicar _.apply()_ para los grupos. Si queremos calcular cuales son las empresas de cada sector que más profit generan. Usando _.groupby()_ podemos definir una función que llamaremos _ranker()_. Esta función etiqueta cada fila de $1$ a $n$, donde $n$ es el número de empresas en cada sector. Después, llamamos a _.apply()_ para aplicar la función a cada grupo (en este caso cada sector). "
   ]
  },
  {
   "cell_type": "code",
   "execution_count": null,
   "metadata": {},
   "outputs": [],
   "source": [
    "def ranker(df):\n",
    "    \"\"\"Asigna una posición en el ranking a cada empresa según \n",
    "    su profit siendo 1 la que mas profit genera.\n",
    "    Asume que los datos estan ordenados de forma descendente.\"\"\"\n",
    "    \n",
    "    df['sector_profit_rank'] = np.arange(1, len(df) + 1)\n",
    "    return df"
   ]
  },
  {
   "cell_type": "code",
   "execution_count": null,
   "metadata": {},
   "outputs": [],
   "source": [
    "df_fortune = pd.read_csv(\"S6_datos/fortune1000.csv\")\n",
    "\n",
    "df_fortune = df_fortune.sort_values('Profits', ascending=False)\n",
    "df_fortune.head()"
   ]
  },
  {
   "cell_type": "code",
   "execution_count": null,
   "metadata": {},
   "outputs": [],
   "source": [
    "df_fortune = df_fortune.groupby('Sector').apply(ranker)\n",
    "df_fortune[df_fortune['sector_profit_rank'] == 1].head()"
   ]
  },
  {
   "cell_type": "markdown",
   "metadata": {},
   "source": [
    "## Multi-índices<a name=\"pandas_multiindices\"></a> \n",
    "[Volver al índice](#indice)"
   ]
  },
  {
   "cell_type": "markdown",
   "metadata": {},
   "source": [
    "Los multi-índices nos permiten añadir más de un índice a nuestros _DataFrames_, esto nos sirve para categorizar los _DataFrames_ de mejor forma, ya sea, a través de más índices, o mediante más capas o layers."
   ]
  },
  {
   "cell_type": "markdown",
   "metadata": {},
   "source": [
    "Para ver el uso de multi-índices, cargamos un fichero que contiene el precio de la hamburguesa BigMac en varios países:"
   ]
  },
  {
   "cell_type": "code",
   "execution_count": 301,
   "metadata": {},
   "outputs": [
    {
     "data": {
      "text/html": [
       "<div>\n",
       "<style scoped>\n",
       "    .dataframe tbody tr th:only-of-type {\n",
       "        vertical-align: middle;\n",
       "    }\n",
       "\n",
       "    .dataframe tbody tr th {\n",
       "        vertical-align: top;\n",
       "    }\n",
       "\n",
       "    .dataframe thead th {\n",
       "        text-align: right;\n",
       "    }\n",
       "</style>\n",
       "<table border=\"1\" class=\"dataframe\">\n",
       "  <thead>\n",
       "    <tr style=\"text-align: right;\">\n",
       "      <th></th>\n",
       "      <th>Date</th>\n",
       "      <th>Country</th>\n",
       "      <th>Price in US Dollars</th>\n",
       "    </tr>\n",
       "  </thead>\n",
       "  <tbody>\n",
       "    <tr>\n",
       "      <th>42</th>\n",
       "      <td>1/2016</td>\n",
       "      <td>Venezuela</td>\n",
       "      <td>0.66</td>\n",
       "    </tr>\n",
       "    <tr>\n",
       "      <th>98</th>\n",
       "      <td>7/2015</td>\n",
       "      <td>Venezuela</td>\n",
       "      <td>0.67</td>\n",
       "    </tr>\n",
       "    <tr>\n",
       "      <th>151</th>\n",
       "      <td>1/2015</td>\n",
       "      <td>Ukraine</td>\n",
       "      <td>1.20</td>\n",
       "    </tr>\n",
       "    <tr>\n",
       "      <th>139</th>\n",
       "      <td>1/2015</td>\n",
       "      <td>Russia</td>\n",
       "      <td>1.36</td>\n",
       "    </tr>\n",
       "    <tr>\n",
       "      <th>297</th>\n",
       "      <td>7/2013</td>\n",
       "      <td>India</td>\n",
       "      <td>1.50</td>\n",
       "    </tr>\n",
       "  </tbody>\n",
       "</table>\n",
       "</div>"
      ],
      "text/plain": [
       "       Date    Country  Price in US Dollars\n",
       "42   1/2016  Venezuela                 0.66\n",
       "98   7/2015  Venezuela                 0.67\n",
       "151  1/2015    Ukraine                 1.20\n",
       "139  1/2015     Russia                 1.36\n",
       "297  7/2013      India                 1.50"
      ]
     },
     "execution_count": 301,
     "metadata": {},
     "output_type": "execute_result"
    }
   ],
   "source": [
    "df_bigmac = pd.read_csv(\"S6_datos/bigmac.csv\")\n",
    "\n",
    "df_bigmac.sort_values('Price in US Dollars').head()"
   ]
  },
  {
   "cell_type": "code",
   "execution_count": 302,
   "metadata": {},
   "outputs": [
    {
     "name": "stdout",
     "output_type": "stream",
     "text": [
      "<class 'pandas.core.frame.DataFrame'>\n",
      "RangeIndex: 652 entries, 0 to 651\n",
      "Data columns (total 3 columns):\n",
      " #   Column               Non-Null Count  Dtype  \n",
      "---  ------               --------------  -----  \n",
      " 0   Date                 652 non-null    object \n",
      " 1   Country              652 non-null    object \n",
      " 2   Price in US Dollars  652 non-null    float64\n",
      "dtypes: float64(1), object(2)\n",
      "memory usage: 15.4+ KB\n"
     ]
    }
   ],
   "source": [
    "df_bigmac.info()"
   ]
  },
  {
   "cell_type": "markdown",
   "metadata": {},
   "source": [
    "Especificamos a Pandas que trate la columna \"Date\" como fecha, convertiéndola a tipo *datetime*:"
   ]
  },
  {
   "cell_type": "code",
   "execution_count": 303,
   "metadata": {},
   "outputs": [
    {
     "data": {
      "text/html": [
       "<div>\n",
       "<style scoped>\n",
       "    .dataframe tbody tr th:only-of-type {\n",
       "        vertical-align: middle;\n",
       "    }\n",
       "\n",
       "    .dataframe tbody tr th {\n",
       "        vertical-align: top;\n",
       "    }\n",
       "\n",
       "    .dataframe thead th {\n",
       "        text-align: right;\n",
       "    }\n",
       "</style>\n",
       "<table border=\"1\" class=\"dataframe\">\n",
       "  <thead>\n",
       "    <tr style=\"text-align: right;\">\n",
       "      <th></th>\n",
       "      <th>Date</th>\n",
       "      <th>Country</th>\n",
       "      <th>Price in US Dollars</th>\n",
       "    </tr>\n",
       "  </thead>\n",
       "  <tbody>\n",
       "    <tr>\n",
       "      <th>0</th>\n",
       "      <td>2016-01-01</td>\n",
       "      <td>Argentina</td>\n",
       "      <td>2.39</td>\n",
       "    </tr>\n",
       "    <tr>\n",
       "      <th>1</th>\n",
       "      <td>2016-01-01</td>\n",
       "      <td>Australia</td>\n",
       "      <td>3.74</td>\n",
       "    </tr>\n",
       "    <tr>\n",
       "      <th>2</th>\n",
       "      <td>2016-01-01</td>\n",
       "      <td>Brazil</td>\n",
       "      <td>3.35</td>\n",
       "    </tr>\n",
       "    <tr>\n",
       "      <th>3</th>\n",
       "      <td>2016-01-01</td>\n",
       "      <td>Britain</td>\n",
       "      <td>4.22</td>\n",
       "    </tr>\n",
       "    <tr>\n",
       "      <th>4</th>\n",
       "      <td>2016-01-01</td>\n",
       "      <td>Canada</td>\n",
       "      <td>4.14</td>\n",
       "    </tr>\n",
       "  </tbody>\n",
       "</table>\n",
       "</div>"
      ],
      "text/plain": [
       "        Date    Country  Price in US Dollars\n",
       "0 2016-01-01  Argentina                 2.39\n",
       "1 2016-01-01  Australia                 3.74\n",
       "2 2016-01-01     Brazil                 3.35\n",
       "3 2016-01-01    Britain                 4.22\n",
       "4 2016-01-01     Canada                 4.14"
      ]
     },
     "execution_count": 303,
     "metadata": {},
     "output_type": "execute_result"
    }
   ],
   "source": [
    "df_bigmac = pd.read_csv(\"S6_datos/bigmac.csv\", parse_dates=[\"Date\"])\n",
    "df_bigmac.head()"
   ]
  },
  {
   "cell_type": "code",
   "execution_count": null,
   "metadata": {},
   "outputs": [],
   "source": [
    "df_bigmac.info()"
   ]
  },
  {
   "cell_type": "markdown",
   "metadata": {},
   "source": [
    "### Método *.set_index()*<a name=\"pandas_multiindices_set_index\"></a> \n",
    "[Volver al índice](#indice)"
   ]
  },
  {
   "cell_type": "markdown",
   "metadata": {},
   "source": [
    "Ya hemos utilizado *.set_index()* antes para crear un nuevo índice sobre un _DataFrame_, en este caso, lo vamos a hacer para crear uno múltiple, pero primero repasamos como funcionaba con un único parámetro:"
   ]
  },
  {
   "cell_type": "code",
   "execution_count": 304,
   "metadata": {},
   "outputs": [
    {
     "data": {
      "text/html": [
       "<div>\n",
       "<style scoped>\n",
       "    .dataframe tbody tr th:only-of-type {\n",
       "        vertical-align: middle;\n",
       "    }\n",
       "\n",
       "    .dataframe tbody tr th {\n",
       "        vertical-align: top;\n",
       "    }\n",
       "\n",
       "    .dataframe thead th {\n",
       "        text-align: right;\n",
       "    }\n",
       "</style>\n",
       "<table border=\"1\" class=\"dataframe\">\n",
       "  <thead>\n",
       "    <tr style=\"text-align: right;\">\n",
       "      <th></th>\n",
       "      <th>Country</th>\n",
       "      <th>Price in US Dollars</th>\n",
       "    </tr>\n",
       "    <tr>\n",
       "      <th>Date</th>\n",
       "      <th></th>\n",
       "      <th></th>\n",
       "    </tr>\n",
       "  </thead>\n",
       "  <tbody>\n",
       "    <tr>\n",
       "      <th>2016-01-01</th>\n",
       "      <td>Argentina</td>\n",
       "      <td>2.39</td>\n",
       "    </tr>\n",
       "    <tr>\n",
       "      <th>2016-01-01</th>\n",
       "      <td>Australia</td>\n",
       "      <td>3.74</td>\n",
       "    </tr>\n",
       "    <tr>\n",
       "      <th>2016-01-01</th>\n",
       "      <td>Brazil</td>\n",
       "      <td>3.35</td>\n",
       "    </tr>\n",
       "    <tr>\n",
       "      <th>2016-01-01</th>\n",
       "      <td>Britain</td>\n",
       "      <td>4.22</td>\n",
       "    </tr>\n",
       "    <tr>\n",
       "      <th>2016-01-01</th>\n",
       "      <td>Canada</td>\n",
       "      <td>4.14</td>\n",
       "    </tr>\n",
       "  </tbody>\n",
       "</table>\n",
       "</div>"
      ],
      "text/plain": [
       "              Country  Price in US Dollars\n",
       "Date                                      \n",
       "2016-01-01  Argentina                 2.39\n",
       "2016-01-01  Australia                 3.74\n",
       "2016-01-01     Brazil                 3.35\n",
       "2016-01-01    Britain                 4.22\n",
       "2016-01-01     Canada                 4.14"
      ]
     },
     "execution_count": 304,
     "metadata": {},
     "output_type": "execute_result"
    }
   ],
   "source": [
    "df_bigmac_dates = df_bigmac.set_index(keys=[\"Date\"])\n",
    "df_bigmac_dates.head()\n"
   ]
  },
  {
   "cell_type": "code",
   "execution_count": 305,
   "metadata": {},
   "outputs": [
    {
     "data": {
      "text/plain": [
       "3.303928571428571"
      ]
     },
     "execution_count": 305,
     "metadata": {},
     "output_type": "execute_result"
    }
   ],
   "source": [
    "df_bigmac_dates.loc['2016-01-01', 'Price in US Dollars'].mean()"
   ]
  },
  {
   "cell_type": "markdown",
   "metadata": {},
   "source": [
    "Podemos ver que la columna \"Date\" se convierte en índice, porque se mueve a la izquierda y está en negrita. Vamos a crear un multiIndex con las columnas \"Date\" y \"Country\":"
   ]
  },
  {
   "cell_type": "code",
   "execution_count": 306,
   "metadata": {},
   "outputs": [
    {
     "data": {
      "text/html": [
       "<div>\n",
       "<style scoped>\n",
       "    .dataframe tbody tr th:only-of-type {\n",
       "        vertical-align: middle;\n",
       "    }\n",
       "\n",
       "    .dataframe tbody tr th {\n",
       "        vertical-align: top;\n",
       "    }\n",
       "\n",
       "    .dataframe thead th {\n",
       "        text-align: right;\n",
       "    }\n",
       "</style>\n",
       "<table border=\"1\" class=\"dataframe\">\n",
       "  <thead>\n",
       "    <tr style=\"text-align: right;\">\n",
       "      <th></th>\n",
       "      <th></th>\n",
       "      <th>Price in US Dollars</th>\n",
       "    </tr>\n",
       "    <tr>\n",
       "      <th>Date</th>\n",
       "      <th>Country</th>\n",
       "      <th></th>\n",
       "    </tr>\n",
       "  </thead>\n",
       "  <tbody>\n",
       "    <tr>\n",
       "      <th rowspan=\"5\" valign=\"top\">2016-01-01</th>\n",
       "      <th>Argentina</th>\n",
       "      <td>2.39</td>\n",
       "    </tr>\n",
       "    <tr>\n",
       "      <th>Australia</th>\n",
       "      <td>3.74</td>\n",
       "    </tr>\n",
       "    <tr>\n",
       "      <th>Brazil</th>\n",
       "      <td>3.35</td>\n",
       "    </tr>\n",
       "    <tr>\n",
       "      <th>Britain</th>\n",
       "      <td>4.22</td>\n",
       "    </tr>\n",
       "    <tr>\n",
       "      <th>Canada</th>\n",
       "      <td>4.14</td>\n",
       "    </tr>\n",
       "  </tbody>\n",
       "</table>\n",
       "</div>"
      ],
      "text/plain": [
       "                      Price in US Dollars\n",
       "Date       Country                       \n",
       "2016-01-01 Argentina                 2.39\n",
       "           Australia                 3.74\n",
       "           Brazil                    3.35\n",
       "           Britain                   4.22\n",
       "           Canada                    4.14"
      ]
     },
     "execution_count": 306,
     "metadata": {},
     "output_type": "execute_result"
    }
   ],
   "source": [
    "df_bigmac = pd.read_csv(\"S6_datos/bigmac.csv\", parse_dates=[\"Date\"])\n",
    "\n",
    "df_bigmac.set_index(keys=[\"Date\", \"Country\"], inplace=True)\n",
    "df_bigmac.head()"
   ]
  },
  {
   "cell_type": "code",
   "execution_count": null,
   "metadata": {},
   "outputs": [],
   "source": [
    "df_bigmac.loc[('2016-01-01','Argentina')]"
   ]
  },
  {
   "cell_type": "code",
   "execution_count": 309,
   "metadata": {},
   "outputs": [
    {
     "data": {
      "text/html": [
       "<div>\n",
       "<style scoped>\n",
       "    .dataframe tbody tr th:only-of-type {\n",
       "        vertical-align: middle;\n",
       "    }\n",
       "\n",
       "    .dataframe tbody tr th {\n",
       "        vertical-align: top;\n",
       "    }\n",
       "\n",
       "    .dataframe thead th {\n",
       "        text-align: right;\n",
       "    }\n",
       "</style>\n",
       "<table border=\"1\" class=\"dataframe\">\n",
       "  <thead>\n",
       "    <tr style=\"text-align: right;\">\n",
       "      <th></th>\n",
       "      <th></th>\n",
       "      <th>Price in US Dollars</th>\n",
       "    </tr>\n",
       "    <tr>\n",
       "      <th>Date</th>\n",
       "      <th>Country</th>\n",
       "      <th></th>\n",
       "    </tr>\n",
       "  </thead>\n",
       "  <tbody>\n",
       "    <tr>\n",
       "      <th rowspan=\"5\" valign=\"top\">2010-01-01</th>\n",
       "      <th>Uruguay</th>\n",
       "      <td>3.32</td>\n",
       "    </tr>\n",
       "    <tr>\n",
       "      <th>United States</th>\n",
       "      <td>3.58</td>\n",
       "    </tr>\n",
       "    <tr>\n",
       "      <th>Ukraine</th>\n",
       "      <td>1.83</td>\n",
       "    </tr>\n",
       "    <tr>\n",
       "      <th>UAE</th>\n",
       "      <td>2.99</td>\n",
       "    </tr>\n",
       "    <tr>\n",
       "      <th>Turkey</th>\n",
       "      <td>3.83</td>\n",
       "    </tr>\n",
       "  </tbody>\n",
       "</table>\n",
       "</div>"
      ],
      "text/plain": [
       "                          Price in US Dollars\n",
       "Date       Country                           \n",
       "2010-01-01 Uruguay                       3.32\n",
       "           United States                 3.58\n",
       "           Ukraine                       1.83\n",
       "           UAE                           2.99\n",
       "           Turkey                        3.83"
      ]
     },
     "execution_count": 309,
     "metadata": {},
     "output_type": "execute_result"
    }
   ],
   "source": [
    "df_bigmac.sort_index(ascending=[True, False], inplace=True)\n",
    "df_bigmac.head()"
   ]
  },
  {
   "cell_type": "markdown",
   "metadata": {},
   "source": [
    "Vamos a ver qué pasa si intentamos ordenar los índices. Usamos la función *.sort_index()*:"
   ]
  },
  {
   "cell_type": "code",
   "execution_count": 310,
   "metadata": {},
   "outputs": [
    {
     "data": {
      "text/html": [
       "<div>\n",
       "<style scoped>\n",
       "    .dataframe tbody tr th:only-of-type {\n",
       "        vertical-align: middle;\n",
       "    }\n",
       "\n",
       "    .dataframe tbody tr th {\n",
       "        vertical-align: top;\n",
       "    }\n",
       "\n",
       "    .dataframe thead th {\n",
       "        text-align: right;\n",
       "    }\n",
       "</style>\n",
       "<table border=\"1\" class=\"dataframe\">\n",
       "  <thead>\n",
       "    <tr style=\"text-align: right;\">\n",
       "      <th></th>\n",
       "      <th></th>\n",
       "      <th>Price in US Dollars</th>\n",
       "    </tr>\n",
       "    <tr>\n",
       "      <th>Date</th>\n",
       "      <th>Country</th>\n",
       "      <th></th>\n",
       "    </tr>\n",
       "  </thead>\n",
       "  <tbody>\n",
       "    <tr>\n",
       "      <th rowspan=\"5\" valign=\"top\">2010-01-01</th>\n",
       "      <th>Argentina</th>\n",
       "      <td>1.84</td>\n",
       "    </tr>\n",
       "    <tr>\n",
       "      <th>Australia</th>\n",
       "      <td>3.98</td>\n",
       "    </tr>\n",
       "    <tr>\n",
       "      <th>Brazil</th>\n",
       "      <td>4.76</td>\n",
       "    </tr>\n",
       "    <tr>\n",
       "      <th>Britain</th>\n",
       "      <td>3.67</td>\n",
       "    </tr>\n",
       "    <tr>\n",
       "      <th>Canada</th>\n",
       "      <td>3.97</td>\n",
       "    </tr>\n",
       "  </tbody>\n",
       "</table>\n",
       "</div>"
      ],
      "text/plain": [
       "                      Price in US Dollars\n",
       "Date       Country                       \n",
       "2010-01-01 Argentina                 1.84\n",
       "           Australia                 3.98\n",
       "           Brazil                    4.76\n",
       "           Britain                   3.67\n",
       "           Canada                    3.97"
      ]
     },
     "execution_count": 310,
     "metadata": {},
     "output_type": "execute_result"
    }
   ],
   "source": [
    "df_bigmac.sort_index(inplace=True)\n",
    "df_bigmac.head()"
   ]
  },
  {
   "cell_type": "markdown",
   "metadata": {},
   "source": [
    "Como vemos se ordenan de forma ascendente los dos valores, \"Date\" y \"Country\". Veamos como obtener información de los índices."
   ]
  },
  {
   "cell_type": "code",
   "execution_count": null,
   "metadata": {},
   "outputs": [],
   "source": [
    "df_bigmac.index[:5]"
   ]
  },
  {
   "cell_type": "code",
   "execution_count": null,
   "metadata": {},
   "outputs": [],
   "source": [
    "df_bigmac.index.names"
   ]
  },
  {
   "cell_type": "code",
   "execution_count": null,
   "metadata": {},
   "outputs": [],
   "source": [
    "type(df_bigmac.index)"
   ]
  },
  {
   "cell_type": "markdown",
   "metadata": {},
   "source": [
    "### Método *.get_level_values()*<a name=\"pandas_multiindices_get_level_values\"></a> \n",
    "[Volver al índice](#indice)"
   ]
  },
  {
   "cell_type": "markdown",
   "metadata": {},
   "source": [
    "Este método nos permite obtener los valores para un índice o layer en concreto. Vamos a crear un multiIndex, pero usando una nueva forma, al leer el dataset con *.read_csv()* le pasamos directamente los índices que queremos usar."
   ]
  },
  {
   "cell_type": "code",
   "execution_count": 311,
   "metadata": {},
   "outputs": [
    {
     "data": {
      "text/html": [
       "<div>\n",
       "<style scoped>\n",
       "    .dataframe tbody tr th:only-of-type {\n",
       "        vertical-align: middle;\n",
       "    }\n",
       "\n",
       "    .dataframe tbody tr th {\n",
       "        vertical-align: top;\n",
       "    }\n",
       "\n",
       "    .dataframe thead th {\n",
       "        text-align: right;\n",
       "    }\n",
       "</style>\n",
       "<table border=\"1\" class=\"dataframe\">\n",
       "  <thead>\n",
       "    <tr style=\"text-align: right;\">\n",
       "      <th></th>\n",
       "      <th></th>\n",
       "      <th>Price in US Dollars</th>\n",
       "    </tr>\n",
       "    <tr>\n",
       "      <th>Date</th>\n",
       "      <th>Country</th>\n",
       "      <th></th>\n",
       "    </tr>\n",
       "  </thead>\n",
       "  <tbody>\n",
       "    <tr>\n",
       "      <th rowspan=\"5\" valign=\"top\">2010-01-01</th>\n",
       "      <th>Argentina</th>\n",
       "      <td>1.84</td>\n",
       "    </tr>\n",
       "    <tr>\n",
       "      <th>Australia</th>\n",
       "      <td>3.98</td>\n",
       "    </tr>\n",
       "    <tr>\n",
       "      <th>Brazil</th>\n",
       "      <td>4.76</td>\n",
       "    </tr>\n",
       "    <tr>\n",
       "      <th>Britain</th>\n",
       "      <td>3.67</td>\n",
       "    </tr>\n",
       "    <tr>\n",
       "      <th>Canada</th>\n",
       "      <td>3.97</td>\n",
       "    </tr>\n",
       "  </tbody>\n",
       "</table>\n",
       "</div>"
      ],
      "text/plain": [
       "                      Price in US Dollars\n",
       "Date       Country                       \n",
       "2010-01-01 Argentina                 1.84\n",
       "           Australia                 3.98\n",
       "           Brazil                    4.76\n",
       "           Britain                   3.67\n",
       "           Canada                    3.97"
      ]
     },
     "execution_count": 311,
     "metadata": {},
     "output_type": "execute_result"
    }
   ],
   "source": [
    "df_bigmac = pd.read_csv(\"S6_datos/bigmac.csv\", parse_dates=[\"Date\"],\n",
    "                        index_col=[\"Date\", \"Country\"])\n",
    "\n",
    "df_bigmac.sort_index(inplace=True)\n",
    "df_bigmac.head()"
   ]
  },
  {
   "cell_type": "code",
   "execution_count": 312,
   "metadata": {},
   "outputs": [
    {
     "data": {
      "text/plain": [
       "DatetimeIndex(['2010-01-01', '2010-01-01', '2010-01-01', '2010-01-01',\n",
       "               '2010-01-01', '2010-01-01', '2010-01-01', '2010-01-01',\n",
       "               '2010-01-01', '2010-01-01',\n",
       "               ...\n",
       "               '2016-01-01', '2016-01-01', '2016-01-01', '2016-01-01',\n",
       "               '2016-01-01', '2016-01-01', '2016-01-01', '2016-01-01',\n",
       "               '2016-01-01', '2016-01-01'],\n",
       "              dtype='datetime64[ns]', name='Date', length=652, freq=None)"
      ]
     },
     "execution_count": 312,
     "metadata": {},
     "output_type": "execute_result"
    }
   ],
   "source": [
    "df_bigmac.index.get_level_values(\"Date\")"
   ]
  },
  {
   "cell_type": "code",
   "execution_count": 313,
   "metadata": {},
   "outputs": [
    {
     "data": {
      "text/plain": [
       "Index(['Argentina', 'Australia', 'Brazil', 'Britain', 'Canada', 'Chile',\n",
       "       'China', 'Colombia', 'Costa Rica', 'Czech Republic',\n",
       "       ...\n",
       "       'Switzerland', 'Taiwan', 'Thailand', 'Turkey', 'UAE', 'Ukraine',\n",
       "       'United States', 'Uruguay', 'Venezuela', 'Vietnam'],\n",
       "      dtype='object', name='Country', length=652)"
      ]
     },
     "execution_count": 313,
     "metadata": {},
     "output_type": "execute_result"
    }
   ],
   "source": [
    "df_bigmac.index.get_level_values(\"Country\")"
   ]
  },
  {
   "cell_type": "markdown",
   "metadata": {},
   "source": [
    "### Método *.set_names()*<a name=\"pandas_multiindices_set_names\"></a> \n",
    "[Volver al índice](#indice)"
   ]
  },
  {
   "cell_type": "code",
   "execution_count": 315,
   "metadata": {},
   "outputs": [
    {
     "data": {
      "text/html": [
       "<div>\n",
       "<style scoped>\n",
       "    .dataframe tbody tr th:only-of-type {\n",
       "        vertical-align: middle;\n",
       "    }\n",
       "\n",
       "    .dataframe tbody tr th {\n",
       "        vertical-align: top;\n",
       "    }\n",
       "\n",
       "    .dataframe thead th {\n",
       "        text-align: right;\n",
       "    }\n",
       "</style>\n",
       "<table border=\"1\" class=\"dataframe\">\n",
       "  <thead>\n",
       "    <tr style=\"text-align: right;\">\n",
       "      <th></th>\n",
       "      <th></th>\n",
       "      <th>Price in US Dollars</th>\n",
       "    </tr>\n",
       "    <tr>\n",
       "      <th>Date</th>\n",
       "      <th>Country</th>\n",
       "      <th></th>\n",
       "    </tr>\n",
       "  </thead>\n",
       "  <tbody>\n",
       "    <tr>\n",
       "      <th rowspan=\"5\" valign=\"top\">2010-01-01</th>\n",
       "      <th>Argentina</th>\n",
       "      <td>1.84</td>\n",
       "    </tr>\n",
       "    <tr>\n",
       "      <th>Australia</th>\n",
       "      <td>3.98</td>\n",
       "    </tr>\n",
       "    <tr>\n",
       "      <th>Brazil</th>\n",
       "      <td>4.76</td>\n",
       "    </tr>\n",
       "    <tr>\n",
       "      <th>Britain</th>\n",
       "      <td>3.67</td>\n",
       "    </tr>\n",
       "    <tr>\n",
       "      <th>Canada</th>\n",
       "      <td>3.97</td>\n",
       "    </tr>\n",
       "  </tbody>\n",
       "</table>\n",
       "</div>"
      ],
      "text/plain": [
       "                      Price in US Dollars\n",
       "Date       Country                       \n",
       "2010-01-01 Argentina                 1.84\n",
       "           Australia                 3.98\n",
       "           Brazil                    4.76\n",
       "           Britain                   3.67\n",
       "           Canada                    3.97"
      ]
     },
     "execution_count": 315,
     "metadata": {},
     "output_type": "execute_result"
    }
   ],
   "source": [
    "df_bigmac = pd.read_csv(\"S6_datos/bigmac.csv\", parse_dates=[\"Date\"],\n",
    "                        index_col=[\"Date\", \"Country\"])\n",
    "\n",
    "df_bigmac.sort_index(inplace=True)\n",
    "df_bigmac.head()"
   ]
  },
  {
   "cell_type": "markdown",
   "metadata": {},
   "source": [
    "Este método nos permite cambiar el nombre de un índice ya creado en el _DataFrame_."
   ]
  },
  {
   "cell_type": "code",
   "execution_count": 316,
   "metadata": {},
   "outputs": [
    {
     "data": {
      "text/html": [
       "<div>\n",
       "<style scoped>\n",
       "    .dataframe tbody tr th:only-of-type {\n",
       "        vertical-align: middle;\n",
       "    }\n",
       "\n",
       "    .dataframe tbody tr th {\n",
       "        vertical-align: top;\n",
       "    }\n",
       "\n",
       "    .dataframe thead th {\n",
       "        text-align: right;\n",
       "    }\n",
       "</style>\n",
       "<table border=\"1\" class=\"dataframe\">\n",
       "  <thead>\n",
       "    <tr style=\"text-align: right;\">\n",
       "      <th></th>\n",
       "      <th></th>\n",
       "      <th>Price in US Dollars</th>\n",
       "    </tr>\n",
       "    <tr>\n",
       "      <th>Fecha</th>\n",
       "      <th>Pais</th>\n",
       "      <th></th>\n",
       "    </tr>\n",
       "  </thead>\n",
       "  <tbody>\n",
       "    <tr>\n",
       "      <th rowspan=\"5\" valign=\"top\">2010-01-01</th>\n",
       "      <th>Argentina</th>\n",
       "      <td>1.84</td>\n",
       "    </tr>\n",
       "    <tr>\n",
       "      <th>Australia</th>\n",
       "      <td>3.98</td>\n",
       "    </tr>\n",
       "    <tr>\n",
       "      <th>Brazil</th>\n",
       "      <td>4.76</td>\n",
       "    </tr>\n",
       "    <tr>\n",
       "      <th>Britain</th>\n",
       "      <td>3.67</td>\n",
       "    </tr>\n",
       "    <tr>\n",
       "      <th>Canada</th>\n",
       "      <td>3.97</td>\n",
       "    </tr>\n",
       "  </tbody>\n",
       "</table>\n",
       "</div>"
      ],
      "text/plain": [
       "                      Price in US Dollars\n",
       "Fecha      Pais                          \n",
       "2010-01-01 Argentina                 1.84\n",
       "           Australia                 3.98\n",
       "           Brazil                    4.76\n",
       "           Britain                   3.67\n",
       "           Canada                    3.97"
      ]
     },
     "execution_count": 316,
     "metadata": {},
     "output_type": "execute_result"
    }
   ],
   "source": [
    "df_bigmac.index.set_names([\"Fecha\", \"Pais\"], inplace=True)\n",
    "df_bigmac.head()"
   ]
  },
  {
   "cell_type": "markdown",
   "metadata": {},
   "source": [
    "### Indexar con *.loc()*<a name=\"pandas_multiindices_loc\"></a> \n",
    "[Volver al índice](#indice)"
   ]
  },
  {
   "cell_type": "markdown",
   "metadata": {},
   "source": [
    "Vamos a ver cómo podemos obtener filas de un _DataFrame_ construido con un MultiIndex."
   ]
  },
  {
   "cell_type": "code",
   "execution_count": null,
   "metadata": {},
   "outputs": [],
   "source": [
    "df_bigmac = pd.read_csv(\"datos/bigmac.csv\", parse_dates=[\"Date\"],\n",
    "                        index_col=[\"Date\", \"Country\"])\n",
    "\n",
    "df_bigmac.sort_index(inplace=True)\n",
    "df_bigmac.head()"
   ]
  },
  {
   "cell_type": "markdown",
   "metadata": {},
   "source": [
    "El método *.loc[]* puede acceder a una fila del _DataFrame_ y acepta etiquetas como índices; pero en nuestro caso, como tenemos dos índices, debemos usar una tupla para especificar las etiquetas para los índices que vamos a usar, y como último parámetro, especificamos el valor que queremos extraer (la serie o columna), de no ser así, nos devolvería todas las disponibles para las etiquetas suministradas."
   ]
  },
  {
   "cell_type": "code",
   "execution_count": null,
   "metadata": {},
   "outputs": [],
   "source": [
    "df_bigmac.loc[(\"2010-01-01\", [\"Brazil\", \"Argentina\"]), \"Price in US Dollars\"]"
   ]
  },
  {
   "cell_type": "code",
   "execution_count": null,
   "metadata": {},
   "outputs": [],
   "source": [
    "df_bigmac.loc[(\"2015-07-01\", \"Chile\"), \"Price in US Dollars\"]"
   ]
  },
  {
   "cell_type": "markdown",
   "metadata": {},
   "source": [
    "## Ejercicios<a name=\"ejercicios\"></a> \n",
    "[Volver al índice](#indice)"
   ]
  },
  {
   "cell_type": "markdown",
   "metadata": {},
   "source": [
    "#### Bloque 1: salarios en la ciudad de Chicago (chicago.csv)\n",
    "\n",
    "Columnas:\n",
    "- Name: nombre de la persona.\n",
    "- Position Title: nombre del trabajo que realiza.\n",
    "- Department: departamento en el que trabaja.\n",
    "- Employee Annual Salary: salario de la persona."
   ]
  },
  {
   "cell_type": "markdown",
   "metadata": {},
   "source": [
    "1 - Calcula el salario medio de los habitantes de Chicago."
   ]
  },
  {
   "cell_type": "code",
   "execution_count": 266,
   "metadata": {},
   "outputs": [
    {
     "name": "stdout",
     "output_type": "stream",
     "text": [
      "                  Name            Position Title        Department  \\\n",
      "0      AARON,  ELVIA J          WATER RATE TAKER       WATER MGMNT   \n",
      "1    AARON,  JEFFERY M            POLICE OFFICER            POLICE   \n",
      "2       AARON,  KARINA            POLICE OFFICER            POLICE   \n",
      "3  AARON,  KIMBERLEI R  CHIEF CONTRACT EXPEDITER  GENERAL SERVICES   \n",
      "4  ABAD JR,  VICENTE M         CIVIL ENGINEER IV       WATER MGMNT   \n",
      "\n",
      "  Employee Annual Salary  \n",
      "0              $90744.00  \n",
      "1              $84450.00  \n",
      "2              $84450.00  \n",
      "3              $89880.00  \n",
      "4             $106836.00  \n"
     ]
    },
    {
     "data": {
      "text/plain": [
       "80204.178633899"
      ]
     },
     "execution_count": 266,
     "metadata": {},
     "output_type": "execute_result"
    }
   ],
   "source": [
    "import pandas as pd\n",
    "df_chicago = pd.read_csv(\"S6_datos/chicago.csv\")\n",
    "print(df_chicago.head())\n",
    "df_chicago[\"Employee Annual Salary\"] = df_chicago[\"Employee Annual Salary\"].str.replace('$','').astype(float)\n",
    "df_chicago[\"Employee Annual Salary\"].mean()"
   ]
  },
  {
   "cell_type": "markdown",
   "metadata": {},
   "source": [
    "2 - Calcula cuantos habitantes ganan más que la media. (_count()_ te puede ayudar)"
   ]
  },
  {
   "cell_type": "code",
   "execution_count": null,
   "metadata": {},
   "outputs": [],
   "source": [
    "df_chicago[df_chicago[\"Employee Annual Salary\"] > df_chicago[\"Employee Annual Salary\"].mean()].count()\n",
    "df_chicago[df_chicago[\"Employee Annual Salary\"] > df_chicago[\"Employee Annual Salary\"].mean()].shape[0]\n",
    "np.count_nonzero(df_chicago[\"Employee Annual Salary\"] > df_chicago[\"Employee Annual Salary\"].mean())"
   ]
  },
  {
   "cell_type": "markdown",
   "metadata": {},
   "source": [
    "3 - ¿Cuál es el departamento que emplea a mayor número de personas?"
   ]
  },
  {
   "cell_type": "code",
   "execution_count": 268,
   "metadata": {},
   "outputs": [
    {
     "data": {
      "text/html": [
       "<div>\n",
       "<style scoped>\n",
       "    .dataframe tbody tr th:only-of-type {\n",
       "        vertical-align: middle;\n",
       "    }\n",
       "\n",
       "    .dataframe tbody tr th {\n",
       "        vertical-align: top;\n",
       "    }\n",
       "\n",
       "    .dataframe thead th {\n",
       "        text-align: right;\n",
       "    }\n",
       "</style>\n",
       "<table border=\"1\" class=\"dataframe\">\n",
       "  <thead>\n",
       "    <tr style=\"text-align: right;\">\n",
       "      <th></th>\n",
       "      <th>Name</th>\n",
       "      <th>Position Title</th>\n",
       "      <th>Department</th>\n",
       "      <th>Employee Annual Salary</th>\n",
       "    </tr>\n",
       "  </thead>\n",
       "  <tbody>\n",
       "    <tr>\n",
       "      <th>0</th>\n",
       "      <td>AARON,  ELVIA J</td>\n",
       "      <td>WATER RATE TAKER</td>\n",
       "      <td>WATER MGMNT</td>\n",
       "      <td>90744.0</td>\n",
       "    </tr>\n",
       "    <tr>\n",
       "      <th>1</th>\n",
       "      <td>AARON,  JEFFERY M</td>\n",
       "      <td>POLICE OFFICER</td>\n",
       "      <td>POLICE</td>\n",
       "      <td>84450.0</td>\n",
       "    </tr>\n",
       "    <tr>\n",
       "      <th>2</th>\n",
       "      <td>AARON,  KARINA</td>\n",
       "      <td>POLICE OFFICER</td>\n",
       "      <td>POLICE</td>\n",
       "      <td>84450.0</td>\n",
       "    </tr>\n",
       "    <tr>\n",
       "      <th>3</th>\n",
       "      <td>AARON,  KIMBERLEI R</td>\n",
       "      <td>CHIEF CONTRACT EXPEDITER</td>\n",
       "      <td>GENERAL SERVICES</td>\n",
       "      <td>89880.0</td>\n",
       "    </tr>\n",
       "    <tr>\n",
       "      <th>4</th>\n",
       "      <td>ABAD JR,  VICENTE M</td>\n",
       "      <td>CIVIL ENGINEER IV</td>\n",
       "      <td>WATER MGMNT</td>\n",
       "      <td>106836.0</td>\n",
       "    </tr>\n",
       "  </tbody>\n",
       "</table>\n",
       "</div>"
      ],
      "text/plain": [
       "                  Name            Position Title        Department  \\\n",
       "0      AARON,  ELVIA J          WATER RATE TAKER       WATER MGMNT   \n",
       "1    AARON,  JEFFERY M            POLICE OFFICER            POLICE   \n",
       "2       AARON,  KARINA            POLICE OFFICER            POLICE   \n",
       "3  AARON,  KIMBERLEI R  CHIEF CONTRACT EXPEDITER  GENERAL SERVICES   \n",
       "4  ABAD JR,  VICENTE M         CIVIL ENGINEER IV       WATER MGMNT   \n",
       "\n",
       "   Employee Annual Salary  \n",
       "0                 90744.0  \n",
       "1                 84450.0  \n",
       "2                 84450.0  \n",
       "3                 89880.0  \n",
       "4                106836.0  "
      ]
     },
     "execution_count": 268,
     "metadata": {},
     "output_type": "execute_result"
    }
   ],
   "source": [
    "df_chicago.head()\n",
    "df_chicago.groupby(\"Department\").count().sort_values(\"Name\",ascending = False).index[0]\n",
    "\n"
   ]
  },
  {
   "cell_type": "code",
   "execution_count": null,
   "metadata": {},
   "outputs": [],
   "source": [
    "df_count = df_chicago.groupby(\"Department\").count()\n",
    "df_count[df_count == df_count.max]\n",
    "\n",
    "\n",
    "np.argmax(df_count[\"Name\"])\n",
    "df_count.iloc[np.argmax(df_count[\"Name\"])]"
   ]
  },
  {
   "cell_type": "markdown",
   "metadata": {},
   "source": [
    "4 - ¿Cuál es el departamento que tiene un salario medio mayor?"
   ]
  },
  {
   "cell_type": "code",
   "execution_count": null,
   "metadata": {},
   "outputs": [],
   "source": [
    "df_chicago.groupby(\"Department\").mean().sort_values(\"Employee Annual Salary\",ascending = False).index[0]\n",
    "df_chicago.groupby(\"Department\").mean().sort_values(\"Employee Annual Salary\",ascending = False).head(1)\n"
   ]
  },
  {
   "cell_type": "markdown",
   "metadata": {},
   "source": [
    "5 - Averigua cuales son los 5 departamentos con una media de salario mayor."
   ]
  },
  {
   "cell_type": "code",
   "execution_count": null,
   "metadata": {},
   "outputs": [],
   "source": [
    "df_chicago[[\"Employee Annual Salary\",\"Department\"]].groupby(\n",
    "    \"Department\").mean().sort_values(\"Employee Annual Salary\",ascending = False).head(5)\n",
    "#df_chicago.groupby(\"Department\").mean().sort_values(\"Employee Annual Salary\",ascending = False).head(5)"
   ]
  },
  {
   "cell_type": "markdown",
   "metadata": {},
   "source": [
    "6 - ¿Cuál es el departamento con más puestos de trabajo distintos?"
   ]
  },
  {
   "cell_type": "code",
   "execution_count": null,
   "metadata": {},
   "outputs": [],
   "source": [
    "df_chicago.head(10)\n",
    "\n",
    "df_chicago[[\"Department\",\"Position Title\"]].groupby(\n",
    "    \"Department\").nunique().sort_values('Position Title', ascending = False).head(1)"
   ]
  },
  {
   "cell_type": "markdown",
   "metadata": {},
   "source": [
    "7 - ¿Cuál es el trabajo mejor remunerado y en qué departamento se realiza?"
   ]
  },
  {
   "cell_type": "code",
   "execution_count": null,
   "metadata": {},
   "outputs": [],
   "source": [
    "\n",
    "df_chicago[df_chicago[\"Employee Annual Salary\"] == df_chicago[\"Employee Annual Salary\"].max()][[\"Position Title\", \"Employee Annual Salary\"]]\n",
    "df_chicago.sort_values([\"Employee Annual Salary\"], ascending = False).iloc[0,1:]"
   ]
  },
  {
   "cell_type": "markdown",
   "metadata": {},
   "source": [
    "8 - Averigua cuales son los trabajos de cada departamento que emplean a mayor número de personas."
   ]
  },
  {
   "cell_type": "code",
   "execution_count": null,
   "metadata": {},
   "outputs": [],
   "source": [
    "df_chicago.head(10)\n",
    "df_chicago1 = df_chicago[[\"Department\", \"Position Title\", \"Name\"]].groupby([\"Department\",\n",
    "    \"Position Title\"]).count().sort_values('Name',ascending = False).groupby(\"Department\").head(1)\n",
    "df_chicago1"
   ]
  },
  {
   "cell_type": "markdown",
   "metadata": {},
   "source": [
    "9 - Calcula el intervalo de confianza al 95% de los salarios de la ciudad de Chicago"
   ]
  },
  {
   "cell_type": "code",
   "execution_count": null,
   "metadata": {},
   "outputs": [],
   "source": [
    "df_chicago.head()\n",
    "std = df_chicago[\"Employee Annual Salary\"].std()\n",
    "mean = df_chicago[\"Employee Annual Salary\"].mean()\n",
    "\n",
    "from scipy import stats\n",
    "f = stats.norm.ppf(0.975)\n",
    "\n",
    "mean -f * std, mean + f * std\n"
   ]
  },
  {
   "cell_type": "markdown",
   "metadata": {},
   "source": [
    "10 - ¿Cuál es el departamento con mayor variabiliad de salarios?"
   ]
  },
  {
   "cell_type": "code",
   "execution_count": 265,
   "metadata": {},
   "outputs": [
    {
     "ename": "DataError",
     "evalue": "No numeric types to aggregate",
     "output_type": "error",
     "traceback": [
      "\u001b[1;31m---------------------------------------------------------------------------\u001b[0m",
      "\u001b[1;31mDataError\u001b[0m                                 Traceback (most recent call last)",
      "\u001b[1;32m<ipython-input-265-32e9825d094d>\u001b[0m in \u001b[0;36m<module>\u001b[1;34m\u001b[0m\n\u001b[1;32m----> 1\u001b[1;33m df_chicago[[\"Department\",\"Employee Annual Salary\"]].groupby(\n\u001b[0m\u001b[0;32m      2\u001b[0m     \"Department\").std().sort_values(\"Employee Annual Salary\", ascending = False).head(1)\n",
      "\u001b[1;32m~\\anaconda3\\lib\\site-packages\\pandas\\core\\groupby\\groupby.py\u001b[0m in \u001b[0;36mstd\u001b[1;34m(self, ddof, *args, **kwargs)\u001b[0m\n\u001b[0;32m   1267\u001b[0m         \u001b[1;31m# TODO: implement at Cython level?\u001b[0m\u001b[1;33m\u001b[0m\u001b[1;33m\u001b[0m\u001b[1;33m\u001b[0m\u001b[0m\n\u001b[0;32m   1268\u001b[0m         \u001b[0mnv\u001b[0m\u001b[1;33m.\u001b[0m\u001b[0mvalidate_groupby_func\u001b[0m\u001b[1;33m(\u001b[0m\u001b[1;34m\"std\"\u001b[0m\u001b[1;33m,\u001b[0m \u001b[0margs\u001b[0m\u001b[1;33m,\u001b[0m \u001b[0mkwargs\u001b[0m\u001b[1;33m)\u001b[0m\u001b[1;33m\u001b[0m\u001b[1;33m\u001b[0m\u001b[0m\n\u001b[1;32m-> 1269\u001b[1;33m         \u001b[1;32mreturn\u001b[0m \u001b[0mnp\u001b[0m\u001b[1;33m.\u001b[0m\u001b[0msqrt\u001b[0m\u001b[1;33m(\u001b[0m\u001b[0mself\u001b[0m\u001b[1;33m.\u001b[0m\u001b[0mvar\u001b[0m\u001b[1;33m(\u001b[0m\u001b[0mddof\u001b[0m\u001b[1;33m=\u001b[0m\u001b[0mddof\u001b[0m\u001b[1;33m,\u001b[0m \u001b[1;33m**\u001b[0m\u001b[0mkwargs\u001b[0m\u001b[1;33m)\u001b[0m\u001b[1;33m)\u001b[0m\u001b[1;33m\u001b[0m\u001b[1;33m\u001b[0m\u001b[0m\n\u001b[0m\u001b[0;32m   1270\u001b[0m \u001b[1;33m\u001b[0m\u001b[0m\n\u001b[0;32m   1271\u001b[0m     \u001b[1;33m@\u001b[0m\u001b[0mSubstitution\u001b[0m\u001b[1;33m(\u001b[0m\u001b[0mname\u001b[0m\u001b[1;33m=\u001b[0m\u001b[1;34m\"groupby\"\u001b[0m\u001b[1;33m)\u001b[0m\u001b[1;33m\u001b[0m\u001b[1;33m\u001b[0m\u001b[0m\n",
      "\u001b[1;32m~\\anaconda3\\lib\\site-packages\\pandas\\core\\groupby\\groupby.py\u001b[0m in \u001b[0;36mvar\u001b[1;34m(self, ddof, *args, **kwargs)\u001b[0m\n\u001b[0;32m   1289\u001b[0m         \u001b[0mnv\u001b[0m\u001b[1;33m.\u001b[0m\u001b[0mvalidate_groupby_func\u001b[0m\u001b[1;33m(\u001b[0m\u001b[1;34m\"var\"\u001b[0m\u001b[1;33m,\u001b[0m \u001b[0margs\u001b[0m\u001b[1;33m,\u001b[0m \u001b[0mkwargs\u001b[0m\u001b[1;33m)\u001b[0m\u001b[1;33m\u001b[0m\u001b[1;33m\u001b[0m\u001b[0m\n\u001b[0;32m   1290\u001b[0m         \u001b[1;32mif\u001b[0m \u001b[0mddof\u001b[0m \u001b[1;33m==\u001b[0m \u001b[1;36m1\u001b[0m\u001b[1;33m:\u001b[0m\u001b[1;33m\u001b[0m\u001b[1;33m\u001b[0m\u001b[0m\n\u001b[1;32m-> 1291\u001b[1;33m             return self._cython_agg_general(\n\u001b[0m\u001b[0;32m   1292\u001b[0m                 \u001b[1;34m\"var\"\u001b[0m\u001b[1;33m,\u001b[0m \u001b[0malt\u001b[0m\u001b[1;33m=\u001b[0m\u001b[1;32mlambda\u001b[0m \u001b[0mx\u001b[0m\u001b[1;33m,\u001b[0m \u001b[0maxis\u001b[0m\u001b[1;33m:\u001b[0m \u001b[0mSeries\u001b[0m\u001b[1;33m(\u001b[0m\u001b[0mx\u001b[0m\u001b[1;33m)\u001b[0m\u001b[1;33m.\u001b[0m\u001b[0mvar\u001b[0m\u001b[1;33m(\u001b[0m\u001b[0mddof\u001b[0m\u001b[1;33m=\u001b[0m\u001b[0mddof\u001b[0m\u001b[1;33m,\u001b[0m \u001b[1;33m**\u001b[0m\u001b[0mkwargs\u001b[0m\u001b[1;33m)\u001b[0m\u001b[1;33m,\u001b[0m \u001b[1;33m**\u001b[0m\u001b[0mkwargs\u001b[0m\u001b[1;33m\u001b[0m\u001b[1;33m\u001b[0m\u001b[0m\n\u001b[0;32m   1293\u001b[0m             )\n",
      "\u001b[1;32m~\\anaconda3\\lib\\site-packages\\pandas\\core\\groupby\\generic.py\u001b[0m in \u001b[0;36m_cython_agg_general\u001b[1;34m(self, how, alt, numeric_only, min_count)\u001b[0m\n\u001b[0;32m    991\u001b[0m         \u001b[0mself\u001b[0m\u001b[1;33m,\u001b[0m \u001b[0mhow\u001b[0m\u001b[1;33m:\u001b[0m \u001b[0mstr\u001b[0m\u001b[1;33m,\u001b[0m \u001b[0malt\u001b[0m\u001b[1;33m=\u001b[0m\u001b[1;32mNone\u001b[0m\u001b[1;33m,\u001b[0m \u001b[0mnumeric_only\u001b[0m\u001b[1;33m:\u001b[0m \u001b[0mbool\u001b[0m \u001b[1;33m=\u001b[0m \u001b[1;32mTrue\u001b[0m\u001b[1;33m,\u001b[0m \u001b[0mmin_count\u001b[0m\u001b[1;33m:\u001b[0m \u001b[0mint\u001b[0m \u001b[1;33m=\u001b[0m \u001b[1;33m-\u001b[0m\u001b[1;36m1\u001b[0m\u001b[1;33m\u001b[0m\u001b[1;33m\u001b[0m\u001b[0m\n\u001b[0;32m    992\u001b[0m     ) -> DataFrame:\n\u001b[1;32m--> 993\u001b[1;33m         agg_blocks, agg_items = self._cython_agg_blocks(\n\u001b[0m\u001b[0;32m    994\u001b[0m             \u001b[0mhow\u001b[0m\u001b[1;33m,\u001b[0m \u001b[0malt\u001b[0m\u001b[1;33m=\u001b[0m\u001b[0malt\u001b[0m\u001b[1;33m,\u001b[0m \u001b[0mnumeric_only\u001b[0m\u001b[1;33m=\u001b[0m\u001b[0mnumeric_only\u001b[0m\u001b[1;33m,\u001b[0m \u001b[0mmin_count\u001b[0m\u001b[1;33m=\u001b[0m\u001b[0mmin_count\u001b[0m\u001b[1;33m\u001b[0m\u001b[1;33m\u001b[0m\u001b[0m\n\u001b[0;32m    995\u001b[0m         )\n",
      "\u001b[1;32m~\\anaconda3\\lib\\site-packages\\pandas\\core\\groupby\\generic.py\u001b[0m in \u001b[0;36m_cython_agg_blocks\u001b[1;34m(self, how, alt, numeric_only, min_count)\u001b[0m\n\u001b[0;32m   1093\u001b[0m \u001b[1;33m\u001b[0m\u001b[0m\n\u001b[0;32m   1094\u001b[0m         \u001b[1;32mif\u001b[0m \u001b[1;32mnot\u001b[0m \u001b[1;33m(\u001b[0m\u001b[0magg_blocks\u001b[0m \u001b[1;32mor\u001b[0m \u001b[0msplit_frames\u001b[0m\u001b[1;33m)\u001b[0m\u001b[1;33m:\u001b[0m\u001b[1;33m\u001b[0m\u001b[1;33m\u001b[0m\u001b[0m\n\u001b[1;32m-> 1095\u001b[1;33m             \u001b[1;32mraise\u001b[0m \u001b[0mDataError\u001b[0m\u001b[1;33m(\u001b[0m\u001b[1;34m\"No numeric types to aggregate\"\u001b[0m\u001b[1;33m)\u001b[0m\u001b[1;33m\u001b[0m\u001b[1;33m\u001b[0m\u001b[0m\n\u001b[0m\u001b[0;32m   1096\u001b[0m \u001b[1;33m\u001b[0m\u001b[0m\n\u001b[0;32m   1097\u001b[0m         \u001b[1;32mif\u001b[0m \u001b[0msplit_items\u001b[0m\u001b[1;33m:\u001b[0m\u001b[1;33m\u001b[0m\u001b[1;33m\u001b[0m\u001b[0m\n",
      "\u001b[1;31mDataError\u001b[0m: No numeric types to aggregate"
     ]
    }
   ],
   "source": [
    "df_chicago[[\"Department\",\"Employee Annual Salary\"]].groupby(\n",
    "    \"Department\").std().sort_values(\"Employee Annual Salary\", ascending = False).head(1)"
   ]
  },
  {
   "cell_type": "markdown",
   "metadata": {},
   "source": [
    "11 - Sube un 10% el salario a aquellas personas que estén en el top 5 de salarios más bajos de su departamento."
   ]
  },
  {
   "cell_type": "code",
   "execution_count": 373,
   "metadata": {},
   "outputs": [
    {
     "data": {
      "text/html": [
       "<div>\n",
       "<style scoped>\n",
       "    .dataframe tbody tr th:only-of-type {\n",
       "        vertical-align: middle;\n",
       "    }\n",
       "\n",
       "    .dataframe tbody tr th {\n",
       "        vertical-align: top;\n",
       "    }\n",
       "\n",
       "    .dataframe thead th {\n",
       "        text-align: right;\n",
       "    }\n",
       "</style>\n",
       "<table border=\"1\" class=\"dataframe\">\n",
       "  <thead>\n",
       "    <tr style=\"text-align: right;\">\n",
       "      <th></th>\n",
       "      <th>Name</th>\n",
       "      <th>Position Title</th>\n",
       "      <th>Department</th>\n",
       "      <th>Employee Annual Salary</th>\n",
       "    </tr>\n",
       "  </thead>\n",
       "  <tbody>\n",
       "    <tr>\n",
       "      <th>0</th>\n",
       "      <td>AARON,  ELVIA J</td>\n",
       "      <td>WATER RATE TAKER</td>\n",
       "      <td>WATER MGMNT</td>\n",
       "      <td>90744.0</td>\n",
       "    </tr>\n",
       "    <tr>\n",
       "      <th>1</th>\n",
       "      <td>AARON,  JEFFERY M</td>\n",
       "      <td>POLICE OFFICER</td>\n",
       "      <td>POLICE</td>\n",
       "      <td>84450.0</td>\n",
       "    </tr>\n",
       "    <tr>\n",
       "      <th>2</th>\n",
       "      <td>AARON,  KARINA</td>\n",
       "      <td>POLICE OFFICER</td>\n",
       "      <td>POLICE</td>\n",
       "      <td>84450.0</td>\n",
       "    </tr>\n",
       "    <tr>\n",
       "      <th>3</th>\n",
       "      <td>AARON,  KIMBERLEI R</td>\n",
       "      <td>CHIEF CONTRACT EXPEDITER</td>\n",
       "      <td>GENERAL SERVICES</td>\n",
       "      <td>89880.0</td>\n",
       "    </tr>\n",
       "    <tr>\n",
       "      <th>4</th>\n",
       "      <td>ABAD JR,  VICENTE M</td>\n",
       "      <td>CIVIL ENGINEER IV</td>\n",
       "      <td>WATER MGMNT</td>\n",
       "      <td>106836.0</td>\n",
       "    </tr>\n",
       "  </tbody>\n",
       "</table>\n",
       "</div>"
      ],
      "text/plain": [
       "                  Name            Position Title        Department  \\\n",
       "0      AARON,  ELVIA J          WATER RATE TAKER       WATER MGMNT   \n",
       "1    AARON,  JEFFERY M            POLICE OFFICER            POLICE   \n",
       "2       AARON,  KARINA            POLICE OFFICER            POLICE   \n",
       "3  AARON,  KIMBERLEI R  CHIEF CONTRACT EXPEDITER  GENERAL SERVICES   \n",
       "4  ABAD JR,  VICENTE M         CIVIL ENGINEER IV       WATER MGMNT   \n",
       "\n",
       "   Employee Annual Salary  \n",
       "0                 90744.0  \n",
       "1                 84450.0  \n",
       "2                 84450.0  \n",
       "3                 89880.0  \n",
       "4                106836.0  "
      ]
     },
     "execution_count": 373,
     "metadata": {},
     "output_type": "execute_result"
    }
   ],
   "source": [
    "df_chicago = pd.read_csv(\"S6_datos/chicago.csv\")\n",
    "# df_chicago = df_chicago.set_index(\"Department\")\n",
    "df_chicago[\"Employee Annual Salary\"] = df_chicago[\"Employee Annual Salary\"].str.replace('$', '').astype(float)\n",
    "df_chicago.head()"
   ]
  },
  {
   "cell_type": "code",
   "execution_count": 394,
   "metadata": {},
   "outputs": [
    {
     "name": "stdout",
     "output_type": "stream",
     "text": [
      "                Department  Employee Annual Salary\n",
      "Department                                        \n",
      "ADMIN HEARNG  ADMIN HEARNG                 56544.0\n",
      "ADMIN HEARNG  ADMIN HEARNG                 59184.0\n",
      "ADMIN HEARNG  ADMIN HEARNG                 59184.0\n",
      "ADMIN HEARNG  ADMIN HEARNG                 59184.0\n",
      "ADMIN HEARNG  ADMIN HEARNG                 59184.0\n",
      "ADMIN HEARNG  ADMIN HEARNG                 59184.0\n",
      "ADMIN HEARNG  ADMIN HEARNG                 62004.0\n",
      "ADMIN HEARNG  ADMIN HEARNG                 62004.0\n",
      "ADMIN HEARNG  ADMIN HEARNG                 62004.0\n",
      "ADMIN HEARNG  ADMIN HEARNG                 62004.0\n",
      "ADMIN HEARNG  ADMIN HEARNG                 62004.0\n",
      "ADMIN HEARNG  ADMIN HEARNG                 64992.0\n",
      "ADMIN HEARNG  ADMIN HEARNG                 64992.0\n",
      "ADMIN HEARNG  ADMIN HEARNG                 67212.0\n",
      "ADMIN HEARNG  ADMIN HEARNG                 68028.0\n",
      "ADMIN HEARNG  ADMIN HEARNG                 68028.0\n",
      "ADMIN HEARNG  ADMIN HEARNG                 68028.0\n",
      "ADMIN HEARNG  ADMIN HEARNG                 68028.0\n",
      "ADMIN HEARNG  ADMIN HEARNG                 68028.0\n",
      "ADMIN HEARNG  ADMIN HEARNG                 68028.0\n",
      "ADMIN HEARNG  ADMIN HEARNG                 68700.0\n",
      "ADMIN HEARNG  ADMIN HEARNG                 69240.0\n",
      "ADMIN HEARNG  ADMIN HEARNG                 71292.0\n",
      "ADMIN HEARNG  ADMIN HEARNG                 74676.0\n",
      "ADMIN HEARNG  ADMIN HEARNG                 74676.0\n",
      "ADMIN HEARNG  ADMIN HEARNG                 74676.0\n",
      "ADMIN HEARNG  ADMIN HEARNG                 74676.0\n",
      "ADMIN HEARNG  ADMIN HEARNG                 79596.0\n",
      "ADMIN HEARNG  ADMIN HEARNG                 81948.0\n",
      "ADMIN HEARNG  ADMIN HEARNG                 91476.0\n",
      "                  Department  Employee Annual Salary\n",
      "idx_department                                      \n",
      "ADMIN HEARNG    ADMIN HEARNG                 62198.4\n",
      "ADMIN HEARNG    ADMIN HEARNG                 65102.4\n",
      "ADMIN HEARNG    ADMIN HEARNG                 65102.4\n",
      "ADMIN HEARNG    ADMIN HEARNG                 65102.4\n",
      "ADMIN HEARNG    ADMIN HEARNG                 65102.4\n",
      "ADMIN HEARNG    ADMIN HEARNG                 65102.4\n",
      "ADMIN HEARNG    ADMIN HEARNG                 68204.4\n",
      "ADMIN HEARNG    ADMIN HEARNG                 68204.4\n",
      "ADMIN HEARNG    ADMIN HEARNG                 68204.4\n",
      "ADMIN HEARNG    ADMIN HEARNG                 68204.4\n",
      "ADMIN HEARNG    ADMIN HEARNG                 68204.4\n",
      "ADMIN HEARNG    ADMIN HEARNG                 71491.2\n",
      "ADMIN HEARNG    ADMIN HEARNG                 71491.2\n",
      "ADMIN HEARNG    ADMIN HEARNG                 73933.2\n",
      "ADMIN HEARNG    ADMIN HEARNG                 68028.0\n",
      "ADMIN HEARNG    ADMIN HEARNG                 68028.0\n",
      "ADMIN HEARNG    ADMIN HEARNG                 68028.0\n",
      "ADMIN HEARNG    ADMIN HEARNG                 68028.0\n",
      "ADMIN HEARNG    ADMIN HEARNG                 68028.0\n",
      "ADMIN HEARNG    ADMIN HEARNG                 68028.0\n",
      "ADMIN HEARNG    ADMIN HEARNG                 68700.0\n",
      "ADMIN HEARNG    ADMIN HEARNG                 69240.0\n",
      "ADMIN HEARNG    ADMIN HEARNG                 71292.0\n",
      "ADMIN HEARNG    ADMIN HEARNG                 74676.0\n",
      "ADMIN HEARNG    ADMIN HEARNG                 74676.0\n",
      "ADMIN HEARNG    ADMIN HEARNG                 74676.0\n",
      "ADMIN HEARNG    ADMIN HEARNG                 74676.0\n",
      "ADMIN HEARNG    ADMIN HEARNG                 79596.0\n",
      "ADMIN HEARNG    ADMIN HEARNG                 81948.0\n",
      "ADMIN HEARNG    ADMIN HEARNG                 91476.0\n"
     ]
    }
   ],
   "source": [
    "\n",
    "\n",
    "df1 = df_chicago[[\"Department\",\"Employee Annual Salary\"]].sort_values([\n",
    "    \"Department\",\"Employee Annual Salary\"], ascending = True).set_index(\"Department\", drop = False)\n",
    "print(df1[:30])\n",
    "df1.index.set_names(\"idx_department\", inplace = True)\n",
    "df2 = df1.groupby(\"Department\")['Employee Annual Salary'].unique().to_dict()\n",
    "df1.loc[\"AVIATION\"]\n",
    "for depart in df2.keys():\n",
    "    df1.loc[(df1[\"Department\"]==depart) &\n",
    "            (df1['Employee Annual Salary'].isin(df2[depart][:5])), \"Employee Annual Salary\"] *= 1.1\n",
    "\n",
    "print(df1[:30])\n",
    "\n",
    "# df2.loc[\"AVIATION\"]\n",
    "# df2 = df2.set_index(\"Department\")\n",
    "# df2 = df2.groupby(\"Department\")['Employee Annual Salary'].unique().to_dict()\n",
    "\n",
    "\n",
    "    \n"
   ]
  },
  {
   "cell_type": "markdown",
   "metadata": {},
   "source": [
    "12 - Calcula la media del salario de los departamentos 'POLICE', 'POLICE BOARD' y 'FIRE'"
   ]
  },
  {
   "cell_type": "code",
   "execution_count": 403,
   "metadata": {},
   "outputs": [
    {
     "data": {
      "text/plain": [
       "Employee Annual Salary    95700.627306\n",
       "dtype: float64"
      ]
     },
     "execution_count": 403,
     "metadata": {},
     "output_type": "execute_result"
    }
   ],
   "source": [
    "df_chicago = pd.read_csv(\"S6_datos/chicago.csv\", index_col = \"Department\")\n",
    "# df_chicago = df_chicago.set_index(\"Department\")\n",
    "df_chicago[\"Employee Annual Salary\"] = df_chicago[\"Employee Annual Salary\"].str.replace('$', '').astype(float)\n",
    "df_chicago.head()\n",
    "\n",
    "\n",
    "df_chicago.loc[\"POLICE\"].mean()\n",
    "df_chicago.loc[\"POLICE BOARD\"].mean()\n",
    "df_chicago.loc[\"FIRE\"].mean()"
   ]
  },
  {
   "cell_type": "markdown",
   "metadata": {},
   "source": [
    "#### Bloque 2: estudio tratamiento del cáncer (sanity.csv)\n",
    "\n",
    "Columnas:\n",
    "- idbus: identificador de la persona en el hospital. \n",
    "- sexo: 0 (hombre), 1 (mujer).\n",
    "- edad: edad de la persona.\n",
    "- altura: altura de la persona en cm.\n",
    "- peso: peso de la persona en kg.\n",
    "- tratamiento: 0 (quimioterapia), 1 (radioterapia).\n",
    "- supervivencia: años de supervivencia desde el tratamiento."
   ]
  },
  {
   "cell_type": "code",
   "execution_count": 405,
   "metadata": {},
   "outputs": [],
   "source": [
    "df_sanity = pd.read_csv(\"S6_datos/sanity.csv\")"
   ]
  },
  {
   "cell_type": "markdown",
   "metadata": {},
   "source": [
    "14 - Calcula la supervivencia media de los participantes del estudio."
   ]
  },
  {
   "cell_type": "code",
   "execution_count": 407,
   "metadata": {},
   "outputs": [
    {
     "data": {
      "text/plain": [
       "3.21"
      ]
     },
     "execution_count": 407,
     "metadata": {},
     "output_type": "execute_result"
    }
   ],
   "source": [
    "df_sanity.head()\n",
    "df_sanity[\"supervivencia\"].mean()"
   ]
  },
  {
   "cell_type": "markdown",
   "metadata": {},
   "source": [
    "15 - Calcula cuantos sobreviven más que la media. ¿Y más que la mediana?. ¿Cuál es el porcentaje de cada uno de los casos?"
   ]
  },
  {
   "cell_type": "code",
   "execution_count": 426,
   "metadata": {},
   "outputs": [
    {
     "data": {
      "text/plain": [
       "(idsub            0.355\n",
       " sexo             0.355\n",
       " edad             0.355\n",
       " altura           0.355\n",
       " peso             0.355\n",
       " tratamiento      0.355\n",
       " supervivencia    0.355\n",
       " dtype: float64,\n",
       " idsub            0.355\n",
       " sexo             0.355\n",
       " edad             0.355\n",
       " altura           0.355\n",
       " peso             0.355\n",
       " tratamiento      0.355\n",
       " supervivencia    0.355\n",
       " dtype: float64)"
      ]
     },
     "execution_count": 426,
     "metadata": {},
     "output_type": "execute_result"
    }
   ],
   "source": [
    "df_sanity[\"supervivencia\"].describe()\n",
    "high_mean = df_sanity[df_sanity[\"supervivencia\"] > df_sanity[\"supervivencia\"].mean()].count()\n",
    "high_median = df_sanity[df_sanity[\"supervivencia\"] > df_sanity[\"supervivencia\"].median()].count()\n",
    "n_patients = df_sanity.count()\n",
    "(high_mean/n_patients),(high_median/n_patients)"
   ]
  },
  {
   "cell_type": "markdown",
   "metadata": {},
   "source": [
    "16 - ¿Cuál es el grupo de personas (hombre o mujer) con mayor supervivencia?"
   ]
  },
  {
   "cell_type": "code",
   "execution_count": 438,
   "metadata": {},
   "outputs": [
    {
     "data": {
      "text/html": [
       "<div>\n",
       "<style scoped>\n",
       "    .dataframe tbody tr th:only-of-type {\n",
       "        vertical-align: middle;\n",
       "    }\n",
       "\n",
       "    .dataframe tbody tr th {\n",
       "        vertical-align: top;\n",
       "    }\n",
       "\n",
       "    .dataframe thead th {\n",
       "        text-align: right;\n",
       "    }\n",
       "</style>\n",
       "<table border=\"1\" class=\"dataframe\">\n",
       "  <thead>\n",
       "    <tr style=\"text-align: right;\">\n",
       "      <th></th>\n",
       "      <th>idsub</th>\n",
       "      <th>edad</th>\n",
       "      <th>altura</th>\n",
       "      <th>peso</th>\n",
       "      <th>tratamiento</th>\n",
       "      <th>supervivencia</th>\n",
       "    </tr>\n",
       "    <tr>\n",
       "      <th>sexo</th>\n",
       "      <th></th>\n",
       "      <th></th>\n",
       "      <th></th>\n",
       "      <th></th>\n",
       "      <th></th>\n",
       "      <th></th>\n",
       "    </tr>\n",
       "  </thead>\n",
       "  <tbody>\n",
       "    <tr>\n",
       "      <th>0.0</th>\n",
       "      <td>1024.5</td>\n",
       "      <td>43.48</td>\n",
       "      <td>174.09</td>\n",
       "      <td>73.27</td>\n",
       "      <td>0.54</td>\n",
       "      <td>2.94</td>\n",
       "    </tr>\n",
       "    <tr>\n",
       "      <th>1.0</th>\n",
       "      <td>1074.5</td>\n",
       "      <td>43.76</td>\n",
       "      <td>162.47</td>\n",
       "      <td>59.87</td>\n",
       "      <td>0.43</td>\n",
       "      <td>3.48</td>\n",
       "    </tr>\n",
       "  </tbody>\n",
       "</table>\n",
       "</div>"
      ],
      "text/plain": [
       "       idsub   edad  altura   peso  tratamiento  supervivencia\n",
       "sexo                                                          \n",
       "0.0   1024.5  43.48  174.09  73.27         0.54           2.94\n",
       "1.0   1074.5  43.76  162.47  59.87         0.43           3.48"
      ]
     },
     "execution_count": 438,
     "metadata": {},
     "output_type": "execute_result"
    }
   ],
   "source": [
    "df_sanity.head()\n",
    "df_sanity.groupby(\"sexo\").count()  # sabiendo que la mitad son hombres y la mitad son mujeres\n",
    "df_sanity.groupby(\"sexo\").mean() # sexo 1 -> mujer. Las mujeres tienen una media de supervivencia superior"
   ]
  },
  {
   "cell_type": "markdown",
   "metadata": {},
   "source": [
    "17 - ¿Qué tratamiento alarga más la supervivencia la quimioterapia o la radioterapia?"
   ]
  },
  {
   "cell_type": "code",
   "execution_count": 452,
   "metadata": {},
   "outputs": [
    {
     "data": {
      "text/plain": [
       "(tratamiento\n",
       " 0.0    3.407767\n",
       " 1.0    3.000000\n",
       " Name: supervivencia, dtype: float64,\n",
       " 3.0,\n",
       " 3.407766990291262)"
      ]
     },
     "execution_count": 452,
     "metadata": {},
     "output_type": "execute_result"
    }
   ],
   "source": [
    "df_sanity.head()\n",
    "# \"\"\"Radio -> 1. Quimio -> 0\"\"\"\n",
    "\n",
    "radio = df_sanity[\"supervivencia\"][df_sanity[\"tratamiento\"] == 1].mean()\n",
    "quimio = df_sanity[\"supervivencia\"][df_sanity[\"tratamiento\"] == 0].mean()\n",
    "\n",
    "radio, quimio\n",
    "\n",
    "df_sanity.groupby(\"tratamiento\")[\"supervivencia\"].mean()  # Otra forma distinta de hacerlo\n",
    "\n",
    "\n",
    "# radio, quimio"
   ]
  },
  {
   "cell_type": "markdown",
   "metadata": {},
   "source": [
    "18 - Asigna una nueva columna que marque como ancianos a los mayores de 60 años y jóvenes al resto."
   ]
  },
  {
   "cell_type": "code",
   "execution_count": 453,
   "metadata": {},
   "outputs": [
    {
     "data": {
      "text/html": [
       "<div>\n",
       "<style scoped>\n",
       "    .dataframe tbody tr th:only-of-type {\n",
       "        vertical-align: middle;\n",
       "    }\n",
       "\n",
       "    .dataframe tbody tr th {\n",
       "        vertical-align: top;\n",
       "    }\n",
       "\n",
       "    .dataframe thead th {\n",
       "        text-align: right;\n",
       "    }\n",
       "</style>\n",
       "<table border=\"1\" class=\"dataframe\">\n",
       "  <thead>\n",
       "    <tr style=\"text-align: right;\">\n",
       "      <th></th>\n",
       "      <th>idsub</th>\n",
       "      <th>sexo</th>\n",
       "      <th>edad</th>\n",
       "      <th>altura</th>\n",
       "      <th>peso</th>\n",
       "      <th>tratamiento</th>\n",
       "      <th>supervivencia</th>\n",
       "    </tr>\n",
       "  </thead>\n",
       "  <tbody>\n",
       "    <tr>\n",
       "      <th>0</th>\n",
       "      <td>1000.0</td>\n",
       "      <td>0.0</td>\n",
       "      <td>61.0</td>\n",
       "      <td>166.0</td>\n",
       "      <td>74.0</td>\n",
       "      <td>1.0</td>\n",
       "      <td>2.0</td>\n",
       "    </tr>\n",
       "    <tr>\n",
       "      <th>1</th>\n",
       "      <td>1001.0</td>\n",
       "      <td>0.0</td>\n",
       "      <td>21.0</td>\n",
       "      <td>179.0</td>\n",
       "      <td>89.0</td>\n",
       "      <td>1.0</td>\n",
       "      <td>4.0</td>\n",
       "    </tr>\n",
       "    <tr>\n",
       "      <th>2</th>\n",
       "      <td>1002.0</td>\n",
       "      <td>0.0</td>\n",
       "      <td>59.0</td>\n",
       "      <td>166.0</td>\n",
       "      <td>59.0</td>\n",
       "      <td>1.0</td>\n",
       "      <td>2.0</td>\n",
       "    </tr>\n",
       "    <tr>\n",
       "      <th>3</th>\n",
       "      <td>1003.0</td>\n",
       "      <td>0.0</td>\n",
       "      <td>27.0</td>\n",
       "      <td>162.0</td>\n",
       "      <td>81.0</td>\n",
       "      <td>0.0</td>\n",
       "      <td>2.0</td>\n",
       "    </tr>\n",
       "    <tr>\n",
       "      <th>4</th>\n",
       "      <td>1004.0</td>\n",
       "      <td>0.0</td>\n",
       "      <td>23.0</td>\n",
       "      <td>164.0</td>\n",
       "      <td>69.0</td>\n",
       "      <td>1.0</td>\n",
       "      <td>2.0</td>\n",
       "    </tr>\n",
       "  </tbody>\n",
       "</table>\n",
       "</div>"
      ],
      "text/plain": [
       "    idsub  sexo  edad  altura  peso  tratamiento  supervivencia\n",
       "0  1000.0   0.0  61.0   166.0  74.0          1.0            2.0\n",
       "1  1001.0   0.0  21.0   179.0  89.0          1.0            4.0\n",
       "2  1002.0   0.0  59.0   166.0  59.0          1.0            2.0\n",
       "3  1003.0   0.0  27.0   162.0  81.0          0.0            2.0\n",
       "4  1004.0   0.0  23.0   164.0  69.0          1.0            2.0"
      ]
     },
     "execution_count": 453,
     "metadata": {},
     "output_type": "execute_result"
    }
   ],
   "source": [
    "df_sanity.head()"
   ]
  },
  {
   "cell_type": "code",
   "execution_count": 455,
   "metadata": {},
   "outputs": [
    {
     "data": {
      "text/html": [
       "<div>\n",
       "<style scoped>\n",
       "    .dataframe tbody tr th:only-of-type {\n",
       "        vertical-align: middle;\n",
       "    }\n",
       "\n",
       "    .dataframe tbody tr th {\n",
       "        vertical-align: top;\n",
       "    }\n",
       "\n",
       "    .dataframe thead th {\n",
       "        text-align: right;\n",
       "    }\n",
       "</style>\n",
       "<table border=\"1\" class=\"dataframe\">\n",
       "  <thead>\n",
       "    <tr style=\"text-align: right;\">\n",
       "      <th></th>\n",
       "      <th>idsub</th>\n",
       "      <th>sexo</th>\n",
       "      <th>edad</th>\n",
       "      <th>altura</th>\n",
       "      <th>peso</th>\n",
       "      <th>tratamiento</th>\n",
       "      <th>supervivencia</th>\n",
       "      <th>anciano</th>\n",
       "    </tr>\n",
       "  </thead>\n",
       "  <tbody>\n",
       "    <tr>\n",
       "      <th>0</th>\n",
       "      <td>1000.0</td>\n",
       "      <td>0.0</td>\n",
       "      <td>61.0</td>\n",
       "      <td>166.0</td>\n",
       "      <td>74.0</td>\n",
       "      <td>1.0</td>\n",
       "      <td>2.0</td>\n",
       "      <td>True</td>\n",
       "    </tr>\n",
       "    <tr>\n",
       "      <th>1</th>\n",
       "      <td>1001.0</td>\n",
       "      <td>0.0</td>\n",
       "      <td>21.0</td>\n",
       "      <td>179.0</td>\n",
       "      <td>89.0</td>\n",
       "      <td>1.0</td>\n",
       "      <td>4.0</td>\n",
       "      <td>False</td>\n",
       "    </tr>\n",
       "    <tr>\n",
       "      <th>2</th>\n",
       "      <td>1002.0</td>\n",
       "      <td>0.0</td>\n",
       "      <td>59.0</td>\n",
       "      <td>166.0</td>\n",
       "      <td>59.0</td>\n",
       "      <td>1.0</td>\n",
       "      <td>2.0</td>\n",
       "      <td>False</td>\n",
       "    </tr>\n",
       "    <tr>\n",
       "      <th>3</th>\n",
       "      <td>1003.0</td>\n",
       "      <td>0.0</td>\n",
       "      <td>27.0</td>\n",
       "      <td>162.0</td>\n",
       "      <td>81.0</td>\n",
       "      <td>0.0</td>\n",
       "      <td>2.0</td>\n",
       "      <td>False</td>\n",
       "    </tr>\n",
       "    <tr>\n",
       "      <th>4</th>\n",
       "      <td>1004.0</td>\n",
       "      <td>0.0</td>\n",
       "      <td>23.0</td>\n",
       "      <td>164.0</td>\n",
       "      <td>69.0</td>\n",
       "      <td>1.0</td>\n",
       "      <td>2.0</td>\n",
       "      <td>False</td>\n",
       "    </tr>\n",
       "  </tbody>\n",
       "</table>\n",
       "</div>"
      ],
      "text/plain": [
       "    idsub  sexo  edad  altura  peso  tratamiento  supervivencia  anciano\n",
       "0  1000.0   0.0  61.0   166.0  74.0          1.0            2.0     True\n",
       "1  1001.0   0.0  21.0   179.0  89.0          1.0            4.0    False\n",
       "2  1002.0   0.0  59.0   166.0  59.0          1.0            2.0    False\n",
       "3  1003.0   0.0  27.0   162.0  81.0          0.0            2.0    False\n",
       "4  1004.0   0.0  23.0   164.0  69.0          1.0            2.0    False"
      ]
     },
     "execution_count": 455,
     "metadata": {},
     "output_type": "execute_result"
    }
   ],
   "source": [
    "df_sanity[\"anciano\"] = df_sanity[\"edad\"].map(lambda x: True if x > 60 else False)\n",
    "df_sanity.head()"
   ]
  },
  {
   "cell_type": "markdown",
   "metadata": {},
   "source": [
    "19 - ¿Puedes ver si las mujeres que pesan más de 60 kilos sobreviven más que las que pesan menos?"
   ]
  },
  {
   "cell_type": "code",
   "execution_count": 462,
   "metadata": {},
   "outputs": [
    {
     "name": "stdout",
     "output_type": "stream",
     "text": [
      "3.162962962962963\n",
      "3.293103448275862\n"
     ]
    }
   ],
   "source": [
    "print(df_sanity[df_sanity[\"peso\"] > 60][\"supervivencia\"].mean())\n",
    "print(df_sanity[df_sanity[\"peso\"] < 60][\"supervivencia\"].mean())"
   ]
  },
  {
   "cell_type": "markdown",
   "metadata": {},
   "source": [
    "20 - Crea una nueva columna que clasifique a las personas en base a su índice de masa corporal (imc) según el siguiente criterio:\n",
    "\n",
    "- Por debajo de 18.5: por debajo del peso.\n",
    "- 18.5 a 24.9: saludable.\n",
    "- 25.0 a 29.9: Sobrepeso.\n",
    "- 30.0 a 39.9: Obeso.\n",
    "- Más de 40: Obesidad extrema o de alto riesgo."
   ]
  },
  {
   "cell_type": "code",
   "execution_count": null,
   "metadata": {},
   "outputs": [],
   "source": []
  }
 ],
 "metadata": {
  "kernelspec": {
   "display_name": "Python 3",
   "language": "python",
   "name": "python3"
  },
  "language_info": {
   "codemirror_mode": {
    "name": "ipython",
    "version": 3
   },
   "file_extension": ".py",
   "mimetype": "text/x-python",
   "name": "python",
   "nbconvert_exporter": "python",
   "pygments_lexer": "ipython3",
   "version": "3.8.3"
  }
 },
 "nbformat": 4,
 "nbformat_minor": 2
}
