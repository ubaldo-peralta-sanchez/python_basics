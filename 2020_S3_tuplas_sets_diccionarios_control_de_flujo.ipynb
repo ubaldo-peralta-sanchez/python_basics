{
 "cells": [
  {
   "cell_type": "markdown",
   "metadata": {},
   "source": [
    "# Python para el análisis de datos -  UNAV 2020-2021\n",
    "---\n",
    "\n",
    "# Notebook 3: Tuplas, sets y diccionarios. Estructuras de control de flujo."
   ]
  },
  {
   "cell_type": "markdown",
   "metadata": {},
   "source": [
    "## Índice  <a name=\"indice\"></a>\n",
    "\n",
    "    \n",
    "- [Tuplas](#tuplas)\n",
    "- [Sets](#sets)\n",
    "    - [Operadores y funciones integradas](#set_operadores)\n",
    "    - [Sets: mutables y dinámicos](#set_mutables_dinamicos)\n",
    "- [Diccionarios](#diccionarios)\n",
    "    - [Operadores y funciones integradas](#dict_operadores)\n",
    "- [Estructuras de control de flujo](#estructuras_control_flujo)\n",
    "    - [*for*-loop](#for_loop)\n",
    "    - [list comprehensions](#list_comprehensions)\n",
    "    - [dict comprehensions](#dict_comprehensions)\n",
    "    - [*while*](#while)\n",
    "\n",
    "- [Introducción a Numpy](#numpy)\n",
    "    - [Creación de Numpy arrays](#creacion_numpy)\n",
    "    - [Indexación](#indexacion_numpy)\n",
    "    - [Operaciones básicas](#operaciones_basicas_numpy)\n",
    "\n",
    "- [Ejercicios](#ejercicios)"
   ]
  },
  {
   "cell_type": "markdown",
   "metadata": {},
   "source": [
    "## Tuplas<a name=\"tuplas\"></a> \n",
    "[Volver al índice](#indice)"
   ]
  },
  {
   "cell_type": "markdown",
   "metadata": {},
   "source": [
    "Una tupla es muy similar a una lista salvo en dos aspectos: \n",
    "* Se utilizan paréntesis en vez de corchetes. \n",
    "* Las tuplas son objetos inmutables. \n",
    "\n",
    "Recordad que el valor de cualquier elemento que contiene una lista se puede modificar (son mutables). Una tupla en Python se define como una secuencia de valores separados por comas y delimitada por paréntesis, ( ):\n",
    "\n",
    "<pre>my_tupla = (a, b, c)</pre>"
   ]
  },
  {
   "cell_type": "code",
   "execution_count": null,
   "metadata": {},
   "outputs": [],
   "source": [
    "a = (1, 2, 3)\n",
    "b = (2, 3, 1)\n",
    "\n",
    "print(a == b)"
   ]
  },
  {
   "cell_type": "markdown",
   "metadata": {},
   "source": [
    "Una tupla puede contener cualquier tipo de valor u objeto."
   ]
  },
  {
   "cell_type": "code",
   "execution_count": null,
   "metadata": {},
   "outputs": [],
   "source": [
    "a = (1.1, \"2\", 3)\n",
    "\n",
    "print(a, type(a))"
   ]
  },
  {
   "cell_type": "markdown",
   "metadata": {},
   "source": [
    "La operación de indexación y slicing no cambia respecto a las listas. Veamos los ejemplos de la semana pasada empleando tuplas:"
   ]
  },
  {
   "cell_type": "code",
   "execution_count": null,
   "metadata": {},
   "outputs": [],
   "source": [
    "autores = (\"Kernighan\", \"Ritchie\", \"Thompson\", \"Stroustrup\")\n",
    "print(autores[0])  # accede al primer elemento de la lista\n",
    "print(autores[3])  # accede al último elemento de la lista"
   ]
  },
  {
   "cell_type": "code",
   "execution_count": null,
   "metadata": {},
   "outputs": [],
   "source": [
    "print(autores[-1])\n",
    "print(autores[-4])"
   ]
  },
  {
   "cell_type": "code",
   "execution_count": null,
   "metadata": {},
   "outputs": [],
   "source": [
    "numeros = (0, 1, 2, 3, 4, 5, 6)\n",
    "\n",
    "print(type(numeros[2:5]))\n",
    "print(numeros[2:5])\n",
    "print(numeros[-5:-1])"
   ]
  },
  {
   "cell_type": "markdown",
   "metadata": {},
   "source": [
    "Podemos crear tuplas anidades, es decir, tuplas de tuplas. Extraer valores de las mismas requiere la encadenación de indexaciones."
   ]
  },
  {
   "cell_type": "code",
   "execution_count": null,
   "metadata": {},
   "outputs": [],
   "source": [
    "tp_anidada = (4, 5, ('1', 3), ((1, 334)))\n",
    "tp_anidada[2][1]"
   ]
  },
  {
   "cell_type": "markdown",
   "metadata": {},
   "source": [
    "Importante, las tuplas no se pueden modificar, son inmutables."
   ]
  },
  {
   "cell_type": "code",
   "execution_count": null,
   "metadata": {},
   "outputs": [],
   "source": [
    "tp_anidada[0] = 2"
   ]
  },
  {
   "cell_type": "markdown",
   "metadata": {},
   "source": [
    "Habréis notado que cuando ejecutamos una celda con varios objetos separados por coma, nos devuelve la presentación de los mismos entre paréntesis. El objeto que devuelve es una tupla."
   ]
  },
  {
   "cell_type": "code",
   "execution_count": null,
   "metadata": {},
   "outputs": [],
   "source": [
    "\"1\", 2, 4  # devuelve una tupla"
   ]
  },
  {
   "cell_type": "code",
   "execution_count": null,
   "metadata": {},
   "outputs": [],
   "source": [
    "a, b, c, d = (\"a\", \"b\", \"c\", \"d\")\n",
    "a, b, c, d"
   ]
  },
  {
   "cell_type": "markdown",
   "metadata": {},
   "source": [
    "Una tupla se puede inicializar simplemente asignando varios valores entre paréntesis:"
   ]
  },
  {
   "cell_type": "code",
   "execution_count": 4,
   "metadata": {},
   "outputs": [
    {
     "data": {
      "text/plain": [
       "tuple"
      ]
     },
     "execution_count": 4,
     "metadata": {},
     "output_type": "execute_result"
    }
   ],
   "source": [
    "t = ()\n",
    "t = (1,)\n",
    "t = (1) -- esto no es una tupla\n",
    "type(t)"
   ]
  },
  {
   "cell_type": "code",
   "execution_count": null,
   "metadata": {},
   "outputs": [],
   "source": [
    "t = (1, 2, 3)\n",
    "type(t)"
   ]
  },
  {
   "cell_type": "markdown",
   "metadata": {},
   "source": [
    "La única peculiaridad de las tuplas es que, a diferencia de listas, una tupla con un sólo elemento requiere una coma extra. Esto es necesario para diferenciar los paréntesis de tuplas de aquellos empleados en operaciones aritméticas."
   ]
  },
  {
   "cell_type": "code",
   "execution_count": null,
   "metadata": {},
   "outputs": [],
   "source": [
    "t1 = (1)\n",
    "t2 = (1,)\n",
    "type(t1), type(t2)"
   ]
  },
  {
   "cell_type": "markdown",
   "metadata": {},
   "source": [
    "Si las tuplas y listas son tan similares, ¿para qué usar tuplas?\n",
    "\n",
    "* Si los elementos de una lista no se quieren modificar, una forma de prevenir errores es utilizar tuplas.\n",
    "\n",
    "* Una tupla, al ser un objeto inmutable, se puede emplear como clave en diccionarios (veremos diccionarios en breve)."
   ]
  },
  {
   "cell_type": "markdown",
   "metadata": {},
   "source": [
    "## Sets<a name=\"sets\"></a> \n",
    "[Volver al índice](#indice)"
   ]
  },
  {
   "cell_type": "markdown",
   "metadata": {},
   "source": [
    "Un set es una colección desordenada de valores únicos arbitrarios que se puede almacenar en una variable. Un set en Python se define como una secuencia de valores separados por comas y delimitada por llaves, { }:\n",
    "\n",
    "<pre>my_set = {a, b, c}</pre>\n",
    "\n",
    "Los sets:\n",
    "\n",
    "* Son una colección de objetos desordenada.\n",
    "* Continenen elementos únicos, los valores duplicados no se permiten.\n",
    "* Sólo pueden contener elementos inmutables."
   ]
  },
  {
   "cell_type": "code",
   "execution_count": null,
   "metadata": {},
   "outputs": [],
   "source": [
    "s = {1.1, \"2\", 3}\n",
    "\n",
    "print(s, type(s))"
   ]
  },
  {
   "cell_type": "markdown",
   "metadata": {},
   "source": [
    "Un set se puede crear a partir de un iterador, o de forma explícita empleando el constructor *set()*."
   ]
  },
  {
   "cell_type": "code",
   "execution_count": 7,
   "metadata": {},
   "outputs": [],
   "source": [
    "s1 = set([0, 1, 2, 3, 4, 5])\n",
    "s2 = set((0, 1, 2, 3, 4, 5))"
   ]
  },
  {
   "cell_type": "code",
   "execution_count": 8,
   "metadata": {},
   "outputs": [
    {
     "data": {
      "text/plain": [
       "{0, 1, 2, 3, 4, 5}"
      ]
     },
     "execution_count": 8,
     "metadata": {},
     "output_type": "execute_result"
    }
   ],
   "source": [
    "s3 = {0, 1, 2, 3, 4, 5}\n"
   ]
  },
  {
   "cell_type": "code",
   "execution_count": null,
   "metadata": {},
   "outputs": [],
   "source": [
    "s1 == s2 == s3"
   ]
  },
  {
   "cell_type": "markdown",
   "metadata": {},
   "source": [
    "Es importante diferenciar el tipo de set que se genera en ambos casos. Veamos un comportamiento que puede ser inesperado en el caso de pasar una cadena de caracteres."
   ]
  },
  {
   "cell_type": "code",
   "execution_count": null,
   "metadata": {},
   "outputs": [],
   "source": [
    "cadena = \"abracadabra\"\n",
    "lcadena = list(cadena)\n",
    "scadena = set(cadena)\n",
    "\n",
    "print(lcadena)\n",
    "print(scadena)"
   ]
  },
  {
   "cell_type": "code",
   "execution_count": 12,
   "metadata": {},
   "outputs": [
    {
     "data": {
      "text/plain": [
       "{'a', 'b', 'c', 'd', 'r'}"
      ]
     },
     "execution_count": 12,
     "metadata": {},
     "output_type": "execute_result"
    }
   ],
   "source": [
    "s1 = {'abracadabra'}\n",
    "print(s1)\n",
    "s2 = set('abracadabra')\n",
    "print(s2)\n",
    "\n",
    "#s1 == s2, s1, s2"
   ]
  },
  {
   "cell_type": "markdown",
   "metadata": {},
   "source": [
    "Vemos que al emplear llaves la cadena de caracteres se incluye como un único elemento en el *set*, mientras que el constructor itera sobre la cadena de caracteres, generando un *set* con los caracteres únicos de dicha cadena."
   ]
  },
  {
   "cell_type": "code",
   "execution_count": 9,
   "metadata": {},
   "outputs": [
    {
     "data": {
      "text/plain": [
       "<str_iterator at 0x1b14c05ab50>"
      ]
     },
     "execution_count": 9,
     "metadata": {},
     "output_type": "execute_result"
    }
   ],
   "source": [
    "iter('abracadabra')"
   ]
  },
  {
   "cell_type": "markdown",
   "metadata": {},
   "source": [
    "Podemos crear un *set* vacío utilizando el constructor *set()*. A diferencia de las listas o tuplas, no podemos crear un *set* vacío mediante llaves, ya que ese método está reservado a los diccionarios."
   ]
  },
  {
   "cell_type": "code",
   "execution_count": null,
   "metadata": {},
   "outputs": [],
   "source": [
    "s = set()\n",
    "\n",
    "if not s:\n",
    "    print(\"set vacío\")"
   ]
  },
  {
   "cell_type": "markdown",
   "metadata": {},
   "source": [
    "Un set sólo puede contener elementos inmutables, por ejemplo, no puede contener listas, ya que son objetos mutables."
   ]
  },
  {
   "cell_type": "code",
   "execution_count": 13,
   "metadata": {},
   "outputs": [
    {
     "ename": "TypeError",
     "evalue": "unhashable type: 'list'",
     "output_type": "error",
     "traceback": [
      "\u001b[1;31m---------------------------------------------------------------------------\u001b[0m",
      "\u001b[1;31mTypeError\u001b[0m                                 Traceback (most recent call last)",
      "\u001b[1;32m<ipython-input-13-6787a818e5f6>\u001b[0m in \u001b[0;36m<module>\u001b[1;34m\u001b[0m\n\u001b[1;32m----> 1\u001b[1;33m \u001b[0ms\u001b[0m \u001b[1;33m=\u001b[0m \u001b[1;33m{\u001b[0m\u001b[1;34m'1'\u001b[0m\u001b[1;33m,\u001b[0m \u001b[1;33m[\u001b[0m\u001b[1;36m1\u001b[0m\u001b[1;33m,\u001b[0m \u001b[1;36m2\u001b[0m\u001b[1;33m,\u001b[0m \u001b[1;36m3\u001b[0m\u001b[1;33m]\u001b[0m\u001b[1;33m}\u001b[0m\u001b[1;33m\u001b[0m\u001b[1;33m\u001b[0m\u001b[0m\n\u001b[0m",
      "\u001b[1;31mTypeError\u001b[0m: unhashable type: 'list'"
     ]
    }
   ],
   "source": [
    "s = {'1', [1, 2, 3]}"
   ]
  },
  {
   "cell_type": "markdown",
   "metadata": {},
   "source": [
    "El mensaje de error no especifica que sea debido a su mutabilidad, sino a no ser un objeto de tipo *hashable*. Un objeto de tipo *hashable* es aquel se puede pasar a una función *hash*. Una función *hash* mapea una entrada de datos a un valor alfanumérico o númerico (depende del algoritmo de *hashing*) de tamaño fijo que resumen la información."
   ]
  },
  {
   "cell_type": "code",
   "execution_count": null,
   "metadata": {},
   "outputs": [],
   "source": [
    "hash([1, 2, 3])"
   ]
  },
  {
   "cell_type": "code",
   "execution_count": null,
   "metadata": {},
   "outputs": [],
   "source": [
    "hash(\"user_001\"), hash(123187873478237489127349127349213742)"
   ]
  },
  {
   "cell_type": "markdown",
   "metadata": {},
   "source": [
    "### Operadores y funciones integradas<a name=\"set_operadores\"></a> \n",
    "[Volver al índice](#indice)"
   ]
  },
  {
   "cell_type": "markdown",
   "metadata": {},
   "source": [
    "Al igual que para otras estructuras de datos, el operador **in** nos permite evaluar si un valor se encuentra en un set."
   ]
  },
  {
   "cell_type": "code",
   "execution_count": null,
   "metadata": {},
   "outputs": [],
   "source": [
    "s = {1, 3, '004', 2}"
   ]
  },
  {
   "cell_type": "code",
   "execution_count": null,
   "metadata": {},
   "outputs": [],
   "source": [
    "1 in s"
   ]
  },
  {
   "cell_type": "markdown",
   "metadata": {},
   "source": [
    "Otras funciones que ya hemos visto para listas y tuplas son también aplicables a *sets*:"
   ]
  },
  {
   "cell_type": "code",
   "execution_count": null,
   "metadata": {},
   "outputs": [],
   "source": [
    "len(s), min(s, key=str), max(s, key=int)"
   ]
  },
  {
   "cell_type": "markdown",
   "metadata": {},
   "source": [
    "Hay varios operadores y métodos que realizan la misma operación con *sets*:\n",
    "\n",
    "* \"|\" o *.union()*: devuelve un *set* con los valores de cualquier de los dos *sets*.\n",
    "* \"&\" o *.intersection()*: devuelve un *set* con los elementos comunes en ambos *sets*.\n",
    "* \"-\" o *.difference()*: devuelve un *set* substrayendo al primer *set* los elementos del segundo *set*.\n",
    "* \"^\" o *.symmetric_difference()*: devuelve un *set* con los elementos no presentes en ambos *sets*.\n",
    "\n",
    "\n",
    "Estos son las operaciones básicas en *set theory*: https://en.wikipedia.org/wiki/Set_(mathematics)."
   ]
  },
  {
   "cell_type": "code",
   "execution_count": 14,
   "metadata": {},
   "outputs": [],
   "source": [
    "s1 = {'pyc', 'pyd', 'pyx'}\n",
    "s2 = {'py', 'pyc', 'ipynb'}"
   ]
  },
  {
   "cell_type": "markdown",
   "metadata": {},
   "source": [
    "Union: $s_1 \\cup s_2$"
   ]
  },
  {
   "cell_type": "code",
   "execution_count": 15,
   "metadata": {},
   "outputs": [
    {
     "data": {
      "text/plain": [
       "{'ipynb', 'py', 'pyc', 'pyd', 'pyx'}"
      ]
     },
     "execution_count": 15,
     "metadata": {},
     "output_type": "execute_result"
    }
   ],
   "source": [
    "s1 | s2"
   ]
  },
  {
   "cell_type": "code",
   "execution_count": 16,
   "metadata": {},
   "outputs": [
    {
     "data": {
      "text/plain": [
       "{'ipynb', 'py', 'pyc', 'pyd', 'pyx'}"
      ]
     },
     "execution_count": 16,
     "metadata": {},
     "output_type": "execute_result"
    }
   ],
   "source": [
    "s1.union(s2)  # s2 puede ser cualquier iterador, no sólo un objeto de tipo set."
   ]
  },
  {
   "cell_type": "code",
   "execution_count": 17,
   "metadata": {},
   "outputs": [
    {
     "data": {
      "text/plain": [
       "{'ipynb', 'py', 'pyc', 'pyd', 'pyx'}"
      ]
     },
     "execution_count": 17,
     "metadata": {},
     "output_type": "execute_result"
    }
   ],
   "source": [
    "s1.union(['py', 'pyc', 'ipynb'])"
   ]
  },
  {
   "cell_type": "markdown",
   "metadata": {},
   "source": [
    "Intersección: $s_1 \\cap s_2$"
   ]
  },
  {
   "cell_type": "code",
   "execution_count": 18,
   "metadata": {},
   "outputs": [
    {
     "data": {
      "text/plain": [
       "{'pyc'}"
      ]
     },
     "execution_count": 18,
     "metadata": {},
     "output_type": "execute_result"
    }
   ],
   "source": [
    "s1 & s2"
   ]
  },
  {
   "cell_type": "code",
   "execution_count": 19,
   "metadata": {},
   "outputs": [
    {
     "data": {
      "text/plain": [
       "{'pyc'}"
      ]
     },
     "execution_count": 19,
     "metadata": {},
     "output_type": "execute_result"
    }
   ],
   "source": [
    "s1.intersection(s2)"
   ]
  },
  {
   "cell_type": "markdown",
   "metadata": {},
   "source": [
    "Diferencia: $s_1 \\setminus s_2$"
   ]
  },
  {
   "cell_type": "code",
   "execution_count": 20,
   "metadata": {},
   "outputs": [
    {
     "data": {
      "text/plain": [
       "{'pyd', 'pyx'}"
      ]
     },
     "execution_count": 20,
     "metadata": {},
     "output_type": "execute_result"
    }
   ],
   "source": [
    "s1 - s2"
   ]
  },
  {
   "cell_type": "code",
   "execution_count": null,
   "metadata": {},
   "outputs": [],
   "source": [
    "s1.difference(s2)"
   ]
  },
  {
   "cell_type": "markdown",
   "metadata": {},
   "source": [
    "Diferencia simétrica"
   ]
  },
  {
   "cell_type": "code",
   "execution_count": 21,
   "metadata": {},
   "outputs": [
    {
     "data": {
      "text/plain": [
       "{'ipynb', 'py', 'pyd', 'pyx'}"
      ]
     },
     "execution_count": 21,
     "metadata": {},
     "output_type": "execute_result"
    }
   ],
   "source": [
    "s1 ^ s2"
   ]
  },
  {
   "cell_type": "code",
   "execution_count": null,
   "metadata": {},
   "outputs": [],
   "source": [
    "s1.symmetric_difference(s2)"
   ]
  },
  {
   "cell_type": "markdown",
   "metadata": {},
   "source": [
    "La lista completa de métodos implementados en la clase **set** se pueden consultar aquí: https://docs.python.org/3.8/library/stdtypes.html#set"
   ]
  },
  {
   "cell_type": "markdown",
   "metadata": {},
   "source": [
    "### Sets: mutables y dinámicos<a name=\"set_mutables_dinamicos\"></a> \n",
    "[Volver al índice](#indice)"
   ]
  },
  {
   "cell_type": "markdown",
   "metadata": {},
   "source": [
    "Los *sets* son estructuras de datos mutables, pero como hemos comentado, debe contener elementos inmutables."
   ]
  },
  {
   "cell_type": "code",
   "execution_count": null,
   "metadata": {},
   "outputs": [],
   "source": [
    "s1, s2"
   ]
  },
  {
   "cell_type": "markdown",
   "metadata": {},
   "source": [
    "Podemos añadir nuevos elementos al *set* mediante el método *.add()*."
   ]
  },
  {
   "cell_type": "code",
   "execution_count": null,
   "metadata": {},
   "outputs": [],
   "source": [
    "s1.add(\"txt\")\n",
    "s1"
   ]
  },
  {
   "cell_type": "markdown",
   "metadata": {},
   "source": [
    "También podemos eliminar elementos del *set* empleando el método *.remove()*. Si el valor no está presente nos devolverá un error."
   ]
  },
  {
   "cell_type": "code",
   "execution_count": null,
   "metadata": {},
   "outputs": [],
   "source": [
    "s1.remove('pyx')\n",
    "s1"
   ]
  },
  {
   "cell_type": "code",
   "execution_count": null,
   "metadata": {},
   "outputs": [],
   "source": [
    "s1.remove('csv')"
   ]
  },
  {
   "cell_type": "markdown",
   "metadata": {},
   "source": [
    "Para evitar el mensaje de error podemos utilizar en su lugar el método *.discard()*. El método no devolverá error si no existe el valor."
   ]
  },
  {
   "cell_type": "code",
   "execution_count": null,
   "metadata": {},
   "outputs": [],
   "source": [
    "s1.discard('csv')\n",
    "s1"
   ]
  },
  {
   "cell_type": "markdown",
   "metadata": {},
   "source": [
    "Igual que otras estructuras, el método *.copy()* está disponible para realizar una copia de un *set*."
   ]
  },
  {
   "cell_type": "code",
   "execution_count": null,
   "metadata": {},
   "outputs": [],
   "source": [
    "s3 = s1.copy()\n",
    "s3"
   ]
  },
  {
   "cell_type": "markdown",
   "metadata": {},
   "source": [
    "El método *.pop()* es similar al de las listas, pero no nos permite pasar el índice del elemento a eliminar. Sigue un esquema LIFO (last-in first-out)."
   ]
  },
  {
   "cell_type": "code",
   "execution_count": null,
   "metadata": {},
   "outputs": [],
   "source": [
    "s3.pop()\n",
    "s3"
   ]
  },
  {
   "cell_type": "code",
   "execution_count": null,
   "metadata": {},
   "outputs": [],
   "source": [
    "s3.pop(0)"
   ]
  },
  {
   "cell_type": "markdown",
   "metadata": {},
   "source": [
    "El método *.clear()* nos devuelve el *set* vacío."
   ]
  },
  {
   "cell_type": "code",
   "execution_count": null,
   "metadata": {},
   "outputs": [],
   "source": [
    "s3.clear()\n",
    "s3"
   ]
  },
  {
   "cell_type": "markdown",
   "metadata": {},
   "source": [
    "Hay otros métodos disponibles para actualizar un *set* sin devolver una copia. Por ejemplo, el método *.update()*:"
   ]
  },
  {
   "cell_type": "code",
   "execution_count": null,
   "metadata": {},
   "outputs": [],
   "source": [
    "s1.update(s2)"
   ]
  },
  {
   "cell_type": "code",
   "execution_count": null,
   "metadata": {},
   "outputs": [],
   "source": [
    "s1"
   ]
  },
  {
   "cell_type": "markdown",
   "metadata": {},
   "source": [
    "Otros métodos para actualizar un *set* son los siguientes:\n",
    "\n",
    "* *.intersection_update()*: https://docs.python.org/3.8/library/stdtypes.html#frozenset.intersection_update\n",
    "* *.difference_update()*: https://docs.python.org/3.8/library/stdtypes.html#frozenset.difference_update\n",
    "* *.symmetric_difference_update()*: https://docs.python.org/3.8/library/stdtypes.html#frozenset.symmetric_difference_update\n",
    "\n",
    "Por último, existe un tipo de *set* inmutable, llamado *frozenset*: https://docs.python.org/3/library/stdtypes.html#frozenset"
   ]
  },
  {
   "cell_type": "markdown",
   "metadata": {},
   "source": [
    "## Diccionarios<a name=\"diccionarios\"></a> \n",
    "[Volver al índice](#indice)"
   ]
  },
  {
   "cell_type": "markdown",
   "metadata": {},
   "source": [
    "Los diccionarios en Python son un tipo de estructuras de datos que permiten guardar un conjunto no ordenado de pares clave-valor, siendo las claves únicas dentro de un mismo diccionario. Un diccionario en Python se define como una secuencia de pares clave-valor separados por comas y delimitada por corchetes, { }:\n",
    "\n",
    "<pre>my_dict = {\n",
    "    \"clave_0\": 0,\n",
    "    \"clave_1\": 1,\n",
    "    \"clave_2\": 2\n",
    "}</pre>\n",
    "\n",
    "Los diccionarios:\n",
    "\n",
    "* No almacenan los pares en ningún order en particular. El orden de entrada no está garantizado.\n",
    "* Pueden contener un objeto de cualquier tipo como valor, pero no como clave.\n",
    "* Se puede acceder a sus elementos por indexación y clave.\n",
    "* Pueden anidar otros diccionarios.\n",
    "* Son dinámicos y mutables.\n"
   ]
  },
  {
   "cell_type": "markdown",
   "metadata": {},
   "source": [
    "Primero vamos a ver varios modos de crear un diccionario:"
   ]
  },
  {
   "cell_type": "markdown",
   "metadata": {},
   "source": [
    "Modo \"estándar\":"
   ]
  },
  {
   "cell_type": "code",
   "execution_count": 24,
   "metadata": {},
   "outputs": [
    {
     "name": "stdout",
     "output_type": "stream",
     "text": [
      "{'nombre': 'Carlos', 'edad': 22, 'cursos': ['Python', 'Finanzas']}\n"
     ]
    }
   ],
   "source": [
    "d1 = {\n",
    "    'nombre' : 'Carlos',\n",
    "    'edad' : 22,\n",
    "    'cursos': ['Python','Finanzas'] \n",
    "}\n",
    "\n",
    "print(d1)"
   ]
  },
  {
   "cell_type": "markdown",
   "metadata": {},
   "source": [
    "Modo incremental:\n",
    "\n",
    "---\n",
    "&#x26a0;&#xfe0f; No confundir {} y *dict()* con *set()*. Recordad que los *sets* vacíos no se pueden definir usando llaves.\n",
    "\n",
    "---"
   ]
  },
  {
   "cell_type": "code",
   "execution_count": 25,
   "metadata": {},
   "outputs": [
    {
     "name": "stdout",
     "output_type": "stream",
     "text": [
      "{'nombre': 'Carlos', 'edad': 22, 'cursos': ['Python', 'Finanzas']}\n"
     ]
    }
   ],
   "source": [
    "d2 = dict()\n",
    "d2['nombre'] = 'Carlos'\n",
    "d2['edad'] = 22\n",
    "d2['cursos'] = ['Python', 'Finanzas']\n",
    "print(d2)"
   ]
  },
  {
   "cell_type": "markdown",
   "metadata": {},
   "source": [
    "Utilizando una lista de tuplas:"
   ]
  },
  {
   "cell_type": "code",
   "execution_count": 26,
   "metadata": {},
   "outputs": [
    {
     "name": "stdout",
     "output_type": "stream",
     "text": [
      "{'nombre': 'Carlos', 'edad': 22, 'cursos': ['Python', 'Finanzas']}\n"
     ]
    }
   ],
   "source": [
    "d3 = dict([('nombre', 'Carlos'), ('edad', 22), ('cursos', ['Python', 'Finanzas'])])\n",
    "print(d3)"
   ]
  },
  {
   "cell_type": "markdown",
   "metadata": {},
   "source": [
    "Utilizando una lista para claves y otra para valores. Función *zip()*: https://docs.python.org/3.3/library/functions.html#zip"
   ]
  },
  {
   "cell_type": "code",
   "execution_count": 27,
   "metadata": {},
   "outputs": [
    {
     "name": "stdout",
     "output_type": "stream",
     "text": [
      "{'nombre': 'Carlos', 'edad': 22, 'cursos': ['Python', 'Finanzas']}\n"
     ]
    }
   ],
   "source": [
    "claves = ['nombre', 'edad', 'cursos']\n",
    "valores = ['Carlos', 22, ['Python', 'Finanzas']] \n",
    "d4 = dict(zip(claves, valores))\n",
    "print(d4)"
   ]
  },
  {
   "cell_type": "markdown",
   "metadata": {},
   "source": [
    "Modo *keywords*:"
   ]
  },
  {
   "cell_type": "code",
   "execution_count": 22,
   "metadata": {},
   "outputs": [
    {
     "name": "stdout",
     "output_type": "stream",
     "text": [
      "{'nombre': 'Carlos', 'edad': 22, 'cursos': ['Python', 'Finanzas']}\n"
     ]
    }
   ],
   "source": [
    "d5 = dict(\n",
    "    nombre = 'Carlos',\n",
    "    edad = 22,\n",
    "    cursos = ['Python','Finanzas'] \n",
    ")\n",
    "\n",
    "print(d5)"
   ]
  },
  {
   "cell_type": "markdown",
   "metadata": {},
   "source": [
    "Un diccionario sólo con claves y todos los valores fijados a *None*."
   ]
  },
  {
   "cell_type": "code",
   "execution_count": 31,
   "metadata": {},
   "outputs": [
    {
     "name": "stdout",
     "output_type": "stream",
     "text": [
      "{'nombre': None, 'edad': None, 'cursos': None}\n"
     ]
    }
   ],
   "source": [
    "d6 = dict.fromkeys(claves, None)\n",
    "print(d6)"
   ]
  },
  {
   "cell_type": "code",
   "execution_count": 23,
   "metadata": {},
   "outputs": [
    {
     "ename": "NameError",
     "evalue": "name 'd1' is not defined",
     "output_type": "error",
     "traceback": [
      "\u001b[1;31m---------------------------------------------------------------------------\u001b[0m",
      "\u001b[1;31mNameError\u001b[0m                                 Traceback (most recent call last)",
      "\u001b[1;32m<ipython-input-23-8966d4e17bf0>\u001b[0m in \u001b[0;36m<module>\u001b[1;34m\u001b[0m\n\u001b[1;32m----> 1\u001b[1;33m \u001b[0mtype\u001b[0m\u001b[1;33m(\u001b[0m\u001b[0md1\u001b[0m\u001b[1;33m)\u001b[0m\u001b[1;33m,\u001b[0m \u001b[0mtype\u001b[0m\u001b[1;33m(\u001b[0m\u001b[0md2\u001b[0m\u001b[1;33m)\u001b[0m\u001b[1;33m,\u001b[0m \u001b[0mtype\u001b[0m\u001b[1;33m(\u001b[0m\u001b[0md3\u001b[0m\u001b[1;33m)\u001b[0m\u001b[1;33m,\u001b[0m \u001b[0mtype\u001b[0m\u001b[1;33m(\u001b[0m\u001b[0md4\u001b[0m\u001b[1;33m)\u001b[0m\u001b[1;33m,\u001b[0m \u001b[0mtype\u001b[0m\u001b[1;33m(\u001b[0m\u001b[0md5\u001b[0m\u001b[1;33m)\u001b[0m\u001b[1;33m,\u001b[0m \u001b[0mtype\u001b[0m\u001b[1;33m(\u001b[0m\u001b[0md6\u001b[0m\u001b[1;33m)\u001b[0m\u001b[1;33m\u001b[0m\u001b[1;33m\u001b[0m\u001b[0m\n\u001b[0m",
      "\u001b[1;31mNameError\u001b[0m: name 'd1' is not defined"
     ]
    }
   ],
   "source": [
    "type(d1), type(d2), type(d3), type(d4), type(d5), type(d6)"
   ]
  },
  {
   "cell_type": "markdown",
   "metadata": {},
   "source": [
    "Una clave sólo puede aparecer en una ocasión:"
   ]
  },
  {
   "cell_type": "code",
   "execution_count": 33,
   "metadata": {},
   "outputs": [
    {
     "data": {
      "text/plain": [
       "{'a': 3}"
      ]
     },
     "execution_count": 33,
     "metadata": {},
     "output_type": "execute_result"
    }
   ],
   "source": [
    "d6 = {\"a\": 2, \"a\": 3}\n",
    "d6"
   ]
  },
  {
   "cell_type": "markdown",
   "metadata": {},
   "source": [
    "Sólo datos que son *hashable* se pueden utilizar como claves:"
   ]
  },
  {
   "cell_type": "code",
   "execution_count": 32,
   "metadata": {},
   "outputs": [
    {
     "ename": "TypeError",
     "evalue": "unhashable type: 'list'",
     "output_type": "error",
     "traceback": [
      "\u001b[1;31m---------------------------------------------------------------------------\u001b[0m",
      "\u001b[1;31mTypeError\u001b[0m                                 Traceback (most recent call last)",
      "\u001b[1;32m<ipython-input-32-e26076a2e399>\u001b[0m in \u001b[0;36m<module>\u001b[1;34m\u001b[0m\n\u001b[1;32m----> 1\u001b[1;33m \u001b[0md7\u001b[0m \u001b[1;33m=\u001b[0m \u001b[1;33m{\u001b[0m\u001b[1;33m[\u001b[0m\u001b[1;36m1\u001b[0m\u001b[1;33m,\u001b[0m \u001b[1;36m2\u001b[0m\u001b[1;33m]\u001b[0m\u001b[1;33m:\u001b[0m \u001b[1;36m3\u001b[0m\u001b[1;33m,\u001b[0m \u001b[1;34m'a'\u001b[0m\u001b[1;33m:\u001b[0m \u001b[1;36m2\u001b[0m\u001b[1;33m}\u001b[0m\u001b[1;33m\u001b[0m\u001b[1;33m\u001b[0m\u001b[0m\n\u001b[0m\u001b[0;32m      2\u001b[0m \u001b[0md7\u001b[0m\u001b[1;33m\u001b[0m\u001b[1;33m\u001b[0m\u001b[0m\n",
      "\u001b[1;31mTypeError\u001b[0m: unhashable type: 'list'"
     ]
    }
   ],
   "source": [
    "d7 = {[1, 2]: 3, 'a': 2}\n",
    "d7"
   ]
  },
  {
   "cell_type": "code",
   "execution_count": 34,
   "metadata": {},
   "outputs": [
    {
     "data": {
      "text/plain": [
       "{(1, 2): 3, 'a': 2}"
      ]
     },
     "execution_count": 34,
     "metadata": {},
     "output_type": "execute_result"
    }
   ],
   "source": [
    "d8 = {(1, 2): 3, 'a': 2}\n",
    "d8"
   ]
  },
  {
   "cell_type": "markdown",
   "metadata": {},
   "source": [
    "Podemos acceder a los valores de un diccionario utilizando claves:"
   ]
  },
  {
   "cell_type": "code",
   "execution_count": null,
   "metadata": {},
   "outputs": [],
   "source": [
    "print(d1['nombre'])\n",
    "print(d1['edad'])\n",
    "print(d1['cursos'])"
   ]
  },
  {
   "cell_type": "markdown",
   "metadata": {},
   "source": [
    "Si el valor correspondiente a una clave es de tipo lista, podemos acceder directamente a uno de sus elementos:"
   ]
  },
  {
   "cell_type": "code",
   "execution_count": null,
   "metadata": {},
   "outputs": [],
   "source": [
    "print(d1['cursos'][0])\n",
    "print(d1['cursos'][1])"
   ]
  },
  {
   "cell_type": "markdown",
   "metadata": {},
   "source": [
    "También es posible actualizar el valor correspondiente a una clave:"
   ]
  },
  {
   "cell_type": "code",
   "execution_count": null,
   "metadata": {},
   "outputs": [],
   "source": [
    "d1['edad'] = 25\n",
    "d1"
   ]
  },
  {
   "cell_type": "markdown",
   "metadata": {},
   "source": [
    "Parecido a listas, se pueden crear diccionarios anidados, por ejemplo:"
   ]
  },
  {
   "cell_type": "code",
   "execution_count": 37,
   "metadata": {},
   "outputs": [
    {
     "name": "stdout",
     "output_type": "stream",
     "text": [
      "{'k1': 1, 'k2': {'k21': 21}}\n"
     ]
    },
    {
     "data": {
      "text/plain": [
       "21"
      ]
     },
     "execution_count": 37,
     "metadata": {},
     "output_type": "execute_result"
    }
   ],
   "source": [
    "d2 = {\"k1\": 1, \"k2\": {\"k21\": 21}}\n",
    "print(d2)\n",
    "d2[\"k2\"][\"k21\"]"
   ]
  },
  {
   "cell_type": "markdown",
   "metadata": {},
   "source": [
    "Encadenamos la indexación con claves:"
   ]
  },
  {
   "cell_type": "code",
   "execution_count": null,
   "metadata": {},
   "outputs": [],
   "source": [
    "print(d2['k1'])\n",
    "print(d2['k2']['k21'])"
   ]
  },
  {
   "cell_type": "markdown",
   "metadata": {},
   "source": [
    "### Operadores y funciones integradas<a name=\"dict_operadores\"></a> \n",
    "[Volver al índice](#indice)"
   ]
  },
  {
   "cell_type": "markdown",
   "metadata": {},
   "source": [
    "Para los mostrar los operadores y funciones integradas en diccionarios, creamos un diccionario con diferentes lenguajes de programación y sus autores/creadores."
   ]
  },
  {
   "cell_type": "code",
   "execution_count": 39,
   "metadata": {},
   "outputs": [],
   "source": [
    "d_lenguajes = {\n",
    "    \"fortran\": \"John Backus\",\n",
    "    \"lisp\": \"John McCarthy\",\n",
    "    \"prolog\": [\"Colmerauer\", \"Roussel\", \"Kowalski\"],\n",
    "    \"perl\": \"Larry Wall\"\n",
    "}"
   ]
  },
  {
   "cell_type": "markdown",
   "metadata": {},
   "source": [
    "El operador **in** indica si el valor es una de las claves del diccionario."
   ]
  },
  {
   "cell_type": "code",
   "execution_count": 40,
   "metadata": {},
   "outputs": [
    {
     "data": {
      "text/plain": [
       "True"
      ]
     },
     "execution_count": 40,
     "metadata": {},
     "output_type": "execute_result"
    }
   ],
   "source": [
    "\"fortran\" in d_lenguajes"
   ]
  },
  {
   "cell_type": "code",
   "execution_count": 41,
   "metadata": {},
   "outputs": [
    {
     "data": {
      "text/plain": [
       "True"
      ]
     },
     "execution_count": 41,
     "metadata": {},
     "output_type": "execute_result"
    }
   ],
   "source": [
    "\"python\" not in d_lenguajes"
   ]
  },
  {
   "cell_type": "markdown",
   "metadata": {},
   "source": [
    "Quizá los tres métodos más empleados con diccionarios son:\n",
    "\n",
    "* *.keys()*: devuelve un iterador con las claves del diccionario.\n",
    "* *.values()*: devuelve un iterador con los valores del diccionario.\n",
    "* *.items()*: devuelve un iterador con las tuplas clave-valor del diccionario."
   ]
  },
  {
   "cell_type": "code",
   "execution_count": 43,
   "metadata": {},
   "outputs": [
    {
     "name": "stdout",
     "output_type": "stream",
     "text": [
      "dict_keys(['fortran', 'lisp', 'prolog', 'perl'])\n"
     ]
    },
    {
     "data": {
      "text/plain": [
       "['fortran', 'lisp', 'prolog', 'perl']"
      ]
     },
     "execution_count": 43,
     "metadata": {},
     "output_type": "execute_result"
    }
   ],
   "source": [
    "print(d_lenguajes.keys())\n",
    "list(d_lenguajes.keys())"
   ]
  },
  {
   "cell_type": "code",
   "execution_count": 44,
   "metadata": {},
   "outputs": [
    {
     "name": "stdout",
     "output_type": "stream",
     "text": [
      "dict_values(['John Backus', 'John McCarthy', ['Colmerauer', 'Roussel', 'Kowalski'], 'Larry Wall'])\n"
     ]
    },
    {
     "data": {
      "text/plain": [
       "['John Backus',\n",
       " 'John McCarthy',\n",
       " ['Colmerauer', 'Roussel', 'Kowalski'],\n",
       " 'Larry Wall']"
      ]
     },
     "execution_count": 44,
     "metadata": {},
     "output_type": "execute_result"
    }
   ],
   "source": [
    "print(d_lenguajes.values())\n",
    "list(d_lenguajes.values())"
   ]
  },
  {
   "cell_type": "code",
   "execution_count": 45,
   "metadata": {},
   "outputs": [
    {
     "name": "stdout",
     "output_type": "stream",
     "text": [
      "dict_items([('fortran', 'John Backus'), ('lisp', 'John McCarthy'), ('prolog', ['Colmerauer', 'Roussel', 'Kowalski']), ('perl', 'Larry Wall')])\n"
     ]
    },
    {
     "data": {
      "text/plain": [
       "[('fortran', 'John Backus'),\n",
       " ('lisp', 'John McCarthy'),\n",
       " ('prolog', ['Colmerauer', 'Roussel', 'Kowalski']),\n",
       " ('perl', 'Larry Wall')]"
      ]
     },
     "execution_count": 45,
     "metadata": {},
     "output_type": "execute_result"
    }
   ],
   "source": [
    "print(d_lenguajes.items())\n",
    "list(d_lenguajes.items())"
   ]
  },
  {
   "cell_type": "markdown",
   "metadata": {},
   "source": [
    "El método *.get()* devuelve el valor correspondiente a una clave. Si la clave no existe, devuelve *None*, pero hay la posibilidad de devolver un valor por defecto:"
   ]
  },
  {
   "cell_type": "code",
   "execution_count": 51,
   "metadata": {},
   "outputs": [
    {
     "name": "stdout",
     "output_type": "stream",
     "text": [
      "John Backus\n",
      "John Backus\n",
      "None\n"
     ]
    },
    {
     "ename": "KeyError",
     "evalue": "'python'",
     "output_type": "error",
     "traceback": [
      "\u001b[1;31m---------------------------------------------------------------------------\u001b[0m",
      "\u001b[1;31mKeyError\u001b[0m                                  Traceback (most recent call last)",
      "\u001b[1;32m<ipython-input-51-0c3e21d102d0>\u001b[0m in \u001b[0;36m<module>\u001b[1;34m\u001b[0m\n\u001b[0;32m      2\u001b[0m \u001b[0mprint\u001b[0m\u001b[1;33m(\u001b[0m\u001b[0md_lenguajes\u001b[0m\u001b[1;33m.\u001b[0m\u001b[0mget\u001b[0m\u001b[1;33m(\u001b[0m\u001b[1;34m\"fortran\"\u001b[0m\u001b[1;33m)\u001b[0m\u001b[1;33m)\u001b[0m\u001b[1;33m\u001b[0m\u001b[1;33m\u001b[0m\u001b[0m\n\u001b[0;32m      3\u001b[0m \u001b[0mprint\u001b[0m\u001b[1;33m(\u001b[0m\u001b[0md_lenguajes\u001b[0m\u001b[1;33m.\u001b[0m\u001b[0mget\u001b[0m\u001b[1;33m(\u001b[0m\u001b[1;34m\"python\"\u001b[0m\u001b[1;33m)\u001b[0m\u001b[1;33m)\u001b[0m\u001b[1;33m\u001b[0m\u001b[1;33m\u001b[0m\u001b[0m\n\u001b[1;32m----> 4\u001b[1;33m \u001b[0mprint\u001b[0m\u001b[1;33m(\u001b[0m\u001b[0md_lenguajes\u001b[0m\u001b[1;33m[\u001b[0m\u001b[1;34m\"python\"\u001b[0m\u001b[1;33m]\u001b[0m\u001b[1;33m)\u001b[0m\u001b[1;33m\u001b[0m\u001b[1;33m\u001b[0m\u001b[0m\n\u001b[0m\u001b[0;32m      5\u001b[0m \u001b[0mprint\u001b[0m\u001b[1;33m(\u001b[0m\u001b[0md_lenguajes\u001b[0m\u001b[1;33m.\u001b[0m\u001b[0mget\u001b[0m\u001b[1;33m(\u001b[0m\u001b[1;34m\"python\"\u001b[0m\u001b[1;33m,\u001b[0m \u001b[1;33m-\u001b[0m\u001b[1;36m1\u001b[0m\u001b[1;33m)\u001b[0m\u001b[1;33m)\u001b[0m\u001b[1;33m\u001b[0m\u001b[1;33m\u001b[0m\u001b[0m\n",
      "\u001b[1;31mKeyError\u001b[0m: 'python'"
     ]
    }
   ],
   "source": [
    "print(d_lenguajes[\"fortran\"])\n",
    "print(d_lenguajes.get(\"fortran\"))\n",
    "print(d_lenguajes.get(\"python\"))\n",
    "print(d_lenguajes[\"python\"])  # como no existe pues falla (con get le metes un default)\n",
    "print(d_lenguajes.get(\"python\", -1))"
   ]
  },
  {
   "cell_type": "markdown",
   "metadata": {},
   "source": [
    "Ésta es una opción interesante para evitar el error que surge cuando accedemos con una clave que no está presente en el diccionario."
   ]
  },
  {
   "cell_type": "code",
   "execution_count": 52,
   "metadata": {},
   "outputs": [
    {
     "ename": "KeyError",
     "evalue": "'python'",
     "output_type": "error",
     "traceback": [
      "\u001b[1;31m---------------------------------------------------------------------------\u001b[0m",
      "\u001b[1;31mKeyError\u001b[0m                                  Traceback (most recent call last)",
      "\u001b[1;32m<ipython-input-52-68c453aedd07>\u001b[0m in \u001b[0;36m<module>\u001b[1;34m\u001b[0m\n\u001b[1;32m----> 1\u001b[1;33m \u001b[0md_lenguajes\u001b[0m\u001b[1;33m[\u001b[0m\u001b[1;34m\"python\"\u001b[0m\u001b[1;33m]\u001b[0m\u001b[1;33m\u001b[0m\u001b[1;33m\u001b[0m\u001b[0m\n\u001b[0m",
      "\u001b[1;31mKeyError\u001b[0m: 'python'"
     ]
    }
   ],
   "source": [
    "d_lenguajes[\"python\"]"
   ]
  },
  {
   "cell_type": "markdown",
   "metadata": {},
   "source": [
    "Algo parecido ocurre con el método *.pop()*. A diferencia de otras estructuras de datos, requiere una clave como argumento."
   ]
  },
  {
   "cell_type": "code",
   "execution_count": 55,
   "metadata": {},
   "outputs": [
    {
     "ename": "KeyError",
     "evalue": "'fortran'",
     "output_type": "error",
     "traceback": [
      "\u001b[1;31m---------------------------------------------------------------------------\u001b[0m",
      "\u001b[1;31mKeyError\u001b[0m                                  Traceback (most recent call last)",
      "\u001b[1;32m<ipython-input-55-65ef4c4af933>\u001b[0m in \u001b[0;36m<module>\u001b[1;34m\u001b[0m\n\u001b[1;32m----> 1\u001b[1;33m \u001b[0mautor\u001b[0m \u001b[1;33m=\u001b[0m \u001b[0md_lenguajes\u001b[0m\u001b[1;33m.\u001b[0m\u001b[0mpop\u001b[0m\u001b[1;33m(\u001b[0m\u001b[1;34m\"fortran\"\u001b[0m\u001b[1;33m)\u001b[0m\u001b[1;33m\u001b[0m\u001b[1;33m\u001b[0m\u001b[0m\n\u001b[0m\u001b[0;32m      2\u001b[0m \u001b[0mprint\u001b[0m\u001b[1;33m(\u001b[0m\u001b[0mautor\u001b[0m\u001b[1;33m)\u001b[0m\u001b[1;33m\u001b[0m\u001b[1;33m\u001b[0m\u001b[0m\n",
      "\u001b[1;31mKeyError\u001b[0m: 'fortran'"
     ]
    }
   ],
   "source": [
    "autor = d_lenguajes.pop(\"fortran\")\n",
    "print(autor)"
   ]
  },
  {
   "cell_type": "code",
   "execution_count": 56,
   "metadata": {},
   "outputs": [
    {
     "data": {
      "text/plain": [
       "{'lisp': 'John McCarthy',\n",
       " 'prolog': ['Colmerauer', 'Roussel', 'Kowalski'],\n",
       " 'perl': 'Larry Wall'}"
      ]
     },
     "execution_count": 56,
     "metadata": {},
     "output_type": "execute_result"
    }
   ],
   "source": [
    "d_lenguajes"
   ]
  },
  {
   "cell_type": "code",
   "execution_count": 59,
   "metadata": {},
   "outputs": [
    {
     "ename": "KeyError",
     "evalue": "'python'",
     "output_type": "error",
     "traceback": [
      "\u001b[1;31m---------------------------------------------------------------------------\u001b[0m",
      "\u001b[1;31mKeyError\u001b[0m                                  Traceback (most recent call last)",
      "\u001b[1;32m<ipython-input-59-23abf841770b>\u001b[0m in \u001b[0;36m<module>\u001b[1;34m\u001b[0m\n\u001b[1;32m----> 1\u001b[1;33m \u001b[0mautor\u001b[0m \u001b[1;33m=\u001b[0m \u001b[0md_lenguajes\u001b[0m\u001b[1;33m.\u001b[0m\u001b[0mpop\u001b[0m\u001b[1;33m(\u001b[0m\u001b[1;34m\"python\"\u001b[0m\u001b[1;33m)\u001b[0m\u001b[1;33m\u001b[0m\u001b[1;33m\u001b[0m\u001b[0m\n\u001b[0m",
      "\u001b[1;31mKeyError\u001b[0m: 'python'"
     ]
    }
   ],
   "source": [
    "autor = d_lenguajes.pop(\"python\")"
   ]
  },
  {
   "cell_type": "code",
   "execution_count": 60,
   "metadata": {},
   "outputs": [
    {
     "name": "stdout",
     "output_type": "stream",
     "text": [
      "None\n"
     ]
    }
   ],
   "source": [
    "autor = d_lenguajes.pop(\"python\", None)\n",
    "print(autor)"
   ]
  },
  {
   "cell_type": "markdown",
   "metadata": {},
   "source": [
    "El método *.popitem()* es análogo al método *.pop()* aplicado a listas:"
   ]
  },
  {
   "cell_type": "code",
   "execution_count": null,
   "metadata": {},
   "outputs": [],
   "source": [
    "d_lenguajes.popitem()\n",
    "d_lenguajes"
   ]
  },
  {
   "cell_type": "markdown",
   "metadata": {},
   "source": [
    "Por último, el método *.update()* permite actualizar un diccionario con los pares clave-valor de otro diccionario."
   ]
  },
  {
   "cell_type": "code",
   "execution_count": null,
   "metadata": {},
   "outputs": [],
   "source": [
    "d_lenguajes_2 = {\"python\": \"Guido Van Rossum\", \"c++\": \"Bjarne Stroustrup\"}\n",
    "\n",
    "d_lenguajes_3 = d_lenguajes.copy()\n",
    "d_lenguajes_3.update(d_lenguajes_2)"
   ]
  },
  {
   "cell_type": "code",
   "execution_count": null,
   "metadata": {},
   "outputs": [],
   "source": [
    "d_lenguajes_3"
   ]
  },
  {
   "cell_type": "markdown",
   "metadata": {},
   "source": [
    "Otro método para mezclar diccionarios es el siguiente:"
   ]
  },
  {
   "cell_type": "code",
   "execution_count": 62,
   "metadata": {},
   "outputs": [
    {
     "data": {
      "text/plain": [
       "{'a': 2, 'b': 1, 'd': 3, 'e': 4, 'f': 5}"
      ]
     },
     "execution_count": 62,
     "metadata": {},
     "output_type": "execute_result"
    }
   ],
   "source": [
    "d1 = {\"a\": 0, \"b\": 1}\n",
    "d2 = {\"c\": 2, \"d\": 3}\n",
    "d3 = {\"e\": 4, \"f\": 5}\n",
    "\n",
    "d4 = {**d1, **d2, **d3}\n",
    "d4"
   ]
  },
  {
   "cell_type": "markdown",
   "metadata": {},
   "source": [
    "## Estructuras de control de flujo<a name=\"estructuras_control_flujo\"></a> \n",
    "[Volver al índice](#indice)"
   ]
  },
  {
   "cell_type": "markdown",
   "metadata": {},
   "source": [
    "En clase anterior vimos las estructuras de control condicional. Esas estructuras no permitían crear ejecuciones de código no secuenciales. Ahora introduciremos estructuras de control de flujo, que nos permiten realizan operaciones de forma iterativa."
   ]
  },
  {
   "cell_type": "markdown",
   "metadata": {},
   "source": [
    "### *for*-loop <a name=\"for_loop\"></a> \n",
    "[Volver al índice](#indice)"
   ]
  },
  {
   "cell_type": "markdown",
   "metadata": {},
   "source": [
    "La implementación de *for* loop se basa en recorrer una secuencia o colección de valores iterable. Al igual que los *if-elif-else* es importante el uso adecuado de indentaciones:\n",
    "\n",
    "<pre>\n",
    "for <span style=\"color:blue\">variable</span> in <span style=\"color:blue\">iterable</span>:\n",
    "    <span style=\"color:green\">sentencia 1</span>\n",
    "    <span style=\"color:green\">sentencia 2</span>\n",
    "    <span style=\"color:green\">...</span>\n",
    "    <span style=\"color:green\">sentencia n</span>\n",
    "\n",
    "<span style=\"color:blue\">siguiente sentencia</span>\n",
    "</pre>"
   ]
  },
  {
   "cell_type": "markdown",
   "metadata": {},
   "source": [
    "Para saber si un objeto es iterable, podemos utilizar la función *iter()*:"
   ]
  },
  {
   "cell_type": "code",
   "execution_count": null,
   "metadata": {},
   "outputs": [],
   "source": [
    "iter(\"hola\"), iter([1, 2, 3]), iter((1, 2, 3)), iter({1, 2, 3}), iter({1: 0, 2: 1, 3: 2})"
   ]
  },
  {
   "cell_type": "code",
   "execution_count": null,
   "metadata": {},
   "outputs": [],
   "source": [
    "iter(1)"
   ]
  },
  {
   "cell_type": "markdown",
   "metadata": {},
   "source": [
    "Veamos un ejemplo con las ciudades del final de la clase anterior:"
   ]
  },
  {
   "cell_type": "code",
   "execution_count": null,
   "metadata": {},
   "outputs": [],
   "source": [
    "ciudades = [\"Madrid\", \"Guadalajara\", \"Tafalla\", \"Navarra\"]\n",
    "\n",
    "for ciudad in ciudades:\n",
    "    print(ciudad)"
   ]
  },
  {
   "cell_type": "markdown",
   "metadata": {},
   "source": [
    "Como en la creación de *sets*, es importante diferenciar el comportamiento cuando iteramos sobre cadenas de caracteres:"
   ]
  },
  {
   "cell_type": "code",
   "execution_count": null,
   "metadata": {},
   "outputs": [],
   "source": [
    "for c in \"navarra\":\n",
    "    print(c)"
   ]
  },
  {
   "cell_type": "code",
   "execution_count": null,
   "metadata": {},
   "outputs": [],
   "source": [
    "for c in [\"navarra\"]:\n",
    "    print(c)"
   ]
  },
  {
   "cell_type": "markdown",
   "metadata": {},
   "source": [
    "Es posible iterar sobre listas de tuplas especificando dos variables como iteradores:"
   ]
  },
  {
   "cell_type": "code",
   "execution_count": null,
   "metadata": {},
   "outputs": [],
   "source": [
    "for i, j in [('a', 0), ('b', 1), ('c', 2)]:\n",
    "    print(i, j)"
   ]
  },
  {
   "cell_type": "markdown",
   "metadata": {},
   "source": [
    "#### *range()*"
   ]
  },
  {
   "cell_type": "markdown",
   "metadata": {},
   "source": [
    "La función *range()* genera un rango de valores numéricos dados un inicio, fin y paso:"
   ]
  },
  {
   "cell_type": "code",
   "execution_count": null,
   "metadata": {},
   "outputs": [],
   "source": [
    "range(10), type(range(10)), iter(range(10))"
   ]
  },
  {
   "cell_type": "markdown",
   "metadata": {},
   "source": [
    "*range()* produce un objeto iterable que se puede convertir a tupla o lista, por ejemplo:"
   ]
  },
  {
   "cell_type": "code",
   "execution_count": null,
   "metadata": {},
   "outputs": [],
   "source": [
    "tuple(range(10))"
   ]
  },
  {
   "cell_type": "code",
   "execution_count": null,
   "metadata": {},
   "outputs": [],
   "source": [
    "list(range(10))"
   ]
  },
  {
   "cell_type": "markdown",
   "metadata": {},
   "source": [
    "Para mostrar los primeros 10 números:"
   ]
  },
  {
   "cell_type": "code",
   "execution_count": 25,
   "metadata": {},
   "outputs": [
    {
     "name": "stdout",
     "output_type": "stream",
     "text": [
      "0\n",
      "1\n",
      "2\n",
      "3\n",
      "4\n",
      "5\n",
      "6\n",
      "7\n",
      "8\n",
      "9\n"
     ]
    }
   ],
   "source": [
    "for i in range(10):\n",
    "    print(i)"
   ]
  },
  {
   "cell_type": "markdown",
   "metadata": {},
   "source": [
    "O los valores de -100 a 100 cada 10:"
   ]
  },
  {
   "cell_type": "code",
   "execution_count": null,
   "metadata": {},
   "outputs": [],
   "source": [
    "for i in range(-100, 100, 10):\n",
    "    print(i)"
   ]
  },
  {
   "cell_type": "markdown",
   "metadata": {},
   "source": [
    "También podemos utilizar los valores de *range()* como índices dada la longitud de una lista:"
   ]
  },
  {
   "cell_type": "code",
   "execution_count": null,
   "metadata": {},
   "outputs": [],
   "source": [
    "n = len(ciudades)\n",
    "\n",
    "for i in range(n):\n",
    "    print(f\"{i}: {ciudades[i]}\")"
   ]
  },
  {
   "cell_type": "markdown",
   "metadata": {},
   "source": [
    "#### *enumerate()*"
   ]
  },
  {
   "cell_type": "markdown",
   "metadata": {},
   "source": [
    "Para casos como el anterior, es más conveniente emplear la función *enumerate()*. Esta función genera un iterable con el índice y valor de cada elemento de la lista:"
   ]
  },
  {
   "cell_type": "code",
   "execution_count": null,
   "metadata": {},
   "outputs": [],
   "source": [
    "for id_ciudad, ciudad in enumerate(ciudades):\n",
    "    print(f\"{id_ciudad}: {ciudad}\")"
   ]
  },
  {
   "cell_type": "markdown",
   "metadata": {},
   "source": [
    "#### *for*-loop diccionarios"
   ]
  },
  {
   "cell_type": "code",
   "execution_count": null,
   "metadata": {},
   "outputs": [],
   "source": [
    "d_lenguajes = {\n",
    "    \"fortran\": \"John Backus\",\n",
    "    \"lisp\": \"John McCarthy\",\n",
    "    \"perl\": \"Larry Wall\",\n",
    "    \"python\": \"Guido Van Rossum\",\n",
    "    \"c++\": \"Bjarne Stroustrup\"\n",
    "}"
   ]
  },
  {
   "cell_type": "markdown",
   "metadata": {},
   "source": [
    "Los diccionarios también son iterables. Cuando iteramos sobre un diccionario, a la variable se le asignan las claves del diccionario. Los siguientes dos *for*-loop son equivalentes:"
   ]
  },
  {
   "cell_type": "code",
   "execution_count": null,
   "metadata": {},
   "outputs": [],
   "source": [
    "for lenguaje in d_lenguajes:\n",
    "    print(lenguaje)"
   ]
  },
  {
   "cell_type": "code",
   "execution_count": null,
   "metadata": {},
   "outputs": [],
   "source": [
    "for lenguaje in d_lenguajes.keys():\n",
    "    print(lenguaje)"
   ]
  },
  {
   "cell_type": "markdown",
   "metadata": {},
   "source": [
    "Para iterar sobre los valores de un diccionario podemos usar las claves o extraer los valores previamente:"
   ]
  },
  {
   "cell_type": "code",
   "execution_count": null,
   "metadata": {},
   "outputs": [],
   "source": [
    "for lenguaje in d_lenguajes:\n",
    "    print(d_lenguajes[lenguaje])"
   ]
  },
  {
   "cell_type": "code",
   "execution_count": null,
   "metadata": {},
   "outputs": [],
   "source": [
    "for autor in d_lenguajes.values():\n",
    "    print(autor)"
   ]
  },
  {
   "cell_type": "markdown",
   "metadata": {},
   "source": [
    "Por último, si queremos iterar sobre el diccionario accediendo a los pares clave-valor, el método adecuado es el siguiente:"
   ]
  },
  {
   "cell_type": "code",
   "execution_count": null,
   "metadata": {},
   "outputs": [],
   "source": [
    "for lenguaje, autor in d_lenguajes.items():\n",
    "    print(f\"{lenguaje.title()} fue creado por {autor}.\")"
   ]
  },
  {
   "cell_type": "markdown",
   "metadata": {},
   "source": [
    "#### break y continue"
   ]
  },
  {
   "cell_type": "markdown",
   "metadata": {},
   "source": [
    "Las sentencias **break** y **continue** nos permiten interrumpir el *loop*, por ejemplo:"
   ]
  },
  {
   "cell_type": "markdown",
   "metadata": {},
   "source": [
    "**break** para el *loop* si se cumple la condición:"
   ]
  },
  {
   "cell_type": "code",
   "execution_count": null,
   "metadata": {},
   "outputs": [],
   "source": [
    "for i in range(10):\n",
    "    if i == 5:\n",
    "        break\n",
    "    \n",
    "    print(i)"
   ]
  },
  {
   "cell_type": "markdown",
   "metadata": {},
   "source": [
    "**continue** salta a la siguiente iteración si se cumple la condición, sin ejecutar el bloque se sentencias posterior."
   ]
  },
  {
   "cell_type": "code",
   "execution_count": null,
   "metadata": {},
   "outputs": [],
   "source": [
    "for i in range(10):\n",
    "    if i == 5:\n",
    "        continue\n",
    "    \n",
    "    print(i)"
   ]
  },
  {
   "cell_type": "markdown",
   "metadata": {},
   "source": [
    "#### *for-else*"
   ]
  },
  {
   "cell_type": "markdown",
   "metadata": {},
   "source": [
    "**else** se ejecutará al finalizar correctamente el *loop*. Si el *loop* se interrumpe prematuramente mediante **break**, el bloque de sentencia después de **else** no se ejecutará."
   ]
  },
  {
   "cell_type": "code",
   "execution_count": null,
   "metadata": {},
   "outputs": [],
   "source": [
    "n = 10\n",
    "\n",
    "for i in range(n):\n",
    "    print(i)\n",
    "else:\n",
    "    print(f\"Iterador range({n}) finalizado.\")"
   ]
  },
  {
   "cell_type": "markdown",
   "metadata": {},
   "source": [
    "### list comprehensions <a name=\"list_comprehensions\"></a> \n",
    "[Volver al índice](#indice)"
   ]
  },
  {
   "cell_type": "markdown",
   "metadata": {},
   "source": [
    "Empecemos con un ejemplo sencillo: dada una lista de caracteres creamos una nueva lista con aquellos caracteres que son numéricos:"
   ]
  },
  {
   "cell_type": "code",
   "execution_count": null,
   "metadata": {},
   "outputs": [],
   "source": [
    "lista_carac = [\"a\", \"1\", \"4\"]\n",
    "\n",
    "new_cadena = []\n",
    "for c in lista_carac:\n",
    "    if c.isnumeric():\n",
    "        new_cadena.append(c)\n",
    "        \n",
    "''.join(new_cadena)"
   ]
  },
  {
   "cell_type": "markdown",
   "metadata": {},
   "source": [
    "Las *list comprehensions* son una forma elegante de generar expresiones compactas en una única línea."
   ]
  },
  {
   "cell_type": "code",
   "execution_count": null,
   "metadata": {},
   "outputs": [],
   "source": [
    "\"\".join([c for c in lista_carac if c.isnumeric()])"
   ]
  },
  {
   "cell_type": "markdown",
   "metadata": {},
   "source": [
    "*List comprehensions* pueden incluir condicionales. Nota que a diferencia del ejemplo anterior, el condicional se emplea para seleccionar un resultado, no para filtrar."
   ]
  },
  {
   "cell_type": "code",
   "execution_count": null,
   "metadata": {},
   "outputs": [],
   "source": [
    "x_pows = []\n",
    "\n",
    "for x in range(100):\n",
    "    if x % 2 == 0:\n",
    "        x_pows.append(x ** 2)\n",
    "    else:\n",
    "        x_pows.append(x ** 3)\n",
    "\n",
    "x_pows[:10]"
   ]
  },
  {
   "cell_type": "code",
   "execution_count": null,
   "metadata": {},
   "outputs": [],
   "source": [
    "x_pows2 = [x ** 2 if x % 2 == 0 else x ** 3 for x in range(100)]\n",
    "x_pows2[:10], x_pows == x_pows2"
   ]
  },
  {
   "cell_type": "markdown",
   "metadata": {},
   "source": [
    "El siguiente ejemplo muestra como crear una *list comprehension* con un doble *for*-loop:"
   ]
  },
  {
   "cell_type": "code",
   "execution_count": null,
   "metadata": {},
   "outputs": [],
   "source": [
    "lista_anidada = [[\"a\", \"b\"], [\"c\", \"d\"], [\"e\", \"f\"]]\n",
    "lista_1_nivel = [y for x in lista_anidada for y in x]\n",
    "lista_1_nivel"
   ]
  },
  {
   "cell_type": "code",
   "execution_count": null,
   "metadata": {},
   "outputs": [],
   "source": [
    "lista_1_nivel == sum(lista_anidada, [])"
   ]
  },
  {
   "cell_type": "markdown",
   "metadata": {},
   "source": [
    "Veamos un ejemplo más elaborado:"
   ]
  },
  {
   "cell_type": "code",
   "execution_count": null,
   "metadata": {},
   "outputs": [],
   "source": [
    "from string import printable\n",
    "import random"
   ]
  },
  {
   "cell_type": "code",
   "execution_count": null,
   "metadata": {},
   "outputs": [],
   "source": [
    "n = len(printable)\n",
    "cadena = \"\"\n",
    "for i in range(10000):\n",
    "    cadena += printable[random.randint(0, n - 1)]"
   ]
  },
  {
   "cell_type": "code",
   "execution_count": null,
   "metadata": {},
   "outputs": [],
   "source": [
    "n = len(printable)\n",
    "cadena = \"\".join([printable[random.randint(0, n - 1)] for i in range(10000)])"
   ]
  },
  {
   "cell_type": "code",
   "execution_count": null,
   "metadata": {},
   "outputs": [],
   "source": [
    "new_cadena = []\n",
    "for c in cadena:\n",
    "    if c.isnumeric():\n",
    "        new_cadena.append(c)\n",
    "        \n",
    "cadena_numeric = ''.join(new_cadena)"
   ]
  },
  {
   "cell_type": "code",
   "execution_count": null,
   "metadata": {},
   "outputs": [],
   "source": [
    "cadena_numeric = \"\".join([c for c in cadena if c.isnumeric()])"
   ]
  },
  {
   "cell_type": "markdown",
   "metadata": {},
   "source": [
    "En varias situaciones las *list comprehensions* son más rápidas que los *for*-loop, para evaluarlo utilizamos el comando del Notebook **timeit**:"
   ]
  },
  {
   "cell_type": "code",
   "execution_count": null,
   "metadata": {},
   "outputs": [],
   "source": [
    "%%timeit\n",
    "\n",
    "n = int(1e6)\n",
    "cuadrados = []\n",
    "for i in range(n):\n",
    "    cuadrados.append(i * i)"
   ]
  },
  {
   "cell_type": "code",
   "execution_count": null,
   "metadata": {},
   "outputs": [],
   "source": [
    "%timeit cuadrados_2 = [i * i for i in range(n)]"
   ]
  },
  {
   "cell_type": "markdown",
   "metadata": {},
   "source": [
    "Python tiene varias funciones que nos permiten utilizar programación funcional. Algunas de ellas son *map()*, *filter()* y *reduce()*. El comportamiento de estas funciones se puede replicar utilizando *list comprehensions*, mostrando sus versatilidad.\n",
    "\n",
    "---\n",
    "&#x26a0;&#xfe0f; En esta sección usaremos expresiones **lambda**. Entraremos en más detalle en la próxima sesión.\n",
    "\n",
    "---"
   ]
  },
  {
   "cell_type": "markdown",
   "metadata": {},
   "source": [
    "#### *map()*"
   ]
  },
  {
   "cell_type": "code",
   "execution_count": 36,
   "metadata": {},
   "outputs": [
    {
     "data": {
      "text/plain": [
       "249500250000"
      ]
     },
     "execution_count": 36,
     "metadata": {},
     "output_type": "execute_result"
    }
   ],
   "source": [
    "suma_cubo = sum(x ** 3 for x in range(int(1000)))\n",
    "suma_cubo"
   ]
  },
  {
   "cell_type": "code",
   "execution_count": 37,
   "metadata": {},
   "outputs": [
    {
     "data": {
      "text/plain": [
       "249500250000"
      ]
     },
     "execution_count": 37,
     "metadata": {},
     "output_type": "execute_result"
    }
   ],
   "source": [
    "sum(map(lambda x: x ** 3, range(1000)))"
   ]
  },
  {
   "cell_type": "code",
   "execution_count": null,
   "metadata": {},
   "outputs": [],
   "source": [
    "lenguajes = d_lenguajes.keys()\n",
    "\n",
    "u_lenguajes = list(map(lambda lenguaje: lenguaje.upper(), lenguajes))\n",
    "u_lenguajes_2 = [lenguaje.upper() for lenguaje in lenguajes]"
   ]
  },
  {
   "cell_type": "code",
   "execution_count": null,
   "metadata": {},
   "outputs": [],
   "source": [
    "u_lenguajes, u_lenguajes_2"
   ]
  },
  {
   "cell_type": "code",
   "execution_count": 38,
   "metadata": {},
   "outputs": [
    {
     "data": {
      "text/plain": [
       "([1, 2, 3], int)"
      ]
     },
     "execution_count": 38,
     "metadata": {},
     "output_type": "execute_result"
    }
   ],
   "source": [
    "lista_numerica = list(map(int, [\"1\", \"2\", \"3\"]))\n",
    "lista_numerica, type(lista_numerica[0])"
   ]
  },
  {
   "cell_type": "markdown",
   "metadata": {},
   "source": [
    "#### *filter()*"
   ]
  },
  {
   "cell_type": "code",
   "execution_count": null,
   "metadata": {},
   "outputs": [],
   "source": [
    "lista_par = [i for i in range(1000) if i % 2 == 0]\n",
    "lista_par[:20]"
   ]
  },
  {
   "cell_type": "code",
   "execution_count": null,
   "metadata": {},
   "outputs": [],
   "source": [
    "lista_par2 = list(filter(lambda x: x % 2 == 0, range(10000)))\n",
    "lista_par2[:20]"
   ]
  },
  {
   "cell_type": "code",
   "execution_count": null,
   "metadata": {},
   "outputs": [],
   "source": [
    "usuarios = ['Juan', 'Manuel', 'Mario', 'Aurelio']\n",
    "\n",
    "for usuario_m in filter(lambda x: x.startswith(\"M\"), usuarios):\n",
    "    print(usuario_m)"
   ]
  },
  {
   "cell_type": "markdown",
   "metadata": {},
   "source": [
    "#### *reduce()*"
   ]
  },
  {
   "cell_type": "code",
   "execution_count": 73,
   "metadata": {},
   "outputs": [],
   "source": [
    "from functools import reduce"
   ]
  },
  {
   "cell_type": "code",
   "execution_count": 74,
   "metadata": {},
   "outputs": [
    {
     "data": {
      "text/plain": [
       "'0123456789'"
      ]
     },
     "execution_count": 74,
     "metadata": {},
     "output_type": "execute_result"
    }
   ],
   "source": [
    "reduce(lambda x, y: str(x) + str(y), range(10))"
   ]
  },
  {
   "cell_type": "code",
   "execution_count": null,
   "metadata": {},
   "outputs": [],
   "source": [
    "\"\".join(map(str, range(10)))"
   ]
  },
  {
   "cell_type": "code",
   "execution_count": null,
   "metadata": {},
   "outputs": [],
   "source": [
    "d1 = {\"a\": 0, \"b\": 1}\n",
    "d2 = {\"c\": 2, \"d\": 3}\n",
    "d3 = {\"e\": 4, \"f\": 5}\n",
    "d4 = {\"g\": 6, \"h\": 7}\n",
    "\n",
    "list_dicts = [d1, d2, d3, d4]\n",
    "\n",
    "reduce(lambda x, y: {**x, **y}, list_dicts)\n",
    "maptnin"
   ]
  },
  {
   "cell_type": "markdown",
   "metadata": {},
   "source": [
    "### dict comprehensions <a name=\"dict_comprehensions\"></a> \n",
    "[Volver al índice](#indice)"
   ]
  },
  {
   "cell_type": "markdown",
   "metadata": {},
   "source": [
    "De forma similar a las *list comprehensions*, podemos crear diccionarios utilizando *dict comprehensions*. En el siguiente ejemplo tenemos una lista de usuarios y vamos a crear un diccionario con la fecha de alta, igual a la fecha de entrada en el sistema."
   ]
  },
  {
   "cell_type": "code",
   "execution_count": null,
   "metadata": {},
   "outputs": [],
   "source": [
    "from datetime import datetime\n",
    "\n",
    "usuarios = ['Juan', 'Manuel', 'Mario', 'Aurelio']"
   ]
  },
  {
   "cell_type": "code",
   "execution_count": null,
   "metadata": {},
   "outputs": [],
   "source": [
    "d_fecha_alta = {usuario: datetime.now().strftime(\"%m/%d/%Y, %H:%M:%S.%f\") for usuario in usuarios}"
   ]
  },
  {
   "cell_type": "code",
   "execution_count": null,
   "metadata": {},
   "outputs": [],
   "source": [
    "d_fecha_alta"
   ]
  },
  {
   "cell_type": "markdown",
   "metadata": {},
   "source": [
    "### *while* <a name=\"while\"></a> \n",
    "[Volver al índice](#indice)"
   ]
  },
  {
   "cell_type": "markdown",
   "metadata": {},
   "source": [
    "La sentencia **while** se usa para construir bucles indefinidos, es decir, a diferencia de *for*-loop, donde la dimension del iterable está determinada, la finalización de un bucle **while** está condiciona a los cambios que las sentencias apliquen a la condición de parada. Igual que las estructuras de control que hemos visto previamente, se requiere indentación. Por otro lado, las sentencias de control *break*, *continue* y *else* que vimos en *for*-loop son análogas para **while**.\n",
    "\n",
    "<pre>\n",
    "while <span style=\"color:blue\">condición</span>:\n",
    "    <span style=\"color:green\">sentencia 1</span>\n",
    "    <span style=\"color:green\">sentencia 2</span>\n",
    "    <span style=\"color:green\">...</span>\n",
    "    <span style=\"color:green\">sentencia n</span>\n",
    "\n",
    "<span style=\"color:blue\">siguiente sentencia</span>\n",
    "</pre>"
   ]
  },
  {
   "cell_type": "code",
   "execution_count": null,
   "metadata": {},
   "outputs": [],
   "source": [
    "i = 0\n",
    "\n",
    "while i <= 3:\n",
    "    print(i)\n",
    "    i += 1\n",
    "    \n",
    "print(\"i:\", i)"
   ]
  },
  {
   "cell_type": "markdown",
   "metadata": {},
   "source": [
    "En este ejemplo, pedimos por pantalla un nombre. El bucle seguirá pidiendo un nombre hasta que pasemos 'quit'. La palabra 'quit' fue añadida a la lista de nombres, ¿puedes arreglarlo?"
   ]
  },
  {
   "cell_type": "code",
   "execution_count": null,
   "metadata": {},
   "outputs": [],
   "source": [
    "nombres = []\n",
    "nombre = ''\n",
    "\n",
    "# empieza bucle que termina al teclear 'quit'\n",
    "while nombre != 'quit':\n",
    "    nombre = input(\"Dame un nombre o introduce 'quit' para finalizar: \")  # preguntamos por nuevo nombre\n",
    "    nombres.append(nombre)\n",
    "\n",
    "print(nombres)"
   ]
  },
  {
   "cell_type": "markdown",
   "metadata": {},
   "source": [
    "El **while** también se puede utilizar para recorrer una lista mientras haya elementos en ella. En el siguiente ejemplo vamos asignar una clave de usuario, primero al último usuario que entró en el sistema, y después al más reciente."
   ]
  },
  {
   "cell_type": "code",
   "execution_count": null,
   "metadata": {},
   "outputs": [],
   "source": [
    "import random\n",
    "\n",
    "usuarios = ['Juan', 'Manuel', 'Mario', 'Aurelio']\n",
    "d_clave_usuario = {}\n",
    "\n",
    "while usuarios:\n",
    "    usuario = usuarios.pop()\n",
    "    d_clave_usuario[usuario]= random.randint(0, int(1e5))\n",
    "    \n",
    "print(d_clave_usuario, usuarios)"
   ]
  },
  {
   "cell_type": "code",
   "execution_count": null,
   "metadata": {},
   "outputs": [],
   "source": [
    "usuarios = ['Juan', 'Manuel', 'Mario', 'Aurelio']\n",
    "d_clave_usuario = {}\n",
    "\n",
    "while usuarios:\n",
    "    usuario = usuarios.pop(0)\n",
    "    d_clave_usuario[usuario]= random.randint(0, int(1e5))\n",
    "    \n",
    "print(d_clave_usuario, usuarios)"
   ]
  },
  {
   "cell_type": "markdown",
   "metadata": {},
   "source": [
    "## Introducción a NumPy <a name=\"numpy\"></a> \n",
    "[Volver al índice](#indice)"
   ]
  },
  {
   "cell_type": "markdown",
   "metadata": {},
   "source": [
    "NumPy es la librería por excelencia de Python para algebra lineal y computación científica. Esta librería open-source fue creada en 2005 y sigue en continuo desarrollo:\n",
    "\n",
    "* https://github.com/numpy/numpy\n",
    "* https://numpy.org/\n",
    "\n",
    "Para que os hagáis una idea de su uso, a día de hoy (14/10/2020) **488160** repositorios de GitHub requieren NumPy."
   ]
  },
  {
   "cell_type": "code",
   "execution_count": 138,
   "metadata": {},
   "outputs": [],
   "source": [
    "import numpy as np"
   ]
  },
  {
   "cell_type": "markdown",
   "metadata": {},
   "source": [
    "### Creación de numpy arrays<a name=\"creacion_numpy\"></a> \n",
    "[Volver al índice](#indice)"
   ]
  },
  {
   "cell_type": "markdown",
   "metadata": {},
   "source": [
    "Podemos inicializar arrays con una lista. Un array de 1 dimensión (1-D):"
   ]
  },
  {
   "cell_type": "code",
   "execution_count": null,
   "metadata": {},
   "outputs": [],
   "source": [
    "a = np.array([1, 2, 3])\n",
    "print(a, type(a))"
   ]
  },
  {
   "cell_type": "markdown",
   "metadata": {},
   "source": [
    "Un array tiene varias propiedades:\n",
    "    \n",
    "* .shape: devuelve una tupla (filas, columnas).\n",
    "* .size: devuelve el número de elementos del array.\n",
    "* .ndim: devuelve el número de dimensions del array.\n",
    "* .dtype: devuelve el tipo de datos que contiene el array.\n",
    "\n",
    "---\n",
    "&#x26a0;&#xfe0f; A diferencia de la lista, un array sólo puede contener elementos de un mismo tipo.\n",
    "\n",
    "---"
   ]
  },
  {
   "cell_type": "code",
   "execution_count": null,
   "metadata": {},
   "outputs": [],
   "source": [
    "a.shape, a.size, a.ndim, a.dtype"
   ]
  },
  {
   "cell_type": "markdown",
   "metadata": {},
   "source": [
    "Para arrays 1-D, la indexación es igual a la de listas:"
   ]
  },
  {
   "cell_type": "code",
   "execution_count": null,
   "metadata": {},
   "outputs": [],
   "source": [
    "print(a[0], a[1], a[2])"
   ]
  },
  {
   "cell_type": "markdown",
   "metadata": {},
   "source": [
    "Podemos reemplazar el contenido de un elemento de forma similar. ¿Por qué 3.11 se convierte a 3?"
   ]
  },
  {
   "cell_type": "code",
   "execution_count": null,
   "metadata": {},
   "outputs": [],
   "source": [
    "a[0] = 3.11\n",
    "a"
   ]
  },
  {
   "cell_type": "markdown",
   "metadata": {},
   "source": [
    "NumPy tiene soporte a arrays 2-D (matrices). También soporta más dimensiones (tensores), pero no los veremos aquí. Un array 2-D se puede crear a partir de una lista de anidada:"
   ]
  },
  {
   "cell_type": "code",
   "execution_count": null,
   "metadata": {},
   "outputs": [],
   "source": [
    "b = np.array([[1, 2, 4], [4, 5, 6], [7, 8, 9]])\n",
    "b"
   ]
  },
  {
   "cell_type": "code",
   "execution_count": null,
   "metadata": {},
   "outputs": [],
   "source": [
    "b.shape, b.size, b.ndim, b.dtype"
   ]
  },
  {
   "cell_type": "markdown",
   "metadata": {},
   "source": [
    "En 2-D la indexación no requiere \"[][]\", sino que se emplea una notación más cercana a las matemáticas: $A_{i,j}$, [fila, columna]."
   ]
  },
  {
   "cell_type": "code",
   "execution_count": null,
   "metadata": {},
   "outputs": [],
   "source": [
    "print(b[0, 1], b[2, 2])"
   ]
  },
  {
   "cell_type": "markdown",
   "metadata": {},
   "source": [
    "Se pueden crear arrays 2-D a partir de la secuencia generada por *np.arange()* y después especificando el número de filas y columnas con el método *.reshape()*."
   ]
  },
  {
   "cell_type": "code",
   "execution_count": null,
   "metadata": {},
   "outputs": [],
   "source": [
    "c = np.arange(10).reshape((2, 5))\n",
    "c"
   ]
  },
  {
   "cell_type": "markdown",
   "metadata": {},
   "source": [
    "Podemos crear un array empleando un iterador y especificando el tipo:"
   ]
  },
  {
   "cell_type": "code",
   "execution_count": null,
   "metadata": {},
   "outputs": [],
   "source": [
    "c = np.array(range(10), dtype=np.float).reshape((2, 5))\n",
    "c"
   ]
  },
  {
   "cell_type": "code",
   "execution_count": null,
   "metadata": {},
   "outputs": [],
   "source": [
    "c = np.arange(10).reshape((5, 2)).astype(dtype=np.complex)\n",
    "c"
   ]
  },
  {
   "cell_type": "markdown",
   "metadata": {},
   "source": [
    "NumPy proporciona varias funciones para crear arrays:\n",
    "\n",
    "* *np.zeros()*: devuelve array con todos los elementos 0.\n",
    "* *np.ones()*: devuelve array con todos los elementos 1.\n",
    "* *np.empty()*: devuelve array vacío.\n",
    "* *np.full()*: devuelve array con todos los elementos igual al valor dado.\n",
    "* *np.eye()*: devuelve una matriz cuadrada con 1 en la diagonal.\n",
    "* *np.linspace()*: devuelve array 1-D con una secuencia de valores dado inicio, fin y paso."
   ]
  },
  {
   "cell_type": "code",
   "execution_count": null,
   "metadata": {},
   "outputs": [],
   "source": [
    "np.zeros((4, 5))"
   ]
  },
  {
   "cell_type": "code",
   "execution_count": null,
   "metadata": {},
   "outputs": [],
   "source": [
    "np.ones((3))"
   ]
  },
  {
   "cell_type": "code",
   "execution_count": null,
   "metadata": {},
   "outputs": [],
   "source": [
    "np.empty((6, 3))"
   ]
  },
  {
   "cell_type": "code",
   "execution_count": null,
   "metadata": {},
   "outputs": [],
   "source": [
    "np.full((3, 3), np.nan)"
   ]
  },
  {
   "cell_type": "code",
   "execution_count": null,
   "metadata": {},
   "outputs": [],
   "source": [
    "np.eye(7)"
   ]
  },
  {
   "cell_type": "code",
   "execution_count": null,
   "metadata": {},
   "outputs": [],
   "source": [
    "np.linspace(0, 10, 4)"
   ]
  },
  {
   "cell_type": "markdown",
   "metadata": {},
   "source": [
    "### Indexación<a name=\"indexacion_numpy\"></a> \n",
    "[Volver al índice](#indice)"
   ]
  },
  {
   "cell_type": "markdown",
   "metadata": {},
   "source": [
    "En NumPy hay varias formas de indexar un array:"
   ]
  },
  {
   "cell_type": "code",
   "execution_count": null,
   "metadata": {},
   "outputs": [],
   "source": [
    "A = np.arange(12).reshape((3, 4))\n",
    "A"
   ]
  },
  {
   "cell_type": "markdown",
   "metadata": {},
   "source": [
    "Para obtener las primeras 2 filas y las primeras 3 columnas:"
   ]
  },
  {
   "cell_type": "code",
   "execution_count": null,
   "metadata": {},
   "outputs": [],
   "source": [
    "A[:2, :3]"
   ]
  },
  {
   "cell_type": "markdown",
   "metadata": {},
   "source": [
    "O las primera columna y la primera fila:"
   ]
  },
  {
   "cell_type": "code",
   "execution_count": null,
   "metadata": {},
   "outputs": [],
   "source": [
    "A[:, 0], A[0, :]"
   ]
  },
  {
   "cell_type": "markdown",
   "metadata": {},
   "source": [
    "Para extraer las dos primera filas:"
   ]
  },
  {
   "cell_type": "code",
   "execution_count": null,
   "metadata": {},
   "outputs": [],
   "source": [
    "print(A[[1, 2]], \"\\n\")\n",
    "print(A[1:3, :])"
   ]
  },
  {
   "cell_type": "markdown",
   "metadata": {},
   "source": [
    "NumPy permite aplicar máscaras booleanas:"
   ]
  },
  {
   "cell_type": "code",
   "execution_count": null,
   "metadata": {},
   "outputs": [],
   "source": [
    "b = np.arange(12)\n",
    "mascara = b % 2 == 0\n",
    "print(b[mascara], mascara)"
   ]
  },
  {
   "cell_type": "code",
   "execution_count": null,
   "metadata": {},
   "outputs": [],
   "source": [
    "A = A.astype(np.float)\n",
    "A[2, 2] = np.nan\n",
    "np.isnan(A)"
   ]
  },
  {
   "cell_type": "markdown",
   "metadata": {},
   "source": [
    "También podemos indexar pasando una lista de índices:"
   ]
  },
  {
   "cell_type": "code",
   "execution_count": null,
   "metadata": {},
   "outputs": [],
   "source": [
    "c = np.array([1, 5, 7, 9, 6])\n",
    "c[[0, 3, 2]]"
   ]
  },
  {
   "cell_type": "markdown",
   "metadata": {},
   "source": [
    "### Operaciones básicas<a name=\"operaciones_basicas_numpy\"></a> \n",
    "[Volver al índice](#indice)"
   ]
  },
  {
   "cell_type": "markdown",
   "metadata": {},
   "source": [
    "Las operaciones aritméticas en NumPy se aplican a cada uno de los elementos del array. Podemos operar directamente entre arrays sin escribir nuestros propios loops."
   ]
  },
  {
   "cell_type": "code",
   "execution_count": null,
   "metadata": {},
   "outputs": [],
   "source": [
    "a = np.array([1.2, 3.1, 22.1, -6.7, 3.64])\n",
    "b = np.array([4.1, 6.5, -12, -6.1, 1.99])\n",
    "\n",
    "print(a + b)\n",
    "print(a - b)\n",
    "print(a ** 2)\n",
    "print(a / b)"
   ]
  },
  {
   "cell_type": "code",
   "execution_count": null,
   "metadata": {},
   "outputs": [],
   "source": [
    "a *= 3\n",
    "a"
   ]
  },
  {
   "cell_type": "markdown",
   "metadata": {},
   "source": [
    "Producto escalar usando *.dot()* o *dot()*."
   ]
  },
  {
   "cell_type": "code",
   "execution_count": null,
   "metadata": {},
   "outputs": [],
   "source": [
    "print(np.dot(a, b))\n",
    "print(a.dot(b))"
   ]
  },
  {
   "cell_type": "markdown",
   "metadata": {},
   "source": [
    "Comparaciones elemento a elemento:"
   ]
  },
  {
   "cell_type": "code",
   "execution_count": null,
   "metadata": {},
   "outputs": [],
   "source": [
    "print(a < 0)\n",
    "print(b >= 0)"
   ]
  },
  {
   "cell_type": "markdown",
   "metadata": {},
   "source": [
    "U otras operaciones más complejas:"
   ]
  },
  {
   "cell_type": "code",
   "execution_count": null,
   "metadata": {},
   "outputs": [],
   "source": [
    "np.absolute(b)"
   ]
  },
  {
   "cell_type": "code",
   "execution_count": null,
   "metadata": {},
   "outputs": [],
   "source": [
    "np.exp(b * 1j)"
   ]
  },
  {
   "cell_type": "markdown",
   "metadata": {},
   "source": [
    "El posible realizar un análisis descriptivo de un array usando los métodos *.min()*, *.max()*, *.sum()*, *.std()* y *.var()*:"
   ]
  },
  {
   "cell_type": "code",
   "execution_count": null,
   "metadata": {},
   "outputs": [],
   "source": [
    "print(a.min())\n",
    "print(a.max())\n",
    "print(a.sum())\n",
    "print(a.std())\n",
    "print(a.var())"
   ]
  },
  {
   "cell_type": "code",
   "execution_count": null,
   "metadata": {},
   "outputs": [],
   "source": [
    "np.median(a)"
   ]
  },
  {
   "cell_type": "markdown",
   "metadata": {},
   "source": [
    "U obtener los valores únicos de un array:"
   ]
  },
  {
   "cell_type": "code",
   "execution_count": null,
   "metadata": {},
   "outputs": [],
   "source": [
    "a = np.random.randint(0, 10, 10000)\n",
    "\n",
    "np.unique(a)"
   ]
  },
  {
   "cell_type": "code",
   "execution_count": null,
   "metadata": {},
   "outputs": [],
   "source": [
    "%timeit np.unique(a)\n",
    "%timeit set(a)"
   ]
  },
  {
   "cell_type": "markdown",
   "metadata": {},
   "source": [
    "Veamos ahora como realizar operaciones con matrices:"
   ]
  },
  {
   "cell_type": "code",
   "execution_count": null,
   "metadata": {},
   "outputs": [],
   "source": [
    "A = np.random.randn(100).reshape(20, 5)\n",
    "b = np.random.randn(20)"
   ]
  },
  {
   "cell_type": "code",
   "execution_count": null,
   "metadata": {},
   "outputs": [],
   "source": [
    "A.shape, b.shape"
   ]
  },
  {
   "cell_type": "markdown",
   "metadata": {},
   "source": [
    "Podemos transponer una matriz con la propiedad *.T* o usuando *np.transpose()*:"
   ]
  },
  {
   "cell_type": "code",
   "execution_count": null,
   "metadata": {},
   "outputs": [],
   "source": [
    "A.T.shape, np.transpose(A).shape"
   ]
  },
  {
   "cell_type": "markdown",
   "metadata": {},
   "source": [
    "Producto escalar entre matriz y vector: $c = A^T b$"
   ]
  },
  {
   "cell_type": "code",
   "execution_count": null,
   "metadata": {},
   "outputs": [],
   "source": [
    "c = np.dot(A.T, b)\n",
    "c"
   ]
  },
  {
   "cell_type": "markdown",
   "metadata": {},
   "source": [
    "Suma de todas las columnas:"
   ]
  },
  {
   "cell_type": "code",
   "execution_count": null,
   "metadata": {},
   "outputs": [],
   "source": [
    "A"
   ]
  },
  {
   "cell_type": "code",
   "execution_count": null,
   "metadata": {},
   "outputs": [],
   "source": [
    "np.sum(A, axis=0)"
   ]
  },
  {
   "cell_type": "code",
   "execution_count": null,
   "metadata": {},
   "outputs": [],
   "source": [
    "np.array([A[:, i].sum() for i in range(A.shape[1])])"
   ]
  },
  {
   "cell_type": "markdown",
   "metadata": {},
   "source": [
    "NumPy también da soporte a arrays de caracteres:"
   ]
  },
  {
   "cell_type": "code",
   "execution_count": null,
   "metadata": {},
   "outputs": [],
   "source": [
    "C = [[\"a\", \"b\"], [\"c\", \"d\"], [\"e\", \"f\"]]\n",
    "D = np.array(C)\n",
    "D"
   ]
  },
  {
   "cell_type": "code",
   "execution_count": null,
   "metadata": {},
   "outputs": [],
   "source": [
    "D.ravel()"
   ]
  },
  {
   "cell_type": "code",
   "execution_count": null,
   "metadata": {},
   "outputs": [],
   "source": [
    "D.flatten()"
   ]
  },
  {
   "cell_type": "markdown",
   "metadata": {},
   "source": [
    "## Ejercicios <a name=\"ejercicios\"></a> \n",
    "[Volver al índice](#indice)"
   ]
  },
  {
   "cell_type": "markdown",
   "metadata": {},
   "source": [
    "1 - Crea cuatro diccionarios y únelos en un único diccionario. Utiliza al menos dos métodos distintos para ello."
   ]
  },
  {
   "cell_type": "code",
   "execution_count": 71,
   "metadata": {},
   "outputs": [
    {
     "data": {
      "text/plain": [
       "{'a1': 1, 'a2': 2, 'a3': 3, 'a4': 4}"
      ]
     },
     "execution_count": 71,
     "metadata": {},
     "output_type": "execute_result"
    }
   ],
   "source": [
    "dic1 = {'a1':1}\n",
    "dic2 = {'a2':2}\n",
    "dic3 = {'a3':3}\n",
    "dic4 = {'a4':4}\n",
    "\n",
    "dict_final = {**dic1, **dic2, **dic3 ,**dic4}\n",
    "dict_final"
   ]
  },
  {
   "cell_type": "markdown",
   "metadata": {},
   "source": [
    "2 - Dado un texto con varias palabras debes encriptar el mensaje de la siguiente manera:\n",
    "\n",
    "* La primera letra de cada palabra debe sustituirse por su código ASCII.\n",
    "* La segunda letra y la última de cada palabra debe intercambiarse.\n",
    "\n",
    "Por ejemplo: <pre>\"hola mundo\" => \"104alo 109ondu\"</pre>\n",
    "\n",
    "Pista: usa la función *ord()* para obtener el código ASCII."
   ]
  },
  {
   "cell_type": "code",
   "execution_count": 82,
   "metadata": {},
   "outputs": [
    {
     "name": "stdout",
     "output_type": "stream",
     "text": [
      "104\n",
      "109\n"
     ]
    }
   ],
   "source": [
    "texto = \"hola mundo\"\n",
    "word = texto.split()\n",
    "\n",
    "for char in word:\n",
    "    print(ord(char[0]))\n"
   ]
  },
  {
   "cell_type": "markdown",
   "metadata": {},
   "source": [
    "3 - Dada una lista con enteros y cadenas de caracteres, devuelve una nueva lista sin las cadenas de caracteres. Utiliza varios métodos para conseguirlo."
   ]
  },
  {
   "cell_type": "code",
   "execution_count": 90,
   "metadata": {},
   "outputs": [
    {
     "name": "stdout",
     "output_type": "stream",
     "text": [
      "[2, 4, 5]\n",
      "[2, 4, 5, 2, 4, 5]\n"
     ]
    }
   ],
   "source": [
    "lista = [2,4,5,\"der\"]\n",
    "lista_final = []\n",
    "\n",
    "\n",
    "test = ([lista_final.append(i) for i in lista if str(i).isdigit()])\n",
    "list(filter(lambda x: not isintance(x,str), lista_mixta))\n",
    "print(lista_final)\n",
    "\n",
    "for i in lista: \n",
    "    if str(i).isdigit():\n",
    "        lista_final.append(i)\n",
    "print(lista_final)\n",
    "    "
   ]
  },
  {
   "cell_type": "markdown",
   "metadata": {},
   "source": [
    "4 - Cuenta el número de caracteres duplicados en una cadena de caracteres. Nota: no hay diferencias entre mayúsculas y minúsculas. Por ejemplo: <pre>\"AbracadaBra\" => 3</pre>"
   ]
  },
  {
   "cell_type": "code",
   "execution_count": 130,
   "metadata": {},
   "outputs": [
    {
     "data": {
      "text/plain": [
       "3"
      ]
     },
     "execution_count": 130,
     "metadata": {},
     "output_type": "execute_result"
    }
   ],
   "source": [
    "cadena = \"AbracadaBra\"\n",
    "cadena = cadena.lower()\n",
    "\n",
    "veces = 0\n",
    "for char in cadena:\n",
    "\n",
    "    if cadena.count(char)>1:\n",
    "        veces += 1\n",
    "        cadena = cadena.replace(char,\"\")\n",
    "\n",
    "print(veces)\n",
    "\n",
    "d = {}\n",
    "for c in cadena:\n",
    "    if c in d:\n",
    "        d[c] += 1\n",
    "    else:\n",
    "        d[c] = 1\n",
    "\n",
    "sum(v > 1 for v in d.values())      "
   ]
  },
  {
   "cell_type": "markdown",
   "metadata": {},
   "source": [
    "5 - Dada una cadena de caracteres reemplaza cada palabra separada por espacio con la suma de sus posiciones en el alfabeto. Por ejemplo:\n",
    "\n",
    "<pre>\"abba\" => 1 + 2 + 2 + 1 = 6</pre>\n",
    "\n",
    "Devuelve la suma de todas las palabras."
   ]
  },
  {
   "cell_type": "code",
   "execution_count": 137,
   "metadata": {},
   "outputs": [
    {
     "name": "stdout",
     "output_type": "stream",
     "text": [
      "122111111\n",
      "11\n",
      "Wall time: 0 ns\n"
     ]
    }
   ],
   "source": [
    "%%time\n",
    "import string\n",
    "\n",
    "alfabeto = string.ascii_lowercase\n",
    "cadena = \"abba aaaaa\"\n",
    "#fin = ''\n",
    "suma = 0\n",
    "for char in cadena:\n",
    "    for k,v in enumerate(alfabeto):\n",
    "        if char in v:\n",
    "            #fin = fin + str(k+1)\n",
    "            suma += k+1\n",
    "            \n",
    "        \n",
    "print(fin)\n",
    "print(suma)"
   ]
  },
  {
   "cell_type": "markdown",
   "metadata": {},
   "source": [
    "6 - Dadas dos cadenas de caracteres, determina si son anagramas. Una palabra es anagrama de otra si contiene exactamente las mismas letras. Por ejemplo, \"mora\" y \"roma\"."
   ]
  },
  {
   "cell_type": "code",
   "execution_count": 16,
   "metadata": {},
   "outputs": [
    {
     "data": {
      "text/plain": [
       "True"
      ]
     },
     "execution_count": 16,
     "metadata": {},
     "output_type": "execute_result"
    }
   ],
   "source": [
    "c = \"mora\"\n",
    "c1 = \"roma\"\n",
    "\n",
    "def anagram(chain1, chain2):\n",
    "    \"Compare the two chains and return if they are anagrams\"\n",
    "   \n",
    "    dict1 = {i: chain1.count(i) for i in chain1}\n",
    "    dict2 = {i: chain2.count(i) for i in chain2}\n",
    "\n",
    "        \n",
    "    return dict1 == dict2\n",
    "\n",
    "anagram(\"mora\",\"roma\")\n",
    "\n",
    "\n",
    "#     for i in chain2:\n",
    "#         dict2[i] = chain2.count(i)\n"
   ]
  },
  {
   "cell_type": "markdown",
   "metadata": {},
   "source": [
    "7 - Escriba un programa que calcule el factorial de un número introducido por teclado. Comprueba que el número es entero. Recuerda: $n! = \\prod_{i=1}^n i$.\n",
    "\n",
    "Extra: si no es un número entero emplea la función gamma: $\\Gamma(n + 1) = n!$. Puedes usar las librerías **math** o **numpy**."
   ]
  },
  {
   "cell_type": "code",
   "execution_count": 48,
   "metadata": {},
   "outputs": [
    {
     "name": "stdout",
     "output_type": "stream",
     "text": [
      "range(1, 3)\n"
     ]
    },
    {
     "data": {
      "text/plain": [
       "2"
      ]
     },
     "execution_count": 48,
     "metadata": {},
     "output_type": "execute_result"
    }
   ],
   "source": [
    "from functools import reduce\n",
    "\n",
    "def factorial(n):\n",
    "    \"Devuelve el factorial a partir de un número de input\"\n",
    "    \n",
    "    return reduce(lambda x,y:x*y,range(1,n+1))\n",
    "\n",
    "factorial(4)"
   ]
  },
  {
   "cell_type": "markdown",
   "metadata": {},
   "source": [
    "8 - Implementa la función exponential usando su serie de Taylor: $e^x = \\sum_{i=0}^{\\infty} \\frac{x^n}{n!}$ usando un **while** y para cuando el error relativo entre dos iteraciones sea menor que $1e-8$. Para evitar problemas de inestabilidad utiliza $x < 1$. ¿Cómo evitarías que el bucle **while** continuara indefinidamente si no se consigue reducir el error relativo?"
   ]
  },
  {
   "cell_type": "code",
   "execution_count": null,
   "metadata": {},
   "outputs": [],
   "source": [
    "\"\"\"Buscar\"\"\"\n",
    "\n",
    "\n"
   ]
  },
  {
   "cell_type": "markdown",
   "metadata": {},
   "source": [
    "9 - Resuelve un sistema de ecuaciones usando NumPy. Recuerda que debemos obtener $x$ de $Ax = b$. Puedes generar la matriz $A$ y el vector $b$ de forma aleatoria, pero la dimensiones deben ser consistentes: $A \\in \\mathbb{R}^{m \\times m}$ y $b \\in \\mathbb{R}^m$. También debes comprobar que el determinante de $A \\neq 0$. Necesitarás las funciones en *np.linag*."
   ]
  },
  {
   "cell_type": "code",
   "execution_count": 63,
   "metadata": {},
   "outputs": [
    {
     "name": "stdout",
     "output_type": "stream",
     "text": [
      "determinante distinto de 0\n",
      "[[ 2.99029126]\n",
      " [ 0.40776699]\n",
      " [-1.13592233]]\n"
     ]
    }
   ],
   "source": [
    "import numpy as np\n",
    "a = np.array([[1,2], [3,4]]) \n",
    "\n",
    "if np.linalg.det(a):\n",
    "    print(\"determinante distinto de 0\")\n",
    "\n",
    "\n",
    "A = np.matrix([[3,9,-10],[1,-6,4],[10,-2,8]])\n",
    "\n",
    "#Se definen los valores de la matriz B\n",
    "B = np.matrix([[24],[-4],[20]])\n",
    "\n",
    "\n",
    "\"\"\" A = inv(A)*B\"\"\"\n",
    "#Se calcula el valor de X con X=inv(A)*B\n",
    "X = A**(-1)*B\n",
    "print(X)"
   ]
  },
  {
   "cell_type": "code",
   "execution_count": null,
   "metadata": {},
   "outputs": [],
   "source": [
    "import math\n",
    "numero = input(\" Escribe un número: \")\n",
    "while numero.isdigit() == False:\n",
    "    print(\"Introduce un valor numérico\")\n",
    "    numero = input(\" Escribe un número: \")\n",
    "\n",
    "num =int(numero)\n",
    "math.factorial(num)"
   ]
  }
 ],
 "metadata": {
  "kernelspec": {
   "display_name": "Python 3",
   "language": "python",
   "name": "python3"
  },
  "language_info": {
   "codemirror_mode": {
    "name": "ipython",
    "version": 3
   },
   "file_extension": ".py",
   "mimetype": "text/x-python",
   "name": "python",
   "nbconvert_exporter": "python",
   "pygments_lexer": "ipython3",
   "version": "3.8.3"
  }
 },
 "nbformat": 4,
 "nbformat_minor": 2
}
