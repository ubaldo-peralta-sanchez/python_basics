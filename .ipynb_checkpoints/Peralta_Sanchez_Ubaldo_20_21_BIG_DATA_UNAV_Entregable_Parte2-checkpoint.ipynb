{
 "cells": [
  {
   "cell_type": "markdown",
   "metadata": {},
   "source": [
    "----\n",
    "# Entregable 2 - 2020/21\n",
    "----"
   ]
  },
  {
   "cell_type": "markdown",
   "metadata": {},
   "source": [
    "# Instrucciones\n",
    "\n",
    "* Introduce tu nombre y tus apellidos en la siguiente celda (reemplaza los que pone por el tuyo y tu email.\n",
    "* Renombra el fichero agregando tus apellidos y nombre (en ese orden) al principio para su entrega. Por ejemplo, Martinez_Garcia_Juan_20_21_BIG_DATA_UNAV_Entregable_Parte.\n",
    "* Lee atentamente las instrucciones de cada bloque completa el examen."
   ]
  },
  {
   "cell_type": "markdown",
   "metadata": {},
   "source": [
    "**Nombre:** Ubaldo  \n",
    "**Apellidos:** Peralta Sánchez  \n",
    "**Email:** uperaltasan@alumni.unav.es "
   ]
  },
  {
   "cell_type": "markdown",
   "metadata": {},
   "source": [
    "# Parte 1\n",
    "\n",
    "## Ventas de videojuegos\n",
    "\n",
    "En esta primera parte vamos a estudiar un dataset con ventas de videojuegos.\n",
    "\n",
    "Tenemos un fichero con datos de ventas de videojuegos con las siguientes columnas:\n",
    "\n",
    "- Rank : Ranking de la venta del videojuego a nivel mundial\n",
    "- Name : Nombre del videojuego\n",
    "- Platform : Plataforma en la que fue lanzado (Wii, PS4, PC...et)\n",
    "- Year : Año de lanzamiento\n",
    "- Genero : Genero del videojuego\n",
    "- Publisher : Empresa que publico el juego\n",
    "- NA_Sales - Ventas en Norte America (en millones)\n",
    "- EU_Sales - Ventas en Europa (en millones)\n",
    "- JP_Sales - Ventas en Japon (en millones)\n",
    "- Other_Sales - Ventas en el resto del mundo (en millones)\n",
    "- Global_Sales - Ventas a nivel mundial (en millones)\n",
    "\n"
   ]
  },
  {
   "cell_type": "markdown",
   "metadata": {},
   "source": [
    "Cargamos el dataset..."
   ]
  },
  {
   "cell_type": "code",
   "execution_count": 34,
   "metadata": {},
   "outputs": [
    {
     "data": {
      "text/html": [
       "<div>\n",
       "<style scoped>\n",
       "    .dataframe tbody tr th:only-of-type {\n",
       "        vertical-align: middle;\n",
       "    }\n",
       "\n",
       "    .dataframe tbody tr th {\n",
       "        vertical-align: top;\n",
       "    }\n",
       "\n",
       "    .dataframe thead th {\n",
       "        text-align: right;\n",
       "    }\n",
       "</style>\n",
       "<table border=\"1\" class=\"dataframe\">\n",
       "  <thead>\n",
       "    <tr style=\"text-align: right;\">\n",
       "      <th></th>\n",
       "      <th>Rank</th>\n",
       "      <th>Name</th>\n",
       "      <th>Platform</th>\n",
       "      <th>Year</th>\n",
       "      <th>Genre</th>\n",
       "      <th>Publisher</th>\n",
       "      <th>NA_Sales</th>\n",
       "      <th>EU_Sales</th>\n",
       "      <th>JP_Sales</th>\n",
       "      <th>Other_Sales</th>\n",
       "      <th>Global_Sales</th>\n",
       "    </tr>\n",
       "  </thead>\n",
       "  <tbody>\n",
       "    <tr>\n",
       "      <th>16593</th>\n",
       "      <td>16596</td>\n",
       "      <td>Woody Woodpecker in Crazy Castle 5</td>\n",
       "      <td>GBA</td>\n",
       "      <td>2002.0</td>\n",
       "      <td>Platform</td>\n",
       "      <td>Kemco</td>\n",
       "      <td>0.01</td>\n",
       "      <td>0.00</td>\n",
       "      <td>0.0</td>\n",
       "      <td>0.0</td>\n",
       "      <td>0.01</td>\n",
       "    </tr>\n",
       "    <tr>\n",
       "      <th>16594</th>\n",
       "      <td>16597</td>\n",
       "      <td>Men in Black II: Alien Escape</td>\n",
       "      <td>GC</td>\n",
       "      <td>2003.0</td>\n",
       "      <td>Shooter</td>\n",
       "      <td>Infogrames</td>\n",
       "      <td>0.01</td>\n",
       "      <td>0.00</td>\n",
       "      <td>0.0</td>\n",
       "      <td>0.0</td>\n",
       "      <td>0.01</td>\n",
       "    </tr>\n",
       "    <tr>\n",
       "      <th>16595</th>\n",
       "      <td>16598</td>\n",
       "      <td>SCORE International Baja 1000: The Official Game</td>\n",
       "      <td>PS2</td>\n",
       "      <td>2008.0</td>\n",
       "      <td>Racing</td>\n",
       "      <td>Activision</td>\n",
       "      <td>0.00</td>\n",
       "      <td>0.00</td>\n",
       "      <td>0.0</td>\n",
       "      <td>0.0</td>\n",
       "      <td>0.01</td>\n",
       "    </tr>\n",
       "    <tr>\n",
       "      <th>16596</th>\n",
       "      <td>16599</td>\n",
       "      <td>Know How 2</td>\n",
       "      <td>DS</td>\n",
       "      <td>2010.0</td>\n",
       "      <td>Puzzle</td>\n",
       "      <td>7G//AMES</td>\n",
       "      <td>0.00</td>\n",
       "      <td>0.01</td>\n",
       "      <td>0.0</td>\n",
       "      <td>0.0</td>\n",
       "      <td>0.01</td>\n",
       "    </tr>\n",
       "    <tr>\n",
       "      <th>16597</th>\n",
       "      <td>16600</td>\n",
       "      <td>Spirits &amp; Spells</td>\n",
       "      <td>GBA</td>\n",
       "      <td>2003.0</td>\n",
       "      <td>Platform</td>\n",
       "      <td>Wanadoo</td>\n",
       "      <td>0.01</td>\n",
       "      <td>0.00</td>\n",
       "      <td>0.0</td>\n",
       "      <td>0.0</td>\n",
       "      <td>0.01</td>\n",
       "    </tr>\n",
       "  </tbody>\n",
       "</table>\n",
       "</div>"
      ],
      "text/plain": [
       "        Rank                                              Name Platform  \\\n",
       "16593  16596                Woody Woodpecker in Crazy Castle 5      GBA   \n",
       "16594  16597                     Men in Black II: Alien Escape       GC   \n",
       "16595  16598  SCORE International Baja 1000: The Official Game      PS2   \n",
       "16596  16599                                        Know How 2       DS   \n",
       "16597  16600                                  Spirits & Spells      GBA   \n",
       "\n",
       "         Year     Genre   Publisher  NA_Sales  EU_Sales  JP_Sales  \\\n",
       "16593  2002.0  Platform       Kemco      0.01      0.00       0.0   \n",
       "16594  2003.0   Shooter  Infogrames      0.01      0.00       0.0   \n",
       "16595  2008.0    Racing  Activision      0.00      0.00       0.0   \n",
       "16596  2010.0    Puzzle    7G//AMES      0.00      0.01       0.0   \n",
       "16597  2003.0  Platform     Wanadoo      0.01      0.00       0.0   \n",
       "\n",
       "       Other_Sales  Global_Sales  \n",
       "16593          0.0          0.01  \n",
       "16594          0.0          0.01  \n",
       "16595          0.0          0.01  \n",
       "16596          0.0          0.01  \n",
       "16597          0.0          0.01  "
      ]
     },
     "execution_count": 34,
     "metadata": {},
     "output_type": "execute_result"
    }
   ],
   "source": [
    "# carga el fichero con las ventas\n",
    "import pandas as pd\n",
    "from scipy import stats\n",
    "\n",
    "games = pd.read_excel('ficheros_entregable2/vgsales.xlsx')\n",
    "games.tail()"
   ]
  },
  {
   "cell_type": "markdown",
   "metadata": {},
   "source": [
    "## Ventas a nivel y datos global (1 punto)"
   ]
  },
  {
   "cell_type": "markdown",
   "metadata": {},
   "source": [
    "¿Cuál es el videojuego que ha generado más ingresos a nivel global? (0.25 puntos)  "
   ]
  },
  {
   "cell_type": "code",
   "execution_count": 28,
   "metadata": {},
   "outputs": [
    {
     "data": {
      "text/plain": [
       "0    Wii Sports\n",
       "Name: Name, dtype: object"
      ]
     },
     "execution_count": 28,
     "metadata": {},
     "output_type": "execute_result"
    }
   ],
   "source": [
    "games[games[\"Global_Sales\"] == games[\"Global_Sales\"].max()][\"Name\"]"
   ]
  },
  {
   "cell_type": "markdown",
   "metadata": {},
   "source": [
    "¿Cuál es la plataforma con mayor media de ventas a nivel global? (0.25 puntos)  "
   ]
  },
  {
   "cell_type": "code",
   "execution_count": 99,
   "metadata": {},
   "outputs": [
    {
     "data": {
      "text/html": [
       "<div>\n",
       "<style scoped>\n",
       "    .dataframe tbody tr th:only-of-type {\n",
       "        vertical-align: middle;\n",
       "    }\n",
       "\n",
       "    .dataframe tbody tr th {\n",
       "        vertical-align: top;\n",
       "    }\n",
       "\n",
       "    .dataframe thead th {\n",
       "        text-align: right;\n",
       "    }\n",
       "</style>\n",
       "<table border=\"1\" class=\"dataframe\">\n",
       "  <thead>\n",
       "    <tr style=\"text-align: right;\">\n",
       "      <th></th>\n",
       "      <th>Global_Sales</th>\n",
       "    </tr>\n",
       "    <tr>\n",
       "      <th>Platform</th>\n",
       "      <th></th>\n",
       "    </tr>\n",
       "  </thead>\n",
       "  <tbody>\n",
       "    <tr>\n",
       "      <th>GB</th>\n",
       "      <td>2.606633</td>\n",
       "    </tr>\n",
       "  </tbody>\n",
       "</table>\n",
       "</div>"
      ],
      "text/plain": [
       "          Global_Sales\n",
       "Platform              \n",
       "GB            2.606633"
      ]
     },
     "execution_count": 99,
     "metadata": {},
     "output_type": "execute_result"
    }
   ],
   "source": [
    "games[[\"Platform\",\"Global_Sales\"]].groupby([\"Platform\"]).mean().sort_values(\"Global_Sales\", ascending = False).head(1)"
   ]
  },
  {
   "cell_type": "markdown",
   "metadata": {},
   "source": [
    "¿Cuál es la empresa que más dinero ha ganado con la venta de videojuegos? (0.25 puntos)  "
   ]
  },
  {
   "cell_type": "code",
   "execution_count": 98,
   "metadata": {},
   "outputs": [
    {
     "data": {
      "text/html": [
       "<div>\n",
       "<style scoped>\n",
       "    .dataframe tbody tr th:only-of-type {\n",
       "        vertical-align: middle;\n",
       "    }\n",
       "\n",
       "    .dataframe tbody tr th {\n",
       "        vertical-align: top;\n",
       "    }\n",
       "\n",
       "    .dataframe thead th {\n",
       "        text-align: right;\n",
       "    }\n",
       "</style>\n",
       "<table border=\"1\" class=\"dataframe\">\n",
       "  <thead>\n",
       "    <tr style=\"text-align: right;\">\n",
       "      <th></th>\n",
       "      <th>Global_Sales</th>\n",
       "    </tr>\n",
       "    <tr>\n",
       "      <th>Publisher</th>\n",
       "      <th></th>\n",
       "    </tr>\n",
       "  </thead>\n",
       "  <tbody>\n",
       "    <tr>\n",
       "      <th>Nintendo</th>\n",
       "      <td>1786.56</td>\n",
       "    </tr>\n",
       "  </tbody>\n",
       "</table>\n",
       "</div>"
      ],
      "text/plain": [
       "           Global_Sales\n",
       "Publisher              \n",
       "Nintendo        1786.56"
      ]
     },
     "execution_count": 98,
     "metadata": {},
     "output_type": "execute_result"
    }
   ],
   "source": [
    "games[[\"Publisher\",\"Global_Sales\"]].groupby([\"Publisher\"]).sum().sort_values(\"Global_Sales\", ascending = False).head(1)"
   ]
  },
  {
   "cell_type": "markdown",
   "metadata": {},
   "source": [
    "¿Los videojuegos de qué año son los que más dinero han recaudado ? (0.25 puntos)  "
   ]
  },
  {
   "cell_type": "code",
   "execution_count": 105,
   "metadata": {},
   "outputs": [
    {
     "data": {
      "text/html": [
       "<div>\n",
       "<style scoped>\n",
       "    .dataframe tbody tr th:only-of-type {\n",
       "        vertical-align: middle;\n",
       "    }\n",
       "\n",
       "    .dataframe tbody tr th {\n",
       "        vertical-align: top;\n",
       "    }\n",
       "\n",
       "    .dataframe thead th {\n",
       "        text-align: right;\n",
       "    }\n",
       "</style>\n",
       "<table border=\"1\" class=\"dataframe\">\n",
       "  <thead>\n",
       "    <tr style=\"text-align: right;\">\n",
       "      <th></th>\n",
       "      <th>Global_Sales</th>\n",
       "    </tr>\n",
       "    <tr>\n",
       "      <th>Year</th>\n",
       "      <th></th>\n",
       "    </tr>\n",
       "  </thead>\n",
       "  <tbody>\n",
       "    <tr>\n",
       "      <th>2008.0</th>\n",
       "      <td>678.9</td>\n",
       "    </tr>\n",
       "  </tbody>\n",
       "</table>\n",
       "</div>"
      ],
      "text/plain": [
       "        Global_Sales\n",
       "Year                \n",
       "2008.0         678.9"
      ]
     },
     "execution_count": 105,
     "metadata": {},
     "output_type": "execute_result"
    }
   ],
   "source": [
    "games[[\"Year\",\"Global_Sales\"]].groupby([\"Year\"]).sum().sort_values(\"Global_Sales\", ascending = False).head(1)"
   ]
  },
  {
   "cell_type": "markdown",
   "metadata": {},
   "source": [
    "## Calculando algunas datos interesantes (1 punto)"
   ]
  },
  {
   "cell_type": "markdown",
   "metadata": {},
   "source": [
    "Calcula cual es el videojuego que se vendió más en cada una de las plataformas (0.5 puntos)"
   ]
  },
  {
   "cell_type": "code",
   "execution_count": 130,
   "metadata": {},
   "outputs": [
    {
     "data": {
      "text/html": [
       "<div>\n",
       "<style scoped>\n",
       "    .dataframe tbody tr th:only-of-type {\n",
       "        vertical-align: middle;\n",
       "    }\n",
       "\n",
       "    .dataframe tbody tr th {\n",
       "        vertical-align: top;\n",
       "    }\n",
       "\n",
       "    .dataframe thead th {\n",
       "        text-align: right;\n",
       "    }\n",
       "</style>\n",
       "<table border=\"1\" class=\"dataframe\">\n",
       "  <thead>\n",
       "    <tr style=\"text-align: right;\">\n",
       "      <th></th>\n",
       "      <th></th>\n",
       "      <th>Global_Sales</th>\n",
       "    </tr>\n",
       "    <tr>\n",
       "      <th>Platform</th>\n",
       "      <th>Name</th>\n",
       "      <th></th>\n",
       "    </tr>\n",
       "  </thead>\n",
       "  <tbody>\n",
       "    <tr>\n",
       "      <th>Wii</th>\n",
       "      <th>Wii Sports</th>\n",
       "      <td>82.74</td>\n",
       "    </tr>\n",
       "    <tr>\n",
       "      <th>NES</th>\n",
       "      <th>Super Mario Bros.</th>\n",
       "      <td>40.24</td>\n",
       "    </tr>\n",
       "    <tr>\n",
       "      <th>GB</th>\n",
       "      <th>Pokemon Red/Pokemon Blue</th>\n",
       "      <td>31.37</td>\n",
       "    </tr>\n",
       "    <tr>\n",
       "      <th>DS</th>\n",
       "      <th>New Super Mario Bros.</th>\n",
       "      <td>30.01</td>\n",
       "    </tr>\n",
       "    <tr>\n",
       "      <th>X360</th>\n",
       "      <th>Kinect Adventures!</th>\n",
       "      <td>21.82</td>\n",
       "    </tr>\n",
       "    <tr>\n",
       "      <th>PS3</th>\n",
       "      <th>Grand Theft Auto V</th>\n",
       "      <td>21.40</td>\n",
       "    </tr>\n",
       "    <tr>\n",
       "      <th>PS2</th>\n",
       "      <th>Grand Theft Auto: San Andreas</th>\n",
       "      <td>20.81</td>\n",
       "    </tr>\n",
       "    <tr>\n",
       "      <th>SNES</th>\n",
       "      <th>Super Mario World</th>\n",
       "      <td>20.61</td>\n",
       "    </tr>\n",
       "    <tr>\n",
       "      <th>GBA</th>\n",
       "      <th>Pokemon Ruby/Pokemon Sapphire</th>\n",
       "      <td>15.85</td>\n",
       "    </tr>\n",
       "    <tr>\n",
       "      <th>3DS</th>\n",
       "      <th>Pokemon X/Pokemon Y</th>\n",
       "      <td>14.35</td>\n",
       "    </tr>\n",
       "    <tr>\n",
       "      <th>PS4</th>\n",
       "      <th>Call of Duty: Black Ops 3</th>\n",
       "      <td>14.24</td>\n",
       "    </tr>\n",
       "    <tr>\n",
       "      <th>N64</th>\n",
       "      <th>Super Mario 64</th>\n",
       "      <td>11.89</td>\n",
       "    </tr>\n",
       "    <tr>\n",
       "      <th>PS</th>\n",
       "      <th>Gran Turismo</th>\n",
       "      <td>10.95</td>\n",
       "    </tr>\n",
       "    <tr>\n",
       "      <th>XB</th>\n",
       "      <th>Halo 2</th>\n",
       "      <td>8.49</td>\n",
       "    </tr>\n",
       "    <tr>\n",
       "      <th>PC</th>\n",
       "      <th>The Sims 3</th>\n",
       "      <td>8.11</td>\n",
       "    </tr>\n",
       "    <tr>\n",
       "      <th>2600</th>\n",
       "      <th>Pac-Man</th>\n",
       "      <td>7.81</td>\n",
       "    </tr>\n",
       "    <tr>\n",
       "      <th>PSP</th>\n",
       "      <th>Grand Theft Auto: Liberty City Stories</th>\n",
       "      <td>7.72</td>\n",
       "    </tr>\n",
       "    <tr>\n",
       "      <th>XOne</th>\n",
       "      <th>Call of Duty: Black Ops 3</th>\n",
       "      <td>7.30</td>\n",
       "    </tr>\n",
       "    <tr>\n",
       "      <th>GC</th>\n",
       "      <th>Super Smash Bros. Melee</th>\n",
       "      <td>7.07</td>\n",
       "    </tr>\n",
       "    <tr>\n",
       "      <th>WiiU</th>\n",
       "      <th>Mario Kart 8</th>\n",
       "      <td>6.96</td>\n",
       "    </tr>\n",
       "    <tr>\n",
       "      <th>GEN</th>\n",
       "      <th>Sonic the Hedgehog 2</th>\n",
       "      <td>6.03</td>\n",
       "    </tr>\n",
       "    <tr>\n",
       "      <th>DC</th>\n",
       "      <th>Sonic Adventure</th>\n",
       "      <td>2.42</td>\n",
       "    </tr>\n",
       "    <tr>\n",
       "      <th>PSV</th>\n",
       "      <th>Minecraft</th>\n",
       "      <td>2.25</td>\n",
       "    </tr>\n",
       "    <tr>\n",
       "      <th>SAT</th>\n",
       "      <th>Virtua Fighter 2</th>\n",
       "      <td>1.93</td>\n",
       "    </tr>\n",
       "    <tr>\n",
       "      <th>SCD</th>\n",
       "      <th>Sonic CD</th>\n",
       "      <td>1.50</td>\n",
       "    </tr>\n",
       "    <tr>\n",
       "      <th>WS</th>\n",
       "      <th>Final Fantasy</th>\n",
       "      <td>0.51</td>\n",
       "    </tr>\n",
       "    <tr>\n",
       "      <th>NG</th>\n",
       "      <th>Samurai Shodown II</th>\n",
       "      <td>0.25</td>\n",
       "    </tr>\n",
       "    <tr>\n",
       "      <th>TG16</th>\n",
       "      <th>Doukyuusei</th>\n",
       "      <td>0.14</td>\n",
       "    </tr>\n",
       "    <tr>\n",
       "      <th>3DO</th>\n",
       "      <th>Policenauts</th>\n",
       "      <td>0.06</td>\n",
       "    </tr>\n",
       "    <tr>\n",
       "      <th>GG</th>\n",
       "      <th>Sonic the Hedgehog 2 (8-bit)</th>\n",
       "      <td>0.04</td>\n",
       "    </tr>\n",
       "    <tr>\n",
       "      <th>PCFX</th>\n",
       "      <th>Blue Breaker: Ken Yorimo Hohoemi o</th>\n",
       "      <td>0.03</td>\n",
       "    </tr>\n",
       "  </tbody>\n",
       "</table>\n",
       "</div>"
      ],
      "text/plain": [
       "                                                 Global_Sales\n",
       "Platform Name                                                \n",
       "Wii      Wii Sports                                     82.74\n",
       "NES      Super Mario Bros.                              40.24\n",
       "GB       Pokemon Red/Pokemon Blue                       31.37\n",
       "DS       New Super Mario Bros.                          30.01\n",
       "X360     Kinect Adventures!                             21.82\n",
       "PS3      Grand Theft Auto V                             21.40\n",
       "PS2      Grand Theft Auto: San Andreas                  20.81\n",
       "SNES     Super Mario World                              20.61\n",
       "GBA      Pokemon Ruby/Pokemon Sapphire                  15.85\n",
       "3DS      Pokemon X/Pokemon Y                            14.35\n",
       "PS4      Call of Duty: Black Ops 3                      14.24\n",
       "N64      Super Mario 64                                 11.89\n",
       "PS       Gran Turismo                                   10.95\n",
       "XB       Halo 2                                          8.49\n",
       "PC       The Sims 3                                      8.11\n",
       "2600     Pac-Man                                         7.81\n",
       "PSP      Grand Theft Auto: Liberty City Stories          7.72\n",
       "XOne     Call of Duty: Black Ops 3                       7.30\n",
       "GC       Super Smash Bros. Melee                         7.07\n",
       "WiiU     Mario Kart 8                                    6.96\n",
       "GEN      Sonic the Hedgehog 2                            6.03\n",
       "DC       Sonic Adventure                                 2.42\n",
       "PSV      Minecraft                                       2.25\n",
       "SAT      Virtua Fighter 2                                1.93\n",
       "SCD      Sonic CD                                        1.50\n",
       "WS       Final Fantasy                                   0.51\n",
       "NG       Samurai Shodown II                              0.25\n",
       "TG16     Doukyuusei                                      0.14\n",
       "3DO      Policenauts                                     0.06\n",
       "GG       Sonic the Hedgehog 2 (8-bit)                    0.04\n",
       "PCFX     Blue Breaker: Ken Yorimo Hohoemi o              0.03"
      ]
     },
     "execution_count": 130,
     "metadata": {},
     "output_type": "execute_result"
    }
   ],
   "source": [
    "games[[\"Name\",\"Platform\",\"Global_Sales\"]].groupby([\"Platform\",\"Name\"]).sum().sort_values(\"Global_Sales\",\n",
    "ascending = False).groupby(\"Platform\").head(1)\n"
   ]
  },
  {
   "cell_type": "markdown",
   "metadata": {},
   "source": [
    "Calcula cual es el videojuego que más se vendió para cada genero (0.5 puntos)"
   ]
  },
  {
   "cell_type": "code",
   "execution_count": 132,
   "metadata": {},
   "outputs": [
    {
     "data": {
      "text/html": [
       "<div>\n",
       "<style scoped>\n",
       "    .dataframe tbody tr th:only-of-type {\n",
       "        vertical-align: middle;\n",
       "    }\n",
       "\n",
       "    .dataframe tbody tr th {\n",
       "        vertical-align: top;\n",
       "    }\n",
       "\n",
       "    .dataframe thead th {\n",
       "        text-align: right;\n",
       "    }\n",
       "</style>\n",
       "<table border=\"1\" class=\"dataframe\">\n",
       "  <thead>\n",
       "    <tr style=\"text-align: right;\">\n",
       "      <th></th>\n",
       "      <th></th>\n",
       "      <th>Global_Sales</th>\n",
       "    </tr>\n",
       "    <tr>\n",
       "      <th>Genre</th>\n",
       "      <th>Name</th>\n",
       "      <th></th>\n",
       "    </tr>\n",
       "  </thead>\n",
       "  <tbody>\n",
       "    <tr>\n",
       "      <th>Sports</th>\n",
       "      <th>Wii Sports</th>\n",
       "      <td>82.74</td>\n",
       "    </tr>\n",
       "    <tr>\n",
       "      <th>Action</th>\n",
       "      <th>Grand Theft Auto V</th>\n",
       "      <td>55.92</td>\n",
       "    </tr>\n",
       "    <tr>\n",
       "      <th>Platform</th>\n",
       "      <th>Super Mario Bros.</th>\n",
       "      <td>45.31</td>\n",
       "    </tr>\n",
       "    <tr>\n",
       "      <th>Puzzle</th>\n",
       "      <th>Tetris</th>\n",
       "      <td>35.84</td>\n",
       "    </tr>\n",
       "    <tr>\n",
       "      <th>Racing</th>\n",
       "      <th>Mario Kart Wii</th>\n",
       "      <td>35.82</td>\n",
       "    </tr>\n",
       "    <tr>\n",
       "      <th>Role-Playing</th>\n",
       "      <th>Pokemon Red/Pokemon Blue</th>\n",
       "      <td>31.37</td>\n",
       "    </tr>\n",
       "    <tr>\n",
       "      <th>Shooter</th>\n",
       "      <th>Call of Duty: Black Ops</th>\n",
       "      <td>31.03</td>\n",
       "    </tr>\n",
       "    <tr>\n",
       "      <th>Misc</th>\n",
       "      <th>Wii Play</th>\n",
       "      <td>29.02</td>\n",
       "    </tr>\n",
       "    <tr>\n",
       "      <th>Simulation</th>\n",
       "      <th>Nintendogs</th>\n",
       "      <td>24.76</td>\n",
       "    </tr>\n",
       "    <tr>\n",
       "      <th>Fighting</th>\n",
       "      <th>Super Smash Bros. Brawl</th>\n",
       "      <td>13.04</td>\n",
       "    </tr>\n",
       "    <tr>\n",
       "      <th>Adventure</th>\n",
       "      <th>Assassin's Creed</th>\n",
       "      <td>11.30</td>\n",
       "    </tr>\n",
       "    <tr>\n",
       "      <th>Strategy</th>\n",
       "      <th>Pokemon Stadium</th>\n",
       "      <td>5.45</td>\n",
       "    </tr>\n",
       "  </tbody>\n",
       "</table>\n",
       "</div>"
      ],
      "text/plain": [
       "                                       Global_Sales\n",
       "Genre        Name                                  \n",
       "Sports       Wii Sports                       82.74\n",
       "Action       Grand Theft Auto V               55.92\n",
       "Platform     Super Mario Bros.                45.31\n",
       "Puzzle       Tetris                           35.84\n",
       "Racing       Mario Kart Wii                   35.82\n",
       "Role-Playing Pokemon Red/Pokemon Blue         31.37\n",
       "Shooter      Call of Duty: Black Ops          31.03\n",
       "Misc         Wii Play                         29.02\n",
       "Simulation   Nintendogs                       24.76\n",
       "Fighting     Super Smash Bros. Brawl          13.04\n",
       "Adventure    Assassin's Creed                 11.30\n",
       "Strategy     Pokemon Stadium                   5.45"
      ]
     },
     "execution_count": 132,
     "metadata": {},
     "output_type": "execute_result"
    }
   ],
   "source": [
    "games[[\"Name\",\"Genre\",\"Global_Sales\"]].groupby([\"Genre\",\"Name\"]).sum().sort_values(\"Global_Sales\",\n",
    "ascending = False).groupby(\"Genre\").head(1)"
   ]
  },
  {
   "cell_type": "markdown",
   "metadata": {},
   "source": [
    "## Evolución de las ventas a través de las décadas (1 punto)"
   ]
  },
  {
   "cell_type": "markdown",
   "metadata": {},
   "source": [
    "Se quiere realizar un estudio de la evolución de las ventas medias de los videojuegos por décadas (los 80s, 90s, los 00s y los 01s). Las décadas se dividen como sigue:\n",
    "\n",
    "Década 80s --> 1980 - 1989  \n",
    "Década 90s --> 1990 - 1999  \n",
    "Década 00s --> 2000 - 2009  \n",
    "Década 10s --> 2010 - 2017  \n",
    "\n",
    "Todos aquellos valores que no estén dentro de esas décadas pueden etiquetarse como 'Others'."
   ]
  },
  {
   "cell_type": "markdown",
   "metadata": {},
   "source": [
    "Genera una función que categorice las fechas por décadas (0.5 puntos) y extrae cómo ha evolucionado la facturacion global los videojuegos a lo largo de las diferentes décadas (0.5 puntos). "
   ]
  },
  {
   "cell_type": "code",
   "execution_count": null,
   "metadata": {},
   "outputs": [],
   "source": []
  },
  {
   "cell_type": "code",
   "execution_count": null,
   "metadata": {},
   "outputs": [],
   "source": []
  },
  {
   "cell_type": "markdown",
   "metadata": {},
   "source": [
    "# Parte 2\n",
    "\n",
    "## 5000 películas de IMD (The Internet Movie Database)\n",
    "\n",
    "En este proyecto nos enfocaremos en el análisis exploratorio de datos de un dataset de 5000 películas obtenidas de la base de datos de [Internet Movie Database](https://www.imdb.com).\n",
    "\n",
    "El objetivo de este ejercicio es poner en práctica varias de las técnicas vistas en Pandas a lo largo de la parte 2 del curso y ver cómo obtener métricas interesantes con este dataset. Hay que tener en cuenta que es un dataset que tiene información que puede ser incorrecta, incompleta, o directamente errónea, pero esto nos acerca a lo que se enfrenta de forma muy habitual un Data Scientist.\n"
   ]
  },
  {
   "cell_type": "markdown",
   "metadata": {},
   "source": [
    "## Obtención de los datos\n",
    "\n",
    "Este dataset lo podemos obtener de la página de [Kaggle directamente](https://www.kaggle.com/tmdb/tmdb-movie-metadata/downloads/tmdb_5000_movies.csv) o accediendo al fichero que se encuentra en el mismo lugar que este notebook.\n",
    "\n",
    "Primero, debemos comenzar con los import apropiados, que ya hemos visto muchas veces.\n",
    "\n",
    "Nota: Hemos usado el fichero original de IMDB pero por temas de Copyright deberíamos usar el de [TMDB](https://www.themoviedb.org/?language=es). Para el ámbito de este ejercicio no ocurre nada por hacerlo, pero en una aplicación real deberíamos usar el fichero de TMDB y no el de IMDB.\n",
    "\n",
    "### Los imports\n",
    "\n",
    "Aqui están:"
   ]
  },
  {
   "cell_type": "code",
   "execution_count": null,
   "metadata": {},
   "outputs": [],
   "source": [
    "import pandas as pd\n",
    "import numpy as np\n",
    "import datetime"
   ]
  },
  {
   "cell_type": "markdown",
   "metadata": {},
   "source": [
    "### Explorando los datos\n",
    "\n",
    "Vamos a cargar el dataset de películas y obtener primero una descripción general del mismo. Carguemos el dataset primero.\n"
   ]
  },
  {
   "cell_type": "code",
   "execution_count": null,
   "metadata": {},
   "outputs": [],
   "source": [
    "df = pd.read_csv('movie_metadata.csv')"
   ]
  },
  {
   "cell_type": "markdown",
   "metadata": {},
   "source": [
    "Muestra el tipo de columnas y el head del dataset"
   ]
  },
  {
   "cell_type": "code",
   "execution_count": null,
   "metadata": {},
   "outputs": [],
   "source": []
  },
  {
   "cell_type": "code",
   "execution_count": null,
   "metadata": {},
   "outputs": [],
   "source": []
  },
  {
   "cell_type": "markdown",
   "metadata": {},
   "source": [
    "## Rentabilidad por director y año (1 puntos)\n",
    "\n",
    "**Obtén las diferencias entre el presupuesto de las películas y los ingresos en taquilla, la columna `gross`, añadiendo una nueva columna que se llame `diff_gross`. Muestra la diferencia entre presupuesto y total de taquilla por director de forma anual. El primer paso será limpiar los datos, ya que es posible que no todos las filas de la nueva columna tengan datos. Elimina aquéllas filas que contengan datos vacíos (missing values). Crea otro dataframe para no sobreescribir el original.**"
   ]
  },
  {
   "cell_type": "code",
   "execution_count": null,
   "metadata": {},
   "outputs": [],
   "source": []
  },
  {
   "cell_type": "code",
   "execution_count": null,
   "metadata": {},
   "outputs": [],
   "source": []
  },
  {
   "cell_type": "markdown",
   "metadata": {},
   "source": [
    "**Agrupa el dataframe por director de película y realiza la suma de total la columna `diff_gross`, luego ordénalo de forma descendente**"
   ]
  },
  {
   "cell_type": "code",
   "execution_count": null,
   "metadata": {},
   "outputs": [],
   "source": []
  },
  {
   "cell_type": "markdown",
   "metadata": {},
   "source": [
    "## Directores y críticas (0.5 puntos)\n",
    "\n",
    "**Vamos a realizar un estudio de los mejores directores en base a las mejores reviews obtenidas.**\n",
    "\n",
    "**Utilizando el dataframe sin valores nulos, agrupa usando la función `group_by` los directores que han obtenido mayor número de críticas (entendiendo que a mayor el número, mejores son las críticas). Pista: Usa la columna `num_critic_for_reviews` para esto.**\n"
   ]
  },
  {
   "cell_type": "code",
   "execution_count": null,
   "metadata": {},
   "outputs": [],
   "source": []
  },
  {
   "cell_type": "markdown",
   "metadata": {},
   "source": [
    "## Ratio de críticas (1 puntos)\n",
    "\n",
    "**IMDB es conocido por la desproporción a veces entre la valoración de los críticos profesionales y la de los usuarios de la plataforma; valores altos significan que la crítica profesional valora más la película y viceversa. Obtén este ratio y añádelo en una nueva columna llamada `critic_ratio`. Utiliza como fuente el dataframe sin datos vacíos**"
   ]
  },
  {
   "cell_type": "code",
   "execution_count": null,
   "metadata": {},
   "outputs": [],
   "source": []
  },
  {
   "cell_type": "markdown",
   "metadata": {},
   "source": [
    "**Obtén el listado de directores con la media del ratio de críticas. Como siempre, crea un nuevo dataframe y con éste crea un índice. Obtén aquellos con un mayor ratio solamente, los 20 primeros**"
   ]
  },
  {
   "cell_type": "code",
   "execution_count": null,
   "metadata": {},
   "outputs": [],
   "source": []
  },
  {
   "cell_type": "markdown",
   "metadata": {},
   "source": [
    "## Películas por género (1 puntos)\n",
    "\n",
    "**Vamos a ver cuantas películas se han realizado por género. Ten en cuenta que una misma película puede pertener a varios géneros a la vez. Además si te fijas en la columna `genres` del dataframe sin valores vacíos, verás que tiene los géneros separados por el simbolo \"|\". Debemos por lo tanto que crear una función que traduzca ese campo a una lista de géneros.**\n",
    "\n",
    "**Añade una nueva columna que se llame `genre_list` que sea el resultado de convertir la columna `genres` a una lista de géneros**"
   ]
  },
  {
   "cell_type": "code",
   "execution_count": null,
   "metadata": {},
   "outputs": [],
   "source": []
  },
  {
   "cell_type": "markdown",
   "metadata": {},
   "source": [
    "**Una vez hecho ésto debes obtener la lista de todos los géneros, recorriendo el dataframe anterior y obteniéndolos de la columna `genre_list`.**\n",
    "\n",
    "**Pista 1: Deberás resetear el index con el [método](https://pandas.pydata.org/pandas-docs/stable/generated/pandas.DataFrame.reset_index.html) `reset_index`**\n",
    "\n",
    "**Pista 2: Crea una lista que tenga todas las listas dentro de cada fila del dataset.**\n",
    "\n",
    "**Pista 3: Una vez tengas la lista con todos los generos de cada película, evidentemente hay muchas repeticiones. Usa la clase [Counter](https://pymotw.com/2/collections/counter.html) del módulo *collections* para crear un diccionario que tiene como claves los nómbres de los géneros y como valor el número de veces que aparecía en este lista**\n",
    "\n",
    "**Pista 4: Una vez tengas el diccionario, puedes utilizar el [metodo de numpy](https://docs.scipy.org/doc/numpy/reference/generated/numpy.asarray.html) `asarray` para convertir las claves y los valores de ese diccionario a arrays numpy.**"
   ]
  },
  {
   "cell_type": "code",
   "execution_count": null,
   "metadata": {},
   "outputs": [],
   "source": [
    "from collections import Counter\n",
    "\n",
    "\n"
   ]
  },
  {
   "cell_type": "markdown",
   "metadata": {},
   "source": [
    "# Parte 3\n",
    "\n",
    "## Evolución del COVID-19 durante la primera ola\n",
    "\n",
    "En consonancia con la situación actual, en esta tercera parte os proponemos que exploréis un dataset asociado al COVID-19.\n",
    "\n",
    "La enfermedad por coronavirus 2019 (COVID-19) es una enfermedad infecciosa causada por el coronavirus 2 del síndrome respiratorio agudo severo (SARS-CoV-2). Se identificó por primera vez en 2019 en Wuhan, China, y desde entonces se ha propagado a nivel mundial, lo que ha resultado en la pandemia de coronavirus 2019-20. Los síntomas comunes incluyen fiebre, tos y dificultad para respirar. El dolor muscular, la producción de esputo y el dolor de garganta son menos comunes. La tasa de muertes por número de casos diagnosticados es, en promedio, del 3,4%, oscilando entre el 0,2% en los menores de 20 años y aproximadamente el 15% en los mayores de 80 años."
   ]
  },
  {
   "cell_type": "markdown",
   "metadata": {},
   "source": [
    "Los datos que vamos a explorar provienenen del dataset disponible en: https://github.com/datadista/datasets/tree/master/COVID%2019 que contiene información sobre la situación diaria acumulada de la enfermedad por el coronavirus SARS-CoV-2 (COVID-19) en España en un formato accesible y reutilizable. \n",
    "\n",
    "En nuestro caso vamos a estudiar el fichero [ccaa_covid19_datos_isciii.csv](https://raw.githubusercontent.com/datadista/datasets/master/COVID%2019/ccaa_covid19_datos_isciii.csv), que contiene datos a nivel de casos registrados por Comunidad Autónoma y que podéis descargar desde el apartado del 2º entregable en ADI.\n",
    "\n",
    "| Campo\t        | Descripción\t        | Formato  | Ejemplo |\n",
    "| :-------------|:-------------------------------------------------------------------|----------|:-----------:|\n",
    "| fecha\t        | Fecha de notificación\t| YYYY-MM-DD\t| 2020-03-20|\n",
    "| cod_ine\t    | Código INE de CCAA\t| Texto\t   | 11|\n",
    "| CCAA\t        | Comunidad autónoma\t| Texto\t   | Madrid|\n",
    "| Caso\t        | Casos confirmados acumulados (NaN si no hay casos)\t| Número |\t7|\n",
    "| Hospitalizados| Casos acumulados que han precisado hospitalización (incluyen UCI)|\tNúmero\t|7|\n",
    "| UCI\t        | Casos acumulados que han precisado ingreso en UCI|\tNúmero|\t7|\n",
    "| Fallecidos\t| Personas fallecidas acumuladas\t|Número\t|7|\n",
    "| Recuperados\t| Personas curadas acumuladas\t|Número|7|\n"
   ]
  },
  {
   "cell_type": "markdown",
   "metadata": {},
   "source": [
    "**Escribe un programa de Python para mostrar las primeras 5 filas del conjunto de datos COVID-19. Imprime también as 5 últimas filas del conjunto, la información del conjunto de datos  y estima cuántos valores ausentes (NaN) hay en cada columna y sustitúyelos por 0's (0.5 puntos)**."
   ]
  },
  {
   "cell_type": "code",
   "execution_count": null,
   "metadata": {},
   "outputs": [],
   "source": [
    "import pandas as pd\n",
    "covid_data= pd.read_csv('ccaa_covid19_datos_isciii.csv')\n"
   ]
  },
  {
   "cell_type": "code",
   "execution_count": null,
   "metadata": {},
   "outputs": [],
   "source": []
  },
  {
   "cell_type": "code",
   "execution_count": null,
   "metadata": {},
   "outputs": [],
   "source": []
  },
  {
   "cell_type": "code",
   "execution_count": null,
   "metadata": {},
   "outputs": [],
   "source": []
  },
  {
   "cell_type": "markdown",
   "metadata": {},
   "source": [
    "**Escribe un programa de Python para obtener el número total de casos confirmados, hospitalizados, trasladados a la UCI, fallecidos y recuperados. Antes asegúrate de cargar de nuevo los datos importando el campo de las fechas como *datetime* y sustituyendo los valores *NaN* por *0's* . Convierte los valores numéricos a *int*. Luego crea un nuevo dataframe con la información del último día  y computa el total acumulando todos los valores de todas las CCAA en esa fecha (0.5 puntos).**"
   ]
  },
  {
   "cell_type": "code",
   "execution_count": null,
   "metadata": {},
   "outputs": [],
   "source": []
  },
  {
   "cell_type": "code",
   "execution_count": null,
   "metadata": {},
   "outputs": [],
   "source": []
  },
  {
   "cell_type": "code",
   "execution_count": null,
   "metadata": {},
   "outputs": [],
   "source": []
  },
  {
   "cell_type": "code",
   "execution_count": null,
   "metadata": {},
   "outputs": [],
   "source": []
  },
  {
   "cell_type": "markdown",
   "metadata": {},
   "source": [
    "**Estima ahora la última cifra de casos confirmados, fallecidos y recuperados por CCAA. Para ello, asigna la columna *CCAA* como índice (hazlo *inplace*) y muestra los datos ordenados según número de casos, número de fallecidos y número de recuperados (0.5 puntos)**"
   ]
  },
  {
   "cell_type": "code",
   "execution_count": null,
   "metadata": {},
   "outputs": [],
   "source": []
  },
  {
   "cell_type": "markdown",
   "metadata": {},
   "source": [
    "**¿Cual es la última cifra de casos confirmados, hospitalizados, trasladados a la UCI, fallecidos y recuperados de COVID-19 en Navarra?. ¿Y el número de casos activos (i.e.: Casos - (Fallecidos + Recuperados))? (0.5 puntos).**"
   ]
  },
  {
   "cell_type": "code",
   "execution_count": null,
   "metadata": {},
   "outputs": [],
   "source": []
  },
  {
   "cell_type": "code",
   "execution_count": null,
   "metadata": {},
   "outputs": [],
   "source": []
  },
  {
   "cell_type": "markdown",
   "metadata": {},
   "source": [
    "**Añade una columna de casos activos al dataframe *original* con los casos activos (*Activos*) en cada momento. Para ello, recuerda  cargar de nuevo el fichero, considerar las fechas como *datetime*, sustituir los *NaN's* por *0's* y convertir los valores numéricos a *int*. Luego puedes añadir la nueva columna *Activos*. (0.5 punto)**"
   ]
  },
  {
   "cell_type": "code",
   "execution_count": null,
   "metadata": {},
   "outputs": [],
   "source": []
  },
  {
   "cell_type": "markdown",
   "metadata": {},
   "source": [
    "**¿Qué día se produjeron los primeros casos por COVID-19 en España?. ¿Y los primeros fallecimientos (0.5 puntos)?**"
   ]
  },
  {
   "cell_type": "code",
   "execution_count": null,
   "metadata": {},
   "outputs": [],
   "source": [
    "           "
   ]
  },
  {
   "cell_type": "code",
   "execution_count": null,
   "metadata": {},
   "outputs": [],
   "source": []
  },
  {
   "cell_type": "markdown",
   "metadata": {},
   "source": [
    "**Escribe un programa de Python que devuelva la fecha en que se detectó el primer fallecido de COVID-19 en cada CCAA . Muéstralos de forma ordenada en función de la fecha (0.5 puntos)**"
   ]
  },
  {
   "cell_type": "code",
   "execution_count": null,
   "metadata": {},
   "outputs": [],
   "source": []
  },
  {
   "cell_type": "code",
   "execution_count": null,
   "metadata": {},
   "outputs": [],
   "source": []
  },
  {
   "cell_type": "markdown",
   "metadata": {},
   "source": [
    "## ¡¡Buen trabajo!!"
   ]
  },
  {
   "cell_type": "code",
   "execution_count": null,
   "metadata": {},
   "outputs": [],
   "source": []
  }
 ],
 "metadata": {
  "kernelspec": {
   "display_name": "Python 3",
   "language": "python",
   "name": "python3"
  },
  "language_info": {
   "codemirror_mode": {
    "name": "ipython",
    "version": 3
   },
   "file_extension": ".py",
   "mimetype": "text/x-python",
   "name": "python",
   "nbconvert_exporter": "python",
   "pygments_lexer": "ipython3",
   "version": "3.8.3"
  }
 },
 "nbformat": 4,
 "nbformat_minor": 1
}
