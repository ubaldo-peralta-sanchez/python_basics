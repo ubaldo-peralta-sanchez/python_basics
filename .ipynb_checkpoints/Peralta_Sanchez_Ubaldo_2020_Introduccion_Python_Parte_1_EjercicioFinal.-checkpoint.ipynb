{
 "cells": [
  {
   "cell_type": "markdown",
   "metadata": {},
   "source": [
    "----\n",
    "# Entregable 1 - 2020/21\n",
    "----"
   ]
  },
  {
   "cell_type": "markdown",
   "metadata": {},
   "source": [
    "# Instrucciones\n",
    "\n",
    "* Introduce tu nombre y tus apellidos en la siguiente celda (reemplaza los que pone por el tuyo y tu email).\n",
    "* Renombra el fichero agregando tus apellidos y nombre (en ese orden) al principio para su entrega. Por ejemplo, Martinez_Garcia_Juan_2019_Introduccion_Python_Parte_1_EjercicioFinal.\n",
    "* Lee atentamente las instrucciones de cada bloque, completa los ejercicios y sube el notebook a ADI."
   ]
  },
  {
   "cell_type": "markdown",
   "metadata": {},
   "source": [
    "**Nombre:** Ubaldo  \n",
    "**Apellidos:** Peralta Sánchez  \n",
    "**Email:** uperaltasan@alumni.unav.es "
   ]
  },
  {
   "cell_type": "markdown",
   "metadata": {},
   "source": [
    "En este un ejercicio revisaremos los conceptos de Python que hemos visto en las sesiones 1 a 4. Se evaluará la correcta ejecución, así como la originalidad y enfoques utilizados para la resolución de los ejercicio.\n",
    "\n",
    "Responde a las preguntas formuladas o completa las tareas indicadas en negrita debajo, utilizar el método indicado si aplica.\n"
   ]
  },
  {
   "cell_type": "markdown",
   "metadata": {},
   "source": [
    "# Ejercicios\n",
    "\n",
    " \n",
    "   \n",
    "    \n",
    "\n",
    "**Evalúa con Python cuánto es 7 elevado a 4 (0.25 puntos)**"
   ]
  },
  {
   "cell_type": "code",
   "execution_count": 1,
   "metadata": {},
   "outputs": [
    {
     "name": "stdout",
     "output_type": "stream",
     "text": [
      "2401\n"
     ]
    }
   ],
   "source": [
    "def fourthpower(n):\n",
    "    \"\"\"returning fourth power of a number.\n",
    "\n",
    "    Parameters\n",
    "    ----------\n",
    "    n : integer, optional (default=None)\n",
    "        The integer that is going to be raised fourth\n",
    "\n",
    "    Returns\n",
    "    -------\n",
    "    n : integer\n",
    "        number raised fourth\n",
    "    \"\"\"\n",
    "    return n ** 4\n",
    "\n",
    "\n",
    "print(fourthpower(7))\n"
   ]
  },
  {
   "cell_type": "markdown",
   "metadata": {},
   "source": [
    "**Convierte el string** s = \"Hola, Pedro ¿que tal?\" **en una lista. (0.25 puntos)**"
   ]
  },
  {
   "cell_type": "code",
   "execution_count": 5,
   "metadata": {},
   "outputs": [
    {
     "name": "stdout",
     "output_type": "stream",
     "text": [
      "['H', 'o', 'l', 'a', ',', ' ', 'P', 'e', 'd', 'r', 'o', ' ', '¿', 'q', 'u', 'e', ' ', 't', 'a', 'l', '?']\n"
     ]
    }
   ],
   "source": [
    "s = \"Hola, Pedro ¿que tal?\"\n",
    "s_list = list(s)\n",
    "print(s_list)"
   ]
  },
  {
   "cell_type": "markdown",
   "metadata": {},
   "source": [
    "**Dadas las variables:** planeta = \"Tierra\" **y** diametro = 12742 **, usa tres métodos diferentes (ej. .format(), una f'string, etc) para obtener el siguiente string:**  *El diametro de la Tierra es 12742 kilometros.* **(0.5 puntos)**"
   ]
  },
  {
   "cell_type": "code",
   "execution_count": 6,
   "metadata": {},
   "outputs": [
    {
     "name": "stdout",
     "output_type": "stream",
     "text": [
      "el diametro de la Tierra es 12742 km\n",
      "el diametro de la Tierra es 12742 km\n",
      "el diametro de la Tierra es 12742 km\n"
     ]
    }
   ],
   "source": [
    "planeta = 'Tierra'\n",
    "diametro = 12742\n",
    "print(f'el diametro de la {planeta} es {diametro} km')\n",
    "print(\"el diametro de la {} es {} km\".format(planeta,diametro))\n",
    "print(\"el diametro de la \"+ planeta + \" es \" + str(diametro) + \" km\")"
   ]
  },
  {
   "cell_type": "markdown",
   "metadata": {},
   "source": [
    "**Dada la lista** *lst,* **utiliza la indexación para obtener la palabra \"hola\" (0.25 puntos) y cambia el valor** *23* **por 25 (0.25 puntos)**"
   ]
  },
  {
   "cell_type": "code",
   "execution_count": 8,
   "metadata": {},
   "outputs": [],
   "source": [
    "lst = [1,2,[3,4],[5,[100,200,['hola']],23,11],1,7]"
   ]
  },
  {
   "cell_type": "code",
   "execution_count": 14,
   "metadata": {},
   "outputs": [
    {
     "name": "stdout",
     "output_type": "stream",
     "text": [
      "hola\n"
     ]
    }
   ],
   "source": [
    "hola_str = lst[3][1][2][0]\n",
    "print(hola_str)"
   ]
  },
  {
   "cell_type": "code",
   "execution_count": 22,
   "metadata": {},
   "outputs": [
    {
     "name": "stdout",
     "output_type": "stream",
     "text": [
      "25\n"
     ]
    },
    {
     "data": {
      "text/plain": [
       "[1, 2, [3, 4], [5, [100, 200, ['hola']], 25, 11], 1, 7]"
      ]
     },
     "execution_count": 22,
     "metadata": {},
     "output_type": "execute_result"
    }
   ],
   "source": [
    "lst[3][2] = 25\n",
    "lst"
   ]
  },
  {
   "cell_type": "markdown",
   "metadata": {},
   "source": [
    "**Dado el siguiente diccionario anidado, obtener la palabra \"hola\" (0.25 puntos) y cambia** *mentira* **por** *verdad* **(0.25 puntos)**"
   ]
  },
  {
   "cell_type": "code",
   "execution_count": 24,
   "metadata": {},
   "outputs": [],
   "source": [
    "d = {'k1':[1,2,3,{'gracioso':['oh','no','mentira',{'destino':[1,2,3,'hola']}]}]}"
   ]
  },
  {
   "cell_type": "code",
   "execution_count": 31,
   "metadata": {},
   "outputs": [
    {
     "data": {
      "text/plain": [
       "'hola'"
      ]
     },
     "execution_count": 31,
     "metadata": {},
     "output_type": "execute_result"
    }
   ],
   "source": [
    "d[\"k1\"][3][\"gracioso\"][3][\"destino\"][3]"
   ]
  },
  {
   "cell_type": "code",
   "execution_count": 36,
   "metadata": {},
   "outputs": [
    {
     "data": {
      "text/plain": [
       "{'k1': [1,\n",
       "  2,\n",
       "  3,\n",
       "  {'gracioso': ['oh', 'no', 'verdad', {'destino': [1, 2, 3, 'hola']}]}]}"
      ]
     },
     "execution_count": 36,
     "metadata": {},
     "output_type": "execute_result"
    }
   ],
   "source": [
    "d[\"k1\"][3][\"gracioso\"][2] = \"verdad\"\n",
    "d"
   ]
  },
  {
   "cell_type": "markdown",
   "metadata": {},
   "source": [
    "**¿Cúales son las principales diferencias entre una tupla, una lista y un set? (0.25 puntos). Pon un ejemplo de cada uno de ellos (0.25 puntos)**"
   ]
  },
  {
   "cell_type": "code",
   "execution_count": 40,
   "metadata": {},
   "outputs": [
    {
     "data": {
      "text/plain": [
       "tuple"
      ]
     },
     "execution_count": 40,
     "metadata": {},
     "output_type": "execute_result"
    }
   ],
   "source": [
    "\"\"\"\n",
    "Las listas son mutables y permiten diplicados\n",
    "Los sets son mutables, no permiten duplicados y no están ordenados\n",
    "Las tuplas son inmutables, no \n",
    "\n",
    "\"\"\"\n",
    "type({1, 2})\n",
    "type((1,2))\n",
    "type([1,2])\n",
    "\n",
    "\n",
    "\n",
    "print({1, 2} == {2, 1}) # set\n",
    "(2,1) == (1,2)  # tupla\n",
    "type((1,2))"
   ]
  },
  {
   "cell_type": "markdown",
   "metadata": {},
   "source": [
    "**Crear una función que obtenga el dominio de una dirección de correo electrónico, por ejemplo, pasando** *user@domain.com* **debería devolver**  *domain.com* **(0.5 puntos)**"
   ]
  },
  {
   "cell_type": "code",
   "execution_count": null,
   "metadata": {},
   "outputs": [],
   "source": []
  },
  {
   "cell_type": "markdown",
   "metadata": {},
   "source": [
    "**Escribir una función que devuelva** *True* **si la palabra** *'perro'* **se encuentra contenida dentro del string suministrado (Ten en cuenta también que puede estar en mayúsculas y/o minúsculas) (0.5 puntos)**"
   ]
  },
  {
   "cell_type": "code",
   "execution_count": null,
   "metadata": {},
   "outputs": [],
   "source": []
  },
  {
   "cell_type": "markdown",
   "metadata": {},
   "source": [
    "**Utilizar una expersión lambda y el método filter() para filtrar las palabras de una lista que no comienzen con la letra 's'. Por ejemplo:** *secuencia = ['sarten', 'silla', 'gato', 'genial', 'pastilla'],*  **debería filtrarse a:** *['sarten', 'silla']* **(1 puntos)**"
   ]
  },
  {
   "cell_type": "code",
   "execution_count": null,
   "metadata": {},
   "outputs": [],
   "source": [
    "    "
   ]
  },
  {
   "cell_type": "markdown",
   "metadata": {},
   "source": [
    "**Escribe un programa que pida al usuario introducir una palabra por teclado y que genere un diccionario con a cantidad de apariciones de cada caracter en la palabra. Por ejemplo, si recibe:** *Pamplona* **deberia devolver:** *'p': 2, 'a': 2, 'm': 1, 'l': 1, 'o': 1, 'n': 1* **(1 punto)**"
   ]
  },
  {
   "cell_type": "code",
   "execution_count": null,
   "metadata": {},
   "outputs": [],
   "source": []
  },
  {
   "cell_type": "markdown",
   "metadata": {},
   "source": [
    "**Crea un fichero de texto plano y guárdalo en un lugar accesible (0.25 puntos) por una función función que 1) extraiga el número de líneas que hay en el fichero (0.5 puntos). 2) Cuente el número de palabras que hay en el fichero (0.5 puntos). 3) Cuente el número de letras que hay en el fichero y 4) contabilize el número de veces que aparece la letra** *'a'.* **(0.25 puntos)**"
   ]
  },
  {
   "cell_type": "code",
   "execution_count": null,
   "metadata": {},
   "outputs": [],
   "source": []
  },
  {
   "cell_type": "markdown",
   "metadata": {},
   "source": [
    "**Elementos comunes (1 puntos)\n",
    "Genera un programa que a partir de dos listas, digamos, por ejemplo:**\n",
    "\n",
    ">  a = [1, 1, 2, 3, 5, 8, 13, 21, 34, 55, 89]  \n",
    ">  b = [1, 2, 3, 4, 5, 6, 7, 8, 9, 10, 11, 12, 13]\n",
    "  \n",
    "**devuelva una lista que contenga sólo los elementos que son comunes entre las listas (sin duplicados). Asegúrate de que el programa funcione en dos listas de diferentes tamaños.**"
   ]
  },
  {
   "cell_type": "code",
   "execution_count": null,
   "metadata": {},
   "outputs": [],
   "source": []
  },
  {
   "cell_type": "markdown",
   "metadata": {},
   "source": [
    "**Vas conduciendo y te pasas un poco de velocidad, un agente te detiene. Escribe una función que devuelva uno de los 3 posibles resultados que nos dará el agente: si la velocidad es 60km/h o menos, el resultado es:** *sin multa,* **si la velocidad se encuentra entre 61 y 80 ambos inclusive, el resultado es:** *multa pequeña,* **para velocidades superiores a 81 el resultado siempre es:** *multa grande.* \n",
    "**Si resulta que hoy es tu cumpleaños, el agente hace la vista gorda y permite un incremento de 5km/h en el limite normal (este valor se pasa como un boolean a la función) (1 punto)**"
   ]
  },
  {
   "cell_type": "code",
   "execution_count": null,
   "metadata": {},
   "outputs": [],
   "source": [
    "def multado(speed, is_birthday):\n",
    "    # completa la función\n",
    "    "
   ]
  },
  {
   "cell_type": "markdown",
   "metadata": {},
   "source": [
    "**Escribe un programa que acepta una frase como entrada y calcula el número de letras y dígitos contenidos en ésta. Por simpleza, no considerar espacios en blanco ni carácteres especiales. Por ejemplo, si recibimos:** *'Hola Mundo, 123!'* **La salida deberia ser:** *Letras: 9, Dígitos: 3* **. (1 punto)**"
   ]
  },
  {
   "cell_type": "code",
   "execution_count": null,
   "metadata": {},
   "outputs": [],
   "source": []
  },
  {
   "cell_type": "markdown",
   "metadata": {},
   "source": [
    "**Números divisibles por 7 pero no múltiplos de 5 (1 punto extra). Escribe un programa que encuentre todos los números entre 2000 y 3200 (ambos incluidos) que son divisibles por 7 pero no son múltiplos de 5.**"
   ]
  },
  {
   "cell_type": "code",
   "execution_count": null,
   "metadata": {},
   "outputs": [],
   "source": []
  }
 ],
 "metadata": {
  "celltoolbar": "Hide code",
  "kernelspec": {
   "display_name": "Python 3",
   "language": "python",
   "name": "python3"
  },
  "language_info": {
   "codemirror_mode": {
    "name": "ipython",
    "version": 3
   },
   "file_extension": ".py",
   "mimetype": "text/x-python",
   "name": "python",
   "nbconvert_exporter": "python",
   "pygments_lexer": "ipython3",
   "version": "3.8.3"
  }
 },
 "nbformat": 4,
 "nbformat_minor": 1
}
