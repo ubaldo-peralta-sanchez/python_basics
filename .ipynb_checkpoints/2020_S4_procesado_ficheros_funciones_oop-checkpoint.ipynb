{
 "cells": [
  {
   "cell_type": "markdown",
   "metadata": {},
   "source": [
    "# Python para el análisis de datos -  UNAV 2020-2021\n",
    "---\n",
    "\n",
    "# Notebook 4: Procesado de ficheros, funciones y OOP."
   ]
  },
  {
   "cell_type": "markdown",
   "metadata": {},
   "source": [
    "## Índice  <a name=\"indice\"></a>\n",
    "\n",
    "    \n",
    "- [Procesado de ficheros](#procesado_ficheros)\n",
    "    - [Lectura de ficheros](#lectura_ficheros)\n",
    "    - [Escritura en un fichero](#escritura_ficheros)\n",
    "    - [Procesando ficheros .csv](#procesando_csv)\n",
    "\n",
    "- [Funciones](#funciones)\n",
    "    - [Definición de función](#definicion_funcion)\n",
    "    - [Comprobar el tipo de los argumentos](#tipo_argumentos)\n",
    "    - [Funciones lambda](#funcion_lambda)\n",
    "- [Programación orientada a objetos](#oop)\n",
    "\n",
    "- [Ejercicios](#ejercicios)"
   ]
  },
  {
   "cell_type": "markdown",
   "metadata": {},
   "source": [
    "## Procesado de ficheros<a name=\"procesado_ficheros\"></a> \n",
    "[Volver al índice](#indice)"
   ]
  },
  {
   "cell_type": "markdown",
   "metadata": {},
   "source": [
    "En Python, para leer y escribir un fichero, lo primero es abrir/crear el fichero con la función *open()*. La función *open()* tiene tres parámetros principales:\n",
    "\n",
    "* file: nombre o ruta del archivo.\n",
    "* mode: modo en el que archivo se abre.\n",
    "* encoding: tipo de codificador para tratar caracteres especiales.\n",
    "\n",
    "Descripción detalla de la función *open()*: https://docs.python.org/3/library/functions.html#open"
   ]
  },
  {
   "cell_type": "markdown",
   "metadata": {},
   "source": [
    "### Lectura de ficheros<a name=\"lectura_ficheros\"></a> \n",
    "[Volver al índice](#indice)"
   ]
  },
  {
   "cell_type": "markdown",
   "metadata": {},
   "source": [
    "La función *open()* tiene varios modos de lectura fichero:\n",
    "    \n",
    "* \"r\": abrir el archivo para lectura.\n",
    "* \"rb\": abrir el archivo para lectura en modo binario.\n",
    "\n",
    "Podemos utilizar la sentencia _with_ para leer un fichero. _With_ es los que se conoce en Python como context manager. Nos permite definir un contexto para la escritura y lectura de un fichero, una vez salimos del contexto el fichero se cierra automaticamente. ***Es la manera segura de procesar archivos***."
   ]
  },
  {
   "cell_type": "markdown",
   "metadata": {},
   "source": [
    "Python nos proporciona diferentes maneras de leer un fichero. En primer lugar podemos leer un fichero completamente usando la función f.read():"
   ]
  },
  {
   "cell_type": "code",
   "execution_count": null,
   "metadata": {},
   "outputs": [],
   "source": [
    "import pandas as pd \n",
    "# Read data from file 'filename.csv' \n",
    "# (in the same directory that your python process is based)\n",
    "# Control delimiters, rows, column names with read_csv (see later) \n",
    "data = pd.read_csv('2020_S4_datos/python_zen.txt', sep=\" \", header=None) \n",
    "# Preview the first 5 lines of the loaded data \n",
    "data.head()"
   ]
  },
  {
   "cell_type": "code",
   "execution_count": 2,
   "metadata": {},
   "outputs": [
    {
     "name": "stdout",
     "output_type": "stream",
     "text": [
      "Beautiful is better than ugly.\n",
      "Explicit is better than implicit.\n",
      "Simple is better than complex.\n",
      "Complex is better than complicated.\n",
      "Flat is better than nested.\n",
      "Sparse is better than dense.\n",
      "Readability counts.\n",
      "Special cases aren't special enough to break the rules.\n",
      "Although practicality beats purity.\n",
      "Errors should never pass silently.\n",
      "Unless explicitly silenced.\n",
      "In the face of ambiguity, refuse the temptation to guess.\n",
      "There should be one-- and preferably only one --obvious way to do it.\n",
      "Although that way may not be obvious at first unless you're Dutch.\n",
      "Now is better than never.\n",
      "Although never is often better than *right* now.\n",
      "If the implementation is hard to explain, it's a bad idea.\n",
      "If the implementation is easy to explain, it may be a good idea.\n",
      "Namespaces are one honking great idea -- let's do more of those!\n"
     ]
    }
   ],
   "source": [
    "\n",
    "with open(file=\"2020_S4_datos/python_zen.txt\", mode=\"r\") as f:\n",
    "    print(f.read())"
   ]
  },
  {
   "cell_type": "markdown",
   "metadata": {},
   "source": [
    "Para leer los primeros 50 bytes del fichero usando la función *f.read(size)*:"
   ]
  },
  {
   "cell_type": "code",
   "execution_count": 3,
   "metadata": {},
   "outputs": [
    {
     "name": "stdout",
     "output_type": "stream",
     "text": [
      "Beautiful is better than ugly.\n",
      "Explicit is better \n",
      "\n"
     ]
    }
   ],
   "source": [
    "with open(file=\"2020_S4_datos/python_zen.txt\", mode=\"r\") as f:\n",
    "    print(f.read(50) + \"\\n\")"
   ]
  },
  {
   "cell_type": "markdown",
   "metadata": {},
   "source": [
    "O podemos optar por leer el archivo línea a línea:"
   ]
  },
  {
   "cell_type": "code",
   "execution_count": 6,
   "metadata": {},
   "outputs": [
    {
     "name": "stdout",
     "output_type": "stream",
     "text": [
      "Beautiful is better than ugly.\n",
      "\n",
      "Explicit is better than implicit.\n",
      "\n",
      "Simple is better than complex.\n",
      "\n",
      "Complex is better than complicated.\n",
      "\n",
      "Flat is better than nested.\n",
      "\n",
      "Sparse is better than dense.\n",
      "\n",
      "Readability counts.\n",
      "\n",
      "Special cases aren't special enough to break the rules.\n",
      "\n",
      "Although practicality beats purity.\n",
      "\n",
      "Errors should never pass silently.\n",
      "\n",
      "Unless explicitly silenced.\n",
      "\n",
      "In the face of ambiguity, refuse the temptation to guess.\n",
      "\n",
      "There should be one-- and preferably only one --obvious way to do it.\n",
      "\n",
      "Although that way may not be obvious at first unless you're Dutch.\n",
      "\n",
      "Now is better than never.\n",
      "\n",
      "Although never is often better than *right* now.\n",
      "\n",
      "If the implementation is hard to explain, it's a bad idea.\n",
      "\n",
      "If the implementation is easy to explain, it may be a good idea.\n",
      "\n",
      "Namespaces are one honking great idea -- let's do more of those!\n"
     ]
    }
   ],
   "source": [
    "'''mejor esta opción que la de abajo'''\n",
    "with open(file=\"2020_S4_datos/python_zen.txt\", mode=\"r\") as f:\n",
    "    for line in f:  # for line in f:\n",
    "        print(line)"
   ]
  },
  {
   "cell_type": "code",
   "execution_count": 5,
   "metadata": {},
   "outputs": [
    {
     "name": "stdout",
     "output_type": "stream",
     "text": [
      "Beautiful is better than ugly.\n",
      "\n",
      "Explicit is better than implicit.\n",
      "\n",
      "Simple is better than complex.\n",
      "\n",
      "Complex is better than complicated.\n",
      "\n",
      "Flat is better than nested.\n",
      "\n",
      "Sparse is better than dense.\n",
      "\n",
      "Readability counts.\n",
      "\n",
      "Special cases aren't special enough to break the rules.\n",
      "\n",
      "Although practicality beats purity.\n",
      "\n",
      "Errors should never pass silently.\n",
      "\n",
      "Unless explicitly silenced.\n",
      "\n",
      "In the face of ambiguity, refuse the temptation to guess.\n",
      "\n",
      "There should be one-- and preferably only one --obvious way to do it.\n",
      "\n",
      "Although that way may not be obvious at first unless you're Dutch.\n",
      "\n",
      "Now is better than never.\n",
      "\n",
      "Although never is often better than *right* now.\n",
      "\n",
      "If the implementation is hard to explain, it's a bad idea.\n",
      "\n",
      "If the implementation is easy to explain, it may be a good idea.\n",
      "\n",
      "Namespaces are one honking great idea -- let's do more of those!\n"
     ]
    }
   ],
   "source": [
    "with open(file=\"2020_S4_datos/python_zen.txt\", mode=\"r\") as f:\n",
    "    for line in f.readlines():  # for line in f:\n",
    "        print(line)"
   ]
  },
  {
   "cell_type": "markdown",
   "metadata": {},
   "source": [
    "### Escritura en un fichero<a name=\"escritura_ficheros\"></a> \n",
    "[Volver al índice](#indice)"
   ]
  },
  {
   "cell_type": "markdown",
   "metadata": {},
   "source": [
    "La función *open()* tiene varios modos de escritura de fichero:\n",
    "    \n",
    "* \"w\": abrir para escritura.\n",
    "* \"wb\": abrir para escritura en modo binario.\n",
    "* \"a\": abrir para escritura y añadir contenido al final si el archivo ya existe."
   ]
  },
  {
   "cell_type": "markdown",
   "metadata": {},
   "source": [
    "En Python podemos escribir un fichero, creándolo previamente, o sobreescribiendo el contenido del fichero, en caso que ya exista, usando la función *f.write()*:"
   ]
  },
  {
   "cell_type": "code",
   "execution_count": 10,
   "metadata": {},
   "outputs": [
    {
     "name": "stdout",
     "output_type": "stream",
     "text": [
      "Integer tristique scelerisque dapibus.\n",
      "\n"
     ]
    }
   ],
   "source": [
    "with open(file=\"nuevo_fichero.txt\", mode=\"w\") as f:\n",
    "    f.write(\"Integer tristique scelerisque dapibus.\\n\")\n",
    "    \n",
    "with open(file=\"nuevo_fichero.txt\", mode=\"r\") as f:\n",
    "    print(f.read())"
   ]
  },
  {
   "cell_type": "markdown",
   "metadata": {},
   "source": [
    "Con el modo \"a\" podemos añadir nuevas líneas al final del archivo que acabamos de crear:"
   ]
  },
  {
   "cell_type": "code",
   "execution_count": 8,
   "metadata": {},
   "outputs": [
    {
     "name": "stdout",
     "output_type": "stream",
     "text": [
      "Integer tristique scelerisque dapibus.\n",
      "Etiam molestie augue magna, vel tempor nisl faucibus ut.\n",
      "\n"
     ]
    }
   ],
   "source": [
    "with open(file=\"nuevo_fichero.txt\", mode=\"a\") as f:\n",
    "    f.write(\"Etiam molestie augue magna, vel tempor nisl faucibus ut.\\n\")\n",
    "    \n",
    "with open(file=\"nuevo_fichero.txt\", mode=\"r\") as f:\n",
    "    print(f.read())"
   ]
  },
  {
   "cell_type": "markdown",
   "metadata": {},
   "source": [
    "En los siguientes ejemplos vemos como escribir en un fichero un rango de valores línea a línea. Vamos a utilizar las funciones *f.write()* y *f.writelines()*:\n",
    "\n",
    "* *f.write()*: escribe una cadena de caracteres al archivo.\n",
    "* *f.writelines()*: escribe una secuencia de cadenas de caracteres al archivo. Un iterable: list, set o generador. Esta función no añade separación entre cadenas, habría que añadir, por ejemplo, \"\\n\".\n",
    "\n",
    "Nota: estas funciones sólo admiten cadenas de caracteres, de forma que los valores numéricos deben convertirse previamente a string."
   ]
  },
  {
   "cell_type": "code",
   "execution_count": 14,
   "metadata": {},
   "outputs": [],
   "source": [
    "with open(file=\"fichero_range.txt\", mode=\"w\") as f:\n",
    "    for i in range(20):\n",
    "        f.write(str(i) + \"\\n\")"
   ]
  },
  {
   "cell_type": "code",
   "execution_count": 12,
   "metadata": {},
   "outputs": [],
   "source": [
    "with open(file=\"fichero_range.txt\", mode=\"w\") as f:\n",
    "    f.writelines(str(i) + \"\\n\" for i in range(20))"
   ]
  },
  {
   "cell_type": "code",
   "execution_count": 15,
   "metadata": {},
   "outputs": [
    {
     "name": "stdout",
     "output_type": "stream",
     "text": [
      "0\n",
      "1\n",
      "2\n",
      "3\n",
      "4\n",
      "5\n",
      "6\n",
      "7\n",
      "8\n",
      "9\n",
      "10\n",
      "11\n",
      "12\n",
      "13\n",
      "14\n",
      "15\n",
      "16\n",
      "17\n",
      "18\n",
      "19\n",
      "\n"
     ]
    }
   ],
   "source": [
    "with open(file=\"fichero_range.txt\", mode=\"r\") as f:\n",
    "    print(f.read())"
   ]
  },
  {
   "cell_type": "markdown",
   "metadata": {},
   "source": [
    "### Procesando ficheros .csv<a name=\"procesando_csv\"></a> \n",
    "[Volver al índice](#indice)"
   ]
  },
  {
   "cell_type": "markdown",
   "metadata": {},
   "source": [
    "Uno de los formatos más comunes (y menos eficientes) para el almacenamiento de datos con formato CSV (comma-separated values).  Para procesar este tipo de ficheros existe el modulo **csv** que nos permite leer el fichero de forma sencilla. Veamos como lo podemos hacer:\n",
    "\n",
    "- Primero hay que importar el modulo usando _import csv_.\n",
    "- Después se procede con la lectura línea a línea a través del módulo, usando la función _reader_ del módulo.\n",
    "- Las líneas son leídas y los campos procesados son almancenados en una lista que posteriormente podemos tratar.\n",
    "\n",
    "Veamos un ejemplo con un dataset de los códigos postales de la ciudad de Los Angeles."
   ]
  },
  {
   "cell_type": "code",
   "execution_count": 16,
   "metadata": {},
   "outputs": [
    {
     "name": "stdout",
     "output_type": "stream",
     "text": [
      "['Zip Code', 'Total Population', 'Median Age', 'Total Males', 'Total Females', 'Total Households', 'Average Household Size']\n",
      "['91371', '1', '73.5', '0', '1', '1', '1']\n",
      "['90001', '57110', '26.6', '28468', '28642', '12971', '4.4']\n",
      "['90002', '51223', '25.5', '24876', '26347', '11731', '4.36']\n",
      "['90003', '66266', '26.3', '32631', '33635', '15642', '4.22']\n",
      "['90004', '62180', '34.8', '31302', '30878', '22547', '2.73']\n"
     ]
    }
   ],
   "source": [
    "import csv\n",
    "\n",
    "file_csv = \"2020_S4_datos/2010_Census_Populations_by_Zip_Code.csv\"\n",
    "n_rows = 5\n",
    "\n",
    "with open(file=file_csv, mode=\"r\") as f:\n",
    "    reader = csv.reader(f)\n",
    "    \n",
    "    for i, row in enumerate(reader):\n",
    "        print(row)\n",
    "        \n",
    "        if i == n_rows:\n",
    "            break"
   ]
  },
  {
   "cell_type": "markdown",
   "metadata": {},
   "source": [
    "Podemos leer el fichero entero y almacenarlo en una lista anidada."
   ]
  },
  {
   "cell_type": "code",
   "execution_count": 17,
   "metadata": {},
   "outputs": [
    {
     "name": "stdout",
     "output_type": "stream",
     "text": [
      "Los Angeles tiene 319 códigos postales.\n"
     ]
    }
   ],
   "source": [
    "file_csv = \"2020_S4_datos/2010_Census_Populations_by_Zip_Code.csv\"\n",
    "\n",
    "content = []\n",
    "\n",
    "with open(file=file_csv, mode=\"r\") as f:\n",
    "    reader = csv.reader(f)\n",
    "    \n",
    "    for row in reader:\n",
    "        content.append(row)\n",
    "\n",
    "# Para contar correctamente quitamos un registro correspondiente a la cabecera \n",
    "print(\"Los Angeles tiene {:d} códigos postales.\".format(len(content) - 1))"
   ]
  },
  {
   "cell_type": "markdown",
   "metadata": {},
   "source": [
    "La lista *content* contiene cada una de las listas del csv. La primera fila corresponde a la cabecera del csv (en caso que contenga el nombre de cada columna)."
   ]
  },
  {
   "cell_type": "code",
   "execution_count": 18,
   "metadata": {},
   "outputs": [
    {
     "data": {
      "text/plain": [
       "['Zip Code',\n",
       " 'Total Population',\n",
       " 'Median Age',\n",
       " 'Total Males',\n",
       " 'Total Females',\n",
       " 'Total Households',\n",
       " 'Average Household Size']"
      ]
     },
     "execution_count": 18,
     "metadata": {},
     "output_type": "execute_result"
    }
   ],
   "source": [
    "header = content[0]\n",
    "header"
   ]
  },
  {
   "cell_type": "code",
   "execution_count": 19,
   "metadata": {},
   "outputs": [
    {
     "data": {
      "text/plain": [
       "['91371', '1', '73.5', '0', '1', '1', '1']"
      ]
     },
     "execution_count": 19,
     "metadata": {},
     "output_type": "execute_result"
    }
   ],
   "source": [
    "content[1]"
   ]
  },
  {
   "cell_type": "markdown",
   "metadata": {},
   "source": [
    "Para calcular la media de población por código postal, podemos extraer el contenido de la columna correspondiente a *Total Population*. Éste es un método para hacerlo:"
   ]
  },
  {
   "cell_type": "code",
   "execution_count": 20,
   "metadata": {},
   "outputs": [
    {
     "name": "stdout",
     "output_type": "stream",
     "text": [
      "La media de personas por código postal es 33241.34.\n"
     ]
    }
   ],
   "source": [
    "idx_col = header.index(\"Total Population\")\n",
    "\n",
    "n = len(content)\n",
    "l_total_population = [int(content[row][idx_col]) for row in range(1, n)]\n",
    "    \n",
    "avg_population = sum(l_total_population) / len(l_total_population)\n",
    "\n",
    "print(f\"La media de personas por código postal es {avg_population:.2f}.\")"
   ]
  },
  {
   "cell_type": "markdown",
   "metadata": {},
   "source": [
    "En la sesión anterior introdujimos NumPy. NumPy contiene algunas funcionalidades para procesar ficheros, como la función *np.genfromtxt()*: https://numpy.org/doc/stable/reference/generated/numpy.genfromtxt.html"
   ]
  },
  {
   "cell_type": "code",
   "execution_count": 22,
   "metadata": {},
   "outputs": [],
   "source": [
    "import numpy as np"
   ]
  },
  {
   "cell_type": "markdown",
   "metadata": {},
   "source": [
    "Vamos a calcular la media para todas las columnas. Durante la lectura evitamos la primera fila que continene las cabeceras."
   ]
  },
  {
   "cell_type": "code",
   "execution_count": 26,
   "metadata": {},
   "outputs": [
    {
     "name": "stdout",
     "output_type": "stream",
     "text": [
      "[[9.1371e+04 1.0000e+00 7.3500e+01 ... 1.0000e+00 1.0000e+00 1.0000e+00]\n",
      " [9.0001e+04 5.7110e+04 2.6600e+01 ... 2.8642e+04 1.2971e+04 4.4000e+00]\n",
      " [9.0002e+04 5.1223e+04 2.5500e+01 ... 2.6347e+04 1.1731e+04 4.3600e+00]\n",
      " ...\n",
      " [9.3560e+04 1.8910e+04 3.2400e+01 ... 9.4190e+03 6.4690e+03 2.9200e+00]\n",
      " [9.3563e+04 3.8800e+02 4.4500e+01 ... 1.2500e+02 1.0300e+02 2.5300e+00]\n",
      " [9.3591e+04 7.2850e+03 3.0900e+01 ... 3.6320e+03 1.9820e+03 3.6700e+00]]\n"
     ]
    }
   ],
   "source": [
    "content = np.genfromtxt(fname=file_csv, delimiter=\",\", skip_header=1)\n",
    "print(content)"
   ]
  },
  {
   "cell_type": "markdown",
   "metadata": {},
   "source": [
    "La función devuelve un array 2-D de tipo **float**:"
   ]
  },
  {
   "cell_type": "code",
   "execution_count": 24,
   "metadata": {},
   "outputs": [
    {
     "data": {
      "text/plain": [
       "(numpy.ndarray, dtype('float64'), (319, 7))"
      ]
     },
     "execution_count": 24,
     "metadata": {},
     "output_type": "execute_result"
    }
   ],
   "source": [
    "type(content), content.dtype, content.shape"
   ]
  },
  {
   "cell_type": "code",
   "execution_count": 30,
   "metadata": {},
   "outputs": [
    {
     "ename": "NameError",
     "evalue": "name 'resource' is not defined",
     "output_type": "error",
     "traceback": [
      "\u001b[1;31m---------------------------------------------------------------------------\u001b[0m",
      "\u001b[1;31mNameError\u001b[0m                                 Traceback (most recent call last)",
      "\u001b[1;32m<ipython-input-30-e10de4fbc73c>\u001b[0m in \u001b[0;36m<module>\u001b[1;34m\u001b[0m\n\u001b[0;32m      1\u001b[0m \u001b[0mdict\u001b[0m\u001b[1;33m(\u001b[0m\u001b[0mzip\u001b[0m\u001b[1;33m(\u001b[0m\u001b[0mheader\u001b[0m\u001b[1;33m,\u001b[0m \u001b[0mcontent\u001b[0m\u001b[1;33m.\u001b[0m\u001b[0msum\u001b[0m\u001b[1;33m(\u001b[0m\u001b[0maxis\u001b[0m\u001b[1;33m=\u001b[0m\u001b[1;36m0\u001b[0m\u001b[1;33m)\u001b[0m \u001b[1;33m/\u001b[0m \u001b[0mlen\u001b[0m\u001b[1;33m(\u001b[0m\u001b[0mcontent\u001b[0m\u001b[1;33m)\u001b[0m\u001b[1;33m)\u001b[0m\u001b[1;33m)\u001b[0m\u001b[1;33m\u001b[0m\u001b[1;33m\u001b[0m\u001b[0m\n\u001b[1;32m----> 2\u001b[1;33m \u001b[0mresource\u001b[0m\u001b[1;33m.\u001b[0m\u001b[0mgetrusage\u001b[0m\u001b[1;33m(\u001b[0m\u001b[0mresource\u001b[0m\u001b[1;33m.\u001b[0m\u001b[0mRUSAGE_SELF\u001b[0m\u001b[1;33m)\u001b[0m\u001b[1;33m.\u001b[0m\u001b[0mru_maxrss\u001b[0m\u001b[1;33m\u001b[0m\u001b[1;33m\u001b[0m\u001b[0m\n\u001b[0m",
      "\u001b[1;31mNameError\u001b[0m: name 'resource' is not defined"
     ]
    }
   ],
   "source": [
    "dict(zip(header, content.sum(axis=0) / len(content)))\n",
    "resource.getrusage(resource.RUSAGE_SELF).ru_maxrss"
   ]
  },
  {
   "cell_type": "markdown",
   "metadata": {},
   "source": [
    "Aunque *np.genfromtxt* representa una mejora considerable respecto al módulo **csv**, en la siguientes sesiones veremos otras librerías más apropiadas para procesar archivos."
   ]
  },
  {
   "cell_type": "markdown",
   "metadata": {},
   "source": [
    "## Funciones<a name=\"funciones\"></a> \n",
    "[Volver al índice](#indice)"
   ]
  },
  {
   "cell_type": "markdown",
   "metadata": {},
   "source": [
    "Uno de los principios básicos de cualquier lenguaje de programación es \"Don't Repeat Yourself\", esto se conoce como código DRY. Si tenemos una acción que debería ocurrir muchas veces, podemos definir esa acción una vez (implementarla) y luego llamar a ese código cada vez que necesite llevar a cabo dicha acción.\n",
    "\n",
    "La forma de no repetirnos constantemente (aparte del copiar + pegar), es a través de funciones. Las funciones significan menos trabajo para nosotros como programadores, y el uso efectivo de las funciones da como resultado un código que es menos propenso a errores."
   ]
  },
  {
   "cell_type": "markdown",
   "metadata": {},
   "source": [
    "### Definición de función<a name=\"definicion_funcion\"></a> \n",
    "[Volver al índice](#indice)"
   ]
  },
  {
   "cell_type": "markdown",
   "metadata": {},
   "source": [
    "En programación una función se puede definir como un código que encapsula un conjunto de acciones. Concretamente en Python, una función sigue la siguiente estructura:"
   ]
  },
  {
   "cell_type": "markdown",
   "metadata": {},
   "source": [
    "<pre>\n",
    "def nombre_funcion(parametro_1, parametro_2):\n",
    "    sentencia(s)\n",
    "\n",
    "nombre_funcion(argumento_1, argumento_2)\n",
    "</pre>\n",
    "\n",
    "* Utiliza la palabra reservada `def`, que le indica a Python que vamos a \"definir\" una función.\n",
    "* La definición de la función termina con \":\". Es importante indentar correctamente.\n",
    "* Emplea nombre consicos y claros para funciones. Deben indicar que acciones se realizan.\n",
    "* La función puede incluir *parámetros* de entrada en su definición, estos van entre paréntesis. Los valores que se pasan a una función al llamarla son los *argumentos*."
   ]
  },
  {
   "cell_type": "markdown",
   "metadata": {},
   "source": [
    "Veamos un primer ejemplo sencillo. Es importante recordar que una función debe ser definida antes de utilizarse."
   ]
  },
  {
   "cell_type": "code",
   "execution_count": null,
   "metadata": {},
   "outputs": [],
   "source": [
    "def saludo(nombre):\n",
    "    print(f\"¡Hola {nombre}!\")\n",
    "    \n",
    "saludo(\"Pedro\")\n",
    "saludo(\"Clara\")"
   ]
  },
  {
   "cell_type": "markdown",
   "metadata": {},
   "source": [
    "Si no empleamos una función y tenemos una lista de nombre muy larga el proceso es claramente repetitivo. Para éste y muchos otros casos más complejos una función es la mejor opción."
   ]
  },
  {
   "cell_type": "markdown",
   "metadata": {},
   "source": [
    "#### Argumentos posicionales"
   ]
  },
  {
   "cell_type": "markdown",
   "metadata": {},
   "source": [
    "La manera más sencilla a pasar argumentos a una función es con argumentos posicionales. Para ello pasamos un argumento para cada parámetro definido en la función."
   ]
  },
  {
   "cell_type": "code",
   "execution_count": 48,
   "metadata": {},
   "outputs": [],
   "source": [
    "def fmt_fullname(name, surname):\n",
    "    print(f\"{name.title()} {surname.title()}\")"
   ]
  },
  {
   "cell_type": "code",
   "execution_count": 49,
   "metadata": {},
   "outputs": [
    {
     "name": "stdout",
     "output_type": "stream",
     "text": [
      "Julio Verne\n"
     ]
    },
    {
     "ename": "TypeError",
     "evalue": "fmt_fullname() missing 1 required positional argument: 'surname'",
     "output_type": "error",
     "traceback": [
      "\u001b[1;31m---------------------------------------------------------------------------\u001b[0m",
      "\u001b[1;31mTypeError\u001b[0m                                 Traceback (most recent call last)",
      "\u001b[1;32m<ipython-input-49-4b225784540f>\u001b[0m in \u001b[0;36m<module>\u001b[1;34m\u001b[0m\n\u001b[0;32m      1\u001b[0m \u001b[0mfmt_fullname\u001b[0m\u001b[1;33m(\u001b[0m\u001b[1;34m\"julio\"\u001b[0m\u001b[1;33m,\u001b[0m \u001b[1;34m\"verne\"\u001b[0m\u001b[1;33m)\u001b[0m\u001b[1;33m\u001b[0m\u001b[1;33m\u001b[0m\u001b[0m\n\u001b[1;32m----> 2\u001b[1;33m \u001b[0mfmt_fullname\u001b[0m\u001b[1;33m(\u001b[0m\u001b[1;34m\"julio\"\u001b[0m\u001b[1;33m)\u001b[0m\u001b[1;33m\u001b[0m\u001b[1;33m\u001b[0m\u001b[0m\n\u001b[0m",
      "\u001b[1;31mTypeError\u001b[0m: fmt_fullname() missing 1 required positional argument: 'surname'"
     ]
    }
   ],
   "source": [
    "fmt_fullname(\"julio\", \"verne\")\n",
    "fmt_fullname(\"julio\")"
   ]
  },
  {
   "cell_type": "markdown",
   "metadata": {},
   "source": [
    "#### Parámetros por defecto"
   ]
  },
  {
   "cell_type": "markdown",
   "metadata": {},
   "source": [
    "Si no pasamos dos argumentos a la función, ésta nos devuelve un error de argumento posicional:"
   ]
  },
  {
   "cell_type": "code",
   "execution_count": null,
   "metadata": {},
   "outputs": [],
   "source": [
    "fmt_fullname(\"julio\")"
   ]
  },
  {
   "cell_type": "code",
   "execution_count": null,
   "metadata": {},
   "outputs": [],
   "source": [
    "fmt_fullname()"
   ]
  },
  {
   "cell_type": "markdown",
   "metadata": {},
   "source": [
    "Podemos modificar la definición de la función para asignar a los parámetros de la misma, un valor por defecto. Esto evitará errores cuando no pasamos todos los argumentos posicionales."
   ]
  },
  {
   "cell_type": "code",
   "execution_count": 34,
   "metadata": {},
   "outputs": [],
   "source": [
    "def fmt_fullname(name=\"unknown\", surname=\"unknown\"):\n",
    "    print(f\"{name.title()} {surname.title()}\")"
   ]
  },
  {
   "cell_type": "code",
   "execution_count": 35,
   "metadata": {},
   "outputs": [
    {
     "name": "stdout",
     "output_type": "stream",
     "text": [
      "Julio Verne\n",
      "Julio Unknown\n",
      "Unknown Unknown\n"
     ]
    }
   ],
   "source": [
    "fmt_fullname(\"julio\", \"verne\")\n",
    "fmt_fullname(\"julio\")\n",
    "fmt_fullname()"
   ]
  },
  {
   "cell_type": "markdown",
   "metadata": {},
   "source": [
    "#### Argumentos de palabra clave"
   ]
  },
  {
   "cell_type": "markdown",
   "metadata": {},
   "source": [
    "Modificamos la función anterior para agregar la fecha de fallecimiento:"
   ]
  },
  {
   "cell_type": "code",
   "execution_count": null,
   "metadata": {},
   "outputs": [],
   "source": [
    "def fmt_fullname_age(name, surname, age):\n",
    "    print(f\"{name.title()} {surname.title()} died at {age}.\")"
   ]
  },
  {
   "cell_type": "code",
   "execution_count": null,
   "metadata": {},
   "outputs": [],
   "source": [
    "fmt_fullname_age(\"julio\", \"verne\", 77)\n",
    "fmt_fullname_age(77, \"julio\", \"verne\")"
   ]
  },
  {
   "cell_type": "markdown",
   "metadata": {},
   "source": [
    "Vemos que si pasamos los argumentos en el orden adecuado aparece un error. Este error es debido a que se esperaba un argumento de tipo **str** pero recibe uno de tipo **int**. Para evitar este tipo de errores podemos pasar los argumentos usando la forma clave=valor."
   ]
  },
  {
   "cell_type": "code",
   "execution_count": null,
   "metadata": {},
   "outputs": [],
   "source": [
    "fmt_fullname_age(age=77, name=\"julio\", surname=\"verne\")"
   ]
  },
  {
   "cell_type": "markdown",
   "metadata": {},
   "source": [
    "#### Sentencia **return**"
   ]
  },
  {
   "cell_type": "markdown",
   "metadata": {},
   "source": [
    "La sentencia **return** termina la función devolviendo un valor. Es opcional que una función devuelva un valor."
   ]
  },
  {
   "cell_type": "markdown",
   "metadata": {},
   "source": [
    "En este ejemplo la función *count_char_int* devuelve el número de caracteres que contiene un número."
   ]
  },
  {
   "cell_type": "code",
   "execution_count": 50,
   "metadata": {},
   "outputs": [
    {
     "name": "stdout",
     "output_type": "stream",
     "text": [
      "4 1223\n",
      "3 553\n",
      "4 4895\n",
      "4 1619\n",
      "4 5736\n",
      "4 8505\n",
      "4 6598\n",
      "3 234\n",
      "4 2772\n",
      "4 1990\n"
     ]
    }
   ],
   "source": [
    "import random\n",
    "\n",
    "\n",
    "def count_char_int(number):\n",
    "    if isinstance(number, int):\n",
    "        return len(str(number))\n",
    "\n",
    "\n",
    "max_int = int(1e4)\n",
    "for number in (random.randint(0, max_int) for _ in range(10)):\n",
    "    print(count_char_int(number), number)"
   ]
  },
  {
   "cell_type": "markdown",
   "metadata": {},
   "source": [
    "#### Lista de argumentos de longitud variable"
   ]
  },
  {
   "cell_type": "markdown",
   "metadata": {},
   "source": [
    "En ocasiones no conocemos cuantos parámetros son necesarios en la definición de una función. Por ejemplo, si queremos realizar la suma de varios números enteros. Si sólo consideramos dos enteros la definición sería así:"
   ]
  },
  {
   "cell_type": "code",
   "execution_count": null,
   "metadata": {},
   "outputs": [],
   "source": [
    "def add_int(a, b):\n",
    "    return a + b\n",
    "\n",
    "add_int(12, 43)"
   ]
  },
  {
   "cell_type": "markdown",
   "metadata": {},
   "source": [
    "En los casos anteriores, el número de parámetros y argumentos posicionales debe coincidir. Al pasar tres argumentos se produce un error:"
   ]
  },
  {
   "cell_type": "code",
   "execution_count": null,
   "metadata": {},
   "outputs": [],
   "source": [
    "add_int(23, 11, 67)"
   ]
  },
  {
   "cell_type": "markdown",
   "metadata": {},
   "source": [
    "Python nos proporciona una sintaxis para permitir que una función acepte una cantidad arbitraria de argumentos. Si colocamos un argumento al final de la lista de argumentos, con un asterisco delante de él, ese argumento recogerá los valores restantes de la declaración de llamada en una tupla.\n",
    "\n",
    "* **args* permite cualquier iterable desempaquetado: list, set o generador.\n",
    "* Toda secuencia de argumentos es empaquetada en una tupla.\n",
    "* Se puede iterar sobre la tupla con un *for*-loop."
   ]
  },
  {
   "cell_type": "code",
   "execution_count": 52,
   "metadata": {},
   "outputs": [
    {
     "name": "stdout",
     "output_type": "stream",
     "text": [
      "<map object at 0x000001FAA654E9D0>\n",
      "La suma de 12 + 43 es 55.\n",
      "55\n",
      "<map object at 0x000001FAA654EC70>\n",
      "La suma de 23 + 11 + 67 es 101.\n",
      "101\n",
      "<map object at 0x000001FAA654E1F0>\n",
      "La suma de 12 + 43 + 156 + 89 + 161 es 461.\n",
      "461\n"
     ]
    }
   ],
   "source": [
    "def add_ints(*args):\n",
    "    s = 0\n",
    "    for i in args:\n",
    "        s += i\n",
    "    \n",
    "    expression = \" + \".join(map(str, args))\n",
    "    print(f\"La suma de {expression} es {s}.\")\n",
    "    \n",
    "    return s\n",
    "\n",
    "\n",
    "print(add_ints(12, 43))\n",
    "print(add_ints(23, 11, 67))\n",
    "print(add_ints(12, 43, 156, 89, 161))"
   ]
  },
  {
   "cell_type": "code",
   "execution_count": 56,
   "metadata": {},
   "outputs": [
    {
     "name": "stdout",
     "output_type": "stream",
     "text": [
      "25\n",
      "<map object at 0x000001FAA6997A00>\n",
      "La suma de 3 + 4 + 5 + 6 + 7 es 25.\n"
     ]
    },
    {
     "data": {
      "text/plain": [
       "25"
      ]
     },
     "execution_count": 56,
     "metadata": {},
     "output_type": "execute_result"
    }
   ],
   "source": [
    "ints = [3, 4, 5, 6, 7]\n",
    "\n",
    "add_ints(*ints)  # para desempaquetar una lista *lista\n",
    "#para desempaquetar un diccionario **dict"
   ]
  },
  {
   "cell_type": "markdown",
   "metadata": {},
   "source": [
    "#### Lista de argumentos palabra clave de longitud variable"
   ]
  },
  {
   "cell_type": "markdown",
   "metadata": {},
   "source": [
    "Python también proporciona una sintaxis para aceptar un número arbitrario de argumentos de tipo palabra clave. En la siguiente función, el tercer argumento tiene dos asteriscos delante, que le indica a Python que recopile todos los argumentos clave-valor restantes en la llamada. Este argumento se denomina comúnmente `kwargs` como en el caso anterior era `args`, esto es por convención pero siempre podremos llamarlo como queramos, como veremos en un momento:\n",
    "\n",
    "En la siguiente función queremos pasar información básica sobre un usuario. También vamos a dejar la opción de pasar información adicional. La información del usuario se imprimirá:"
   ]
  },
  {
   "cell_type": "code",
   "execution_count": 57,
   "metadata": {},
   "outputs": [
    {
     "name": "stdout",
     "output_type": "stream",
     "text": [
      "Name: John\n",
      "Surname: Smith\n",
      "Address: St. John street\n",
      "Postcode: GU16 7HF\n"
     ]
    }
   ],
   "source": [
    "def user_info(name, surname, **kwargs):\n",
    "    \"\"\"Print user basic user information. Optionally include additional\n",
    "    information provided as **kwargs.\n",
    "    \n",
    "    Parameters\n",
    "    ----------\n",
    "    name: str\n",
    "        User name.\n",
    "\n",
    "    surname : str\n",
    "        User surname.\n",
    "\n",
    "    kwargs: keyword arguments\n",
    "        Additional user information.\n",
    "    \"\"\"\n",
    "    \n",
    "    print(f\"Name: {name.title()}\")\n",
    "    print(f\"Surname: {surname.title()}\")\n",
    "    \n",
    "    for key, val in kwargs.items():\n",
    "        print(f\"{key.title()}: {val}\")\n",
    "    \n",
    "\n",
    "user_info('john', 'smith', address=\"St. John street\", postcode=\"GU16 7HF\")"
   ]
  },
  {
   "cell_type": "markdown",
   "metadata": {},
   "source": [
    "En la función anterior hemos creado una descripción (*docstring*). La función *help()* nos devuelve esta información."
   ]
  },
  {
   "cell_type": "code",
   "execution_count": 58,
   "metadata": {},
   "outputs": [
    {
     "name": "stdout",
     "output_type": "stream",
     "text": [
      "Help on function user_info in module __main__:\n",
      "\n",
      "user_info(name, surname, **kwargs)\n",
      "    Print user basic user information. Optionally include additional\n",
      "    information provided as **kwargs.\n",
      "    \n",
      "    Parameters\n",
      "    ----------\n",
      "    name: str\n",
      "        User name.\n",
      "    \n",
      "    surname : str\n",
      "        User surname.\n",
      "    \n",
      "    kwargs: keyword arguments\n",
      "        Additional user information.\n",
      "\n"
     ]
    }
   ],
   "source": [
    "help(user_info)"
   ]
  },
  {
   "cell_type": "markdown",
   "metadata": {},
   "source": [
    "Para este caso, podemos combinar la información básica y opcional (si existe):"
   ]
  },
  {
   "cell_type": "code",
   "execution_count": null,
   "metadata": {},
   "outputs": [],
   "source": [
    "def user_info2(name, surname, **kwargs):\n",
    "    new_kwargs = {**{\"name\": name.title(), \"surname\": surname.title()}, **kwargs}\n",
    "    \n",
    "    for key, val in new_kwargs.items():\n",
    "        print(f\"{key.title():<10}: {val}\")\n",
    "\n",
    "user_info2('john', 'smith', address=\"St. John street\", postcode=\"GU16 7HF\")        "
   ]
  },
  {
   "cell_type": "markdown",
   "metadata": {},
   "source": [
    "También podemos crear un diccionario de argumento-valor y desempaquetarlo al llamar a la función. Para desempaquetar un diccionario usamos dos asteriscos."
   ]
  },
  {
   "cell_type": "code",
   "execution_count": null,
   "metadata": {},
   "outputs": [],
   "source": [
    "d = {\"address\": \"St. John street\", \"postcode\": \"GU16 7HF\"}\n",
    "user_info2('john', 'smith', **d)"
   ]
  },
  {
   "cell_type": "markdown",
   "metadata": {},
   "source": [
    "Por último, la definición de una función permite combinar varias formas de suministrar argumentos. En este caso, tenemos dos parámetros posicionales, args y kwargs. Esta definición proporciona una gran flexibilidad y es más elegante."
   ]
  },
  {
   "cell_type": "code",
   "execution_count": 59,
   "metadata": {},
   "outputs": [
    {
     "name": "stdout",
     "output_type": "stream",
     "text": [
      "Name      : John\n",
      "Surname   : Smith\n",
      "Job_0     : Software Engineer\n",
      "Job_1     : Intern\n",
      "Address   : St. John street\n",
      "Postcode  : GU16 7HF\n"
     ]
    }
   ],
   "source": [
    "def user_info3(name, surname, *jobs, **other_info):\n",
    "    d_basic = {\"name\": name.title(), \"surname\": surname.title()}\n",
    "    d_jobs = {\"job_{}\".format(i): job for i, job in enumerate(jobs)}\n",
    "    \n",
    "    d_info = {**d_basic, **d_jobs, **other_info}\n",
    "    \n",
    "    for key, val in d_info.items():\n",
    "        print(f\"{key.title():<10}: {val}\")\n",
    "        \n",
    "jobs = (\"Software Engineer\", \"Intern\")\n",
    "user_info3('john', 'smith', \"Software Engineer\", \"Intern\", address=\"St. John street\", postcode=\"GU16 7HF\")        "
   ]
  },
  {
   "cell_type": "code",
   "execution_count": null,
   "metadata": {},
   "outputs": [],
   "source": [
    "jobs = (\"Software Engineer\", \"Intern\")\n",
    "other_info = {\"address\":\"St. John street\", \"postcode\": \"GU16 7HF\"}\n",
    "\n",
    "user_info3('john', 'smith', *jobs, **other_info)"
   ]
  },
  {
   "cell_type": "markdown",
   "metadata": {},
   "source": [
    "### Comprobar el tipo de los argumentos<a name=\"tipo_argumentos\"></a> \n",
    "[Volver al índice](#indice)"
   ]
  },
  {
   "cell_type": "markdown",
   "metadata": {},
   "source": [
    "Cuando pasamos argumentos a una función es importante comprobar si el tipo es correcto. Para ello podemos utilizar la función *isisntance()*. En caso que no sea del tipo deseado, la función devuelve una excepción. **Es buena práctica realizar este tipo de comprobaciones antes utilizar operaciones con los argumentos**."
   ]
  },
  {
   "cell_type": "code",
   "execution_count": null,
   "metadata": {},
   "outputs": [],
   "source": [
    "def user_info(name, surname, **kwargs):\n",
    "    \"\"\"Print user basic user information. Optionally include additional\n",
    "    information provided as **kwargs.\n",
    "    \n",
    "    Parameters\n",
    "    ----------\n",
    "    name: str\n",
    "        User name.\n",
    "\n",
    "    surname : str\n",
    "        User surname.\n",
    "\n",
    "    kwargs: keyword arguments\n",
    "        Additional user information.\n",
    "        \n",
    "    Raises\n",
    "    ------\n",
    "    TypeError\n",
    "        If name or surname are not a string.\n",
    "    \"\"\"\n",
    "    \n",
    "    if not isinstance(name, str):\n",
    "        raise TypeError(f\"name must be a string; got type {type(name)}\")\n",
    "        \n",
    "    if not isinstance(surname, str):\n",
    "        raise TypeError(f\"surname must be a string; got type {type(surname)}\")        \n",
    "    \n",
    "    print(f\"Name: {name.title()}\")\n",
    "    print(f\"Surname: {surname.title()}\")\n",
    "    \n",
    "    for key, val in kwargs.items():\n",
    "        print(f\"{key.title()}: {val}\")\n",
    "    \n",
    "\n",
    "user_info('john', 'smith', address=\"St. John street\", postcode=\"GU16 7HF\")"
   ]
  },
  {
   "cell_type": "markdown",
   "metadata": {},
   "source": [
    "Python 3.0+ da soporte a anotaciones. Las anotaciones son útiles para definir el tipo que acepta cada parámetro, y generar mejor documentación. Para saber más: https://www.python.org/dev/peps/pep-3107/"
   ]
  },
  {
   "cell_type": "code",
   "execution_count": 61,
   "metadata": {},
   "outputs": [
    {
     "name": "stdout",
     "output_type": "stream",
     "text": [
      "Name: John\n",
      "Surname: Smith\n",
      "Address: St. John street\n",
      "Postcode: GU16 7HF\n"
     ]
    }
   ],
   "source": [
    "def user_info(name: str, surname: str, **kwargs: str) -> None:\n",
    "    \"\"\"Print user basic user information. Optionally include additional\n",
    "    information provided as **kwargs.\n",
    "    \n",
    "    Parameters\n",
    "    ----------\n",
    "    name: str\n",
    "        User name.\n",
    "\n",
    "    surname : str\n",
    "        User surname.\n",
    "\n",
    "    kwargs: keyword arguments\n",
    "        Additional user information.\n",
    "        \n",
    "    Raises\n",
    "    ------\n",
    "    TypeError\n",
    "        If name or surname are not a string.\n",
    "    \"\"\"\n",
    "    \n",
    "    if not isinstance(name, str):\n",
    "        raise TypeError(f\"name must be a string; got type {type(name)}\")\n",
    "        \n",
    "    if not isinstance(surname, str):\n",
    "        raise TypeError(f\"surname must be a string; got type {type(surname)}\")        \n",
    "    \n",
    "    print(f\"Name: {name.title()}\")\n",
    "    print(f\"Surname: {surname.title()}\")\n",
    "    \n",
    "    for key, val in kwargs.items():\n",
    "        print(f\"{key.title()}: {val}\")\n",
    "    \n",
    "\n",
    "user_info('john', 'smith', address=\"St. John street\", postcode=\"GU16 7HF\")"
   ]
  },
  {
   "cell_type": "code",
   "execution_count": 62,
   "metadata": {},
   "outputs": [
    {
     "data": {
      "text/plain": [
       "{'name': str, 'surname': str, 'kwargs': str, 'return': None}"
      ]
     },
     "execution_count": 62,
     "metadata": {},
     "output_type": "execute_result"
    }
   ],
   "source": [
    "user_info.__annotations__"
   ]
  },
  {
   "cell_type": "code",
   "execution_count": null,
   "metadata": {},
   "outputs": [],
   "source": [
    "info = user_info('john', 'smith', address=\"St. John street\", postcode=\"GU16 7HF\")"
   ]
  },
  {
   "cell_type": "code",
   "execution_count": null,
   "metadata": {},
   "outputs": [],
   "source": [
    "print(info)"
   ]
  },
  {
   "cell_type": "markdown",
   "metadata": {},
   "source": [
    "### Funciones lambda <a name=\"funcion_lambda\"></a> \n",
    "[Volver al índice](#indice)"
   ]
  },
  {
   "cell_type": "markdown",
   "metadata": {},
   "source": [
    "Las funciones lambda son comunes en muchos lenguajes de programación y son:\n",
    "\n",
    "* Concisas (una línea).\n",
    "* Anónimas.\n",
    "\n",
    "Aunque Python no es un lenguaje puramente funcional, incluye conceptos como *map()*, *filter()*, *reduce()* y el operador **lambda**. Veamos algunos ejemplos:"
   ]
  },
  {
   "cell_type": "markdown",
   "metadata": {},
   "source": [
    "Para ejecutar una función lambda la delimitamos entre paréntesis y pasamos el argumento, 3, también entre paréntesis."
   ]
  },
  {
   "cell_type": "code",
   "execution_count": 10,
   "metadata": {},
   "outputs": [
    {
     "data": {
      "text/plain": [
       "27"
      ]
     },
     "execution_count": 10,
     "metadata": {},
     "output_type": "execute_result"
    }
   ],
   "source": [
    "(lambda x: x ** x)(3)"
   ]
  },
  {
   "cell_type": "markdown",
   "metadata": {},
   "source": [
    "Una función lambda también puede almacenarse en una variable:"
   ]
  },
  {
   "cell_type": "code",
   "execution_count": 11,
   "metadata": {},
   "outputs": [
    {
     "data": {
      "text/plain": [
       "27"
      ]
     },
     "execution_count": 11,
     "metadata": {},
     "output_type": "execute_result"
    }
   ],
   "source": [
    "x_pow_x = lambda x: x ** x\n",
    "x_pow_x(3)"
   ]
  },
  {
   "cell_type": "markdown",
   "metadata": {},
   "source": [
    "Se puede definir una función lambda con más de un parámetro, e incluso con un número indefinido de parámetros usando *args."
   ]
  },
  {
   "cell_type": "code",
   "execution_count": 12,
   "metadata": {},
   "outputs": [
    {
     "data": {
      "text/plain": [
       "8"
      ]
     },
     "execution_count": 12,
     "metadata": {},
     "output_type": "execute_result"
    }
   ],
   "source": [
    "(lambda x, y : x + y)(10, -2)"
   ]
  },
  {
   "cell_type": "code",
   "execution_count": 13,
   "metadata": {},
   "outputs": [
    {
     "data": {
      "text/plain": [
       "21"
      ]
     },
     "execution_count": 13,
     "metadata": {},
     "output_type": "execute_result"
    }
   ],
   "source": [
    "(lambda *args: sum(args))(1, 2, 3, 4, 5, 6)"
   ]
  },
  {
   "cell_type": "code",
   "execution_count": 14,
   "metadata": {},
   "outputs": [
    {
     "data": {
      "text/plain": [
       "'1 2 3'"
      ]
     },
     "execution_count": 14,
     "metadata": {},
     "output_type": "execute_result"
    }
   ],
   "source": [
    "(lambda *args: \" \".join(args))(\"1\", \"2\", \"3\")"
   ]
  },
  {
   "cell_type": "markdown",
   "metadata": {},
   "source": [
    "Como ya vimos en la clase anterior, el uso más común de las funciones en lambda es en combinación con otras funciones como *map()*, *filter()* o *reduce()*:"
   ]
  },
  {
   "cell_type": "code",
   "execution_count": 15,
   "metadata": {},
   "outputs": [
    {
     "data": {
      "text/plain": [
       "[102.56, 97.7, 99.14, 100.03999999999999]"
      ]
     },
     "execution_count": 15,
     "metadata": {},
     "output_type": "execute_result"
    }
   ],
   "source": [
    "celsius = [39.2, 36.5, 37.3, 37.8]\n",
    "fahrenheit = map(lambda c: (9 / 5) * c + 32, celsius)\n",
    "list(fahrenheit)"
   ]
  },
  {
   "cell_type": "markdown",
   "metadata": {},
   "source": [
    "Recordar que *map()*, *filter()* y *reduce()* también permiten aplicar una función previamente definida a un iterable:"
   ]
  },
  {
   "cell_type": "code",
   "execution_count": null,
   "metadata": {},
   "outputs": [],
   "source": [
    "def conversion_celsius_fahrenheit(celsius):\n",
    "    return (9 / 5) * celsius + 32\n",
    "\n",
    "fahrenheit = map(conversion_celsius_fahrenheit, celsius)\n",
    "list(fahrenheit)"
   ]
  },
  {
   "cell_type": "markdown",
   "metadata": {},
   "source": [
    "## Programación orientada a objetos<a name=\"oop\"></a> \n",
    "[Volver al índice](#indice)"
   ]
  },
  {
   "cell_type": "markdown",
   "metadata": {},
   "source": [
    "Programación orientada a objetos (OOP) es un paradigma de programación, que permite estructurar programas definiendo propiedades y comportamientos. Las clases son un tema extenso, por lo que en esta sección aprenderemos lo más básico para empezar proyectos y utilizar eficientemente clases de otros modulos y librerías.\n",
    "\n",
    "Las clases son un tipo de dato flexible, y se pueden emplean para crear estructuras de datos complejas. Las clases también puede definir funciones (métodos), que determinan las acciones que un objeto creado a partir de esta clase puede realizar.\n",
    "\n",
    "Las propiedades que debe tener una clase se definen en el método *init()*. El método *init()* establece los valores para cualquier parámetro que deba definirse cuando se crea un objeto por primera vez (instancia). **self** es una sintaxis que permite acceder a una atributo desde cualquier otro lugar de la clase. Cualquier **self.valor** se considera un atributo de la instancia, ya que es específico a una instancia particular de la clase."
   ]
  },
  {
   "cell_type": "markdown",
   "metadata": {},
   "source": [
    "Para ver todos los conceptos básicos de OOP vamos a utilizar un ejemplo simple, una clase producto, que definimos con el siguiente código:"
   ]
  },
  {
   "cell_type": "code",
   "execution_count": null,
   "metadata": {},
   "outputs": [],
   "source": [
    "class Producto:\n",
    "    def __init__(self, nombre, categoria):\n",
    "        self.nombre = nombre\n",
    "        self.categoria = categoria"
   ]
  },
  {
   "cell_type": "markdown",
   "metadata": {},
   "source": [
    "La clase producto requiere dos parámetros para instanciar un objeto, el nombre del producto y su categoría. Estos dos valores se almacenan como atributos. Podemos ver que los productos, aún siendo instanciados con los mismos argumentos, no son iguales."
   ]
  },
  {
   "cell_type": "code",
   "execution_count": null,
   "metadata": {},
   "outputs": [],
   "source": [
    "producto_1 = Producto(nombre=\"detergente\", categoria=\"limpieza\")\n",
    "producto_2 = Producto(nombre=\"detergente\", categoria=\"limpieza\")\n",
    "\n",
    "producto_1 == producto_2"
   ]
  },
  {
   "cell_type": "markdown",
   "metadata": {},
   "source": [
    "Podemos acceder a los atributos de una clase usando *objeto.atributo*:"
   ]
  },
  {
   "cell_type": "code",
   "execution_count": null,
   "metadata": {},
   "outputs": [],
   "source": [
    "producto_1 = Producto(nombre=\"detergente\", categoria=\"limpieza\")\n",
    "producto_2 = Producto(nombre=\"libreta\", categoria=\"papeleria\")\n",
    "\n",
    "print(producto_1.nombre, producto_1.categoria)"
   ]
  },
  {
   "cell_type": "markdown",
   "metadata": {},
   "source": [
    "Ahora mismo la clase Producto no sirve para mucho. Vamos a añadir un método para que nos devuelva una descripción del producto."
   ]
  },
  {
   "cell_type": "code",
   "execution_count": 10,
   "metadata": {},
   "outputs": [],
   "source": [
    "class Producto:\n",
    "    def __init__(self, nombre, categoria):\n",
    "        self.nombre = nombre\n",
    "        self.categoria = categoria\n",
    "        \n",
    "    def descripcion(self):\n",
    "        return f\"Producto {self.nombre} pertenece a la categoria {self.categoria}.\""
   ]
  },
  {
   "cell_type": "markdown",
   "metadata": {},
   "source": [
    "Creamos un nuevo producto y le pedimos su descripción:"
   ]
  },
  {
   "cell_type": "code",
   "execution_count": 11,
   "metadata": {},
   "outputs": [
    {
     "name": "stdout",
     "output_type": "stream",
     "text": [
      "Producto libreta pertenece a la categoria papeleria.\n"
     ]
    }
   ],
   "source": [
    "producto = Producto(nombre=\"libreta\", categoria=\"papeleria\")\n",
    "print(producto.descripcion())"
   ]
  },
  {
   "cell_type": "markdown",
   "metadata": {},
   "source": [
    "Podemos comprobar que un objeto instanciado desde la clase Producto, es en efecto de tipo Producto usando la función *isinstance()*. Esto es igual que cuando comprobamos que un entero era de tipo **int**."
   ]
  },
  {
   "cell_type": "code",
   "execution_count": null,
   "metadata": {},
   "outputs": [],
   "source": [
    "isinstance(producto, Producto)"
   ]
  },
  {
   "cell_type": "markdown",
   "metadata": {},
   "source": [
    "Existe la opción de crear tantos productos como queramos usando la clase Producto. Creamos una lista de productos y mostramos la descripción de todos ellos."
   ]
  },
  {
   "cell_type": "code",
   "execution_count": 12,
   "metadata": {},
   "outputs": [],
   "source": [
    "nombres = [\"vaso\", \"movil\", \"lapiz\"]\n",
    "categorias = [\"menaje\", \"tecnologia\", \"papeleria\"]\n",
    "\n",
    "lista_productos = []\n",
    "for nombre, categoria in zip(nombres, categorias):\n",
    "    producto = Producto(nombre, categoria)\n",
    "    lista_productos.append(producto)"
   ]
  },
  {
   "cell_type": "code",
   "execution_count": 13,
   "metadata": {},
   "outputs": [
    {
     "name": "stdout",
     "output_type": "stream",
     "text": [
      "Producto vaso pertenece a la categoria menaje.\n",
      "Producto movil pertenece a la categoria tecnologia.\n",
      "Producto lapiz pertenece a la categoria papeleria.\n"
     ]
    }
   ],
   "source": [
    "for producto in lista_productos:\n",
    "    print(producto.descripcion())"
   ]
  },
  {
   "cell_type": "markdown",
   "metadata": {},
   "source": [
    "Vamos a realizar algunos cambios a la clase producto para enriquecerla. Primero incorporamos un nuevo parámetro a la definición, el precio del producto. En segundo lugar, reemplazamos el método *descripcion()* por un método especial `__str__()`. Esto permite mostrar la definición cuando hacemos *print(objeto_producto)*. Por otro lado, añadimos el método *precio_con_iva()* con el parámetro por defecto de iva=0.21."
   ]
  },
  {
   "cell_type": "code",
   "execution_count": 39,
   "metadata": {},
   "outputs": [],
   "source": [
    "class Producto:\n",
    "    def __init__(self, nombre, categoria, precio):\n",
    "        self.nombre = nombre\n",
    "        self.categoria = categoria\n",
    "        self.precio = precio\n",
    "        \n",
    "    def __str__(self):\n",
    "        return f\"Producto {self.nombre} pertenece a la categoria {self.categoria}.\"\n",
    "    \n",
    "    def precio_con_iva(self, iva=0.21):\n",
    "        return self.precio * (1 + iva)"
   ]
  },
  {
   "cell_type": "markdown",
   "metadata": {},
   "source": [
    "Creamos una nueva lista de productos con sus precios:"
   ]
  },
  {
   "cell_type": "code",
   "execution_count": 40,
   "metadata": {},
   "outputs": [],
   "source": [
    "nombres = [\"vaso\", \"movil\", \"lapiz\"]\n",
    "categorias = [\"menaje\", \"tecnologia\", \"papeleria\"]\n",
    "precios = [1.5, 299.99, 0.35]\n",
    "\n",
    "lista_productos = []\n",
    "for nombre, categoria, precio in zip(nombres, categorias, precios):\n",
    "    producto = Producto(nombre, categoria, precio)\n",
    "    lista_productos.append(producto)"
   ]
  },
  {
   "cell_type": "markdown",
   "metadata": {},
   "source": [
    "Ahora definimos una nueva clase, Cesta, que almacenará una lista de productos con las unidades de cada uno. Esta clase incorpora tres métodos principales:\n",
    "\n",
    "* add: añade un número de unidades de un producto.\n",
    "* coste: permite calcular el coste de la lista. El parámetro booleano especifica si queremos tener el cuenta el iva.\n",
    "* mostrar_lista: muestra los productos que se encuentran actualmente en la lista y su número de unidades.\n",
    "\n",
    "Finalmente, el método especial `__len()__` nos sirve para saber el número de productos en la lista usando *len(objeto_cesta)*. \n",
    "\n",
    "A remarcar:\n",
    "\n",
    "* add: la función comprueba si los argumentos son válidos, es decir, si el producto es de tipo Producto y el número de unidades es un entero positivo mayor >= 1.\n",
    "* coste: comprueba primero si la lista esta vacía, si es así devuelve 0."
   ]
  },
  {
   "cell_type": "code",
   "execution_count": null,
   "metadata": {},
   "outputs": [],
   "source": [
    "class Cesta:\n",
    "    def __init__(self):\n",
    "        self._productos = []  # atributos privados, que empiecen por _\n",
    "        \n",
    "    def add(self, producto, unidades=1):\n",
    "        if not isinstance(producto, Producto):\n",
    "            raise TypeError(\"producto debe ser de tipo Producto.\")\n",
    "            \n",
    "        if not isinstance(unidades, int) or unidades <= 0:\n",
    "            raise ValueError(\"unidades debe ser >= 1.\")\n",
    "            \n",
    "        self._productos.append((producto, unidades))\n",
    "        \n",
    "    def coste(self, con_iva=True):\n",
    "        if not self._productos:\n",
    "            return 0\n",
    "        \n",
    "        total_coste = 0\n",
    "        for producto, unidades in self._productos:\n",
    "            if con_iva:\n",
    "                total_coste += producto.precio_con_iva() * unidades\n",
    "            else:\n",
    "                total_coste += producto.precio * unidades\n",
    "                \n",
    "        return total_coste\n",
    "    \n",
    "    def mostrar_lista(self):\n",
    "        for producto in self._productos:\n",
    "            print(f\"{producto[0].nombre:<20} : {producto[1]:<3} unidades\")\n",
    "    \n",
    "    def __len__(self):\n",
    "        return len(self._productos)"
   ]
  },
  {
   "cell_type": "markdown",
   "metadata": {},
   "source": [
    "Veamos un ejemplo. Añadimos a la cesta la anterior la lista de productos con el número de unidades de cada uno:"
   ]
  },
  {
   "cell_type": "code",
   "execution_count": null,
   "metadata": {},
   "outputs": [],
   "source": [
    "cesta = Cesta()\n",
    "\n",
    "unidades = [4, 1, 10]\n",
    "\n",
    "for producto, unidad in zip(lista_productos, unidades):\n",
    "    cesta.add(producto, unidad)"
   ]
  },
  {
   "cell_type": "markdown",
   "metadata": {},
   "source": [
    "Calculamos el coste con y sin iva. También mostramos la lista y el número de productos que hemos añadido."
   ]
  },
  {
   "cell_type": "code",
   "execution_count": null,
   "metadata": {},
   "outputs": [],
   "source": [
    "print(cesta.coste(con_iva=True))\n",
    "print(cesta.coste(con_iva=False))"
   ]
  },
  {
   "cell_type": "code",
   "execution_count": null,
   "metadata": {},
   "outputs": [],
   "source": [
    "len(cesta)"
   ]
  },
  {
   "cell_type": "code",
   "execution_count": null,
   "metadata": {},
   "outputs": [],
   "source": [
    "cesta.mostrar_lista()"
   ]
  },
  {
   "cell_type": "markdown",
   "metadata": {},
   "source": [
    "Uno de los objetivos más importantes del enfoque de la programación orientado a objetos (OOP), es la creación de un código estable, confiable y reutilizable. Si tuviésemos que crear una nueva clase para cada tipo de objeto que quisieramos modelar, difícilmente tendríamos ningún código reutilizable. En Python y en cualquier otro lenguaje que admita OOP, una clase puede **heredar** de otra clase. Esto significa que podemos basar una nueva clase en una clase existente; la nueva clase *hereda* todos los atributos y el comportamiento de la clase en la que se basa. Una nueva clase puede sobreescribir cualquier atributo o método de la clase de la que hereda, y puede agregar cualquier atributo o método nuevos que sea apropiado. La clase original se denomina clase **padre** o **superclase** y la nueva clase es **hija** de la clase principal o **subclase**, respectivamente. "
   ]
  },
  {
   "cell_type": "markdown",
   "metadata": {},
   "source": [
    "Veamos un ejemplo para ilustrar lo que acabamos de describir: \n",
    "\n",
    "Creamos una nueva clase Alimento que hereda de Producto. Al instanciar un objeto Alimento el método *super()* se dirige a la clase Producto con los parámetros nombre, categoría (por defecto alimentación) y precio. La clase Alimento añade otros dos atributos: temporada y calorias.\n",
    "\n",
    "La clase Alimento incorpora un nuevo método que permite calcular calorías. También sobreescribe el método especial `___str__()` para imprimir información más completa."
   ]
  },
  {
   "cell_type": "code",
   "execution_count": 37,
   "metadata": {},
   "outputs": [
    {
     "ename": "NameError",
     "evalue": "name 'Producto' is not defined",
     "output_type": "error",
     "traceback": [
      "\u001b[1;31m---------------------------------------------------------------------------\u001b[0m",
      "\u001b[1;31mNameError\u001b[0m                                 Traceback (most recent call last)",
      "\u001b[1;32m<ipython-input-37-71e60b831ced>\u001b[0m in \u001b[0;36m<module>\u001b[1;34m\u001b[0m\n\u001b[1;32m----> 1\u001b[1;33m \u001b[1;32mclass\u001b[0m \u001b[0mAlimento\u001b[0m\u001b[1;33m(\u001b[0m\u001b[0mProducto\u001b[0m\u001b[1;33m)\u001b[0m\u001b[1;33m:\u001b[0m\u001b[1;33m\u001b[0m\u001b[1;33m\u001b[0m\u001b[0m\n\u001b[0m\u001b[0;32m      2\u001b[0m     \u001b[1;32mdef\u001b[0m \u001b[0m__init__\u001b[0m\u001b[1;33m(\u001b[0m\u001b[0mself\u001b[0m\u001b[1;33m,\u001b[0m \u001b[0mnombre\u001b[0m\u001b[1;33m,\u001b[0m \u001b[0mprecio\u001b[0m\u001b[1;33m,\u001b[0m \u001b[0mtemporada\u001b[0m\u001b[1;33m,\u001b[0m \u001b[0mcalorias\u001b[0m\u001b[1;33m)\u001b[0m\u001b[1;33m:\u001b[0m\u001b[1;33m\u001b[0m\u001b[1;33m\u001b[0m\u001b[0m\n\u001b[0;32m      3\u001b[0m         \u001b[0msuper\u001b[0m\u001b[1;33m(\u001b[0m\u001b[1;33m)\u001b[0m\u001b[1;33m.\u001b[0m\u001b[0m__init__\u001b[0m\u001b[1;33m(\u001b[0m\u001b[0mnombre\u001b[0m\u001b[1;33m,\u001b[0m \u001b[1;34m\"alimentacion\"\u001b[0m\u001b[1;33m,\u001b[0m \u001b[0mprecio\u001b[0m\u001b[1;33m)\u001b[0m\u001b[1;33m\u001b[0m\u001b[1;33m\u001b[0m\u001b[0m\n\u001b[0;32m      4\u001b[0m \u001b[1;33m\u001b[0m\u001b[0m\n\u001b[0;32m      5\u001b[0m         \u001b[0mself\u001b[0m\u001b[1;33m.\u001b[0m\u001b[0mtemporada\u001b[0m \u001b[1;33m=\u001b[0m \u001b[0mtemporada\u001b[0m\u001b[1;33m\u001b[0m\u001b[1;33m\u001b[0m\u001b[0m\n",
      "\u001b[1;31mNameError\u001b[0m: name 'Producto' is not defined"
     ]
    }
   ],
   "source": [
    "class Alimento(Producto):\n",
    "    def __init__(self, nombre, precio, temporada, calorias):\n",
    "        super().__init__(nombre, \"alimentacion\", precio)\n",
    "        \n",
    "        self.temporada = temporada\n",
    "        self.calorias = calorias\n",
    "        \n",
    "    def total_calorias(self, gramos):\n",
    "        return self.calores * gramos / 100\n",
    "    \n",
    "    def __str__(self):\n",
    "        return (\"Nombre    : {:}\\n\"\n",
    "                \"Categoria : {:}\\n\"\n",
    "                \"Precio    : {:.2f} €/unidad\\n\"\n",
    "                \"Temporada : {:}\\n\"\n",
    "                \"Calorias  : {:} kcal/100g\").format(\n",
    "            self.nombre, self.categoria, self.precio,\n",
    "            self.temporada, self.calorias)\n",
    "    \n",
    "    \n",
    "calabaza = Alimento(\"calabaza cacahuete\", 1.65, \"otoño\", 14)"
   ]
  },
  {
   "cell_type": "code",
   "execution_count": null,
   "metadata": {},
   "outputs": [],
   "source": [
    "print(calabaza)"
   ]
  },
  {
   "cell_type": "code",
   "execution_count": null,
   "metadata": {},
   "outputs": [],
   "source": [
    "print(lista_productos[0])"
   ]
  },
  {
   "cell_type": "markdown",
   "metadata": {},
   "source": [
    "Podemos usar los métodos de Producto, por ejemplo:"
   ]
  },
  {
   "cell_type": "code",
   "execution_count": null,
   "metadata": {},
   "outputs": [],
   "source": [
    "calabaza.precio_con_iva(iva=0.04)"
   ]
  },
  {
   "cell_type": "markdown",
   "metadata": {},
   "source": [
    "Se acerca Halloween, así que añadimos 100 calabazas a la cesta:"
   ]
  },
  {
   "cell_type": "code",
   "execution_count": null,
   "metadata": {},
   "outputs": [],
   "source": [
    "cesta.add(calabaza, 100)"
   ]
  },
  {
   "cell_type": "code",
   "execution_count": null,
   "metadata": {},
   "outputs": [],
   "source": [
    "len(cesta)"
   ]
  },
  {
   "cell_type": "code",
   "execution_count": null,
   "metadata": {},
   "outputs": [],
   "source": [
    "cesta.mostrar_lista()"
   ]
  },
  {
   "cell_type": "markdown",
   "metadata": {},
   "source": [
    "## Ejercicios <a name=\"ejercicios\"></a> \n",
    "[Volver al índice](#indice)"
   ]
  },
  {
   "cell_type": "markdown",
   "metadata": {},
   "source": [
    "1 - Hemos seleccionado un fragmento del Quijote para su análisis y vamos a practicar con él. Realiza un programa que cuente cuantas palabras tiene el fichero _quijote.txt_. ¿Puedes calcular también el número de líneas?."
   ]
  },
  {
   "cell_type": "code",
   "execution_count": 3,
   "metadata": {},
   "outputs": [
    {
     "name": "stdout",
     "output_type": "stream",
     "text": [
      "5537 56521\n"
     ]
    }
   ],
   "source": [
    "with open(file=\"2020_S4_datos/quijote.txt\", mode=\"r\") as f:\n",
    "    n_lineas = 0\n",
    "    n_palabras = 0\n",
    "    for i in f:\n",
    "        n_lineas += 1\n",
    "        n_palabras += len(i.split())\n",
    "print(n_lineas,n_palabras)"
   ]
  },
  {
   "cell_type": "markdown",
   "metadata": {},
   "source": [
    "2 - Queremos leer del *quijote.txt* exactamente 300 caracteres a partir del caracter 10000. Escribe un programa que haga lo mencionado anteriormente."
   ]
  },
  {
   "cell_type": "code",
   "execution_count": 99,
   "metadata": {},
   "outputs": [
    {
     "name": "stdout",
     "output_type": "stream",
     "text": [
      "EL INGENIOSO HIDALGO DON QUIJOTE DE LA MANCHA\n",
      "\n",
      "5537\n"
     ]
    }
   ],
   "source": [
    "counter = 0\n",
    "with open(file=\"2020_S4_datos/quijote.txt\", mode=\"r\") as f:\n",
    "    for i in f:\n",
    "        counter += 1\n",
    "        if counter < 2:\n",
    "            print(i)\n",
    "    print(counter)\n",
    "            "
   ]
  },
  {
   "cell_type": "markdown",
   "metadata": {},
   "source": [
    "3 - Escribe un programa que imprima por pantalla la linea 1235 del quijote."
   ]
  },
  {
   "cell_type": "code",
   "execution_count": null,
   "metadata": {},
   "outputs": [],
   "source": [
    "with open(file=\"2020_S4_datos/quijote.txt\", mode=\"r\") as f:\n",
    "    for i in f:\n",
    "        counter += 1\n",
    "        if counter < 2:\n",
    "            print(i)\n",
    "    print(counter)"
   ]
  },
  {
   "cell_type": "markdown",
   "metadata": {},
   "source": [
    "4 - Escribe un programa que escriba en un fichero de texto las líneas en las que aparece la palabra \"hidalgo\"."
   ]
  },
  {
   "cell_type": "code",
   "execution_count": 7,
   "metadata": {},
   "outputs": [
    {
     "name": "stdout",
     "output_type": "stream",
     "text": [
      "[6, 11, 22, 31, 911, 947, 956, 1033, 1652, 2492, 3349, 3420, 3595]\n",
      "Wall time: 5.98 ms\n"
     ]
    }
   ],
   "source": [
    "%%time\n",
    "with open(file=\"2020_S4_datos/quijote.txt\", mode=\"r\") as f:\n",
    "    hidalgo_lineas = []\n",
    "    for i,line in enumerate(f):\n",
    "        if \"hidalgo\" in line:\n",
    "            hidalgo_lineas.append(i)\n",
    "            \n",
    "print(i_palabras_repetidas)\n",
    "        "
   ]
  },
  {
   "cell_type": "markdown",
   "metadata": {},
   "source": [
    "5 - Escribe un programa que devuelva todas las palabras del fragmento del Quijote con el número de occurrencias de cada. Finalmente imprime las palabras por orden descendente de ocurrencias."
   ]
  },
  {
   "cell_type": "code",
   "execution_count": 9,
   "metadata": {},
   "outputs": [
    {
     "name": "stdout",
     "output_type": "stream",
     "text": [
      "hola\n",
      "0.00011970000002747838\n"
     ]
    }
   ],
   "source": []
  },
  {
   "cell_type": "code",
   "execution_count": null,
   "metadata": {},
   "outputs": [],
   "source": [
    "sorted(d.items(), key = lambda item: item[0])"
   ]
  },
  {
   "cell_type": "code",
   "execution_count": null,
   "metadata": {},
   "outputs": [],
   "source": []
  },
  {
   "cell_type": "markdown",
   "metadata": {},
   "source": [
    "6 - Escribe una función que devuelva cuantas ocurrencias hay de una palabra en un archivo .txt, si hay que diferenciar entre mayúsculas y minúsculas y el tiempo total requirido para esta operación. Utiliza el módulo **time**."
   ]
  },
  {
   "cell_type": "code",
   "execution_count": null,
   "metadata": {},
   "outputs": [],
   "source": [
    "import time\n",
    "\n",
    "time_init = time.perf_counter()\n",
    "\n",
    "print(\"hola\")\n",
    "\n",
    "time_total = time.perf_counter() - time_init\n",
    "print(time_total)"
   ]
  },
  {
   "cell_type": "markdown",
   "metadata": {},
   "source": [
    "7 - Diseña una función que, dada una lista de números enteros, devuelva el número de series que hay en ella. \n",
    "\n",
    "Nota: Llamamos serie a todo tramo de la lista con valores idénticos. Por ejemplo, la lista [1, 1, 8, 8, 8, 8, 0, 0, 0, 2, 10, 10] tiene 5 series (ten en cuenta que el 2 forma parte de una serie de un solo elemento)."
   ]
  },
  {
   "cell_type": "code",
   "execution_count": 63,
   "metadata": {},
   "outputs": [
    {
     "data": {
      "text/plain": [
       "5"
      ]
     },
     "execution_count": 63,
     "metadata": {},
     "output_type": "execute_result"
    }
   ],
   "source": [
    "serie = [1, 1, 8, 8, 8, 8, 0, 0, 0, 2, 10, 10]\n",
    "\n",
    "def num_series(serie):\n",
    "    prev = serie[0]\n",
    "    n_series = 1\n",
    "    \n",
    "    for s in serie[1:]:\n",
    "        if s != prev:\n",
    "            n_series += 1\n",
    "            prev = s\n",
    "        \n",
    "    return n_series\n",
    "\n",
    "num_series(serie)"
   ]
  },
  {
   "cell_type": "markdown",
   "metadata": {},
   "source": [
    "8 - Escribe una función que dada una lista de enteros calcule la media, mediana, desviación estándar, varianza y los percentiles 1, 25, 75 y 99, de los elementos de la lista."
   ]
  },
  {
   "cell_type": "code",
   "execution_count": 72,
   "metadata": {},
   "outputs": [
    {
     "name": "stdout",
     "output_type": "stream",
     "text": [
      "4.5\n",
      "2.29128784747792\n",
      "5.25\n",
      "[1.07 2.75 4.5  6.25 7.93]\n"
     ]
    }
   ],
   "source": [
    "import numpy as np\n",
    "\n",
    "lista = [1,2,3,4,5,6,7,8]\n",
    "\n",
    "l = np.array(lista)\n",
    "\n",
    "print(l.mean())\n",
    "print(l.std())\n",
    "print(l.var())\n",
    "print(np.percentile(l,[1,25,50,75,99]))\n"
   ]
  },
  {
   "cell_type": "markdown",
   "metadata": {},
   "source": [
    "9 - Crea una clase Cliente para un banco. Esta clase se inicializa con los datos del cliente y el dinero inicial al abrir la cuenta. La clase debe tener funciones para realizar las siguientes operaciones:\n",
    "\n",
    "* Ingresar dinero.\n",
    "* Retirar dinero.\n",
    "* Consultar movimientos.\n",
    "* Consultar saldo.\n",
    "\n",
    "Cuando el cliente ingrese o retire dinero el saldo debe actualizarse, y la información sobre el movimiento debe almacenarse. Es importante devolver mensajes al cliente si la operación no es válida. Por ejemplo, si queremos retirar una cantidad mayor al saldo actual, ya que el salgo no puede ser negativo por políticas del banco.\n",
    "\n",
    "Extra: puedes añadir a la inicialización de la clase otros parámetros, por ejemplo, la máxima cantidad de dinero que se puede retirar en una única operación."
   ]
  },
  {
   "cell_type": "code",
   "execution_count": 59,
   "metadata": {},
   "outputs": [
    {
     "data": {
      "text/plain": [
       "['Ubaldo', 'Peralta', 'Andres mellado', 'Ingeniero Informático']"
      ]
     },
     "execution_count": 59,
     "metadata": {},
     "output_type": "execute_result"
    }
   ],
   "source": [
    "from datetime import datetime\n",
    "\n",
    "def comprobar_cadena(nombre, n):\n",
    "    if len(nombre) >= n:\n",
    "        print(\"El nombre es muy largo\")\n",
    "        raise ValueError('The name should not pass 50 characters')\n",
    "\n",
    "class Client:\n",
    "    \n",
    "    _movimientos = []\n",
    "    date = None\n",
    "    \n",
    "    def __init__(self, nombre, apellidos, direccion, aportacion_inicial, *args):\n",
    "        self._comprobar_params(nombre, apellidos, direccion, aportacion_inicial, args)\n",
    "        \n",
    "        self.nombre = nombre\n",
    "        self.apellidos = apellidos\n",
    "        self.direccion = direccion\n",
    "        self.saldo = aportacion_inicial\n",
    "        self.args = args\n",
    "            \n",
    "    def _comprobar_params(self, nombre, apellidos, direccion, aportacion_inicial, args):\n",
    "        comprobar_cadena(nombre, 50)\n",
    "    \n",
    "    def ingresar_dinero(self, cantidad):\n",
    "        date = str(datetime.now())\n",
    "        self.saldo += cantidad\n",
    "        self._movimientos.append(['ingresar', date, cantidad, self.saldo])\n",
    "        \n",
    "    def retirar_dinero(self, cantidad):\n",
    "        if cantidad > self.saldo:\n",
    "            raise ValueError('You are trying to withdraw more than you own')\n",
    "        else:\n",
    "            date = str(datetime.now())\n",
    "            self.saldo -= cantidad\n",
    "            self._movimientos.append(['retirar', date, cantidad, self.saldo])\n",
    "\n",
    "    def ver_saldo(self):\n",
    "        return self.saldo\n",
    "    \n",
    "    def check_movements(self):\n",
    "        return self._movimientos\n",
    "    \n",
    "    def description(self):\n",
    "        return [self.nombre, self.apellidos, self.direccion, *self.args]\n",
    "    \n",
    "\n",
    "client1 = Client(\"Ubaldo\", \"Peralta\", \"Andres mellado\", 100, \"Ingeniero Informático\")\n",
    "\n",
    "client1.ver_saldo()\n",
    "client1.ingresar_dinero(27)\n",
    "client1.ver_saldo()\n",
    "client1.retirar_dinero(27)\n",
    "client1.ver_saldo()\n",
    "client1.retirar_dinero(43)\n",
    "client1.check_movements()\n",
    "client1.description()\n"
   ]
  },
  {
   "cell_type": "code",
   "execution_count": 57,
   "metadata": {},
   "outputs": [
    {
     "data": {
      "text/plain": [
       "<__main__.Cliente at 0x252a107edc0>"
      ]
     },
     "execution_count": 57,
     "metadata": {},
     "output_type": "execute_result"
    }
   ],
   "source": [
    "Cliente(\"nombdddddddddddddddddddd\",23)  "
   ]
  },
  {
   "cell_type": "markdown",
   "metadata": {},
   "source": [
    "10 - Continuando con el ejercicio anterior, crea una clase Banco. La clase debe tener las siguientes funciones:\n",
    "    \n",
    "* Añadir cliente.\n",
    "* Consultar saldo cliente.\n",
    "* Consultar saldo total disponible (suma de todos los saldos).\n",
    "* Consultar los clientes con saldos por debajo de un umbral.\n",
    "* Consultar el número de movimientos de un cliente."
   ]
  },
  {
   "cell_type": "code",
   "execution_count": null,
   "metadata": {},
   "outputs": [],
   "source": []
  },
  {
   "cell_type": "code",
   "execution_count": 61,
   "metadata": {},
   "outputs": [],
   "source": [
    "client2 = Client(\"Francisco\", \"Peralta\", \"Salamanca\", 150, \"Traductor\")\n",
    "client3 = Client(\"Galo\", \"Peralta\", \"Santander\", 200, \"Economista\")\n",
    "client4 = Client(\"Macarena\", \"Peralta\", \"Santander\", 250, \"Economista\")\n"
   ]
  },
  {
   "cell_type": "code",
   "execution_count": 80,
   "metadata": {},
   "outputs": [
    {
     "ename": "SyntaxError",
     "evalue": "unexpected EOF while parsing (<ipython-input-80-92cab88cc3dc>, line 23)",
     "output_type": "error",
     "traceback": [
      "\u001b[1;36m  File \u001b[1;32m\"<ipython-input-80-92cab88cc3dc>\"\u001b[1;36m, line \u001b[1;32m23\u001b[0m\n\u001b[1;33m    \u001b[0m\n\u001b[1;37m    ^\u001b[0m\n\u001b[1;31mSyntaxError\u001b[0m\u001b[1;31m:\u001b[0m unexpected EOF while parsing\n"
     ]
    }
   ],
   "source": []
  },
  {
   "cell_type": "code",
   "execution_count": 102,
   "metadata": {},
   "outputs": [
    {
     "data": {
      "text/plain": [
       "[['Ubaldo', 'Peralta', 'Andres mellado', 'Ingeniero Informático']]"
      ]
     },
     "execution_count": 102,
     "metadata": {},
     "output_type": "execute_result"
    }
   ],
   "source": [
    "class Bank:\n",
    "    \n",
    "    def prove_client(self,client):\n",
    "        if not isinstance(client,Client):\n",
    "            raise TypeError('The argument is not a client')\n",
    "    \n",
    "    def __init__(self):\n",
    "        self._clients = []\n",
    "        \n",
    "    def set_client(self, client):\n",
    "        self.prove_client(client)\n",
    "        self._clients.append(client)\n",
    "    \n",
    "    def get_client_balance(self, client):\n",
    "        self.prove_client(client)\n",
    "        return client.ver_saldo()\n",
    "    \n",
    "    def get_total_balance(self):\n",
    "        return sum(client.ver_saldo() for client in self._clients)\n",
    "        \n",
    "    def get_umbral_balance(self, umbral):\n",
    "        return [client.description() for client in self._clients if client.ver_saldo() <= umbral]\n",
    "    \n",
    "    def get_number_movements(self, client):\n",
    "        self.prove_client(client)\n",
    "        return len(client.check_movements())\n",
    "            \n",
    "\n",
    "bank = Bank()\n",
    "bank.set_client(client1)\n",
    "bank.set_client(client2)\n",
    "bank.set_client(client3)\n",
    "bank.set_client(client4)\n",
    "bank.get_client_balance(client1)\n",
    "bank.get_total_balance()\n",
    "bank.get_umbral_balance(100)\n",
    "\n"
   ]
  },
  {
   "cell_type": "code",
   "execution_count": 68,
   "metadata": {},
   "outputs": [
    {
     "data": {
      "text/plain": [
       "250"
      ]
     },
     "execution_count": 68,
     "metadata": {},
     "output_type": "execute_result"
    }
   ],
   "source": []
  }
 ],
 "metadata": {
  "kernelspec": {
   "display_name": "Python 3",
   "language": "python",
   "name": "python3"
  },
  "language_info": {
   "codemirror_mode": {
    "name": "ipython",
    "version": 3
   },
   "file_extension": ".py",
   "mimetype": "text/x-python",
   "name": "python",
   "nbconvert_exporter": "python",
   "pygments_lexer": "ipython3",
   "version": "3.8.3"
  }
 },
 "nbformat": 4,
 "nbformat_minor": 2
}
