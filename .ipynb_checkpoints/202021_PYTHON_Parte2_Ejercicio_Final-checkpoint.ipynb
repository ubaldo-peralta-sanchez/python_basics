{
 "cells": [
  {
   "cell_type": "markdown",
   "metadata": {},
   "source": [
    "----\n",
    "# Entregable 2 - 2020/21\n",
    "----"
   ]
  },
  {
   "cell_type": "markdown",
   "metadata": {},
   "source": [
    "# Instrucciones\n",
    "\n",
    "* Introduce tu nombre y tus apellidos en la siguiente celda (reemplaza los que pone por el tuyo y tu email.\n",
    "* Renombra el fichero agregando tus apellidos y nombre (en ese orden) al principio para su entrega. Por ejemplo, Martinez_Garcia_Juan_20_21_BIG_DATA_UNAV_Entregable_Parte.\n",
    "* Lee atentamente las instrucciones de cada bloque completa el examen."
   ]
  },
  {
   "cell_type": "markdown",
   "metadata": {},
   "source": [
    "**Nombre:** Ubaldo  \n",
    "**Apellidos:** Martinez Garcia  \n",
    "**Email:** jmartinez57@alumni.unav.es "
   ]
  },
  {
   "cell_type": "markdown",
   "metadata": {},
   "source": [
    "# Parte 1\n",
    "\n",
    "## Ventas de videojuegos\n",
    "\n",
    "En esta primera parte vamos a estudiar un dataset con ventas de videojuegos.\n",
    "\n",
    "Tenemos un fichero con datos de ventas de videojuegos con las siguientes columnas:\n",
    "\n",
    "- Rank : Ranking de la venta del videojuego a nivel mundial\n",
    "- Name : Nombre del videojuego\n",
    "- Platform : Plataforma en la que fue lanzado (Wii, PS4, PC...et)\n",
    "- Year : Año de lanzamiento\n",
    "- Genero : Genero del videojuego\n",
    "- Publisher : Empresa que publico el juego\n",
    "- NA_Sales - Ventas en Norte America (en millones)\n",
    "- EU_Sales - Ventas en Europa (en millones)\n",
    "- JP_Sales - Ventas en Japon (en millones)\n",
    "- Other_Sales - Ventas en el resto del mundo (en millones)\n",
    "- Global_Sales - Ventas a nivel mundial (en millones)\n",
    "\n"
   ]
  },
  {
   "cell_type": "markdown",
   "metadata": {},
   "source": [
    "Cargamos el dataset..."
   ]
  },
  {
   "cell_type": "code",
   "execution_count": null,
   "metadata": {},
   "outputs": [],
   "source": [
    "# carga el fichero con las ventas\n",
    "import pandas as pd\n",
    "from scipy import stats\n",
    "\n",
    "games = pd.read_excel('vgsales.xlsx')\n"
   ]
  },
  {
   "cell_type": "markdown",
   "metadata": {},
   "source": [
    "## Ventas a nivel y datos global (1 punto)"
   ]
  },
  {
   "cell_type": "markdown",
   "metadata": {},
   "source": [
    "¿Cuál es el videojuego que ha generado más ingresos a nivel global? (0.25 puntos)  "
   ]
  },
  {
   "cell_type": "code",
   "execution_count": null,
   "metadata": {},
   "outputs": [],
   "source": []
  },
  {
   "cell_type": "markdown",
   "metadata": {},
   "source": [
    "¿Cuál es la plataforma con mayor media de ventas a nivel global? (0.25 puntos)  "
   ]
  },
  {
   "cell_type": "code",
   "execution_count": null,
   "metadata": {},
   "outputs": [],
   "source": []
  },
  {
   "cell_type": "markdown",
   "metadata": {},
   "source": [
    "¿Cuál es la empresa que más dinero ha ganado con la venta de videojuegos? (0.25 puntos)  "
   ]
  },
  {
   "cell_type": "code",
   "execution_count": null,
   "metadata": {},
   "outputs": [],
   "source": []
  },
  {
   "cell_type": "markdown",
   "metadata": {},
   "source": [
    "¿Los videojuegos de qué año son los que más dinero han recaudado ? (0.25 puntos)  "
   ]
  },
  {
   "cell_type": "code",
   "execution_count": null,
   "metadata": {},
   "outputs": [],
   "source": []
  },
  {
   "cell_type": "markdown",
   "metadata": {},
   "source": [
    "## Calculando algunas datos interesantes (1 punto)"
   ]
  },
  {
   "cell_type": "markdown",
   "metadata": {},
   "source": [
    "Calcula cual es el videojuego que se vendió más en cada una de las plataformas (0.5 puntos)"
   ]
  },
  {
   "cell_type": "code",
   "execution_count": null,
   "metadata": {},
   "outputs": [],
   "source": []
  },
  {
   "cell_type": "markdown",
   "metadata": {},
   "source": [
    "Calcula cual es el videojuego que más se vendió para cada genero (0.5 puntos)"
   ]
  },
  {
   "cell_type": "code",
   "execution_count": null,
   "metadata": {},
   "outputs": [],
   "source": []
  },
  {
   "cell_type": "markdown",
   "metadata": {},
   "source": [
    "## Evolución de las ventas a través de las décadas (1 punto)"
   ]
  },
  {
   "cell_type": "markdown",
   "metadata": {},
   "source": [
    "Se quiere realizar un estudio de la evolución de las ventas medias de los videojuegos por décadas (los 80s, 90s, los 00s y los 01s). Las décadas se dividen como sigue:\n",
    "\n",
    "Década 80s --> 1980 - 1989  \n",
    "Década 90s --> 1990 - 1999  \n",
    "Década 00s --> 2000 - 2009  \n",
    "Década 10s --> 2010 - 2017  \n",
    "\n",
    "Todos aquellos valores que no estén dentro de esas décadas pueden etiquetarse como 'Others'."
   ]
  },
  {
   "cell_type": "markdown",
   "metadata": {},
   "source": [
    "Genera una función que categorice las fechas por décadas (0.5 puntos) y extrae cómo ha evolucionado la facturacion global los videojuegos a lo largo de las diferentes décadas (0.5 puntos). "
   ]
  },
  {
   "cell_type": "code",
   "execution_count": null,
   "metadata": {},
   "outputs": [],
   "source": []
  },
  {
   "cell_type": "code",
   "execution_count": null,
   "metadata": {},
   "outputs": [],
   "source": []
  },
  {
   "cell_type": "markdown",
   "metadata": {},
   "source": [
    "# Parte 2\n",
    "\n",
    "## 5000 películas de IMD (The Internet Movie Database)\n",
    "\n",
    "En este proyecto nos enfocaremos en el análisis exploratorio de datos de un dataset de 5000 películas obtenidas de la base de datos de [Internet Movie Database](https://www.imdb.com).\n",
    "\n",
    "El objetivo de este ejercicio es poner en práctica varias de las técnicas vistas en Pandas a lo largo de la parte 2 del curso y ver cómo obtener métricas interesantes con este dataset. Hay que tener en cuenta que es un dataset que tiene información que puede ser incorrecta, incompleta, o directamente errónea, pero esto nos acerca a lo que se enfrenta de forma muy habitual un Data Scientist.\n"
   ]
  },
  {
   "cell_type": "markdown",
   "metadata": {},
   "source": [
    "## Obtención de los datos\n",
    "\n",
    "Este dataset lo podemos obtener de la página de [Kaggle directamente](https://www.kaggle.com/tmdb/tmdb-movie-metadata/downloads/tmdb_5000_movies.csv) o accediendo al fichero que se encuentra en el mismo lugar que este notebook.\n",
    "\n",
    "Primero, debemos comenzar con los import apropiados, que ya hemos visto muchas veces.\n",
    "\n",
    "Nota: Hemos usado el fichero original de IMDB pero por temas de Copyright deberíamos usar el de [TMDB](https://www.themoviedb.org/?language=es). Para el ámbito de este ejercicio no ocurre nada por hacerlo, pero en una aplicación real deberíamos usar el fichero de TMDB y no el de IMDB.\n",
    "\n",
    "### Los imports\n",
    "\n",
    "Aqui están:"
   ]
  },
  {
   "cell_type": "code",
   "execution_count": null,
   "metadata": {},
   "outputs": [],
   "source": [
    "import pandas as pd\n",
    "import numpy as np\n",
    "import datetime"
   ]
  },
  {
   "cell_type": "markdown",
   "metadata": {},
   "source": [
    "### Explorando los datos\n",
    "\n",
    "Vamos a cargar el dataset de películas y obtener primero una descripción general del mismo. Carguemos el dataset primero.\n"
   ]
  },
  {
   "cell_type": "code",
   "execution_count": null,
   "metadata": {},
   "outputs": [],
   "source": [
    "df = pd.read_csv('movie_metadata.csv')"
   ]
  },
  {
   "cell_type": "markdown",
   "metadata": {},
   "source": [
    "Muestra el tipo de columnas y el head del dataset"
   ]
  },
  {
   "cell_type": "code",
   "execution_count": null,
   "metadata": {},
   "outputs": [],
   "source": []
  },
  {
   "cell_type": "code",
   "execution_count": null,
   "metadata": {},
   "outputs": [],
   "source": []
  },
  {
   "cell_type": "markdown",
   "metadata": {},
   "source": [
    "## Rentabilidad por director y año (1 puntos)\n",
    "\n",
    "**Obtén las diferencias entre el presupuesto de las películas y los ingresos en taquilla, la columna `gross`, añadiendo una nueva columna que se llame `diff_gross`. Muestra la diferencia entre presupuesto y total de taquilla por director de forma anual. El primer paso será limpiar los datos, ya que es posible que no todos las filas de la nueva columna tengan datos. Elimina aquéllas filas que contengan datos vacíos (missing values). Crea otro dataframe para no sobreescribir el original.**"
   ]
  },
  {
   "cell_type": "code",
   "execution_count": null,
   "metadata": {},
   "outputs": [],
   "source": []
  },
  {
   "cell_type": "code",
   "execution_count": null,
   "metadata": {},
   "outputs": [],
   "source": []
  },
  {
   "cell_type": "markdown",
   "metadata": {},
   "source": [
    "**Agrupa el dataframe por director de película y realiza la suma de total la columna `diff_gross`, luego ordénalo de forma descendente**"
   ]
  },
  {
   "cell_type": "code",
   "execution_count": null,
   "metadata": {},
   "outputs": [],
   "source": []
  },
  {
   "cell_type": "markdown",
   "metadata": {},
   "source": [
    "## Directores y críticas (0.5 puntos)\n",
    "\n",
    "**Vamos a realizar un estudio de los mejores directores en base a las mejores reviews obtenidas.**\n",
    "\n",
    "**Utilizando el dataframe sin valores nulos, agrupa usando la función `group_by` los directores que han obtenido mayor número de críticas (entendiendo que a mayor el número, mejores son las críticas). Pista: Usa la columna `num_critic_for_reviews` para esto.**\n"
   ]
  },
  {
   "cell_type": "code",
   "execution_count": null,
   "metadata": {},
   "outputs": [],
   "source": []
  },
  {
   "cell_type": "markdown",
   "metadata": {},
   "source": [
    "## Ratio de críticas (1 puntos)\n",
    "\n",
    "**IMDB es conocido por la desproporción a veces entre la valoración de los críticos profesionales y la de los usuarios de la plataforma; valores altos significan que la crítica profesional valora más la película y viceversa. Obtén este ratio y añádelo en una nueva columna llamada `critic_ratio`. Utiliza como fuente el dataframe sin datos vacíos**"
   ]
  },
  {
   "cell_type": "code",
   "execution_count": null,
   "metadata": {},
   "outputs": [],
   "source": []
  },
  {
   "cell_type": "markdown",
   "metadata": {},
   "source": [
    "**Obtén el listado de directores con la media del ratio de críticas. Como siempre, crea un nuevo dataframe y con éste crea un índice. Obtén aquellos con un mayor ratio solamente, los 20 primeros**"
   ]
  },
  {
   "cell_type": "code",
   "execution_count": null,
   "metadata": {},
   "outputs": [],
   "source": []
  },
  {
   "cell_type": "markdown",
   "metadata": {},
   "source": [
    "## Películas por género (1 puntos)\n",
    "\n",
    "**Vamos a ver cuantas películas se han realizado por género. Ten en cuenta que una misma película puede pertener a varios géneros a la vez. Además si te fijas en la columna `genres` del dataframe sin valores vacíos, verás que tiene los géneros separados por el simbolo \"|\". Debemos por lo tanto que crear una función que traduzca ese campo a una lista de géneros.**\n",
    "\n",
    "**Añade una nueva columna que se llame `genre_list` que sea el resultado de convertir la columna `genres` a una lista de géneros**"
   ]
  },
  {
   "cell_type": "code",
   "execution_count": null,
   "metadata": {},
   "outputs": [],
   "source": []
  },
  {
   "cell_type": "markdown",
   "metadata": {},
   "source": [
    "**Una vez hecho ésto debes obtener la lista de todos los géneros, recorriendo el dataframe anterior y obteniéndolos de la columna `genre_list`.**\n",
    "\n",
    "**Pista 1: Deberás resetear el index con el [método](https://pandas.pydata.org/pandas-docs/stable/generated/pandas.DataFrame.reset_index.html) `reset_index`**\n",
    "\n",
    "**Pista 2: Crea una lista que tenga todas las listas dentro de cada fila del dataset.**\n",
    "\n",
    "**Pista 3: Una vez tengas la lista con todos los generos de cada película, evidentemente hay muchas repeticiones. Usa la clase [Counter](https://pymotw.com/2/collections/counter.html) del módulo *collections* para crear un diccionario que tiene como claves los nómbres de los géneros y como valor el número de veces que aparecía en este lista**\n",
    "\n",
    "**Pista 4: Una vez tengas el diccionario, puedes utilizar el [metodo de numpy](https://docs.scipy.org/doc/numpy/reference/generated/numpy.asarray.html) `asarray` para convertir las claves y los valores de ese diccionario a arrays numpy.**"
   ]
  },
  {
   "cell_type": "code",
   "execution_count": null,
   "metadata": {},
   "outputs": [],
   "source": [
    "from collections import Counter\n",
    "\n",
    "\n"
   ]
  },
  {
   "cell_type": "markdown",
   "metadata": {},
   "source": [
    "# Parte 3\n",
    "\n",
    "## Evolución del COVID-19 durante la primera ola\n",
    "\n",
    "En consonancia con la situación actual, en esta tercera parte os proponemos que exploréis un dataset asociado al COVID-19.\n",
    "\n",
    "La enfermedad por coronavirus 2019 (COVID-19) es una enfermedad infecciosa causada por el coronavirus 2 del síndrome respiratorio agudo severo (SARS-CoV-2). Se identificó por primera vez en 2019 en Wuhan, China, y desde entonces se ha propagado a nivel mundial, lo que ha resultado en la pandemia de coronavirus 2019-20. Los síntomas comunes incluyen fiebre, tos y dificultad para respirar. El dolor muscular, la producción de esputo y el dolor de garganta son menos comunes. La tasa de muertes por número de casos diagnosticados es, en promedio, del 3,4%, oscilando entre el 0,2% en los menores de 20 años y aproximadamente el 15% en los mayores de 80 años."
   ]
  },
  {
   "cell_type": "markdown",
   "metadata": {},
   "source": [
    "Los datos que vamos a explorar provienenen del dataset disponible en: https://github.com/datadista/datasets/tree/master/COVID%2019 que contiene información sobre la situación diaria acumulada de la enfermedad por el coronavirus SARS-CoV-2 (COVID-19) en España en un formato accesible y reutilizable. \n",
    "\n",
    "En nuestro caso vamos a estudiar el fichero [ccaa_covid19_datos_isciii.csv](https://raw.githubusercontent.com/datadista/datasets/master/COVID%2019/ccaa_covid19_datos_isciii.csv), que contiene datos a nivel de casos registrados por Comunidad Autónoma y que podéis descargar desde el apartado del 2º entregable en ADI.\n",
    "\n",
    "| Campo\t        | Descripción\t        | Formato  | Ejemplo |\n",
    "| :-------------|:-------------------------------------------------------------------|----------|:-----------:|\n",
    "| fecha\t        | Fecha de notificación\t| YYYY-MM-DD\t| 2020-03-20|\n",
    "| cod_ine\t    | Código INE de CCAA\t| Texto\t   | 11|\n",
    "| CCAA\t        | Comunidad autónoma\t| Texto\t   | Madrid|\n",
    "| Caso\t        | Casos confirmados acumulados (NaN si no hay casos)\t| Número |\t7|\n",
    "| Hospitalizados| Casos acumulados que han precisado hospitalización (incluyen UCI)|\tNúmero\t|7|\n",
    "| UCI\t        | Casos acumulados que han precisado ingreso en UCI|\tNúmero|\t7|\n",
    "| Fallecidos\t| Personas fallecidas acumuladas\t|Número\t|7|\n",
    "| Recuperados\t| Personas curadas acumuladas\t|Número|7|\n"
   ]
  },
  {
   "cell_type": "markdown",
   "metadata": {},
   "source": [
    "**Escribe un programa de Python para mostrar las primeras 5 filas del conjunto de datos COVID-19. Imprime también as 5 últimas filas del conjunto, la información del conjunto de datos  y estima cuántos valores ausentes (NaN) hay en cada columna y sustitúyelos por 0's (0.5 puntos)**."
   ]
  },
  {
   "cell_type": "code",
   "execution_count": null,
   "metadata": {},
   "outputs": [],
   "source": [
    "import pandas as pd\n",
    "covid_data= pd.read_csv('ccaa_covid19_datos_isciii.csv')\n"
   ]
  },
  {
   "cell_type": "code",
   "execution_count": null,
   "metadata": {},
   "outputs": [],
   "source": []
  },
  {
   "cell_type": "code",
   "execution_count": null,
   "metadata": {},
   "outputs": [],
   "source": []
  },
  {
   "cell_type": "code",
   "execution_count": null,
   "metadata": {},
   "outputs": [],
   "source": []
  },
  {
   "cell_type": "markdown",
   "metadata": {},
   "source": [
    "**Escribe un programa de Python para obtener el número total de casos confirmados, hospitalizados, trasladados a la UCI, fallecidos y recuperados. Antes asegúrate de cargar de nuevo los datos importando el campo de las fechas como *datetime* y sustituyendo los valores *NaN* por *0's* . Convierte los valores numéricos a *int*. Luego crea un nuevo dataframe con la información del último día  y computa el total acumulando todos los valores de todas las CCAA en esa fecha (0.5 puntos).**"
   ]
  },
  {
   "cell_type": "code",
   "execution_count": null,
   "metadata": {},
   "outputs": [],
   "source": []
  },
  {
   "cell_type": "code",
   "execution_count": null,
   "metadata": {},
   "outputs": [],
   "source": []
  },
  {
   "cell_type": "code",
   "execution_count": null,
   "metadata": {},
   "outputs": [],
   "source": []
  },
  {
   "cell_type": "code",
   "execution_count": null,
   "metadata": {},
   "outputs": [],
   "source": []
  },
  {
   "cell_type": "markdown",
   "metadata": {},
   "source": [
    "**Estima ahora la última cifra de casos confirmados, fallecidos y recuperados por CCAA. Para ello, asigna la columna *CCAA* como índice (hazlo *inplace*) y muestra los datos ordenados según número de casos, número de fallecidos y número de recuperados (0.5 puntos)**"
   ]
  },
  {
   "cell_type": "code",
   "execution_count": null,
   "metadata": {},
   "outputs": [],
   "source": []
  },
  {
   "cell_type": "markdown",
   "metadata": {},
   "source": [
    "**¿Cual es la última cifra de casos confirmados, hospitalizados, trasladados a la UCI, fallecidos y recuperados de COVID-19 en Navarra?. ¿Y el número de casos activos (i.e.: Casos - (Fallecidos + Recuperados))? (0.5 puntos).**"
   ]
  },
  {
   "cell_type": "code",
   "execution_count": null,
   "metadata": {},
   "outputs": [],
   "source": []
  },
  {
   "cell_type": "code",
   "execution_count": null,
   "metadata": {},
   "outputs": [],
   "source": []
  },
  {
   "cell_type": "markdown",
   "metadata": {},
   "source": [
    "**Añade una columna de casos activos al dataframe *original* con los casos activos (*Activos*) en cada momento. Para ello, recuerda  cargar de nuevo el fichero, considerar las fechas como *datetime*, sustituir los *NaN's* por *0's* y convertir los valores numéricos a *int*. Luego puedes añadir la nueva columna *Activos*. (0.5 punto)**"
   ]
  },
  {
   "cell_type": "code",
   "execution_count": null,
   "metadata": {},
   "outputs": [],
   "source": []
  },
  {
   "cell_type": "markdown",
   "metadata": {},
   "source": [
    "**¿Qué día se produjeron los primeros casos por COVID-19 en España?. ¿Y los primeros fallecimientos (0.5 puntos)?**"
   ]
  },
  {
   "cell_type": "code",
   "execution_count": null,
   "metadata": {},
   "outputs": [],
   "source": [
    "           "
   ]
  },
  {
   "cell_type": "code",
   "execution_count": null,
   "metadata": {},
   "outputs": [],
   "source": []
  },
  {
   "cell_type": "markdown",
   "metadata": {},
   "source": [
    "**Escribe un programa de Python que devuelva la fecha en que se detectó el primer fallecido de COVID-19 en cada CCAA . Muéstralos de forma ordenada en función de la fecha (0.5 puntos)**"
   ]
  },
  {
   "cell_type": "code",
   "execution_count": null,
   "metadata": {},
   "outputs": [],
   "source": []
  },
  {
   "cell_type": "code",
   "execution_count": null,
   "metadata": {},
   "outputs": [],
   "source": []
  },
  {
   "cell_type": "markdown",
   "metadata": {},
   "source": [
    "## ¡¡Buen trabajo!!"
   ]
  },
  {
   "cell_type": "code",
   "execution_count": null,
   "metadata": {},
   "outputs": [],
   "source": []
  }
 ],
 "metadata": {
  "kernelspec": {
   "display_name": "Python 3",
   "language": "python",
   "name": "python3"
  },
  "language_info": {
   "codemirror_mode": {
    "name": "ipython",
    "version": 3
   },
   "file_extension": ".py",
   "mimetype": "text/x-python",
   "name": "python",
   "nbconvert_exporter": "python",
   "pygments_lexer": "ipython3",
   "version": "3.8.3"
  }
 },
 "nbformat": 4,
 "nbformat_minor": 1
}
